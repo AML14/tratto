{
 "cells": [
  {
   "cell_type": "code",
   "execution_count": 47,
   "metadata": {},
   "outputs": [
    {
     "name": "stdout",
     "output_type": "stream",
     "text": [
      "\u001b[31mERROR: You must give at least one requirement to install (see \"pip help install\")\u001b[0m\n"
     ]
    }
   ],
   "source": []
  },
  {
   "cell_type": "code",
   "execution_count": 1,
   "metadata": {},
   "outputs": [
    {
     "name": "stderr",
     "output_type": "stream",
     "text": [
      "/home/coder/.conda/envs/tratto/lib/python3.11/site-packages/tqdm/auto.py:21: TqdmWarning: IProgress not found. Please update jupyter and ipywidgets. See https://ipywidgets.readthedocs.io/en/stable/user_install.html\n",
      "  from .autonotebook import tqdm as notebook_tqdm\n"
     ]
    }
   ],
   "source": [
    "import os\n",
    "import numpy as np\n",
    "import torch\n",
    "import pandas as pd\n",
    "from functools import reduce\n",
    "from transformers import AutoTokenizer"
   ]
  },
  {
   "cell_type": "code",
   "execution_count": 4,
   "metadata": {},
   "outputs": [],
   "source": [
    "device = torch.device(\"cpu\")"
   ]
  },
  {
   "cell_type": "code",
   "execution_count": 5,
   "metadata": {},
   "outputs": [],
   "source": [
    "d_path = os.path.join(os.getcwd(), \"..\", \"..\", \"dataset\")"
   ]
  },
  {
   "cell_type": "code",
   "execution_count": 6,
   "metadata": {},
   "outputs": [],
   "source": [
    "# list of partial dataframes\n",
    "dfs = []\n",
    "\n",
    "# collects partial dataframes from oracles\n",
    "for file_name in os.listdir(d_path):\n",
    "    df = pd.read_json(os.path.join(d_path,  file_name))\n",
    "    dfs.append(df)\n",
    "\n",
    "df_dataset = pd.concat(dfs)\n",
    "# drop column id (it is not relevant for training the model)\n",
    "df_dataset = df_dataset.drop(['id'], axis=1)\n",
    "# map empty cells to empty strings\n",
    "df_dataset.fillna('', inplace=True)\n",
    "# specify the type of each column in the dataset\n",
    "df_dataset = df_dataset.astype({\n",
    "    'label': 'bool',\n",
    "    'oracleId': 'int64',\n",
    "    'oracleType': 'string',\n",
    "    'projectName': 'string',\n",
    "    'packageName': 'string',\n",
    "    'className': 'string',\n",
    "    'javadocTag': 'string',\n",
    "    'methodJavadoc': 'string',\n",
    "    'methodSourceCode': 'string',\n",
    "    'classJavadoc': 'string',\n",
    "    'classSourceCode': 'string',\n",
    "    'oracleSoFar': 'string',\n",
    "    'token': 'string',\n",
    "    'tokenClass': 'string',\n",
    "    'tokenInfo': 'string'\n",
    "})"
   ]
  },
  {
   "cell_type": "code",
   "execution_count": 7,
   "metadata": {},
   "outputs": [
    {
     "data": {
      "text/plain": [
       "Index(['label', 'oracleId', 'oracleType', 'projectName', 'packageName',\n",
       "       'className', 'javadocTag', 'methodJavadoc', 'methodSourceCode',\n",
       "       'classJavadoc', 'classSourceCode', 'oracleSoFar', 'token', 'tokenClass',\n",
       "       'tokenInfo'],\n",
       "      dtype='object')"
      ]
     },
     "execution_count": 7,
     "metadata": {},
     "output_type": "execute_result"
    }
   ],
   "source": [
    "df_dataset.columns"
   ]
  },
  {
   "cell_type": "code",
   "execution_count": 8,
   "metadata": {},
   "outputs": [],
   "source": [
    "# delete the oracle ids and the tgt labels from the input dataset\n",
    "df_src = df_dataset.drop(['label','oracleId','projectName','classSourceCode','classJavadoc','token','tokenInfo'], axis=1)"
   ]
  },
  {
   "cell_type": "code",
   "execution_count": 9,
   "metadata": {},
   "outputs": [
    {
     "data": {
      "text/plain": [
       "(189187, 8)"
      ]
     },
     "execution_count": 9,
     "metadata": {},
     "output_type": "execute_result"
    }
   ],
   "source": [
    "df_src.shape"
   ]
  },
  {
   "cell_type": "code",
   "execution_count": 10,
   "metadata": {},
   "outputs": [],
   "source": [
    "%%capture\n",
    "tokenizer = AutoTokenizer.from_pretrained(\"microsoft/codebert-base\", model_max_length=512)"
   ]
  },
  {
   "cell_type": "code",
   "execution_count": 11,
   "metadata": {},
   "outputs": [
    {
     "name": "stderr",
     "output_type": "stream",
     "text": [
      "Token indices sequence length is longer than the specified maximum sequence length for this model (1118 > 512). Running this sequence through the model will result in indexing errors\n"
     ]
    }
   ],
   "source": [
    "df_src_concat = df_src.apply(lambda row: tokenizer.tokenize(tokenizer.cls_token.join(row.values)), axis=1)\n",
    "# The pandas dataframe is transformed in a list of strings: each string is a input\n",
    "# to the model\n",
    "src = df_src_concat.to_numpy().tolist()\n",
    "\n",
    "#max_len = reduce(lambda max_len, s: len(s) if len(s) > max_len else max_len, src,0) + 2"
   ]
  },
  {
   "cell_type": "code",
   "execution_count": 11,
   "metadata": {},
   "outputs": [],
   "source": [
    "unique_values = df_dataset['tokenClass'].unique()"
   ]
  },
  {
   "cell_type": "code",
   "execution_count": 12,
   "metadata": {},
   "outputs": [
    {
     "data": {
      "text/plain": [
       "<StringArray>\n",
       "[        'MethodArgument',                  'Class',              'Semicolon',\n",
       "     'OpeningParenthesis',                   'TRUE',            'ArraysClass',\n",
       "                   'This',           'QuestionMark',         'MethodResultID',\n",
       "           'IneqOperator',             'EqOperator',                 'Period',\n",
       "     'InstanceOfOperator',             'MethodName',                   'NULL',\n",
       "     'ClosingParenthesis',                  'Colon',        'LogicalOperator',\n",
       "                  'FALSE',      'NonEqIneqOperator',                  'S_INT',\n",
       "  'BitwiseNegateOperator',                 'DOUBLE',   'ArithmeticalOperator',\n",
       "   'BitwiseShiftOperator',               'S_STRING',                'BOOLEAN',\n",
       "           'StreamMethod',            'MatchMethod',         'MatchMethodVar',\n",
       "             'RightArrow',             'ClassField',          'ClassModifier',\n",
       " 'BitwiseLogicalOperator',                  'Comma']\n",
       "Length: 35, dtype: string"
      ]
     },
     "execution_count": 12,
     "metadata": {},
     "output_type": "execute_result"
    }
   ],
   "source": [
    "unique_values"
   ]
  },
  {
   "cell_type": "code",
   "execution_count": 13,
   "metadata": {},
   "outputs": [
    {
     "ename": "NameError",
     "evalue": "name 'max_len' is not defined",
     "output_type": "error",
     "traceback": [
      "\u001b[0;31m---------------------------------------------------------------------------\u001b[0m",
      "\u001b[0;31mNameError\u001b[0m                                 Traceback (most recent call last)",
      "Cell \u001b[0;32mIn[13], line 1\u001b[0m\n\u001b[0;32m----> 1\u001b[0m max_len\n",
      "\u001b[0;31mNameError\u001b[0m: name 'max_len' is not defined"
     ]
    }
   ],
   "source": [
    "max_len"
   ]
  },
  {
   "cell_type": "code",
   "execution_count": null,
   "metadata": {},
   "outputs": [
    {
     "data": {
      "text/html": [
       "<div>\n",
       "<style scoped>\n",
       "    .dataframe tbody tr th:only-of-type {\n",
       "        vertical-align: middle;\n",
       "    }\n",
       "\n",
       "    .dataframe tbody tr th {\n",
       "        vertical-align: top;\n",
       "    }\n",
       "\n",
       "    .dataframe thead th {\n",
       "        text-align: right;\n",
       "    }\n",
       "</style>\n",
       "<table border=\"1\" class=\"dataframe\">\n",
       "  <thead>\n",
       "    <tr style=\"text-align: right;\">\n",
       "      <th></th>\n",
       "      <th>oracleType</th>\n",
       "      <th>packageName</th>\n",
       "      <th>className</th>\n",
       "      <th>javadocTag</th>\n",
       "      <th>oracleSoFar</th>\n",
       "      <th>tokenClass</th>\n",
       "    </tr>\n",
       "  </thead>\n",
       "  <tbody>\n",
       "    <tr>\n",
       "      <th>0</th>\n",
       "      <td>PRE</td>\n",
       "      <td>plume</td>\n",
       "      <td>Lookup</td>\n",
       "      <td>@param reader where to read the entry from</td>\n",
       "      <td></td>\n",
       "      <td>MethodArgument</td>\n",
       "    </tr>\n",
       "    <tr>\n",
       "      <th>1</th>\n",
       "      <td>PRE</td>\n",
       "      <td>plume</td>\n",
       "      <td>Lookup</td>\n",
       "      <td>@param reader where to read the entry from</td>\n",
       "      <td></td>\n",
       "      <td>Class</td>\n",
       "    </tr>\n",
       "    <tr>\n",
       "      <th>2</th>\n",
       "      <td>PRE</td>\n",
       "      <td>plume</td>\n",
       "      <td>Lookup</td>\n",
       "      <td>@param reader where to read the entry from</td>\n",
       "      <td></td>\n",
       "      <td>Semicolon</td>\n",
       "    </tr>\n",
       "    <tr>\n",
       "      <th>3</th>\n",
       "      <td>PRE</td>\n",
       "      <td>plume</td>\n",
       "      <td>Lookup</td>\n",
       "      <td>@param reader where to read the entry from</td>\n",
       "      <td></td>\n",
       "      <td>OpeningParenthesis</td>\n",
       "    </tr>\n",
       "    <tr>\n",
       "      <th>4</th>\n",
       "      <td>NORMAL_POST</td>\n",
       "      <td>plume</td>\n",
       "      <td>Lookup</td>\n",
       "      <td>the next entry, or null</td>\n",
       "      <td></td>\n",
       "      <td>MethodArgument</td>\n",
       "    </tr>\n",
       "  </tbody>\n",
       "</table>\n",
       "</div>"
      ],
      "text/plain": [
       "    oracleType packageName className  \\\n",
       "0          PRE       plume    Lookup   \n",
       "1          PRE       plume    Lookup   \n",
       "2          PRE       plume    Lookup   \n",
       "3          PRE       plume    Lookup   \n",
       "4  NORMAL_POST       plume    Lookup   \n",
       "\n",
       "                                   javadocTag oracleSoFar          tokenClass  \n",
       "0  @param reader where to read the entry from                  MethodArgument  \n",
       "1  @param reader where to read the entry from                           Class  \n",
       "2  @param reader where to read the entry from                       Semicolon  \n",
       "3  @param reader where to read the entry from              OpeningParenthesis  \n",
       "4                     the next entry, or null                  MethodArgument  "
      ]
     },
     "execution_count": 78,
     "metadata": {},
     "output_type": "execute_result"
    }
   ],
   "source": [
    "df_src.head()"
   ]
  },
  {
   "cell_type": "code",
   "execution_count": null,
   "metadata": {},
   "outputs": [
    {
     "data": {
      "text/plain": [
       "'PRE<s>plume<s>WeakIdentityPair<s>@param b second argument<s><s>Semicolon'"
      ]
     },
     "execution_count": 79,
     "metadata": {},
     "output_type": "execute_result"
    }
   ],
   "source": [
    "max(src)"
   ]
  },
  {
   "cell_type": "code",
   "execution_count": null,
   "metadata": {},
   "outputs": [],
   "source": [
    "# Assuming you have a list of strings named 'string_list'\n",
    "max_length_element = max(src, key=lambda x: len(x))\n",
    "\n",
    "# If you want to get the index of the element instead, you can use argmax()\n",
    "max_length_index = np.argmax([len(x) for x in src])"
   ]
  },
  {
   "cell_type": "code",
   "execution_count": null,
   "metadata": {},
   "outputs": [
    {
     "data": {
      "text/plain": [
       "'PRE<s>org.apache.commons.math3.ml.neuralnet.twod.util<s>UnifiedDistanceMatrix<s>@param individualDistances If {@code true}, the 8 individual\\ninter-units distances will be {@link #computeImage(NeuronSquareMesh2D)\\ncomputed}.  They will be stored in additional pixels around each of\\nthe original units of the 2D-map.  The additional pixels that lie\\nalong a \"diagonal\" are shared by <em>two</em> pairs of units: their\\nvalue will be set to the average distance between the units belonging\\nto each of the pairs.  The value zero will be stored in the pixel\\ncorresponding to the location of a unit of the 2D-map.\\n<br>\\nIf {@code false}, only the average distance between a unit and all its\\nneighbours will be computed (and stored in the pixel corresponding to\\nthat unit of the 2D-map).  In that case, the number of neighbours taken\\ninto account depends on the network\\'s\\n{@link org.apache.commons.math3.ml.neuralnet.SquareNeighbourhood\\nneighbourhood type}.<s><s>OpeningParenthesis'"
      ]
     },
     "execution_count": 84,
     "metadata": {},
     "output_type": "execute_result"
    }
   ],
   "source": [
    "max_length_element"
   ]
  },
  {
   "cell_type": "code",
   "execution_count": null,
   "metadata": {},
   "outputs": [
    {
     "data": {
      "text/plain": [
       "970"
      ]
     },
     "execution_count": 85,
     "metadata": {},
     "output_type": "execute_result"
    }
   ],
   "source": [
    "len(max_length_element)"
   ]
  },
  {
   "cell_type": "code",
   "execution_count": null,
   "metadata": {},
   "outputs": [],
   "source": [
    "b = []\n",
    "\n",
    "b.append(max_length_element)\n",
    "\n",
    "a = tokenizer(\n",
    "    b,\n",
    "    truncation=False\n",
    ")"
   ]
  },
  {
   "cell_type": "code",
   "execution_count": null,
   "metadata": {},
   "outputs": [
    {
     "data": {
      "text/plain": [
       "268"
      ]
     },
     "execution_count": 103,
     "metadata": {},
     "output_type": "execute_result"
    }
   ],
   "source": [
    "len(a[\"input_ids\"][0])"
   ]
  },
  {
   "cell_type": "code",
   "execution_count": null,
   "metadata": {},
   "outputs": [
    {
     "ename": "TypeError",
     "evalue": "new(): invalid data type 'str'",
     "output_type": "error",
     "traceback": [
      "\u001b[0;31m---------------------------------------------------------------------------\u001b[0m",
      "\u001b[0;31mTypeError\u001b[0m                                 Traceback (most recent call last)",
      "Cell \u001b[0;32mIn[91], line 1\u001b[0m\n\u001b[0;32m----> 1\u001b[0m torch\u001b[39m.\u001b[39mtensor(max_length_element)\n",
      "\u001b[0;31mTypeError\u001b[0m: new(): invalid data type 'str'"
     ]
    }
   ],
   "source": [
    "# Assuming you have a string named 'my_string'\n",
    "numerical_representation = [ord(char) for char in my_string]  # Convert string to a list of ASCII values\n",
    "\n",
    "# Create a PyTorch tensor from the numerical representation\n",
    "tensor = torch.tensor(numerical_representation)"
   ]
  },
  {
   "cell_type": "code",
   "execution_count": null,
   "metadata": {},
   "outputs": [
    {
     "data": {
      "text/plain": [
       "str"
      ]
     },
     "execution_count": 109,
     "metadata": {},
     "output_type": "execute_result"
    }
   ],
   "source": [
    "type(tokenizer.tokenize(max_length_element)[0])"
   ]
  },
  {
   "cell_type": "code",
   "execution_count": null,
   "metadata": {},
   "outputs": [
    {
     "data": {
      "text/plain": [
       "268"
      ]
     },
     "execution_count": 111,
     "metadata": {},
     "output_type": "execute_result"
    }
   ],
   "source": [
    "max_len"
   ]
  },
  {
   "cell_type": "code",
   "execution_count": null,
   "metadata": {},
   "outputs": [],
   "source": [
    "string_lengths = np.array([len(sublist) + 2 for sublist in src ])\n",
    "\n",
    "max_length = np.max(string_lengths)\n",
    "mean_length = np.mean(string_lengths)\n",
    "median_length = np.median(string_lengths)"
   ]
  },
  {
   "cell_type": "code",
   "execution_count": null,
   "metadata": {},
   "outputs": [
    {
     "data": {
      "text/plain": [
       "27727"
      ]
     },
     "execution_count": 11,
     "metadata": {},
     "output_type": "execute_result"
    }
   ],
   "source": [
    "max_length"
   ]
  },
  {
   "cell_type": "code",
   "execution_count": null,
   "metadata": {},
   "outputs": [
    {
     "data": {
      "text/plain": [
       "215.18788288835913"
      ]
     },
     "execution_count": 12,
     "metadata": {},
     "output_type": "execute_result"
    }
   ],
   "source": [
    "mean_length"
   ]
  },
  {
   "cell_type": "code",
   "execution_count": null,
   "metadata": {},
   "outputs": [
    {
     "data": {
      "text/plain": [
       "118.0"
      ]
     },
     "execution_count": 13,
     "metadata": {},
     "output_type": "execute_result"
    }
   ],
   "source": [
    "median_length"
   ]
  },
  {
   "cell_type": "code",
   "execution_count": 28,
   "metadata": {},
   "outputs": [],
   "source": [
    "filtered_strings = [string for string in src if len(string) < 512]"
   ]
  },
  {
   "cell_type": "code",
   "execution_count": null,
   "metadata": {},
   "outputs": [
    {
     "data": {
      "text/plain": [
       "189187"
      ]
     },
     "execution_count": 11,
     "metadata": {},
     "output_type": "execute_result"
    }
   ],
   "source": [
    "len(src)"
   ]
  },
  {
   "cell_type": "code",
   "execution_count": null,
   "metadata": {},
   "outputs": [
    {
     "data": {
      "text/plain": [
       "155578"
      ]
     },
     "execution_count": 12,
     "metadata": {},
     "output_type": "execute_result"
    }
   ],
   "source": [
    "len(filtered_strings)"
   ]
  },
  {
   "cell_type": "code",
   "execution_count": null,
   "metadata": {},
   "outputs": [
    {
     "data": {
      "text/plain": [
       "35"
      ]
     },
     "execution_count": 14,
     "metadata": {},
     "output_type": "execute_result"
    }
   ],
   "source": [
    "len(df_src[\"tokenClass\"].value_counts())"
   ]
  },
  {
   "cell_type": "code",
   "execution_count": 32,
   "metadata": {},
   "outputs": [
    {
     "data": {
      "text/plain": [
       "Class                     32428\n",
       "Semicolon                 31038\n",
       "MethodArgument            29226\n",
       "OpeningParenthesis        29003\n",
       "This                      14980\n",
       "TRUE                      12001\n",
       "ArraysClass                6109\n",
       "LogicalOperator            5729\n",
       "EqOperator                 5149\n",
       "IneqOperator               4098\n",
       "Period                     3778\n",
       "InstanceOfOperator         2651\n",
       "NULL                       2358\n",
       "S_INT                      2212\n",
       "ClosingParenthesis         1368\n",
       "NonEqIneqOperator          1184\n",
       "MethodResultID              961\n",
       "DOUBLE                      887\n",
       "BitwiseNegateOperator       841\n",
       "FALSE                       828\n",
       "MethodName                  523\n",
       "Colon                       386\n",
       "QuestionMark                296\n",
       "ArithmeticalOperator        253\n",
       "ClassField                  239\n",
       "BitwiseLogicalOperator      186\n",
       "BitwiseShiftOperator        186\n",
       "BOOLEAN                     138\n",
       "StreamMethod                 52\n",
       "MatchMethodVar               42\n",
       "MatchMethod                  14\n",
       "RightArrow                   14\n",
       "S_STRING                     13\n",
       "Comma                         9\n",
       "ClassModifier                 7\n",
       "Name: tokenClass, dtype: Int64"
      ]
     },
     "execution_count": 32,
     "metadata": {},
     "output_type": "execute_result"
    }
   ],
   "source": [
    "df_dataset[\"tokenClass\"].value_counts()#/len(df_dataset[\"tokenClass\"]) * 100"
   ]
  },
  {
   "cell_type": "code",
   "execution_count": 17,
   "metadata": {},
   "outputs": [
    {
     "ename": "ValueError",
     "evalue": "invalid literal for int() with base 10: 'MethodArgument'",
     "output_type": "error",
     "traceback": [
      "\u001b[0;31m---------------------------------------------------------------------------\u001b[0m",
      "\u001b[0;31mValueError\u001b[0m                                Traceback (most recent call last)",
      "Cell \u001b[0;32mIn[17], line 1\u001b[0m\n\u001b[0;32m----> 1\u001b[0m np\u001b[39m.\u001b[39mbincount(df_src[\u001b[39m\"\u001b[39m\u001b[39mtokenClass\u001b[39m\u001b[39m\"\u001b[39m])\n",
      "File \u001b[0;32m<__array_function__ internals>:200\u001b[0m, in \u001b[0;36mbincount\u001b[0;34m(*args, **kwargs)\u001b[0m\n",
      "File \u001b[0;32m~/.conda/envs/tratto/lib/python3.11/site-packages/pandas/core/series.py:893\u001b[0m, in \u001b[0;36mSeries.__array__\u001b[0;34m(self, dtype)\u001b[0m\n\u001b[1;32m    846\u001b[0m \u001b[39mdef\u001b[39;00m \u001b[39m__array__\u001b[39m(\u001b[39mself\u001b[39m, dtype: npt\u001b[39m.\u001b[39mDTypeLike \u001b[39m|\u001b[39m \u001b[39mNone\u001b[39;00m \u001b[39m=\u001b[39m \u001b[39mNone\u001b[39;00m) \u001b[39m-\u001b[39m\u001b[39m>\u001b[39m np\u001b[39m.\u001b[39mndarray:\n\u001b[1;32m    847\u001b[0m     \u001b[39m\"\"\"\u001b[39;00m\n\u001b[1;32m    848\u001b[0m \u001b[39m    Return the values as a NumPy array.\u001b[39;00m\n\u001b[1;32m    849\u001b[0m \n\u001b[0;32m   (...)\u001b[0m\n\u001b[1;32m    891\u001b[0m \u001b[39m          dtype='datetime64[ns]')\u001b[39;00m\n\u001b[1;32m    892\u001b[0m \u001b[39m    \"\"\"\u001b[39;00m\n\u001b[0;32m--> 893\u001b[0m     \u001b[39mreturn\u001b[39;00m np\u001b[39m.\u001b[39masarray(\u001b[39mself\u001b[39m\u001b[39m.\u001b[39m_values, dtype)\n",
      "File \u001b[0;32m~/.conda/envs/tratto/lib/python3.11/site-packages/pandas/core/arrays/numpy_.py:126\u001b[0m, in \u001b[0;36mPandasArray.__array__\u001b[0;34m(self, dtype)\u001b[0m\n\u001b[1;32m    125\u001b[0m \u001b[39mdef\u001b[39;00m \u001b[39m__array__\u001b[39m(\u001b[39mself\u001b[39m, dtype: NpDtype \u001b[39m|\u001b[39m \u001b[39mNone\u001b[39;00m \u001b[39m=\u001b[39m \u001b[39mNone\u001b[39;00m) \u001b[39m-\u001b[39m\u001b[39m>\u001b[39m np\u001b[39m.\u001b[39mndarray:\n\u001b[0;32m--> 126\u001b[0m     \u001b[39mreturn\u001b[39;00m np\u001b[39m.\u001b[39masarray(\u001b[39mself\u001b[39m\u001b[39m.\u001b[39m_ndarray, dtype\u001b[39m=\u001b[39mdtype)\n",
      "\u001b[0;31mValueError\u001b[0m: invalid literal for int() with base 10: 'MethodArgument'"
     ]
    }
   ],
   "source": [
    "np.bincount(df_src[\"tokenClass\"])"
   ]
  },
  {
   "cell_type": "code",
   "execution_count": 14,
   "metadata": {},
   "outputs": [],
   "source": [
    "# Get unique values from the column\n",
    "unique_values = df_dataset['tokenClass'].unique()\n",
    "\n",
    "# Create a dictionary to map string values to their corresponding vector\n",
    "mapping = {}\n",
    "for i, value in enumerate(unique_values):\n",
    "    vector = np.zeros(len(unique_values))\n",
    "    vector[i] = 1.0\n",
    "    mapping[value] = list(vector)\n",
    "\n",
    "# Add a new column to the original DataFrame with the mapped vectors\n",
    "df_dataset['tokenClassVectorized'] = df_dataset['tokenClass'].map(mapping)"
   ]
  },
  {
   "cell_type": "code",
   "execution_count": 15,
   "metadata": {},
   "outputs": [
    {
     "data": {
      "text/html": [
       "<div>\n",
       "<style scoped>\n",
       "    .dataframe tbody tr th:only-of-type {\n",
       "        vertical-align: middle;\n",
       "    }\n",
       "\n",
       "    .dataframe tbody tr th {\n",
       "        vertical-align: top;\n",
       "    }\n",
       "\n",
       "    .dataframe thead th {\n",
       "        text-align: right;\n",
       "    }\n",
       "</style>\n",
       "<table border=\"1\" class=\"dataframe\">\n",
       "  <thead>\n",
       "    <tr style=\"text-align: right;\">\n",
       "      <th></th>\n",
       "      <th>label</th>\n",
       "      <th>oracleId</th>\n",
       "      <th>oracleType</th>\n",
       "      <th>projectName</th>\n",
       "      <th>packageName</th>\n",
       "      <th>className</th>\n",
       "      <th>javadocTag</th>\n",
       "      <th>methodJavadoc</th>\n",
       "      <th>methodSourceCode</th>\n",
       "      <th>classJavadoc</th>\n",
       "      <th>classSourceCode</th>\n",
       "      <th>oracleSoFar</th>\n",
       "      <th>token</th>\n",
       "      <th>tokenClass</th>\n",
       "      <th>tokenInfo</th>\n",
       "      <th>tokenClassVectorized</th>\n",
       "    </tr>\n",
       "  </thead>\n",
       "  <tbody>\n",
       "    <tr>\n",
       "      <th>0</th>\n",
       "      <td>False</td>\n",
       "      <td>15264</td>\n",
       "      <td>PRE</td>\n",
       "      <td>plume-lib-1.1.0</td>\n",
       "      <td>plume</td>\n",
       "      <td>Lookup</td>\n",
       "      <td>@param reader where to read the entry from</td>\n",
       "      <td>/**\n",
       "   * Returns the next entry.  If no more ...</td>\n",
       "      <td>public static Entry old_get_entry(EntryReader ...</td>\n",
       "      <td>/**\n",
       " * Lookup searches a set of files, much li...</td>\n",
       "      <td>package plume;\n",
       "\n",
       "import static plume.EntryReade...</td>\n",
       "      <td></td>\n",
       "      <td></td>\n",
       "      <td>MethodArgument</td>\n",
       "      <td></td>\n",
       "      <td>[1.0, 0.0, 0.0, 0.0, 0.0, 0.0, 0.0, 0.0, 0.0, ...</td>\n",
       "    </tr>\n",
       "    <tr>\n",
       "      <th>1</th>\n",
       "      <td>False</td>\n",
       "      <td>15264</td>\n",
       "      <td>PRE</td>\n",
       "      <td>plume-lib-1.1.0</td>\n",
       "      <td>plume</td>\n",
       "      <td>Lookup</td>\n",
       "      <td>@param reader where to read the entry from</td>\n",
       "      <td>/**\n",
       "   * Returns the next entry.  If no more ...</td>\n",
       "      <td>public static Entry old_get_entry(EntryReader ...</td>\n",
       "      <td>/**\n",
       " * Lookup searches a set of files, much li...</td>\n",
       "      <td>package plume;\n",
       "\n",
       "import static plume.EntryReade...</td>\n",
       "      <td></td>\n",
       "      <td></td>\n",
       "      <td>Class</td>\n",
       "      <td></td>\n",
       "      <td>[0.0, 1.0, 0.0, 0.0, 0.0, 0.0, 0.0, 0.0, 0.0, ...</td>\n",
       "    </tr>\n",
       "    <tr>\n",
       "      <th>2</th>\n",
       "      <td>True</td>\n",
       "      <td>15264</td>\n",
       "      <td>PRE</td>\n",
       "      <td>plume-lib-1.1.0</td>\n",
       "      <td>plume</td>\n",
       "      <td>Lookup</td>\n",
       "      <td>@param reader where to read the entry from</td>\n",
       "      <td>/**\n",
       "   * Returns the next entry.  If no more ...</td>\n",
       "      <td>public static Entry old_get_entry(EntryReader ...</td>\n",
       "      <td>/**\n",
       " * Lookup searches a set of files, much li...</td>\n",
       "      <td>package plume;\n",
       "\n",
       "import static plume.EntryReade...</td>\n",
       "      <td></td>\n",
       "      <td></td>\n",
       "      <td>Semicolon</td>\n",
       "      <td></td>\n",
       "      <td>[0.0, 0.0, 1.0, 0.0, 0.0, 0.0, 0.0, 0.0, 0.0, ...</td>\n",
       "    </tr>\n",
       "    <tr>\n",
       "      <th>3</th>\n",
       "      <td>False</td>\n",
       "      <td>15264</td>\n",
       "      <td>PRE</td>\n",
       "      <td>plume-lib-1.1.0</td>\n",
       "      <td>plume</td>\n",
       "      <td>Lookup</td>\n",
       "      <td>@param reader where to read the entry from</td>\n",
       "      <td>/**\n",
       "   * Returns the next entry.  If no more ...</td>\n",
       "      <td>public static Entry old_get_entry(EntryReader ...</td>\n",
       "      <td>/**\n",
       " * Lookup searches a set of files, much li...</td>\n",
       "      <td>package plume;\n",
       "\n",
       "import static plume.EntryReade...</td>\n",
       "      <td></td>\n",
       "      <td></td>\n",
       "      <td>OpeningParenthesis</td>\n",
       "      <td></td>\n",
       "      <td>[0.0, 0.0, 0.0, 1.0, 0.0, 0.0, 0.0, 0.0, 0.0, ...</td>\n",
       "    </tr>\n",
       "    <tr>\n",
       "      <th>4</th>\n",
       "      <td>False</td>\n",
       "      <td>15265</td>\n",
       "      <td>NORMAL_POST</td>\n",
       "      <td>plume-lib-1.1.0</td>\n",
       "      <td>plume</td>\n",
       "      <td>Lookup</td>\n",
       "      <td>the next entry, or null</td>\n",
       "      <td>/**\n",
       "   * Returns the next entry.  If no more ...</td>\n",
       "      <td>public static Entry old_get_entry(EntryReader ...</td>\n",
       "      <td>/**\n",
       " * Lookup searches a set of files, much li...</td>\n",
       "      <td>package plume;\n",
       "\n",
       "import static plume.EntryReade...</td>\n",
       "      <td></td>\n",
       "      <td></td>\n",
       "      <td>MethodArgument</td>\n",
       "      <td></td>\n",
       "      <td>[1.0, 0.0, 0.0, 0.0, 0.0, 0.0, 0.0, 0.0, 0.0, ...</td>\n",
       "    </tr>\n",
       "  </tbody>\n",
       "</table>\n",
       "</div>"
      ],
      "text/plain": [
       "   label  oracleId   oracleType      projectName packageName className  \\\n",
       "0  False     15264          PRE  plume-lib-1.1.0       plume    Lookup   \n",
       "1  False     15264          PRE  plume-lib-1.1.0       plume    Lookup   \n",
       "2   True     15264          PRE  plume-lib-1.1.0       plume    Lookup   \n",
       "3  False     15264          PRE  plume-lib-1.1.0       plume    Lookup   \n",
       "4  False     15265  NORMAL_POST  plume-lib-1.1.0       plume    Lookup   \n",
       "\n",
       "                                   javadocTag  \\\n",
       "0  @param reader where to read the entry from   \n",
       "1  @param reader where to read the entry from   \n",
       "2  @param reader where to read the entry from   \n",
       "3  @param reader where to read the entry from   \n",
       "4                     the next entry, or null   \n",
       "\n",
       "                                       methodJavadoc  \\\n",
       "0  \t/**\n",
       "   * Returns the next entry.  If no more ...   \n",
       "1  \t/**\n",
       "   * Returns the next entry.  If no more ...   \n",
       "2  \t/**\n",
       "   * Returns the next entry.  If no more ...   \n",
       "3  \t/**\n",
       "   * Returns the next entry.  If no more ...   \n",
       "4  \t/**\n",
       "   * Returns the next entry.  If no more ...   \n",
       "\n",
       "                                    methodSourceCode  \\\n",
       "0  public static Entry old_get_entry(EntryReader ...   \n",
       "1  public static Entry old_get_entry(EntryReader ...   \n",
       "2  public static Entry old_get_entry(EntryReader ...   \n",
       "3  public static Entry old_get_entry(EntryReader ...   \n",
       "4  public static Entry old_get_entry(EntryReader ...   \n",
       "\n",
       "                                        classJavadoc  \\\n",
       "0  /**\n",
       " * Lookup searches a set of files, much li...   \n",
       "1  /**\n",
       " * Lookup searches a set of files, much li...   \n",
       "2  /**\n",
       " * Lookup searches a set of files, much li...   \n",
       "3  /**\n",
       " * Lookup searches a set of files, much li...   \n",
       "4  /**\n",
       " * Lookup searches a set of files, much li...   \n",
       "\n",
       "                                     classSourceCode oracleSoFar token  \\\n",
       "0  package plume;\n",
       "\n",
       "import static plume.EntryReade...                     \n",
       "1  package plume;\n",
       "\n",
       "import static plume.EntryReade...                     \n",
       "2  package plume;\n",
       "\n",
       "import static plume.EntryReade...                     \n",
       "3  package plume;\n",
       "\n",
       "import static plume.EntryReade...                     \n",
       "4  package plume;\n",
       "\n",
       "import static plume.EntryReade...                     \n",
       "\n",
       "           tokenClass tokenInfo  \\\n",
       "0      MethodArgument             \n",
       "1               Class             \n",
       "2           Semicolon             \n",
       "3  OpeningParenthesis             \n",
       "4      MethodArgument             \n",
       "\n",
       "                                tokenClassVectorized  \n",
       "0  [1.0, 0.0, 0.0, 0.0, 0.0, 0.0, 0.0, 0.0, 0.0, ...  \n",
       "1  [0.0, 1.0, 0.0, 0.0, 0.0, 0.0, 0.0, 0.0, 0.0, ...  \n",
       "2  [0.0, 0.0, 1.0, 0.0, 0.0, 0.0, 0.0, 0.0, 0.0, ...  \n",
       "3  [0.0, 0.0, 0.0, 1.0, 0.0, 0.0, 0.0, 0.0, 0.0, ...  \n",
       "4  [1.0, 0.0, 0.0, 0.0, 0.0, 0.0, 0.0, 0.0, 0.0, ...  "
      ]
     },
     "execution_count": 15,
     "metadata": {},
     "output_type": "execute_result"
    }
   ],
   "source": [
    "df_dataset.head()"
   ]
  },
  {
   "cell_type": "code",
   "execution_count": 18,
   "metadata": {},
   "outputs": [
    {
     "data": {
      "text/plain": [
       "1.0000000000000002"
      ]
     },
     "execution_count": 18,
     "metadata": {},
     "output_type": "execute_result"
    }
   ],
   "source": [
    "# Convert string labels to integer labels\n",
    "unique_labels, integer_labels = np.unique(df_dataset[\"tokenClass\"], return_inverse=True)\n",
    "\n",
    "# Count the occurrences of each class\n",
    "class_counts = np.bincount(integer_labels)\n",
    "\n",
    "# Calculate the inverse class frequencies\n",
    "total_samples = np.sum(class_counts)\n",
    "class_frequencies = class_counts / total_samples\n",
    "class_weights = 1.0 / class_frequencies\n",
    "\n",
    "# Normalize the class weights\n",
    "class_weights /= np.sum(class_weights)\n",
    "\n",
    "class_weights.sum()"
   ]
  },
  {
   "cell_type": "code",
   "execution_count": 25,
   "metadata": {},
   "outputs": [
    {
     "data": {
      "text/plain": [
       "(array(['ArithmeticalOperator', 'ArraysClass', 'BOOLEAN',\n",
       "        'BitwiseLogicalOperator', 'BitwiseNegateOperator',\n",
       "        'BitwiseShiftOperator', 'Class', 'ClassField', 'ClassModifier',\n",
       "        'ClosingParenthesis', 'Colon', 'Comma', 'DOUBLE', 'EqOperator',\n",
       "        'FALSE', 'IneqOperator', 'InstanceOfOperator', 'LogicalOperator',\n",
       "        'MatchMethod', 'MatchMethodVar', 'MethodArgument', 'MethodName',\n",
       "        'MethodResultID', 'NULL', 'NonEqIneqOperator',\n",
       "        'OpeningParenthesis', 'Period', 'QuestionMark', 'RightArrow',\n",
       "        'S_INT', 'S_STRING', 'Semicolon', 'StreamMethod', 'TRUE', 'This'],\n",
       "       dtype=object),\n",
       " array([  253,  6109,   138,   186,   841,   186, 32428,   239,     7,\n",
       "         1368,   386,     9,   887,  5149,   828,  4098,  2651,  5729,\n",
       "           14,    42, 29226,   523,   961,  2358,  1184, 29003,  3778,\n",
       "          296,    14,  2212,    13, 31038,    52, 12001, 14980]))"
      ]
     },
     "execution_count": 25,
     "metadata": {},
     "output_type": "execute_result"
    }
   ],
   "source": [
    "np.unique(df_dataset[\"tokenClass\"], return_counts=True)"
   ]
  },
  {
   "cell_type": "code",
   "execution_count": 22,
   "metadata": {},
   "outputs": [
    {
     "data": {
      "text/plain": [
       "35"
      ]
     },
     "execution_count": 22,
     "metadata": {},
     "output_type": "execute_result"
    }
   ],
   "source": [
    "len(unique_labels)"
   ]
  }
 ],
 "metadata": {
  "kernelspec": {
   "display_name": "tratto",
   "language": "python",
   "name": "tratto"
  },
  "language_info": {
   "codemirror_mode": {
    "name": "ipython",
    "version": 3
   },
   "file_extension": ".py",
   "mimetype": "text/x-python",
   "name": "python",
   "nbconvert_exporter": "python",
   "pygments_lexer": "ipython3",
   "version": "3.11.3"
  },
  "orig_nbformat": 4,
  "vscode": {
   "interpreter": {
    "hash": "4baf8ca64f576eefa27491d265483fc5223469915e486f115fcdc807150b49f0"
   }
  }
 },
 "nbformat": 4,
 "nbformat_minor": 2
}
