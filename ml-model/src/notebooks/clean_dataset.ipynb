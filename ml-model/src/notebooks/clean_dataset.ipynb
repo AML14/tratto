{
 "cells": [
  {
   "cell_type": "code",
   "execution_count": null,
   "id": "initial_id",
   "metadata": {
    "collapsed": true
   },
   "outputs": [],
   "source": [
    "import os\n",
    "import numpy as np\n",
    "import torch\n",
    "import pandas as pd"
   ]
  },
  {
   "cell_type": "code",
   "execution_count": null,
   "outputs": [],
   "source": [
    "d_path = os.path.join(\"..\", \"..\", \"dataset\", \"token-classes-dataset\")"
   ],
   "metadata": {
    "collapsed": false
   },
   "id": "cddc1dd227a977d0"
  },
  {
   "cell_type": "code",
   "execution_count": null,
   "outputs": [],
   "source": [
    "# list of partial dataframes\n",
    "dfs = []\n",
    "# collects partial dataframes from oracles\n",
    "for file_name in os.listdir(d_path):\n",
    "    print(file_name)\n",
    "    df_dataset = pd.read_json(os.path.join(d_path,  file_name))\n",
    "    # drop column id (it is not relevant for training the model)\n",
    "    df_dataset = df_dataset.drop(['id'], axis=1)\n",
    "    # map empty cells to empty strings\n",
    "    df_dataset.fillna('', inplace=True)\n",
    "    # Remove method source code (keep only signature)\n",
    "    df_dataset['methodSourceCode'] = df_dataset['methodSourceCode'].str.split('{').str[0]\n",
    "    # Delete the tgt labels from the input dataset, and others less relevant columns\n",
    "    df_dataset = df_dataset.drop(['label', 'oracleId', 'projectName', 'classJavadoc', 'classSourceCode'], axis=1)\n",
    "    df_dataset.to_json(os.path.join(\"..\", \"..\", \"dataset\", \"token-classes-dataset-cleaned\", file_name))"
   ],
   "metadata": {
    "collapsed": false
   },
   "id": "8b3711949392f8ad"
  },
  {
   "cell_type": "code",
   "execution_count": null,
   "outputs": [],
   "source": [
    "os.ma"
   ],
   "metadata": {
    "collapsed": false
   },
   "id": "d6150e56d837026f"
  },
  {
   "cell_type": "code",
   "execution_count": null,
   "outputs": [],
   "source": [],
   "metadata": {
    "collapsed": false
   },
   "id": "c485000099f5f85c"
  }
 ],
 "metadata": {
  "kernelspec": {
   "display_name": "Python 3",
   "language": "python",
   "name": "python3"
  },
  "language_info": {
   "codemirror_mode": {
    "name": "ipython",
    "version": 2
   },
   "file_extension": ".py",
   "mimetype": "text/x-python",
   "name": "python",
   "nbconvert_exporter": "python",
   "pygments_lexer": "ipython2",
   "version": "2.7.6"
  }
 },
 "nbformat": 4,
 "nbformat_minor": 5
}
