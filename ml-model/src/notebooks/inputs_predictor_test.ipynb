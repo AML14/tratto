{
 "cells": [
  {
   "cell_type": "code",
   "execution_count": 2,
   "metadata": {
    "collapsed": true,
    "ExecuteTime": {
     "end_time": "2023-06-09T10:39:33.425173Z",
     "start_time": "2023-06-09T10:39:33.405598Z"
    }
   },
   "outputs": [],
   "source": [
    "import os\n",
    "import numpy as np\n",
    "import pandas as pd\n",
    "import json"
   ]
  },
  {
   "cell_type": "code",
   "execution_count": 12,
   "outputs": [],
   "source": [
    "# Path of the statistics of the final model\n",
    "d_path_classes = os.path.join(\"..\", \"..\",\"dataset\",\"token-classes-dataset\")\n",
    "d_path_values = os.path.join(\"..\", \"..\",\"dataset\",\"token-values-dataset\")"
   ],
   "metadata": {
    "collapsed": false,
    "ExecuteTime": {
     "end_time": "2023-06-09T14:18:49.540456Z",
     "start_time": "2023-06-09T14:18:49.534993Z"
    }
   }
  },
  {
   "cell_type": "code",
   "execution_count": 20,
   "outputs": [],
   "source": [
    "dfs_classes = []\n",
    "# collects partial dataframes from oracles\n",
    "for file_name in os.listdir(d_path_classes):\n",
    "    if \"plume\" in file_name:\n",
    "        df = pd.read_json(os.path.join(d_path_classes,  file_name))\n",
    "        dfs_classes.append(df)\n",
    "df_classes = pd.concat(dfs_classes)\n",
    "df_classes = df_classes.drop([\"token\",\"tokenInfo\"], axis=1)"
   ],
   "metadata": {
    "collapsed": false,
    "ExecuteTime": {
     "end_time": "2023-06-09T14:21:35.829246Z",
     "start_time": "2023-06-09T14:21:33.450515Z"
    }
   }
  },
  {
   "cell_type": "code",
   "execution_count": 22,
   "outputs": [],
   "source": [
    "dfs_values = []\n",
    "# collects partial dataframes from oracles\n",
    "for file_name in os.listdir(d_path_values):\n",
    "    if \"plume\" in file_name:\n",
    "        df = pd.read_json(os.path.join(d_path_values,  file_name))\n",
    "        dfs_values.append(df)\n",
    "df_values = pd.concat(dfs_values)"
   ],
   "metadata": {
    "collapsed": false,
    "ExecuteTime": {
     "end_time": "2023-06-09T14:21:48.634378Z",
     "start_time": "2023-06-09T14:21:47.753116Z"
    }
   }
  },
  {
   "cell_type": "code",
   "execution_count": 21,
   "outputs": [
    {
     "data": {
      "text/plain": "      id  label  oracleId   oracleType      projectName packageName className  \\\n0  93992  False     15455  EXCEPT_POST  plume-lib-1.1.0       plume   UtilMDE   \n1  93993  False     15456          PRE  plume-lib-1.1.0       plume   UtilMDE   \n2  93994  False     15456          PRE  plume-lib-1.1.0       plume   UtilMDE   \n3  93995   True     15456          PRE  plume-lib-1.1.0       plume   UtilMDE   \n4  93996  False     15456          PRE  plume-lib-1.1.0       plume   UtilMDE   \n\n                                          javadocTag  \\\n0  @throws IOException if there is trouble readin...   \n1  @param file the file to infer a line separator...   \n2  @param file the file to infer a line separator...   \n3  @param file the file to infer a line separator...   \n4  @param file the file to infer a line separator...   \n\n                                       methodJavadoc  \\\n0  \\t/** Tries to infer the line separator used i...   \n1  \\t/** Tries to infer the line separator used i...   \n2  \\t/** Tries to infer the line separator used i...   \n3  \\t/** Tries to infer the line separator used i...   \n4  \\t/** Tries to infer the line separator used i...   \n\n                                    methodSourceCode  \\\n0  public static String inferLineSeparator(String...   \n1  public static String inferLineSeparator(File f...   \n2  public static String inferLineSeparator(File f...   \n3  public static String inferLineSeparator(File f...   \n4  public static String inferLineSeparator(File f...   \n\n                                        classJavadoc  \\\n0  /** Utility functions that do not belong elsew...   \n1  /** Utility functions that do not belong elsew...   \n2  /** Utility functions that do not belong elsew...   \n3  /** Utility functions that do not belong elsew...   \n4  /** Utility functions that do not belong elsew...   \n\n                                     classSourceCode oracleSoFar  \\\n0  // If you edit this file, you must also edit i...               \n1  // If you edit this file, you must also edit i...               \n2  // If you edit this file, you must also edit i...               \n3  // If you edit this file, you must also edit i...               \n4  // If you edit this file, you must also edit i...               \n\n  tokenClassesSoFar          tokenClass  \n0                []  OpeningParenthesis  \n1                []      MethodArgument  \n2                []               Class  \n3                []           Semicolon  \n4                []  OpeningParenthesis  ",
      "text/html": "<div>\n<style scoped>\n    .dataframe tbody tr th:only-of-type {\n        vertical-align: middle;\n    }\n\n    .dataframe tbody tr th {\n        vertical-align: top;\n    }\n\n    .dataframe thead th {\n        text-align: right;\n    }\n</style>\n<table border=\"1\" class=\"dataframe\">\n  <thead>\n    <tr style=\"text-align: right;\">\n      <th></th>\n      <th>id</th>\n      <th>label</th>\n      <th>oracleId</th>\n      <th>oracleType</th>\n      <th>projectName</th>\n      <th>packageName</th>\n      <th>className</th>\n      <th>javadocTag</th>\n      <th>methodJavadoc</th>\n      <th>methodSourceCode</th>\n      <th>classJavadoc</th>\n      <th>classSourceCode</th>\n      <th>oracleSoFar</th>\n      <th>tokenClassesSoFar</th>\n      <th>tokenClass</th>\n    </tr>\n  </thead>\n  <tbody>\n    <tr>\n      <th>0</th>\n      <td>93992</td>\n      <td>False</td>\n      <td>15455</td>\n      <td>EXCEPT_POST</td>\n      <td>plume-lib-1.1.0</td>\n      <td>plume</td>\n      <td>UtilMDE</td>\n      <td>@throws IOException if there is trouble readin...</td>\n      <td>\\t/** Tries to infer the line separator used i...</td>\n      <td>public static String inferLineSeparator(String...</td>\n      <td>/** Utility functions that do not belong elsew...</td>\n      <td>// If you edit this file, you must also edit i...</td>\n      <td></td>\n      <td>[]</td>\n      <td>OpeningParenthesis</td>\n    </tr>\n    <tr>\n      <th>1</th>\n      <td>93993</td>\n      <td>False</td>\n      <td>15456</td>\n      <td>PRE</td>\n      <td>plume-lib-1.1.0</td>\n      <td>plume</td>\n      <td>UtilMDE</td>\n      <td>@param file the file to infer a line separator...</td>\n      <td>\\t/** Tries to infer the line separator used i...</td>\n      <td>public static String inferLineSeparator(File f...</td>\n      <td>/** Utility functions that do not belong elsew...</td>\n      <td>// If you edit this file, you must also edit i...</td>\n      <td></td>\n      <td>[]</td>\n      <td>MethodArgument</td>\n    </tr>\n    <tr>\n      <th>2</th>\n      <td>93994</td>\n      <td>False</td>\n      <td>15456</td>\n      <td>PRE</td>\n      <td>plume-lib-1.1.0</td>\n      <td>plume</td>\n      <td>UtilMDE</td>\n      <td>@param file the file to infer a line separator...</td>\n      <td>\\t/** Tries to infer the line separator used i...</td>\n      <td>public static String inferLineSeparator(File f...</td>\n      <td>/** Utility functions that do not belong elsew...</td>\n      <td>// If you edit this file, you must also edit i...</td>\n      <td></td>\n      <td>[]</td>\n      <td>Class</td>\n    </tr>\n    <tr>\n      <th>3</th>\n      <td>93995</td>\n      <td>True</td>\n      <td>15456</td>\n      <td>PRE</td>\n      <td>plume-lib-1.1.0</td>\n      <td>plume</td>\n      <td>UtilMDE</td>\n      <td>@param file the file to infer a line separator...</td>\n      <td>\\t/** Tries to infer the line separator used i...</td>\n      <td>public static String inferLineSeparator(File f...</td>\n      <td>/** Utility functions that do not belong elsew...</td>\n      <td>// If you edit this file, you must also edit i...</td>\n      <td></td>\n      <td>[]</td>\n      <td>Semicolon</td>\n    </tr>\n    <tr>\n      <th>4</th>\n      <td>93996</td>\n      <td>False</td>\n      <td>15456</td>\n      <td>PRE</td>\n      <td>plume-lib-1.1.0</td>\n      <td>plume</td>\n      <td>UtilMDE</td>\n      <td>@param file the file to infer a line separator...</td>\n      <td>\\t/** Tries to infer the line separator used i...</td>\n      <td>public static String inferLineSeparator(File f...</td>\n      <td>/** Utility functions that do not belong elsew...</td>\n      <td>// If you edit this file, you must also edit i...</td>\n      <td></td>\n      <td>[]</td>\n      <td>OpeningParenthesis</td>\n    </tr>\n  </tbody>\n</table>\n</div>"
     },
     "execution_count": 21,
     "metadata": {},
     "output_type": "execute_result"
    }
   ],
   "source": [
    "df_classes.head()"
   ],
   "metadata": {
    "collapsed": false,
    "ExecuteTime": {
     "end_time": "2023-06-09T14:21:46.164068Z",
     "start_time": "2023-06-09T14:21:46.140081Z"
    }
   }
  },
  {
   "cell_type": "code",
   "execution_count": null,
   "outputs": [],
   "source": [],
   "metadata": {
    "collapsed": false
   }
  }
 ],
 "metadata": {
  "kernelspec": {
   "display_name": "Python 3",
   "language": "python",
   "name": "python3"
  },
  "language_info": {
   "codemirror_mode": {
    "name": "ipython",
    "version": 2
   },
   "file_extension": ".py",
   "mimetype": "text/x-python",
   "name": "python",
   "nbconvert_exporter": "python",
   "pygments_lexer": "ipython2",
   "version": "2.7.6"
  }
 },
 "nbformat": 4,
 "nbformat_minor": 0
}
