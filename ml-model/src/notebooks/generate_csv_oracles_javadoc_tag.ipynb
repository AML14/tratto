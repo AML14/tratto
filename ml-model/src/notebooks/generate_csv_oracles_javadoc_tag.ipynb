{
 "cells": [
  {
   "cell_type": "code",
   "execution_count": 53,
   "metadata": {
    "collapsed": true,
    "ExecuteTime": {
     "end_time": "2023-07-13T12:12:10.767805Z",
     "start_time": "2023-07-13T12:12:10.749505Z"
    }
   },
   "outputs": [],
   "source": [
    "import os\n",
    "import sys\n",
    "import torch\n",
    "import pandas as pd\n",
    "import json"
   ]
  },
  {
   "cell_type": "code",
   "execution_count": 56,
   "outputs": [],
   "source": [
    "sys.path.append(os.path.dirname(os.path.abspath('')))\n",
    "\n",
    "from src.utils import utils"
   ],
   "metadata": {
    "collapsed": false,
    "ExecuteTime": {
     "end_time": "2023-07-13T12:13:29.438218Z",
     "start_time": "2023-07-13T12:13:29.215044Z"
    }
   }
  },
  {
   "cell_type": "code",
   "execution_count": 5,
   "outputs": [],
   "source": [
    "device = torch.device(\"cpu\")"
   ],
   "metadata": {
    "collapsed": false,
    "ExecuteTime": {
     "end_time": "2023-07-12T15:10:54.806764Z",
     "start_time": "2023-07-12T15:10:54.801107Z"
    }
   }
  },
  {
   "cell_type": "code",
   "execution_count": 4,
   "outputs": [],
   "source": [
    "d_path = os.path.join(\"..\", \"..\", \"dataset\", \"token-classes-dataset\")"
   ],
   "metadata": {
    "collapsed": false,
    "ExecuteTime": {
     "end_time": "2023-07-12T15:10:53.006782Z",
     "start_time": "2023-07-12T15:10:52.994549Z"
    }
   }
  },
  {
   "cell_type": "code",
   "execution_count": 8,
   "outputs": [
    {
     "name": "stdout",
     "output_type": "stream",
     "text": [
      "84_oracle_datapoints_commons-math3-3.6.1_29.json\n",
      "248_oracle_datapoints_commons-math3-3.6.1_56.json\n",
      "216_oracle_datapoints_commons-math3-3.6.1_84.json\n",
      "155_oracle_datapoints_commons-math3-3.6.1_108.json\n",
      "64_oracle_datapoints_commons-math3-3.6.1_140.json\n",
      "293_oracle_datapoints_gs-core-1.3_15.json\n",
      "121_oracle_datapoints_guava-19.0_22.json\n",
      "157_oracle_datapoints_commons-collections4-4.1_54.json\n",
      "271_oracle_datapoints_commons-math3-3.6.1_82.json\n",
      "166_oracle_datapoints_commons-collections4-4.1_39.json\n",
      "266_oracle_datapoints_commons-math3-3.6.1_135.json\n",
      "8_oracle_datapoints_commons-math3-3.6.1_8.json\n",
      "142_oracle_datapoints_commons-math3-3.6.1_86.json\n",
      "147_oracle_datapoints_plume-lib-1.1.0_7.json\n",
      "215_oracle_datapoints_gs-core-1.3_4.json\n",
      "254_oracle_datapoints_commons-math3-3.6.1_6.json\n",
      "33_oracle_datapoints_commons-math3-3.6.1_42.json\n",
      "172_oracle_datapoints_commons-math3-3.6.1_112.json\n",
      "194_oracle_datapoints_commons-math3-3.6.1_26.json\n",
      "295_oracle_datapoints_commons-collections4-4.1_4.json\n",
      "135_oracle_datapoints_commons-math3-3.6.1_3.json\n",
      "221_oracle_datapoints_commons-math3-3.6.1_109.json\n",
      "122_oracle_datapoints_gs-core-1.3_11.json\n",
      "222_oracle_datapoints_commons-math3-3.6.1_47.json\n",
      "228_oracle_datapoints_commons-collections4-4.1_14.json\n",
      "249_oracle_datapoints_commons-collections4-4.1_9.json\n",
      "105_oracle_datapoints_commons-math3-3.6.1_33.json\n",
      "141_oracle_datapoints_commons-math3-3.6.1_127.json\n",
      "200_oracle_datapoints_gs-core-1.3_13.json\n",
      "63_oracle_datapoints_commons-math3-3.6.1_96.json\n",
      "28_oracle_datapoints_commons-math3-3.6.1_81.json\n",
      "111_oracle_datapoints_commons-math3-3.6.1_106.json\n",
      "164_oracle_datapoints_gs-core-1.3_5.json\n",
      "209_oracle_datapoints_commons-collections4-4.1_18.json\n",
      "297_oracle_datapoints_commons-collections4-4.1_4.json\n",
      "23_oracle_datapoints_plume-lib-1.1.0_0.json\n",
      "16_oracle_datapoints_commons-math3-3.6.1_141.json\n",
      "56_oracle_datapoints_commons-math3-3.6.1_38.json\n",
      "199_oracle_datapoints_commons-math3-3.6.1_88.json\n",
      "92_oracle_datapoints_commons-math3-3.6.1_2.json\n",
      "214_oracle_datapoints_guava-19.0_16.json\n",
      "126_oracle_datapoints_commons-math3-3.6.1_24.json\n",
      "50_oracle_datapoints_commons-math3-3.6.1_5.json\n",
      "46_oracle_datapoints_commons-collections4-4.1_47.json\n",
      "213_oracle_datapoints_commons-collections4-4.1_38.json\n",
      "89_oracle_datapoints_commons-math3-3.6.1_87.json\n",
      "100_oracle_datapoints_commons-collections4-4.1_17.json\n",
      "132_oracle_datapoints_guava-19.0_5.json\n",
      "154_oracle_datapoints_commons-collections4-4.1_42.json\n",
      "158_oracle_datapoints_commons-math3-3.6.1_0.json\n",
      "79_oracle_datapoints_commons-math3-3.6.1_75.json\n",
      "165_oracle_datapoints_guava-19.0_17.json\n",
      "268_oracle_datapoints_guava-19.0_10.json\n",
      "11_oracle_datapoints_commons-math3-3.6.1_58.json\n",
      "5_oracle_datapoints_commons-math3-3.6.1_62.json\n",
      "25_oracle_datapoints_commons-math3-3.6.1_39.json\n",
      "296_oracle_datapoints_commons-collections4-4.1_4.json\n",
      "114_oracle_datapoints_commons-math3-3.6.1_110.json\n",
      "75_oracle_datapoints_commons-math3-3.6.1_34.json\n",
      "108_oracle_datapoints_commons-math3-3.6.1_64.json\n",
      "153_oracle_datapoints_commons-math3-3.6.1_50.json\n",
      "203_oracle_datapoints_guava-19.0_20.json\n",
      "149_oracle_datapoints_commons-math3-3.6.1_131.json\n",
      "178_oracle_datapoints_commons-math3-3.6.1_128.json\n",
      "110_oracle_datapoints_commons-math3-3.6.1_48.json\n",
      "280_oracle_datapoints_commons-collections4-4.1_8.json\n",
      "129_oracle_datapoints_commons-math3-3.6.1_73.json\n",
      "20_oracle_datapoints_plume-lib-1.1.0_0.json\n",
      "4_oracle_datapoints_commons-collections4-4.1_27.json\n",
      "168_oracle_datapoints_commons-math3-3.6.1_93.json\n",
      "80_oracle_datapoints_commons-math3-3.6.1_130.json\n",
      "253_oracle_datapoints_commons-math3-3.6.1_6.json\n",
      "180_oracle_datapoints_commons-math3-3.6.1_66.json\n",
      "229_oracle_datapoints_commons-math3-3.6.1_143.json\n",
      "298_oracle_datapoints_commons-math3-3.6.1_115.json\n",
      "55_oracle_datapoints_commons-math3-3.6.1_80.json\n",
      "113_oracle_datapoints_commons-collections4-4.1_1.json\n",
      "175_oracle_datapoints_commons-math3-3.6.1_104.json\n",
      "245_oracle_datapoints_guava-19.0_0.json\n",
      "61_oracle_datapoints_commons-math3-3.6.1_79.json\n",
      "91_oracle_datapoints_commons-math3-3.6.1_13.json\n",
      "196_oracle_datapoints_gs-core-1.3_8.json\n",
      "201_oracle_datapoints_commons-math3-3.6.1_129.json\n",
      "96_oracle_datapoints_commons-collections4-4.1_40.json\n",
      "251_oracle_datapoints_commons-math3-3.6.1_40.json\n",
      "281_oracle_datapoints_commons-collections4-4.1_45.json\n",
      "252_oracle_datapoints_commons-collections4-4.1_52.json\n",
      "269_oracle_datapoints_commons-collections4-4.1_28.json\n",
      "90_oracle_datapoints_jgrapht-core-0.9.2_7.json\n",
      "48_oracle_datapoints_commons-collections4-4.1_51.json\n",
      "220_oracle_datapoints_commons-math3-3.6.1_10.json\n",
      "264_oracle_datapoints_commons-math3-3.6.1_134.json\n",
      "288_oracle_datapoints_commons-collections4-4.1_32.json\n",
      "238_oracle_datapoints_commons-math3-3.6.1_37.json\n",
      "179_oracle_datapoints_gs-core-1.3_12.json\n",
      "125_oracle_datapoints_commons-collections4-4.1_20.json\n",
      "30_oracle_datapoints_commons-math3-3.6.1_15.json\n",
      "190_oracle_datapoints_plume-lib-1.1.0_9.json\n",
      "31_oracle_datapoints_commons-collections4-4.1_50.json\n",
      "234_oracle_datapoints_commons-math3-3.6.1_102.json\n",
      "267_oracle_datapoints_plume-lib-1.1.0_3.json\n",
      "226_oracle_datapoints_commons-collections4-4.1_43.json\n",
      "181_oracle_datapoints_jgrapht-core-0.9.2_9.json\n",
      "42_oracle_datapoints_commons-collections4-4.1_10.json\n",
      "66_oracle_datapoints_commons-math3-3.6.1_117.json\n",
      "197_oracle_datapoints_commons-math3-3.6.1_30.json\n",
      "207_oracle_datapoints_commons-collections4-4.1_2.json\n",
      "26_oracle_datapoints_gs-core-1.3_1.json\n",
      "300_oracle_datapoints_commons-math3-3.6.1_142.json\n",
      "211_oracle_datapoints_commons-math3-3.6.1_133.json\n",
      "170_oracle_datapoints_commons-math3-3.6.1_145.json\n",
      "85_oracle_datapoints_guava-19.0_15.json\n",
      "171_oracle_datapoints_commons-collections4-4.1_19.json\n",
      "124_oracle_datapoints_commons-math3-3.6.1_32.json\n",
      "54_oracle_datapoints_commons-math3-3.6.1_121.json\n",
      "173_oracle_datapoints_commons-collections4-4.1_3.json\n",
      "57_oracle_datapoints_gs-core-1.3_0.json\n",
      "87_oracle_datapoints_commons-math3-3.6.1_68.json\n",
      "44_oracle_datapoints_guava-19.0_3.json\n",
      "283_oracle_datapoints_guava-19.0_1.json\n",
      "193_oracle_datapoints_commons-collections4-4.1_34.json\n",
      "246_oracle_datapoints_guava-19.0_0.json\n",
      "202_oracle_datapoints_commons-math3-3.6.1_67.json\n",
      "219_oracle_datapoints_commons-math3-3.6.1_10.json\n",
      "88_oracle_datapoints_commons-math3-3.6.1_126.json\n",
      "7_oracle_datapoints_commons-math3-3.6.1_19.json\n",
      "68_oracle_datapoints_commons-math3-3.6.1_9.json\n",
      "13_oracle_datapoints_commons-collections4-4.1_7.json\n",
      "236_oracle_datapoints_gs-core-1.3_14.json\n",
      "37_oracle_datapoints_guava-19.0_2.json\n",
      "38_oracle_datapoints_commons-collections4-4.1_11.json\n",
      "235_oracle_datapoints_commons-math3-3.6.1_60.json\n",
      "77_oracle_datapoints_commons-math3-3.6.1_22.json\n",
      "41_oracle_datapoints_commons-collections4-4.1_11.json\n",
      "167_oracle_datapoints_plume-lib-1.1.0_4.json\n",
      "138_oracle_datapoints_jgrapht-core-0.9.2_6.json\n",
      "265_oracle_datapoints_commons-math3-3.6.1_94.json\n",
      "104_oracle_datapoints_commons-collections4-4.1_37.json\n",
      "188_oracle_datapoints_plume-lib-1.1.0_8.json\n",
      "206_oracle_datapoints_commons-collections4-4.1_2.json\n",
      "204_oracle_datapoints_commons-math3-3.6.1_105.json\n",
      "257_oracle_datapoints_commons-math3-3.6.1_83.json\n",
      "0_oracle_datapoints_commons-math3-3.6.1_74.json\n",
      "247_oracle_datapoints_commons-math3-3.6.1_118.json\n",
      "240_oracle_datapoints_commons-math3-3.6.1_21.json\n",
      "195_oracle_datapoints_commons-collections4-4.1_22.json\n",
      "24_oracle_datapoints_guava-19.0_13.json\n",
      "101_oracle_datapoints_commons-math3-3.6.1_72.json\n",
      "14_oracle_datapoints_commons-collections4-4.1_7.json\n",
      "10_oracle_datapoints_commons-math3-3.6.1_100.json\n",
      "94_oracle_datapoints_commons-math3-3.6.1_2.json\n",
      "156_oracle_datapoints_commons-math3-3.6.1_46.json\n",
      "97_oracle_datapoints_commons-math3-3.6.1_52.json\n",
      "256_oracle_datapoints_jgrapht-core-0.9.2_3.json\n",
      "117_oracle_datapoints_commons-math3-3.6.1_111.json\n",
      "183_oracle_datapoints_gs-core-1.3_9.json\n",
      "237_oracle_datapoints_commons-collections4-4.1_25.json\n",
      "186_oracle_datapoints_commons-math3-3.6.1_27.json\n",
      "123_oracle_datapoints_commons-math3-3.6.1_65.json\n",
      "130_oracle_datapoints_commons-collections4-4.1_16.json\n",
      "15_oracle_datapoints_commons-collections4-4.1_7.json\n",
      "169_oracle_datapoints_commons-math3-3.6.1_132.json\n",
      "208_oracle_datapoints_commons-math3-3.6.1_144.json\n",
      "22_oracle_datapoints_plume-lib-1.1.0_0.json\n",
      "174_oracle_datapoints_commons-collections4-4.1_3.json\n",
      "284_oracle_datapoints_commons-collections4-4.1_12.json\n",
      "205_oracle_datapoints_commons-math3-3.6.1_113.json\n",
      "83_oracle_datapoints_plume-lib-1.1.0_6.json\n",
      "279_oracle_datapoints_commons-math3-3.6.1_57.json\n",
      "134_oracle_datapoints_commons-math3-3.6.1_53.json\n",
      "69_oracle_datapoints_commons-math3-3.6.1_9.json\n",
      "291_oracle_datapoints_commons-math3-3.6.1_36.json\n",
      "263_oracle_datapoints_commons-math3-3.6.1_95.json\n",
      "162_oracle_datapoints_commons-math3-3.6.1_85.json\n",
      "72_oracle_datapoints_guava-19.0_24.json\n",
      "275_oracle_datapoints_commons-math3-3.6.1_41.json\n",
      "260_oracle_datapoints_gs-core-1.3_3.json\n",
      "224_oracle_datapoints_commons-math3-3.6.1_1.json\n",
      "86_oracle_datapoints_gs-core-1.3_7.json\n",
      "223_oracle_datapoints_commons-collections4-4.1_55.json\n",
      "32_oracle_datapoints_commons-math3-3.6.1_4.json\n",
      "27_oracle_datapoints_commons-math3-3.6.1_120.json\n",
      "131_oracle_datapoints_plume-lib-1.1.0_11.json\n",
      "227_oracle_datapoints_guava-19.0_7.json\n",
      "241_oracle_datapoints_commons-math3-3.6.1_99.json\n",
      "71_oracle_datapoints_commons-math3-3.6.1_18.json\n",
      "98_oracle_datapoints_plume-lib-1.1.0_10.json\n",
      "81_oracle_datapoints_commons-math3-3.6.1_130.json\n",
      "34_oracle_datapoints_commons-collections4-4.1_46.json\n",
      "1_oracle_datapoints_commons-math3-3.6.1_23.json\n",
      "294_oracle_datapoints_commons-math3-3.6.1_103.json\n",
      "270_oracle_datapoints_gs-core-1.3_2.json\n",
      "109_oracle_datapoints_guava-19.0_23.json\n",
      "118_oracle_datapoints_guava-19.0_9.json\n",
      "2_oracle_datapoints_commons-collections4-4.1_31.json\n",
      "278_oracle_datapoints_commons-math3-3.6.1_119.json\n",
      "244_oracle_datapoints_commons-collections4-4.1_13.json\n",
      "287_oracle_datapoints_commons-math3-3.6.1_77.json\n",
      "185_oracle_datapoints_commons-collections4-4.1_35.json\n",
      "150_oracle_datapoints_commons-math3-3.6.1_90.json\n",
      "19_oracle_datapoints_commons-math3-3.6.1_97.json\n",
      "62_oracle_datapoints_commons-math3-3.6.1_137.json\n",
      "76_oracle_datapoints_commons-collections4-4.1_26.json\n",
      "128_oracle_datapoints_guava-19.0_18.json\n",
      "18_oracle_datapoints_commons-math3-3.6.1_136.json\n",
      "261_oracle_datapoints_guava-19.0_11.json\n",
      "53_oracle_datapoints_jgrapht-core-0.9.2_0.json\n",
      "187_oracle_datapoints_commons-math3-3.6.1_70.json\n",
      "276_oracle_datapoints_commons-collections4-4.1_53.json\n",
      "212_oracle_datapoints_plume-lib-1.1.0_5.json\n",
      "120_oracle_datapoints_commons-math3-3.6.1_107.json\n",
      "139_oracle_datapoints_commons-math3-3.6.1_69.json\n",
      "52_oracle_datapoints_commons-math3-3.6.1_14.json\n",
      "116_oracle_datapoints_commons-collections4-4.1_0.json\n",
      "218_oracle_datapoints_jgrapht-core-0.9.2_4.json\n",
      "274_oracle_datapoints_commons-math3-3.6.1_16.json\n",
      "146_oracle_datapoints_plume-lib-1.1.0_7.json\n",
      "242_oracle_datapoints_commons-math3-3.6.1_138.json\n",
      "133_oracle_datapoints_commons-collections4-4.1_41.json\n",
      "49_oracle_datapoints_commons-math3-3.6.1_5.json\n",
      "258_oracle_datapoints_commons-math3-3.6.1_122.json\n",
      "119_oracle_datapoints_commons-math3-3.6.1_49.json\n",
      "217_oracle_datapoints_commons-math3-3.6.1_125.json\n",
      "78_oracle_datapoints_commons-collections4-4.1_30.json\n",
      "255_oracle_datapoints_commons-math3-3.6.1_17.json\n",
      "231_oracle_datapoints_commons-collections4-4.1_5.json\n",
      "99_oracle_datapoints_guava-19.0_4.json\n",
      "95_oracle_datapoints_commons-math3-3.6.1_44.json\n",
      "93_oracle_datapoints_commons-math3-3.6.1_2.json\n",
      "60_oracle_datapoints_plume-lib-1.1.0_1.json\n",
      "233_oracle_datapoints_commons-collections4-4.1_48.json\n",
      "232_oracle_datapoints_commons-math3-3.6.1_114.json\n",
      "182_oracle_datapoints_commons-collections4-4.1_23.json\n",
      "299_oracle_datapoints_commons-collections4-4.1_49.json\n",
      "273_oracle_datapoints_jgrapht-core-0.9.2_2.json\n",
      "189_oracle_datapoints_plume-lib-1.1.0_8.json\n",
      "6_oracle_datapoints_gs-core-1.3_16.json\n",
      "103_oracle_datapoints_commons-math3-3.6.1_25.json\n",
      "163_oracle_datapoints_commons-math3-3.6.1_124.json\n",
      "107_oracle_datapoints_gs-core-1.3_10.json\n",
      "192_oracle_datapoints_commons-math3-3.6.1_71.json\n",
      "191_oracle_datapoints_plume-lib-1.1.0_9.json\n",
      "51_oracle_datapoints_commons-math3-3.6.1_43.json\n",
      "35_oracle_datapoints_commons-math3-3.6.1_54.json\n",
      "148_oracle_datapoints_commons-math3-3.6.1_131.json\n",
      "290_oracle_datapoints_commons-collections4-4.1_24.json\n",
      "136_oracle_datapoints_commons-math3-3.6.1_45.json\n",
      "177_oracle_datapoints_commons-math3-3.6.1_89.json\n",
      "160_oracle_datapoints_commons-math3-3.6.1_11.json\n",
      "65_oracle_datapoints_commons-math3-3.6.1_59.json\n",
      "59_oracle_datapoints_plume-lib-1.1.0_1.json\n",
      "210_oracle_datapoints_commons-math3-3.6.1_92.json\n",
      "74_oracle_datapoints_gs-core-1.3_17.json\n",
      "159_oracle_datapoints_commons-math3-3.6.1_0.json\n",
      "184_oracle_datapoints_commons-math3-3.6.1_31.json\n",
      "106_oracle_datapoints_commons-collections4-4.1_21.json\n",
      "82_oracle_datapoints_commons-math3-3.6.1_91.json\n",
      "230_oracle_datapoints_commons-collections4-4.1_5.json\n",
      "143_oracle_datapoints_gs-core-1.3_6.json\n",
      "70_oracle_datapoints_commons-math3-3.6.1_101.json\n",
      "285_oracle_datapoints_commons-math3-3.6.1_98.json\n",
      "176_oracle_datapoints_guava-19.0_21.json\n",
      "144_oracle_datapoints_guava-19.0_14.json\n",
      "9_oracle_datapoints_commons-math3-3.6.1_8.json\n",
      "286_oracle_datapoints_commons-math3-3.6.1_139.json\n",
      "282_oracle_datapoints_guava-19.0_1.json\n",
      "112_oracle_datapoints_guava-19.0_8.json\n",
      "45_oracle_datapoints_guava-19.0_3.json\n",
      "47_oracle_datapoints_commons-math3-3.6.1_55.json\n",
      "272_oracle_datapoints_commons-math3-3.6.1_123.json\n",
      "73_oracle_datapoints_commons-math3-3.6.1_63.json\n",
      "151_oracle_datapoints_commons-collections4-4.1_15.json\n",
      "3_oracle_datapoints_commons-math3-3.6.1_35.json\n",
      "225_oracle_datapoints_commons-math3-3.6.1_51.json\n",
      "259_oracle_datapoints_commons-collections4-4.1_29.json\n",
      "243_oracle_datapoints_commons-math3-3.6.1_76.json\n",
      "12_oracle_datapoints_commons-math3-3.6.1_116.json\n",
      "115_oracle_datapoints_commons-math3-3.6.1_146.json\n",
      "198_oracle_datapoints_jgrapht-core-0.9.2_8.json\n",
      "289_oracle_datapoints_commons-math3-3.6.1_20.json\n",
      "43_oracle_datapoints_commons-collections4-4.1_10.json\n",
      "137_oracle_datapoints_commons-math3-3.6.1_12.json\n",
      "152_oracle_datapoints_guava-19.0_6.json\n",
      "161_oracle_datapoints_jgrapht-core-0.9.2_5.json\n",
      "140_oracle_datapoints_commons-math3-3.6.1_127.json\n",
      "277_oracle_datapoints_commons-math3-3.6.1_7.json\n",
      "262_oracle_datapoints_plume-lib-1.1.0_2.json\n",
      "102_oracle_datapoints_guava-19.0_19.json\n",
      "292_oracle_datapoints_commons-math3-3.6.1_61.json\n",
      "250_oracle_datapoints_commons-collections4-4.1_44.json\n",
      "21_oracle_datapoints_plume-lib-1.1.0_0.json\n",
      "145_oracle_datapoints_commons-math3-3.6.1_28.json\n",
      "17_oracle_datapoints_commons-math3-3.6.1_78.json\n",
      "29_oracle_datapoints_jgrapht-core-0.9.2_1.json\n",
      "39_oracle_datapoints_commons-collections4-4.1_11.json\n",
      "67_oracle_datapoints_commons-collections4-4.1_6.json\n",
      "40_oracle_datapoints_commons-collections4-4.1_11.json\n",
      "36_oracle_datapoints_guava-19.0_2.json\n",
      "239_oracle_datapoints_commons-collections4-4.1_33.json\n",
      "58_oracle_datapoints_guava-19.0_12.json\n",
      "127_oracle_datapoints_commons-collections4-4.1_36.json\n"
     ]
    }
   ],
   "source": [
    "# list of partial dataframes\n",
    "dfs = []\n",
    "# collects partial dataframes from oracles\n",
    "for file_name in os.listdir(d_path):\n",
    "    print(file_name)\n",
    "    df = pd.read_json(os.path.join(d_path,  file_name))\n",
    "    dfs.append(df)\n",
    "# concat partial dataframes\n",
    "df_dataset = pd.concat(dfs)\n",
    "# drop column id (it is not relevant for training the model)\n",
    "df_dataset = df_dataset.drop(['id'], axis=1)\n",
    "# map empty cells to empty strings\n",
    "df_dataset.fillna('', inplace=True)\n",
    "# specify the type of each column in the dataset\n",
    "df_dataset = df_dataset.astype({\n",
    "    'label': 'bool',\n",
    "    'oracleId': 'int64',\n",
    "    'oracleType': 'string',\n",
    "    'projectName': 'string',\n",
    "    'packageName': 'string',\n",
    "    'className': 'string',\n",
    "    'javadocTag': 'string',\n",
    "    'methodJavadoc': 'string',\n",
    "    'methodSourceCode': 'string',\n",
    "    'classJavadoc': 'string',\n",
    "    'classSourceCode': 'string',\n",
    "    'oracleSoFar': 'string',\n",
    "    'token': 'string',\n",
    "    'tokenClass': 'string',\n",
    "    'tokenInfo': 'string'\n",
    "})"
   ],
   "metadata": {
    "collapsed": false,
    "ExecuteTime": {
     "end_time": "2023-07-12T15:12:04.295289Z",
     "start_time": "2023-07-12T15:11:16.500211Z"
    }
   }
  },
  {
   "cell_type": "code",
   "execution_count": 33,
   "outputs": [],
   "source": [
    "df_filtered = df_dataset.loc[df_dataset['oracleSoFar'].str.len() > 0]\n",
    "\n",
    "df_completed_oracles = df_filtered.loc[df_filtered.groupby('oracleId')['oracleSoFar'].idxmax()]\n",
    "\n",
    "\n",
    "output_path = os.path.join(os.path.dirname(os.path.abspath(\"\")),'resources')\n",
    "\n",
    "if not os.path.exists(output_path):\n",
    "    os.makedirs(output_path)\n",
    "\n",
    "df_completed_oracles.to_csv(os.path.join(output_path, 'oracles_javadoc_tag_small.csv'), index=False)"
   ],
   "metadata": {
    "collapsed": false,
    "ExecuteTime": {
     "end_time": "2023-07-12T17:09:39.988943Z",
     "start_time": "2023-07-12T17:08:24.556605Z"
    }
   }
  },
  {
   "cell_type": "code",
   "execution_count": 19,
   "outputs": [
    {
     "data": {
      "text/plain": "'/Users/davidemolinelli/Documents/phd/repositories/tratto/ml-model/src/notebooks'"
     },
     "execution_count": 19,
     "metadata": {},
     "output_type": "execute_result"
    }
   ],
   "source": [
    "os.path.abspath(\"\")"
   ],
   "metadata": {
    "collapsed": false,
    "ExecuteTime": {
     "end_time": "2023-07-12T16:52:22.786608Z",
     "start_time": "2023-07-12T16:52:22.780249Z"
    }
   }
  },
  {
   "cell_type": "code",
   "execution_count": 18,
   "outputs": [
    {
     "data": {
      "text/plain": "'/Users/davidemolinelli/Documents/phd/repositories/tratto/ml-model/src/../resources/oracles_javadoc_tag_small.csv'"
     },
     "execution_count": 18,
     "metadata": {},
     "output_type": "execute_result"
    }
   ],
   "source": [
    "os.path.join(output_path, 'oracles_javadoc_tag_small.csv')"
   ],
   "metadata": {
    "collapsed": false,
    "ExecuteTime": {
     "end_time": "2023-07-12T16:51:32.208772Z",
     "start_time": "2023-07-12T16:51:32.178862Z"
    }
   }
  },
  {
   "cell_type": "code",
   "execution_count": 34,
   "outputs": [
    {
     "data": {
      "text/plain": "    label  oracleId   oracleType               projectName  \\\n51  False       802  EXCEPT_POST       commons-math3-3.6.1   \n51  False       687  EXCEPT_POST       commons-math3-3.6.1   \n51  False     21531  EXCEPT_POST  commons-collections4-4.1   \n51   True       303  EXCEPT_POST       commons-math3-3.6.1   \n51  False     21608  EXCEPT_POST  commons-collections4-4.1   \n\n                          packageName       className  \\\n51    org.apache.commons.math3.linear     MatrixUtils   \n51  org.apache.commons.math3.genetics  CycleCrossover   \n51    org.apache.commons.collections4    SetValuedMap   \n51  org.apache.commons.math3.geometry          Vector   \n51    org.apache.commons.collections4   IteratorUtils   \n\n                                           javadocTag  \\\n51  @throws org.apache.commons.math3.exception.NoD...   \n51  @throws org.apache.commons.math3.exception.Mat...   \n51  @throws java.lang.NullPointerException the key...   \n51  @throws org.apache.commons.math3.exception.Mat...   \n51  @throws java.lang.NullPointerException any ite...   \n\n                                        methodJavadoc  \\\n51  \t/**\n     * Creates a {@link FieldVector} usin...   \n51  \t/**\n     * {@inheritDoc}\n     *\n     * @throw...   \n51  \t/**\n     * Removes all values associated with...   \n51  \t/** Get a normalized vector aligned with the ...   \n51  \t/**\n     * Returns an iterator that interleav...   \n\n                                     methodSourceCode  \\\n51  public static <T extends FieldElement<T>> Fiel...   \n51  public ChromosomePair crossover(final Chromoso...   \n51                         Set<V> remove(Object key);   \n51  Vector<S> normalize() throws MathArithmeticExc...   \n51  public static <E> ZippingIterator<E> zippingIt...   \n\n                                         classJavadoc  \\\n51  /**\n * A collection of static methods that ope...   \n51  /**\n * Cycle Crossover [CX] builds offspring f...   \n51  /**\n * Defines a map that holds a set of value...   \n51  /** This interface represents a generic vector...   \n51  /**\n * Provides static utility methods and dec...   \n\n                                      classSourceCode  \\\n51  /*\n * Licensed to the Apache Software Foundati...   \n51  /*\n * Licensed to the Apache Software Foundati...   \n51  /*\n * Licensed to the Apache Software Foundati...   \n51  /*\n * Licensed to the Apache Software Foundati...   \n51  /*\n * Licensed to the Apache Software Foundati...   \n\n                                         oracleSoFar  \\\n51                                       data.length   \n51  (first instanceof AbstractListChromosome)==false   \n51                                               key   \n51                                              this   \n51                                         a==null||   \n\n                                    tokenClassesSoFar token  \\\n51               [MethodArgument, Period, ClassField]         \n51  [OpeningParenthesis, MethodArgument, InstanceO...         \n51                                   [MethodArgument]         \n51                                             [This]         \n51  [MethodArgument, EqOperator, NULL, LogicalOper...         \n\n            tokenClass tokenInfo  \n51   NonEqIneqOperator            \n51           Semicolon            \n51  InstanceOfOperator            \n51              Period            \n51               Class            ",
      "text/html": "<div>\n<style scoped>\n    .dataframe tbody tr th:only-of-type {\n        vertical-align: middle;\n    }\n\n    .dataframe tbody tr th {\n        vertical-align: top;\n    }\n\n    .dataframe thead th {\n        text-align: right;\n    }\n</style>\n<table border=\"1\" class=\"dataframe\">\n  <thead>\n    <tr style=\"text-align: right;\">\n      <th></th>\n      <th>label</th>\n      <th>oracleId</th>\n      <th>oracleType</th>\n      <th>projectName</th>\n      <th>packageName</th>\n      <th>className</th>\n      <th>javadocTag</th>\n      <th>methodJavadoc</th>\n      <th>methodSourceCode</th>\n      <th>classJavadoc</th>\n      <th>classSourceCode</th>\n      <th>oracleSoFar</th>\n      <th>tokenClassesSoFar</th>\n      <th>token</th>\n      <th>tokenClass</th>\n      <th>tokenInfo</th>\n    </tr>\n  </thead>\n  <tbody>\n    <tr>\n      <th>51</th>\n      <td>False</td>\n      <td>802</td>\n      <td>EXCEPT_POST</td>\n      <td>commons-math3-3.6.1</td>\n      <td>org.apache.commons.math3.linear</td>\n      <td>MatrixUtils</td>\n      <td>@throws org.apache.commons.math3.exception.NoD...</td>\n      <td>/**\n     * Creates a {@link FieldVector} usin...</td>\n      <td>public static &lt;T extends FieldElement&lt;T&gt;&gt; Fiel...</td>\n      <td>/**\n * A collection of static methods that ope...</td>\n      <td>/*\n * Licensed to the Apache Software Foundati...</td>\n      <td>data.length</td>\n      <td>[MethodArgument, Period, ClassField]</td>\n      <td></td>\n      <td>NonEqIneqOperator</td>\n      <td></td>\n    </tr>\n    <tr>\n      <th>51</th>\n      <td>False</td>\n      <td>687</td>\n      <td>EXCEPT_POST</td>\n      <td>commons-math3-3.6.1</td>\n      <td>org.apache.commons.math3.genetics</td>\n      <td>CycleCrossover</td>\n      <td>@throws org.apache.commons.math3.exception.Mat...</td>\n      <td>/**\n     * {@inheritDoc}\n     *\n     * @throw...</td>\n      <td>public ChromosomePair crossover(final Chromoso...</td>\n      <td>/**\n * Cycle Crossover [CX] builds offspring f...</td>\n      <td>/*\n * Licensed to the Apache Software Foundati...</td>\n      <td>(first instanceof AbstractListChromosome)==false</td>\n      <td>[OpeningParenthesis, MethodArgument, InstanceO...</td>\n      <td></td>\n      <td>Semicolon</td>\n      <td></td>\n    </tr>\n    <tr>\n      <th>51</th>\n      <td>False</td>\n      <td>21531</td>\n      <td>EXCEPT_POST</td>\n      <td>commons-collections4-4.1</td>\n      <td>org.apache.commons.collections4</td>\n      <td>SetValuedMap</td>\n      <td>@throws java.lang.NullPointerException the key...</td>\n      <td>/**\n     * Removes all values associated with...</td>\n      <td>Set&lt;V&gt; remove(Object key);</td>\n      <td>/**\n * Defines a map that holds a set of value...</td>\n      <td>/*\n * Licensed to the Apache Software Foundati...</td>\n      <td>key</td>\n      <td>[MethodArgument]</td>\n      <td></td>\n      <td>InstanceOfOperator</td>\n      <td></td>\n    </tr>\n    <tr>\n      <th>51</th>\n      <td>True</td>\n      <td>303</td>\n      <td>EXCEPT_POST</td>\n      <td>commons-math3-3.6.1</td>\n      <td>org.apache.commons.math3.geometry</td>\n      <td>Vector</td>\n      <td>@throws org.apache.commons.math3.exception.Mat...</td>\n      <td>/** Get a normalized vector aligned with the ...</td>\n      <td>Vector&lt;S&gt; normalize() throws MathArithmeticExc...</td>\n      <td>/** This interface represents a generic vector...</td>\n      <td>/*\n * Licensed to the Apache Software Foundati...</td>\n      <td>this</td>\n      <td>[This]</td>\n      <td></td>\n      <td>Period</td>\n      <td></td>\n    </tr>\n    <tr>\n      <th>51</th>\n      <td>False</td>\n      <td>21608</td>\n      <td>EXCEPT_POST</td>\n      <td>commons-collections4-4.1</td>\n      <td>org.apache.commons.collections4</td>\n      <td>IteratorUtils</td>\n      <td>@throws java.lang.NullPointerException any ite...</td>\n      <td>/**\n     * Returns an iterator that interleav...</td>\n      <td>public static &lt;E&gt; ZippingIterator&lt;E&gt; zippingIt...</td>\n      <td>/**\n * Provides static utility methods and dec...</td>\n      <td>/*\n * Licensed to the Apache Software Foundati...</td>\n      <td>a==null||</td>\n      <td>[MethodArgument, EqOperator, NULL, LogicalOper...</td>\n      <td></td>\n      <td>Class</td>\n      <td></td>\n    </tr>\n  </tbody>\n</table>\n</div>"
     },
     "execution_count": 34,
     "metadata": {},
     "output_type": "execute_result"
    }
   ],
   "source": [
    "df_completed_oracles.head()"
   ],
   "metadata": {
    "collapsed": false,
    "ExecuteTime": {
     "end_time": "2023-07-12T17:09:44.953158Z",
     "start_time": "2023-07-12T17:09:44.938450Z"
    }
   }
  },
  {
   "cell_type": "code",
   "execution_count": 35,
   "outputs": [
    {
     "data": {
      "text/plain": "6           data\n7           data\n8           data\n9           data\n10         data.\n          ...   \n1967      values\n1968      values\n1969      values\n1970      values\n1971    values!=\nName: oracleSoFar, Length: 15113, dtype: string"
     },
     "execution_count": 35,
     "metadata": {},
     "output_type": "execute_result"
    }
   ],
   "source": [
    "df_filtered.groupby('oracleId')['oracleSoFar'].head()"
   ],
   "metadata": {
    "collapsed": false,
    "ExecuteTime": {
     "end_time": "2023-07-12T17:10:55.092864Z",
     "start_time": "2023-07-12T17:10:55.054617Z"
    }
   }
  },
  {
   "cell_type": "code",
   "execution_count": 36,
   "outputs": [
    {
     "data": {
      "text/plain": "      label  oracleId   oracleType          projectName  \\\n6     False       800  EXCEPT_POST  commons-math3-3.6.1   \n7     False       800  EXCEPT_POST  commons-math3-3.6.1   \n8      True       800  EXCEPT_POST  commons-math3-3.6.1   \n9     False       800  EXCEPT_POST  commons-math3-3.6.1   \n10     True       800  EXCEPT_POST  commons-math3-3.6.1   \n...     ...       ...          ...                  ...   \n1967   True     16076          PRE           guava-19.0   \n1968  False     16076          PRE           guava-19.0   \n1969  False     16076          PRE           guava-19.0   \n1970  False     16076          PRE           guava-19.0   \n1971  False     16076          PRE           guava-19.0   \n\n                          packageName    className  \\\n6     org.apache.commons.math3.linear  MatrixUtils   \n7     org.apache.commons.math3.linear  MatrixUtils   \n8     org.apache.commons.math3.linear  MatrixUtils   \n9     org.apache.commons.math3.linear  MatrixUtils   \n10    org.apache.commons.math3.linear  MatrixUtils   \n...                               ...          ...   \n1967           com.google.common.math   DoubleMath   \n1968           com.google.common.math   DoubleMath   \n1969           com.google.common.math   DoubleMath   \n1970           com.google.common.math   DoubleMath   \n1971           com.google.common.math   DoubleMath   \n\n                                             javadocTag  \\\n6     @throws org.apache.commons.math3.exception.NoD...   \n7     @throws org.apache.commons.math3.exception.NoD...   \n8     @throws org.apache.commons.math3.exception.NoD...   \n9     @throws org.apache.commons.math3.exception.NoD...   \n10    @throws org.apache.commons.math3.exception.NoD...   \n...                                                 ...   \n1967  @param values values is not empty. not empty s...   \n1968  @param values values is not empty. not empty s...   \n1969  @param values values is not empty. not empty s...   \n1970  @param values values is not empty. not empty s...   \n1971  @param values values is not empty. not empty s...   \n\n                                          methodJavadoc  \\\n6     \t/**\n     * Creates a {@link RealVector} using...   \n7     \t/**\n     * Creates a {@link RealVector} using...   \n8     \t/**\n     * Creates a {@link RealVector} using...   \n9     \t/**\n     * Creates a {@link RealVector} using...   \n10    \t/**\n     * Creates a {@link RealVector} using...   \n...                                                 ...   \n1967  \t/**\n   * Returns the <a href=\"http://en.wikip...   \n1968  \t/**\n   * Returns the <a href=\"http://en.wikip...   \n1969  \t/**\n   * Returns the <a href=\"http://en.wikip...   \n1970  \t/**\n   * Returns the <a href=\"http://en.wikip...   \n1971  \t/**\n   * Returns the <a href=\"http://en.wikip...   \n\n                                       methodSourceCode  \\\n6     public static RealVector createRealVector(doub...   \n7     public static RealVector createRealVector(doub...   \n8     public static RealVector createRealVector(doub...   \n9     public static RealVector createRealVector(doub...   \n10    public static RealVector createRealVector(doub...   \n...                                                 ...   \n1967  public static double mean(int... values){\n    ...   \n1968  public static double mean(int... values){\n    ...   \n1969  public static double mean(int... values){\n    ...   \n1970  public static double mean(int... values){\n    ...   \n1971  public static double mean(int... values){\n    ...   \n\n                                           classJavadoc  \\\n6     /**\n * A collection of static methods that ope...   \n7     /**\n * A collection of static methods that ope...   \n8     /**\n * A collection of static methods that ope...   \n9     /**\n * A collection of static methods that ope...   \n10    /**\n * A collection of static methods that ope...   \n...                                                 ...   \n1967  /**\n * A class for arithmetic on doubles that ...   \n1968  /**\n * A class for arithmetic on doubles that ...   \n1969  /**\n * A class for arithmetic on doubles that ...   \n1970  /**\n * A class for arithmetic on doubles that ...   \n1971  /**\n * A class for arithmetic on doubles that ...   \n\n                                        classSourceCode oracleSoFar  \\\n6     /*\n * Licensed to the Apache Software Foundati...        data   \n7     /*\n * Licensed to the Apache Software Foundati...        data   \n8     /*\n * Licensed to the Apache Software Foundati...        data   \n9     /*\n * Licensed to the Apache Software Foundati...        data   \n10    /*\n * Licensed to the Apache Software Foundati...       data.   \n...                                                 ...         ...   \n1967  /*\n * Copyright (C) 2011 The Guava Authors\n *\n...      values   \n1968  /*\n * Copyright (C) 2011 The Guava Authors\n *\n...      values   \n1969  /*\n * Copyright (C) 2011 The Guava Authors\n *\n...      values   \n1970  /*\n * Copyright (C) 2011 The Guava Authors\n *\n...      values   \n1971  /*\n * Copyright (C) 2011 The Guava Authors\n *\n...    values!=   \n\n                   tokenClassesSoFar token          tokenClass tokenInfo  \n6                   [MethodArgument]              IneqOperator            \n7                   [MethodArgument]                EqOperator            \n8                   [MethodArgument]                    Period            \n9                   [MethodArgument]        InstanceOfOperator            \n10          [MethodArgument, Period]                ClassField            \n...                              ...   ...                 ...       ...  \n1967                [MethodArgument]              IneqOperator            \n1968                [MethodArgument]                EqOperator            \n1969                [MethodArgument]                    Period            \n1970                [MethodArgument]        InstanceOfOperator            \n1971  [MethodArgument, IneqOperator]            MethodArgument            \n\n[15113 rows x 16 columns]",
      "text/html": "<div>\n<style scoped>\n    .dataframe tbody tr th:only-of-type {\n        vertical-align: middle;\n    }\n\n    .dataframe tbody tr th {\n        vertical-align: top;\n    }\n\n    .dataframe thead th {\n        text-align: right;\n    }\n</style>\n<table border=\"1\" class=\"dataframe\">\n  <thead>\n    <tr style=\"text-align: right;\">\n      <th></th>\n      <th>label</th>\n      <th>oracleId</th>\n      <th>oracleType</th>\n      <th>projectName</th>\n      <th>packageName</th>\n      <th>className</th>\n      <th>javadocTag</th>\n      <th>methodJavadoc</th>\n      <th>methodSourceCode</th>\n      <th>classJavadoc</th>\n      <th>classSourceCode</th>\n      <th>oracleSoFar</th>\n      <th>tokenClassesSoFar</th>\n      <th>token</th>\n      <th>tokenClass</th>\n      <th>tokenInfo</th>\n    </tr>\n  </thead>\n  <tbody>\n    <tr>\n      <th>6</th>\n      <td>False</td>\n      <td>800</td>\n      <td>EXCEPT_POST</td>\n      <td>commons-math3-3.6.1</td>\n      <td>org.apache.commons.math3.linear</td>\n      <td>MatrixUtils</td>\n      <td>@throws org.apache.commons.math3.exception.NoD...</td>\n      <td>/**\n     * Creates a {@link RealVector} using...</td>\n      <td>public static RealVector createRealVector(doub...</td>\n      <td>/**\n * A collection of static methods that ope...</td>\n      <td>/*\n * Licensed to the Apache Software Foundati...</td>\n      <td>data</td>\n      <td>[MethodArgument]</td>\n      <td></td>\n      <td>IneqOperator</td>\n      <td></td>\n    </tr>\n    <tr>\n      <th>7</th>\n      <td>False</td>\n      <td>800</td>\n      <td>EXCEPT_POST</td>\n      <td>commons-math3-3.6.1</td>\n      <td>org.apache.commons.math3.linear</td>\n      <td>MatrixUtils</td>\n      <td>@throws org.apache.commons.math3.exception.NoD...</td>\n      <td>/**\n     * Creates a {@link RealVector} using...</td>\n      <td>public static RealVector createRealVector(doub...</td>\n      <td>/**\n * A collection of static methods that ope...</td>\n      <td>/*\n * Licensed to the Apache Software Foundati...</td>\n      <td>data</td>\n      <td>[MethodArgument]</td>\n      <td></td>\n      <td>EqOperator</td>\n      <td></td>\n    </tr>\n    <tr>\n      <th>8</th>\n      <td>True</td>\n      <td>800</td>\n      <td>EXCEPT_POST</td>\n      <td>commons-math3-3.6.1</td>\n      <td>org.apache.commons.math3.linear</td>\n      <td>MatrixUtils</td>\n      <td>@throws org.apache.commons.math3.exception.NoD...</td>\n      <td>/**\n     * Creates a {@link RealVector} using...</td>\n      <td>public static RealVector createRealVector(doub...</td>\n      <td>/**\n * A collection of static methods that ope...</td>\n      <td>/*\n * Licensed to the Apache Software Foundati...</td>\n      <td>data</td>\n      <td>[MethodArgument]</td>\n      <td></td>\n      <td>Period</td>\n      <td></td>\n    </tr>\n    <tr>\n      <th>9</th>\n      <td>False</td>\n      <td>800</td>\n      <td>EXCEPT_POST</td>\n      <td>commons-math3-3.6.1</td>\n      <td>org.apache.commons.math3.linear</td>\n      <td>MatrixUtils</td>\n      <td>@throws org.apache.commons.math3.exception.NoD...</td>\n      <td>/**\n     * Creates a {@link RealVector} using...</td>\n      <td>public static RealVector createRealVector(doub...</td>\n      <td>/**\n * A collection of static methods that ope...</td>\n      <td>/*\n * Licensed to the Apache Software Foundati...</td>\n      <td>data</td>\n      <td>[MethodArgument]</td>\n      <td></td>\n      <td>InstanceOfOperator</td>\n      <td></td>\n    </tr>\n    <tr>\n      <th>10</th>\n      <td>True</td>\n      <td>800</td>\n      <td>EXCEPT_POST</td>\n      <td>commons-math3-3.6.1</td>\n      <td>org.apache.commons.math3.linear</td>\n      <td>MatrixUtils</td>\n      <td>@throws org.apache.commons.math3.exception.NoD...</td>\n      <td>/**\n     * Creates a {@link RealVector} using...</td>\n      <td>public static RealVector createRealVector(doub...</td>\n      <td>/**\n * A collection of static methods that ope...</td>\n      <td>/*\n * Licensed to the Apache Software Foundati...</td>\n      <td>data.</td>\n      <td>[MethodArgument, Period]</td>\n      <td></td>\n      <td>ClassField</td>\n      <td></td>\n    </tr>\n    <tr>\n      <th>...</th>\n      <td>...</td>\n      <td>...</td>\n      <td>...</td>\n      <td>...</td>\n      <td>...</td>\n      <td>...</td>\n      <td>...</td>\n      <td>...</td>\n      <td>...</td>\n      <td>...</td>\n      <td>...</td>\n      <td>...</td>\n      <td>...</td>\n      <td>...</td>\n      <td>...</td>\n      <td>...</td>\n    </tr>\n    <tr>\n      <th>1967</th>\n      <td>True</td>\n      <td>16076</td>\n      <td>PRE</td>\n      <td>guava-19.0</td>\n      <td>com.google.common.math</td>\n      <td>DoubleMath</td>\n      <td>@param values values is not empty. not empty s...</td>\n      <td>/**\n   * Returns the &lt;a href=\"http://en.wikip...</td>\n      <td>public static double mean(int... values){\n    ...</td>\n      <td>/**\n * A class for arithmetic on doubles that ...</td>\n      <td>/*\n * Copyright (C) 2011 The Guava Authors\n *\n...</td>\n      <td>values</td>\n      <td>[MethodArgument]</td>\n      <td></td>\n      <td>IneqOperator</td>\n      <td></td>\n    </tr>\n    <tr>\n      <th>1968</th>\n      <td>False</td>\n      <td>16076</td>\n      <td>PRE</td>\n      <td>guava-19.0</td>\n      <td>com.google.common.math</td>\n      <td>DoubleMath</td>\n      <td>@param values values is not empty. not empty s...</td>\n      <td>/**\n   * Returns the &lt;a href=\"http://en.wikip...</td>\n      <td>public static double mean(int... values){\n    ...</td>\n      <td>/**\n * A class for arithmetic on doubles that ...</td>\n      <td>/*\n * Copyright (C) 2011 The Guava Authors\n *\n...</td>\n      <td>values</td>\n      <td>[MethodArgument]</td>\n      <td></td>\n      <td>EqOperator</td>\n      <td></td>\n    </tr>\n    <tr>\n      <th>1969</th>\n      <td>False</td>\n      <td>16076</td>\n      <td>PRE</td>\n      <td>guava-19.0</td>\n      <td>com.google.common.math</td>\n      <td>DoubleMath</td>\n      <td>@param values values is not empty. not empty s...</td>\n      <td>/**\n   * Returns the &lt;a href=\"http://en.wikip...</td>\n      <td>public static double mean(int... values){\n    ...</td>\n      <td>/**\n * A class for arithmetic on doubles that ...</td>\n      <td>/*\n * Copyright (C) 2011 The Guava Authors\n *\n...</td>\n      <td>values</td>\n      <td>[MethodArgument]</td>\n      <td></td>\n      <td>Period</td>\n      <td></td>\n    </tr>\n    <tr>\n      <th>1970</th>\n      <td>False</td>\n      <td>16076</td>\n      <td>PRE</td>\n      <td>guava-19.0</td>\n      <td>com.google.common.math</td>\n      <td>DoubleMath</td>\n      <td>@param values values is not empty. not empty s...</td>\n      <td>/**\n   * Returns the &lt;a href=\"http://en.wikip...</td>\n      <td>public static double mean(int... values){\n    ...</td>\n      <td>/**\n * A class for arithmetic on doubles that ...</td>\n      <td>/*\n * Copyright (C) 2011 The Guava Authors\n *\n...</td>\n      <td>values</td>\n      <td>[MethodArgument]</td>\n      <td></td>\n      <td>InstanceOfOperator</td>\n      <td></td>\n    </tr>\n    <tr>\n      <th>1971</th>\n      <td>False</td>\n      <td>16076</td>\n      <td>PRE</td>\n      <td>guava-19.0</td>\n      <td>com.google.common.math</td>\n      <td>DoubleMath</td>\n      <td>@param values values is not empty. not empty s...</td>\n      <td>/**\n   * Returns the &lt;a href=\"http://en.wikip...</td>\n      <td>public static double mean(int... values){\n    ...</td>\n      <td>/**\n * A class for arithmetic on doubles that ...</td>\n      <td>/*\n * Copyright (C) 2011 The Guava Authors\n *\n...</td>\n      <td>values!=</td>\n      <td>[MethodArgument, IneqOperator]</td>\n      <td></td>\n      <td>MethodArgument</td>\n      <td></td>\n    </tr>\n  </tbody>\n</table>\n<p>15113 rows × 16 columns</p>\n</div>"
     },
     "execution_count": 36,
     "metadata": {},
     "output_type": "execute_result"
    }
   ],
   "source": [
    "df_filtered.groupby('oracleId').head()"
   ],
   "metadata": {
    "collapsed": false,
    "ExecuteTime": {
     "end_time": "2023-07-12T17:11:08.440050Z",
     "start_time": "2023-07-12T17:11:08.391479Z"
    }
   }
  },
  {
   "cell_type": "code",
   "execution_count": 39,
   "outputs": [],
   "source": [
    "a = df_filtered.groupby('oracleId')"
   ],
   "metadata": {
    "collapsed": false,
    "ExecuteTime": {
     "end_time": "2023-07-12T17:12:07.074726Z",
     "start_time": "2023-07-12T17:12:07.062936Z"
    }
   }
  },
  {
   "cell_type": "code",
   "execution_count": 38,
   "outputs": [
    {
     "data": {
      "text/plain": "    label  oracleId   oracleType               projectName  \\\n51  False       802  EXCEPT_POST       commons-math3-3.6.1   \n51  False       687  EXCEPT_POST       commons-math3-3.6.1   \n51  False     21531  EXCEPT_POST  commons-collections4-4.1   \n51   True       303  EXCEPT_POST       commons-math3-3.6.1   \n51  False     21608  EXCEPT_POST  commons-collections4-4.1   \n51   True     14729  EXCEPT_POST           plume-lib-1.1.0   \n51  False       201  EXCEPT_POST       commons-math3-3.6.1   \n51  False       593  NORMAL_POST       commons-math3-3.6.1   \n51  False         0  EXCEPT_POST       commons-math3-3.6.1   \n51  False     21579          PRE  commons-collections4-4.1   \n51   True       602          PRE       commons-math3-3.6.1   \n51  False     15771  EXCEPT_POST                guava-19.0   \n51  False     22130          PRE  commons-collections4-4.1   \n51  False     21414          PRE  commons-collections4-4.1   \n51  False     16078  EXCEPT_POST                guava-19.0   \n51   True     15965  NORMAL_POST                guava-19.0   \n51  False     15860  EXCEPT_POST                guava-19.0   \n51   True      1001  EXCEPT_POST       commons-math3-3.6.1   \n51   True       903          PRE       commons-math3-3.6.1   \n51   True     21831          PRE  commons-collections4-4.1   \n51   True     22229          PRE  commons-collections4-4.1   \n51  False     22322          PRE  commons-collections4-4.1   \n51   True     21329          PRE  commons-collections4-4.1   \n51   True       284  NORMAL_POST       commons-math3-3.6.1   \n51  False     21907  EXCEPT_POST  commons-collections4-4.1   \n51   True     14707  NORMAL_POST           plume-lib-1.1.0   \n51   True       984  EXCEPT_POST       commons-math3-3.6.1   \n51  False       402  EXCEPT_POST       commons-math3-3.6.1   \n51  False     22431  EXCEPT_POST  commons-collections4-4.1   \n51   True     18355  EXCEPT_POST        jgrapht-core-0.9.2   \n51  False     21130          PRE  commons-collections4-4.1   \n51  False       502  EXCEPT_POST       commons-math3-3.6.1   \n51  False     16180  EXCEPT_POST                guava-19.0   \n51  False       277  NORMAL_POST       commons-math3-3.6.1   \n51  False      1102  EXCEPT_POST       commons-math3-3.6.1   \n51  False        98  EXCEPT_POST       commons-math3-3.6.1   \n51   True       862  EXCEPT_POST       commons-math3-3.6.1   \n51  False     15878  EXCEPT_POST                guava-19.0   \n51   True     16128  NORMAL_POST                guava-19.0   \n51  False     22216  NORMAL_POST  commons-collections4-4.1   \n51   True       701  EXCEPT_POST       commons-math3-3.6.1   \n51  False     14686          PRE           plume-lib-1.1.0   \n51  False     22244  EXCEPT_POST  commons-collections4-4.1   \n51  False     21730          PRE  commons-collections4-4.1   \n51  False     15978  EXCEPT_POST                guava-19.0   \n\n                                          packageName  \\\n51                    org.apache.commons.math3.linear   \n51                  org.apache.commons.math3.genetics   \n51                    org.apache.commons.collections4   \n51                  org.apache.commons.math3.geometry   \n51                    org.apache.commons.collections4   \n51                                              plume   \n51                    org.apache.commons.math3.linear   \n51            org.apache.commons.math3.stat.inference   \n51  org.apache.commons.math3.geometry.euclidean.th...   \n51                    org.apache.commons.collections4   \n51                   org.apache.commons.math3.complex   \n51                               com.google.common.io   \n51                org.apache.commons.collections4.map   \n51                    org.apache.commons.collections4   \n51                          com.google.common.collect   \n51                          com.google.common.collect   \n51                             com.google.common.base   \n51            org.apache.commons.math3.stat.inference   \n51     org.apache.commons.math3.geometry.partitioning   \n51           org.apache.commons.collections4.functors   \n51                    org.apache.commons.collections4   \n51                    org.apache.commons.collections4   \n51                    org.apache.commons.collections4   \n51                      org.apache.commons.math3.util   \n51                    org.apache.commons.collections4   \n51                                              plume   \n51            org.apache.commons.math3.stat.inference   \n51                      org.apache.commons.math3.util   \n51                org.apache.commons.collections4.map   \n51                                    org.jgrapht.alg   \n51           org.apache.commons.collections4.functors   \n51              org.apache.commons.math3.distribution   \n51                             com.google.common.base   \n51                      org.apache.commons.math3.util   \n51              org.apache.commons.math3.optimization   \n51                       org.apache.commons.math3.ode   \n51                    org.apache.commons.math3.linear   \n51                          com.google.common.collect   \n51                             com.google.common.base   \n51                    org.apache.commons.collections4   \n51                    org.apache.commons.math3.linear   \n51                                              plume   \n51                    org.apache.commons.collections4   \n51          org.apache.commons.collections4.iterators   \n51                          com.google.common.collect   \n\n                                className  \\\n51                            MatrixUtils   \n51                         CycleCrossover   \n51                           SetValuedMap   \n51                                 Vector   \n51                          IteratorUtils   \n51                          WeakHasherMap   \n51                 TriDiagonalTransformer   \n51                  KolmogorovSmirnovTest   \n51                                SubLine   \n51                          IteratorUtils   \n51                                Complex   \n51                                  Files   \n51       AbstractInputCheckedMapDecorator   \n51                          IterableUtils   \n51                              Multimaps   \n51                                   Maps   \n51                          Preconditions   \n51                                  TTest   \n51                                BSPTree   \n51                      SwitchTransformer   \n51                        CollectionUtils   \n51                          MultiSetUtils   \n51                         PredicateUtils   \n51                               FastMath   \n51                               MapUtils   \n51                                MathMDE   \n51                                  TTest   \n51                        ArithmeticUtils   \n51                   AbstractReferenceMap   \n51                         KShortestPaths   \n51                   PredicateTransformer   \n51                    PoissonDistribution   \n51                                 Verify   \n51                               FastMath   \n51  BaseMultivariateSimpleBoundsOptimizer   \n51                AbstractParameterizable   \n51                            FieldMatrix   \n51                                   Sets   \n51                                Strings   \n51                        CollectionUtils   \n51                     AbstractRealMatrix   \n51                              ArraysMDE   \n51                        CollectionUtils   \n51                          IteratorChain   \n51                 ConcurrentHashMultiset   \n\n                                           javadocTag  \\\n51  @throws org.apache.commons.math3.exception.NoD...   \n51  @throws org.apache.commons.math3.exception.Mat...   \n51  @throws java.lang.NullPointerException the key...   \n51  @throws org.apache.commons.math3.exception.Mat...   \n51  @throws java.lang.NullPointerException any ite...   \n51  @throws java.lang.IllegalArgumentException the...   \n51  @throws org.apache.commons.math3.linear.NonSqu...   \n51                                    \\(P(D_n < d)\\).   \n51  @throws org.apache.commons.math3.exception.Mat...   \n51  @param iterators the iterators to use. iterato...   \n51           @param y Second value (. y is not null).   \n51  @throws java.io.FileNotFoundException the file...   \n51   @param map the map to decorate. map is not null.   \n51        @param a the first iterable. a is not null.   \n51  @throws java.lang.IllegalArgumentException map...   \n51                              true if c contains o.   \n51  @throws java.lang.IndexOutOfBoundsException in...   \n51  @throws org.apache.commons.math3.exception.Num...   \n51  @param isPlusChild if true and if parentTree i...   \n51  @param defaultTransformer the transformer to u...   \n51  @param outputCollection the collection to outp...   \n51  @param multiset the multiset to synchronize. m...   \n51  @param predicates an array of predicates to ch...   \n51                       b if a is <= b, a otherwise.   \n51  @throws java.lang.NullPointerException map is ...   \n51                                            x << y.   \n51  @throws org.apache.commons.math3.exception.Num...   \n51  @throws org.apache.commons.math3.exception.Not...   \n51  @throws java.lang.NullPointerException either ...   \n51  @throws java.lang.IllegalArgumentException nPa...   \n51  @param predicate the predicate to call. predic...   \n51  @throws org.apache.commons.math3.exception.Not...   \n51  @throws com.google.common.base.VerifyException...   \n51                       a if a is <= b, b otherwise.   \n51  @throws org.apache.commons.math3.exception.Nul...   \n51  @throws org.apache.commons.math3.ode.UnknownPa...   \n51  @throws org.apache.commons.math3.exception.Num...   \n51  @throws java.lang.NullPointerException set is ...   \n51  a string containing string repeated count time...   \n51  true if a is a proper sub-collection of b, fal...   \n51  @throws org.apache.commons.math3.exception.Not...   \n51  @param a an array representing a function from...   \n51  @throws java.lang.NullPointerException the col...   \n51  @param iteratorChain the array of iterators. i...   \n51  @throws java.lang.IllegalArgumentException cou...   \n\n                                        methodJavadoc  \\\n51  \t/**\n     * Creates a {@link FieldVector} usin...   \n51  \t/**\n     * {@inheritDoc}\n     *\n     * @throw...   \n51  \t/**\n     * Removes all values associated with...   \n51  \t/** Get a normalized vector aligned with the ...   \n51  \t/**\n     * Returns an iterator that interleav...   \n51  \t/**\n     * Constructs a new, empty <code>Weak...   \n51  \t/**\n     * Build the transformation to tridia...   \n51  \t/**\n     * Computes the Pelz-Good approximati...   \n51  \t/** Create a sub-line from two endpoints.\n   ...   \n51  \t/**\n     * Gets an iterator that provides an ...   \n51  \t/**\n     * Test for the floating-point equali...   \n51  \t/**\n   * Fully maps a file read-only in to me...   \n51  \t/**\n     * Constructor that wraps (not copies...   \n51  \t/**\n     * Combines the two provided iterable...   \n51  \t/**\n   * Creates a new {@code Multimap} backe...   \n51  \t/**\n   * Implements {@code Collection.contain...   \n51  \t/**\n   * Ensures that {@code index} specifies...   \n51  \t/**\n     * Returns the <i>observed significan...   \n51  \t/** Insert the instance into another tree.\n  ...   \n51  \t/**\n     * Factory method that performs valid...   \n51  \t/**\n     * Selects all elements from inputCol...   \n51  \t/**\n     * Returns a synchronized (thread-saf...   \n51  \t/**\n     * Create a new Predicate that return...   \n51  \t/** Compute the maximum of two values\n     * ...   \n51  \t/**\n     * Get the specified {@link Map} as a...   \n51  \t/** Returns x &lt;&lt; y, the left-shift oper...   \n51  \t/**\n     * Performs a paired t-test evaluatin...   \n51  \t/**\n     * Raise a BigInteger to a long power...   \n51  \t/**\n     * Puts a key-value mapping into this...   \n51  \t/**\n     * Creates an object to calculate ran...   \n51  \t/**\n     * Factory method that performs valid...   \n51  \t/**\n     * Creates a new Poisson distribution...   \n51  \t/**\n   * Ensures that {@code reference} is no...   \n51  \t/** Compute the minimum of two values\n     * ...   \n51  \t/**\n     * Optimize an objective function.\n  ...   \n51  \t/** Check if a parameter is supported and thr...   \n51  \t/**\n     * Visit (and possibly change) some m...   \n51  \t/**\n   * Returns the set of all possible subs...   \n51  \t/**\n   * Returns a string consisting of a spe...   \n51  \t/**\n     * Returns {@code true} iff <i>a</i> ...   \n51  \t/**\n     * Create a new RealMatrix with the s...   \n51  \t/**\n   * Return the inverse of the given func...   \n51  \t/**\n     * Adds all elements in the {@link It...   \n51  \t/**\n     * Constructs a new <code>IteratorCha...   \n51  \t/**\n   * Creates an instance using {@code cou...   \n\n                                     methodSourceCode  \\\n51  public static <T extends FieldElement<T>> Fiel...   \n51  public ChromosomePair crossover(final Chromoso...   \n51                         Set<V> remove(Object key);   \n51  Vector<S> normalize() throws MathArithmeticExc...   \n51  public static <E> ZippingIterator<E> zippingIt...   \n51  public WeakHasherMap(int initialCapacity){\n   ...   \n51  TriDiagonalTransformer(RealMatrix matrix){\n   ...   \n51  public double pelzGood(double d, int n){\n    /...   \n51  public SubLine(final Vector3D start, final Vec...   \n51  public static <E> Iterator<E> collatedIterator...   \n51  public static boolean equals(Complex x, Comple...   \n51  public static MappedByteBuffer map(File file) ...   \n51  protected AbstractInputCheckedMapDecorator(fin...   \n51  public static <E> Iterable<E> collatedIterable...   \n51  public static <K, V> Multimap<K, V> newMultima...   \n51  static <K, V> boolean containsEntryImpl(Collec...   \n51  public static int checkPositionIndex(int index...   \n51  public double tTest(final double[] sample1, fi...   \n51  public void insertInTree(final BSPTree<S> pare...   \n51  public static <I, O> Transformer<I, O> switchT...   \n51  public static <O, R extends Collection<? super...   \n51  public static <E> MultiSet<E> synchronizedMult...   \n51  public static <T> Predicate<T> anyPredicate(fi...   \n51  public static double max(final double a, final...   \n51  public static <K, V> IterableMap<K, V> iterabl...   \n51  public static long lshift(long x, long y){\n   ...   \n51  public boolean pairedTTest(final double[] samp...   \n51  public static BigInteger pow(final BigInteger ...   \n51  public V put(final K key, final V value){\n    ...   \n51  public KShortestPaths(Graph<V, E> graph, V sta...   \n51  public static <T> Transformer<T, Boolean> pred...   \n51  public PoissonDistribution(double p, double ep...   \n51  public static <T> T verifyNotNull(@Nullable T ...   \n51  public static int min(final int a, final int b...   \n51  PointValuePair optimize(int maxEval, FUNC f, G...   \n51  public void complainIfNotSupported(final Strin...   \n51  T walkInRowOrder(FieldMatrixChangingVisitor<T>...   \n51  public static <E> Set<Set<E>> powerSet(Set<E> ...   \n51  public static String repeat(String string, int...   \n51  public static boolean isProperSubCollection(fi...   \n51  protected AbstractRealMatrix(final int rowDime...   \n51  public static int[] fn_inverse(int[] a, int ar...   \n51  public static <C> boolean addAll(final Collect...   \n51  public IteratorChain(final Iterator<? extends ...   \n51  ConcurrentHashMultiset(ConcurrentMap<E, Atomic...   \n\n                                         classJavadoc  \\\n51  /**\n * A collection of static methods that ope...   \n51  /**\n * Cycle Crossover [CX] builds offspring f...   \n51  /**\n * Defines a map that holds a set of value...   \n51  /** This interface represents a generic vector...   \n51  /**\n * Provides static utility methods and dec...   \n51  \t/**\n * This is a modified version of {@link j...   \n51  /**\n * Class transforming a symmetrical matrix...   \n51  /**\n * Implementation of the <a href=\"http://e...   \n51  /** This class represents a subset of a {@link...   \n51  /**\n * Provides static utility methods and dec...   \n51  /**\n * Representation of a Complex number, i.e...   \n51  /**\n * Provides utility methods for working wi...   \n51  /**\n * An abstract base class that simplifies ...   \n51  /**\n * Provides utility methods and decorators...   \n51  /**\n * Provides static methods acting on or ge...   \n51  /**\n * Static utility methods pertaining to {@...   \n51  /**\n * Static convenience methods that help a ...   \n51  /**\n * An implementation for Student's t-tests...   \n51  /** This class represent a Binary Space Partit...   \n51  /**\n * Transformer implementation calls the tr...   \n51  /**\n * Provides utility methods and decorators...   \n51  /**\n * Provides utility methods and decorators...   \n51  /**\n * <code>PredicateUtils</code> provides re...   \n51  /**\n * Faster, more accurate, portable alterna...   \n51  /**\n * Provides utility methods and decorators...   \n51                     /** Mathematical utilities. */   \n51  /**\n * An implementation for Student's t-tests...   \n51  /**\n * Some useful, arithmetics related, addit...   \n51  /**\n * An abstract implementation of a hash-ba...   \n51  /**\n * The algorithm determines the k shortest...   \n51  /**\n * Transformer implementation that calls a...   \n51  /**\n * Implementation of the Poisson distribut...   \n51  /**\n * Static convenience methods that serve t...   \n51  /**\n * Faster, more accurate, portable alterna...   \n51  /**\n * This interface is mainly intended to en...   \n51  \t/**\n * This abstract class provides boilerpla...   \n51  /**\n * Interface defining field-valued matrix ...   \n51  /**\n * Static utility methods pertaining to {@...   \n51  /**\n * Static utility methods pertaining to {@...   \n51  /**\n * Provides utility methods and decorators...   \n51  /**\n * Basic implementation of RealMatrix meth...   \n51  /**\n * Utilities for manipulating arrays and c...   \n51  /**\n * Provides utility methods and decorators...   \n51  /**\n * An IteratorChain is an Iterator that wr...   \n51  /**\n * A multiset that supports concurrent mod...   \n\n                                      classSourceCode  \\\n51  /*\n * Licensed to the Apache Software Foundati...   \n51  /*\n * Licensed to the Apache Software Foundati...   \n51  /*\n * Licensed to the Apache Software Foundati...   \n51  /*\n * Licensed to the Apache Software Foundati...   \n51  /*\n * Licensed to the Apache Software Foundati...   \n51  /*\n * @(#)WeakHashMap.java\t1.5 98/09/30\n *\n * ...   \n51  /*\n * Licensed to the Apache Software Foundati...   \n51  /*\n * Licensed to the Apache Software Foundati...   \n51  /*\n * Licensed to the Apache Software Foundati...   \n51  /*\n * Licensed to the Apache Software Foundati...   \n51  /*\n * Licensed to the Apache Software Foundati...   \n51  /*\n * Copyright (C) 2007 The Guava Authors\n *\n...   \n51  /*\n * Licensed to the Apache Software Foundati...   \n51  /*\n * Licensed to the Apache Software Foundati...   \n51  /*\n * Copyright (C) 2007 The Guava Authors\n *\n...   \n51  /*\n * Copyright (C) 2007 The Guava Authors\n *\n...   \n51  /*\n * Copyright (C) 2007 The Guava Authors\n *\n...   \n51  /*\n * Licensed to the Apache Software Foundati...   \n51  /*\n * Licensed to the Apache Software Foundati...   \n51  /*\n * Licensed to the Apache Software Foundati...   \n51  /*\n * Licensed to the Apache Software Foundati...   \n51  /*\n * Licensed to the Apache Software Foundati...   \n51  /*\n * Licensed to the Apache Software Foundati...   \n51  /*\n * Licensed to the Apache Software Foundati...   \n51  /*\n * Licensed to the Apache Software Foundati...   \n51  // ***** This file is automatically generated ...   \n51  /*\n * Licensed to the Apache Software Foundati...   \n51  /*\n * Licensed to the Apache Software Foundati...   \n51  /*\n * Licensed to the Apache Software Foundati...   \n51  /* ==========================================\n...   \n51  /*\n * Licensed to the Apache Software Foundati...   \n51  /*\n * Licensed to the Apache Software Foundati...   \n51  /*\n * Copyright (C) 2013 The Guava Authors\n *\n...   \n51  /*\n * Licensed to the Apache Software Foundati...   \n51  /*\n * Licensed to the Apache Software Foundati...   \n51  /*\n * Licensed to the Apache Software Foundati...   \n51  /*\n * Licensed to the Apache Software Foundati...   \n51  /*\n * Copyright (C) 2007 The Guava Authors\n *\n...   \n51  /*\n * Copyright (C) 2010 The Guava Authors\n *\n...   \n51  /*\n * Licensed to the Apache Software Foundati...   \n51  /*\n * Licensed to the Apache Software Foundati...   \n51  // If you edit this file, you must also edit i...   \n51  /*\n * Licensed to the Apache Software Foundati...   \n51  /*\n * Licensed to the Apache Software Foundati...   \n51  /*\n * Copyright (C) 2007 The Guava Authors\n *\n...   \n\n                                          oracleSoFar  \\\n51                                        data.length   \n51   (first instanceof AbstractListChromosome)==false   \n51                                                key   \n51                                               this   \n51                                          a==null||   \n51                                  initialCapacity<0   \n51                                        (((matrix==   \n51                             true?methodResultID<d:   \n51        ((start==null)==false)&&(start.equals(end))   \n51        (iterators==null)==false&&iterators.length>   \n51                                               (y==   \n51            (((file==null)==false)&&(file.exists())   \n51                                         (map==null   \n51                                   (a==null)==false   \n51             (((map==null)==false)&&(map.isEmpty())   \n51                                              ((c==   \n51                                index<0||index>size   \n51                                    sample1.length<   \n51                                                  (   \n51                                 defaultTransformer   \n51                          (inputCollection==null)==   \n51                                                  (   \n51                                 (predicates==null)   \n51                              a<=b?methodResultID==   \n51                                          map==null   \n51                           true?methodResultID==x<<   \n51                                    sample1.length<   \n51                                                  e   \n51                                                key   \n51                                 nPaths<0||nPaths==   \n51                                   (predicate==null   \n51                                               p<=0   \n51                                        reference==   \n51                             a<=b?methodResultID==a   \n51                                          f==null||   \n51                                              (this   \n51                                  endRow<startRow||   \n51             set==null||((set==null)==false)&&(set.   \n51              count==0?methodResultID.equals(string   \n51  CollectionUtils.isSubCollection(a,b)?methodRes...   \n51                                                  (   \n51                                          arange==0   \n51                       collection==null||iterable==   \n51                                   (iteratorChain==   \n51   (((countMap==null)==false)&&(countMap.isEmpty())   \n\n                                    tokenClassesSoFar token  \\\n51               [MethodArgument, Period, ClassField]         \n51  [OpeningParenthesis, MethodArgument, InstanceO...         \n51                                   [MethodArgument]         \n51                                             [This]         \n51  [MethodArgument, EqOperator, NULL, LogicalOper...         \n51         [MethodArgument, NonEqIneqOperator, S_INT]         \n51  [OpeningParenthesis, OpeningParenthesis, Openi...         \n51  [TRUE, QuestionMark, MethodResultID, NonEqIneq...         \n51  [OpeningParenthesis, OpeningParenthesis, Metho...         \n51  [OpeningParenthesis, MethodArgument, EqOperato...         \n51   [OpeningParenthesis, MethodArgument, EqOperator]         \n51  [OpeningParenthesis, OpeningParenthesis, Openi...         \n51  [OpeningParenthesis, MethodArgument, EqOperato...         \n51  [OpeningParenthesis, MethodArgument, EqOperato...         \n51  [OpeningParenthesis, OpeningParenthesis, Openi...         \n51  [OpeningParenthesis, OpeningParenthesis, Metho...         \n51  [MethodArgument, NonEqIneqOperator, S_INT, Log...         \n51  [MethodArgument, Period, ClassField, NonEqIneq...         \n51                               [OpeningParenthesis]         \n51                                   [MethodArgument]         \n51  [OpeningParenthesis, MethodArgument, EqOperato...         \n51                               [OpeningParenthesis]         \n51  [OpeningParenthesis, MethodArgument, EqOperato...         \n51  [MethodArgument, NonEqIneqOperator, MethodArgu...         \n51                 [MethodArgument, EqOperator, NULL]         \n51  [TRUE, QuestionMark, MethodResultID, EqOperato...         \n51  [MethodArgument, Period, ClassField, NonEqIneq...         \n51                                   [MethodArgument]         \n51                                   [MethodArgument]         \n51  [MethodArgument, NonEqIneqOperator, S_INT, Log...         \n51  [OpeningParenthesis, MethodArgument, EqOperato...         \n51         [MethodArgument, NonEqIneqOperator, S_INT]         \n51                       [MethodArgument, EqOperator]         \n51  [MethodArgument, NonEqIneqOperator, MethodArgu...         \n51  [MethodArgument, EqOperator, NULL, LogicalOper...         \n51                         [OpeningParenthesis, This]         \n51  [MethodArgument, NonEqIneqOperator, MethodArgu...         \n51  [MethodArgument, EqOperator, NULL, LogicalOper...         \n51  [MethodArgument, EqOperator, S_INT, QuestionMa...         \n51  [Class, Period, MethodName, OpeningParenthesis...         \n51                               [OpeningParenthesis]         \n51                [MethodArgument, EqOperator, S_INT]         \n51  [MethodArgument, EqOperator, NULL, LogicalOper...         \n51   [OpeningParenthesis, MethodArgument, EqOperator]         \n51  [OpeningParenthesis, OpeningParenthesis, Openi...         \n\n               tokenClass tokenInfo  \n51      NonEqIneqOperator            \n51              Semicolon            \n51     InstanceOfOperator            \n51                 Period            \n51                  Class            \n51              Semicolon            \n51                  Class            \n51                  Class            \n51             EqOperator            \n51  BitwiseNegateOperator            \n51                   NULL            \n51        LogicalOperator            \n51        LogicalOperator            \n51        LogicalOperator            \n51        LogicalOperator            \n51                   NULL            \n51   BitwiseShiftOperator            \n51                  S_INT            \n51         MethodArgument            \n51             EqOperator            \n51                  FALSE            \n51     OpeningParenthesis            \n51             EqOperator            \n51         MethodArgument            \n51        LogicalOperator            \n51         MethodArgument            \n51                  S_INT            \n51             EqOperator            \n51           IneqOperator            \n51                  S_INT            \n51        LogicalOperator            \n51        LogicalOperator            \n51                  Class            \n51   BitwiseShiftOperator            \n51                   This            \n51     InstanceOfOperator            \n51         MethodArgument            \n51           StreamMethod            \n51     ClosingParenthesis            \n51                  Class            \n51         MethodArgument            \n51        LogicalOperator            \n51         MethodArgument            \n51                  Class            \n51        LogicalOperator            ",
      "text/html": "<div>\n<style scoped>\n    .dataframe tbody tr th:only-of-type {\n        vertical-align: middle;\n    }\n\n    .dataframe tbody tr th {\n        vertical-align: top;\n    }\n\n    .dataframe thead th {\n        text-align: right;\n    }\n</style>\n<table border=\"1\" class=\"dataframe\">\n  <thead>\n    <tr style=\"text-align: right;\">\n      <th></th>\n      <th>label</th>\n      <th>oracleId</th>\n      <th>oracleType</th>\n      <th>projectName</th>\n      <th>packageName</th>\n      <th>className</th>\n      <th>javadocTag</th>\n      <th>methodJavadoc</th>\n      <th>methodSourceCode</th>\n      <th>classJavadoc</th>\n      <th>classSourceCode</th>\n      <th>oracleSoFar</th>\n      <th>tokenClassesSoFar</th>\n      <th>token</th>\n      <th>tokenClass</th>\n      <th>tokenInfo</th>\n    </tr>\n  </thead>\n  <tbody>\n    <tr>\n      <th>51</th>\n      <td>False</td>\n      <td>802</td>\n      <td>EXCEPT_POST</td>\n      <td>commons-math3-3.6.1</td>\n      <td>org.apache.commons.math3.linear</td>\n      <td>MatrixUtils</td>\n      <td>@throws org.apache.commons.math3.exception.NoD...</td>\n      <td>/**\n     * Creates a {@link FieldVector} usin...</td>\n      <td>public static &lt;T extends FieldElement&lt;T&gt;&gt; Fiel...</td>\n      <td>/**\n * A collection of static methods that ope...</td>\n      <td>/*\n * Licensed to the Apache Software Foundati...</td>\n      <td>data.length</td>\n      <td>[MethodArgument, Period, ClassField]</td>\n      <td></td>\n      <td>NonEqIneqOperator</td>\n      <td></td>\n    </tr>\n    <tr>\n      <th>51</th>\n      <td>False</td>\n      <td>687</td>\n      <td>EXCEPT_POST</td>\n      <td>commons-math3-3.6.1</td>\n      <td>org.apache.commons.math3.genetics</td>\n      <td>CycleCrossover</td>\n      <td>@throws org.apache.commons.math3.exception.Mat...</td>\n      <td>/**\n     * {@inheritDoc}\n     *\n     * @throw...</td>\n      <td>public ChromosomePair crossover(final Chromoso...</td>\n      <td>/**\n * Cycle Crossover [CX] builds offspring f...</td>\n      <td>/*\n * Licensed to the Apache Software Foundati...</td>\n      <td>(first instanceof AbstractListChromosome)==false</td>\n      <td>[OpeningParenthesis, MethodArgument, InstanceO...</td>\n      <td></td>\n      <td>Semicolon</td>\n      <td></td>\n    </tr>\n    <tr>\n      <th>51</th>\n      <td>False</td>\n      <td>21531</td>\n      <td>EXCEPT_POST</td>\n      <td>commons-collections4-4.1</td>\n      <td>org.apache.commons.collections4</td>\n      <td>SetValuedMap</td>\n      <td>@throws java.lang.NullPointerException the key...</td>\n      <td>/**\n     * Removes all values associated with...</td>\n      <td>Set&lt;V&gt; remove(Object key);</td>\n      <td>/**\n * Defines a map that holds a set of value...</td>\n      <td>/*\n * Licensed to the Apache Software Foundati...</td>\n      <td>key</td>\n      <td>[MethodArgument]</td>\n      <td></td>\n      <td>InstanceOfOperator</td>\n      <td></td>\n    </tr>\n    <tr>\n      <th>51</th>\n      <td>True</td>\n      <td>303</td>\n      <td>EXCEPT_POST</td>\n      <td>commons-math3-3.6.1</td>\n      <td>org.apache.commons.math3.geometry</td>\n      <td>Vector</td>\n      <td>@throws org.apache.commons.math3.exception.Mat...</td>\n      <td>/** Get a normalized vector aligned with the ...</td>\n      <td>Vector&lt;S&gt; normalize() throws MathArithmeticExc...</td>\n      <td>/** This interface represents a generic vector...</td>\n      <td>/*\n * Licensed to the Apache Software Foundati...</td>\n      <td>this</td>\n      <td>[This]</td>\n      <td></td>\n      <td>Period</td>\n      <td></td>\n    </tr>\n    <tr>\n      <th>51</th>\n      <td>False</td>\n      <td>21608</td>\n      <td>EXCEPT_POST</td>\n      <td>commons-collections4-4.1</td>\n      <td>org.apache.commons.collections4</td>\n      <td>IteratorUtils</td>\n      <td>@throws java.lang.NullPointerException any ite...</td>\n      <td>/**\n     * Returns an iterator that interleav...</td>\n      <td>public static &lt;E&gt; ZippingIterator&lt;E&gt; zippingIt...</td>\n      <td>/**\n * Provides static utility methods and dec...</td>\n      <td>/*\n * Licensed to the Apache Software Foundati...</td>\n      <td>a==null||</td>\n      <td>[MethodArgument, EqOperator, NULL, LogicalOper...</td>\n      <td></td>\n      <td>Class</td>\n      <td></td>\n    </tr>\n    <tr>\n      <th>51</th>\n      <td>True</td>\n      <td>14729</td>\n      <td>EXCEPT_POST</td>\n      <td>plume-lib-1.1.0</td>\n      <td>plume</td>\n      <td>WeakHasherMap</td>\n      <td>@throws java.lang.IllegalArgumentException the...</td>\n      <td>/**\n     * Constructs a new, empty &lt;code&gt;Weak...</td>\n      <td>public WeakHasherMap(int initialCapacity){\n   ...</td>\n      <td>/**\n * This is a modified version of {@link j...</td>\n      <td>/*\n * @(#)WeakHashMap.java\t1.5 98/09/30\n *\n * ...</td>\n      <td>initialCapacity&lt;0</td>\n      <td>[MethodArgument, NonEqIneqOperator, S_INT]</td>\n      <td></td>\n      <td>Semicolon</td>\n      <td></td>\n    </tr>\n    <tr>\n      <th>51</th>\n      <td>False</td>\n      <td>201</td>\n      <td>EXCEPT_POST</td>\n      <td>commons-math3-3.6.1</td>\n      <td>org.apache.commons.math3.linear</td>\n      <td>TriDiagonalTransformer</td>\n      <td>@throws org.apache.commons.math3.linear.NonSqu...</td>\n      <td>/**\n     * Build the transformation to tridia...</td>\n      <td>TriDiagonalTransformer(RealMatrix matrix){\n   ...</td>\n      <td>/**\n * Class transforming a symmetrical matrix...</td>\n      <td>/*\n * Licensed to the Apache Software Foundati...</td>\n      <td>(((matrix==</td>\n      <td>[OpeningParenthesis, OpeningParenthesis, Openi...</td>\n      <td></td>\n      <td>Class</td>\n      <td></td>\n    </tr>\n    <tr>\n      <th>51</th>\n      <td>False</td>\n      <td>593</td>\n      <td>NORMAL_POST</td>\n      <td>commons-math3-3.6.1</td>\n      <td>org.apache.commons.math3.stat.inference</td>\n      <td>KolmogorovSmirnovTest</td>\n      <td>\\(P(D_n &lt; d)\\).</td>\n      <td>/**\n     * Computes the Pelz-Good approximati...</td>\n      <td>public double pelzGood(double d, int n){\n    /...</td>\n      <td>/**\n * Implementation of the &lt;a href=\"http://e...</td>\n      <td>/*\n * Licensed to the Apache Software Foundati...</td>\n      <td>true?methodResultID&lt;d:</td>\n      <td>[TRUE, QuestionMark, MethodResultID, NonEqIneq...</td>\n      <td></td>\n      <td>Class</td>\n      <td></td>\n    </tr>\n    <tr>\n      <th>51</th>\n      <td>False</td>\n      <td>0</td>\n      <td>EXCEPT_POST</td>\n      <td>commons-math3-3.6.1</td>\n      <td>org.apache.commons.math3.geometry.euclidean.th...</td>\n      <td>SubLine</td>\n      <td>@throws org.apache.commons.math3.exception.Mat...</td>\n      <td>/** Create a sub-line from two endpoints.\n   ...</td>\n      <td>public SubLine(final Vector3D start, final Vec...</td>\n      <td>/** This class represents a subset of a {@link...</td>\n      <td>/*\n * Licensed to the Apache Software Foundati...</td>\n      <td>((start==null)==false)&amp;&amp;(start.equals(end))</td>\n      <td>[OpeningParenthesis, OpeningParenthesis, Metho...</td>\n      <td></td>\n      <td>EqOperator</td>\n      <td></td>\n    </tr>\n    <tr>\n      <th>51</th>\n      <td>False</td>\n      <td>21579</td>\n      <td>PRE</td>\n      <td>commons-collections4-4.1</td>\n      <td>org.apache.commons.collections4</td>\n      <td>IteratorUtils</td>\n      <td>@param iterators the iterators to use. iterato...</td>\n      <td>/**\n     * Gets an iterator that provides an ...</td>\n      <td>public static &lt;E&gt; Iterator&lt;E&gt; collatedIterator...</td>\n      <td>/**\n * Provides static utility methods and dec...</td>\n      <td>/*\n * Licensed to the Apache Software Foundati...</td>\n      <td>(iterators==null)==false&amp;&amp;iterators.length&gt;</td>\n      <td>[OpeningParenthesis, MethodArgument, EqOperato...</td>\n      <td></td>\n      <td>BitwiseNegateOperator</td>\n      <td></td>\n    </tr>\n    <tr>\n      <th>51</th>\n      <td>True</td>\n      <td>602</td>\n      <td>PRE</td>\n      <td>commons-math3-3.6.1</td>\n      <td>org.apache.commons.math3.complex</td>\n      <td>Complex</td>\n      <td>@param y Second value (. y is not null).</td>\n      <td>/**\n     * Test for the floating-point equali...</td>\n      <td>public static boolean equals(Complex x, Comple...</td>\n      <td>/**\n * Representation of a Complex number, i.e...</td>\n      <td>/*\n * Licensed to the Apache Software Foundati...</td>\n      <td>(y==</td>\n      <td>[OpeningParenthesis, MethodArgument, EqOperator]</td>\n      <td></td>\n      <td>NULL</td>\n      <td></td>\n    </tr>\n    <tr>\n      <th>51</th>\n      <td>False</td>\n      <td>15771</td>\n      <td>EXCEPT_POST</td>\n      <td>guava-19.0</td>\n      <td>com.google.common.io</td>\n      <td>Files</td>\n      <td>@throws java.io.FileNotFoundException the file...</td>\n      <td>/**\n   * Fully maps a file read-only in to me...</td>\n      <td>public static MappedByteBuffer map(File file) ...</td>\n      <td>/**\n * Provides utility methods for working wi...</td>\n      <td>/*\n * Copyright (C) 2007 The Guava Authors\n *\n...</td>\n      <td>(((file==null)==false)&amp;&amp;(file.exists())</td>\n      <td>[OpeningParenthesis, OpeningParenthesis, Openi...</td>\n      <td></td>\n      <td>LogicalOperator</td>\n      <td></td>\n    </tr>\n    <tr>\n      <th>51</th>\n      <td>False</td>\n      <td>22130</td>\n      <td>PRE</td>\n      <td>commons-collections4-4.1</td>\n      <td>org.apache.commons.collections4.map</td>\n      <td>AbstractInputCheckedMapDecorator</td>\n      <td>@param map the map to decorate. map is not null.</td>\n      <td>/**\n     * Constructor that wraps (not copies...</td>\n      <td>protected AbstractInputCheckedMapDecorator(fin...</td>\n      <td>/**\n * An abstract base class that simplifies ...</td>\n      <td>/*\n * Licensed to the Apache Software Foundati...</td>\n      <td>(map==null</td>\n      <td>[OpeningParenthesis, MethodArgument, EqOperato...</td>\n      <td></td>\n      <td>LogicalOperator</td>\n      <td></td>\n    </tr>\n    <tr>\n      <th>51</th>\n      <td>False</td>\n      <td>21414</td>\n      <td>PRE</td>\n      <td>commons-collections4-4.1</td>\n      <td>org.apache.commons.collections4</td>\n      <td>IterableUtils</td>\n      <td>@param a the first iterable. a is not null.</td>\n      <td>/**\n     * Combines the two provided iterable...</td>\n      <td>public static &lt;E&gt; Iterable&lt;E&gt; collatedIterable...</td>\n      <td>/**\n * Provides utility methods and decorators...</td>\n      <td>/*\n * Licensed to the Apache Software Foundati...</td>\n      <td>(a==null)==false</td>\n      <td>[OpeningParenthesis, MethodArgument, EqOperato...</td>\n      <td></td>\n      <td>LogicalOperator</td>\n      <td></td>\n    </tr>\n    <tr>\n      <th>51</th>\n      <td>False</td>\n      <td>16078</td>\n      <td>EXCEPT_POST</td>\n      <td>guava-19.0</td>\n      <td>com.google.common.collect</td>\n      <td>Multimaps</td>\n      <td>@throws java.lang.IllegalArgumentException map...</td>\n      <td>/**\n   * Creates a new {@code Multimap} backe...</td>\n      <td>public static &lt;K, V&gt; Multimap&lt;K, V&gt; newMultima...</td>\n      <td>/**\n * Provides static methods acting on or ge...</td>\n      <td>/*\n * Copyright (C) 2007 The Guava Authors\n *\n...</td>\n      <td>(((map==null)==false)&amp;&amp;(map.isEmpty())</td>\n      <td>[OpeningParenthesis, OpeningParenthesis, Openi...</td>\n      <td></td>\n      <td>LogicalOperator</td>\n      <td></td>\n    </tr>\n    <tr>\n      <th>51</th>\n      <td>True</td>\n      <td>15965</td>\n      <td>NORMAL_POST</td>\n      <td>guava-19.0</td>\n      <td>com.google.common.collect</td>\n      <td>Maps</td>\n      <td>true if c contains o.</td>\n      <td>/**\n   * Implements {@code Collection.contain...</td>\n      <td>static &lt;K, V&gt; boolean containsEntryImpl(Collec...</td>\n      <td>/**\n * Static utility methods pertaining to {@...</td>\n      <td>/*\n * Copyright (C) 2007 The Guava Authors\n *\n...</td>\n      <td>((c==</td>\n      <td>[OpeningParenthesis, OpeningParenthesis, Metho...</td>\n      <td></td>\n      <td>NULL</td>\n      <td></td>\n    </tr>\n    <tr>\n      <th>51</th>\n      <td>False</td>\n      <td>15860</td>\n      <td>EXCEPT_POST</td>\n      <td>guava-19.0</td>\n      <td>com.google.common.base</td>\n      <td>Preconditions</td>\n      <td>@throws java.lang.IndexOutOfBoundsException in...</td>\n      <td>/**\n   * Ensures that {@code index} specifies...</td>\n      <td>public static int checkPositionIndex(int index...</td>\n      <td>/**\n * Static convenience methods that help a ...</td>\n      <td>/*\n * Copyright (C) 2007 The Guava Authors\n *\n...</td>\n      <td>index&lt;0||index&gt;size</td>\n      <td>[MethodArgument, NonEqIneqOperator, S_INT, Log...</td>\n      <td></td>\n      <td>BitwiseShiftOperator</td>\n      <td></td>\n    </tr>\n    <tr>\n      <th>51</th>\n      <td>True</td>\n      <td>1001</td>\n      <td>EXCEPT_POST</td>\n      <td>commons-math3-3.6.1</td>\n      <td>org.apache.commons.math3.stat.inference</td>\n      <td>TTest</td>\n      <td>@throws org.apache.commons.math3.exception.Num...</td>\n      <td>/**\n     * Returns the &lt;i&gt;observed significan...</td>\n      <td>public double tTest(final double[] sample1, fi...</td>\n      <td>/**\n * An implementation for Student's t-tests...</td>\n      <td>/*\n * Licensed to the Apache Software Foundati...</td>\n      <td>sample1.length&lt;</td>\n      <td>[MethodArgument, Period, ClassField, NonEqIneq...</td>\n      <td></td>\n      <td>S_INT</td>\n      <td></td>\n    </tr>\n    <tr>\n      <th>51</th>\n      <td>True</td>\n      <td>903</td>\n      <td>PRE</td>\n      <td>commons-math3-3.6.1</td>\n      <td>org.apache.commons.math3.geometry.partitioning</td>\n      <td>BSPTree</td>\n      <td>@param isPlusChild if true and if parentTree i...</td>\n      <td>/** Insert the instance into another tree.\n  ...</td>\n      <td>public void insertInTree(final BSPTree&lt;S&gt; pare...</td>\n      <td>/** This class represent a Binary Space Partit...</td>\n      <td>/*\n * Licensed to the Apache Software Foundati...</td>\n      <td>(</td>\n      <td>[OpeningParenthesis]</td>\n      <td></td>\n      <td>MethodArgument</td>\n      <td></td>\n    </tr>\n    <tr>\n      <th>51</th>\n      <td>True</td>\n      <td>21831</td>\n      <td>PRE</td>\n      <td>commons-collections4-4.1</td>\n      <td>org.apache.commons.collections4.functors</td>\n      <td>SwitchTransformer</td>\n      <td>@param defaultTransformer the transformer to u...</td>\n      <td>/**\n     * Factory method that performs valid...</td>\n      <td>public static &lt;I, O&gt; Transformer&lt;I, O&gt; switchT...</td>\n      <td>/**\n * Transformer implementation calls the tr...</td>\n      <td>/*\n * Licensed to the Apache Software Foundati...</td>\n      <td>defaultTransformer</td>\n      <td>[MethodArgument]</td>\n      <td></td>\n      <td>EqOperator</td>\n      <td></td>\n    </tr>\n    <tr>\n      <th>51</th>\n      <td>True</td>\n      <td>22229</td>\n      <td>PRE</td>\n      <td>commons-collections4-4.1</td>\n      <td>org.apache.commons.collections4</td>\n      <td>CollectionUtils</td>\n      <td>@param outputCollection the collection to outp...</td>\n      <td>/**\n     * Selects all elements from inputCol...</td>\n      <td>public static &lt;O, R extends Collection&lt;? super...</td>\n      <td>/**\n * Provides utility methods and decorators...</td>\n      <td>/*\n * Licensed to the Apache Software Foundati...</td>\n      <td>(inputCollection==null)==</td>\n      <td>[OpeningParenthesis, MethodArgument, EqOperato...</td>\n      <td></td>\n      <td>FALSE</td>\n      <td></td>\n    </tr>\n    <tr>\n      <th>51</th>\n      <td>False</td>\n      <td>22322</td>\n      <td>PRE</td>\n      <td>commons-collections4-4.1</td>\n      <td>org.apache.commons.collections4</td>\n      <td>MultiSetUtils</td>\n      <td>@param multiset the multiset to synchronize. m...</td>\n      <td>/**\n     * Returns a synchronized (thread-saf...</td>\n      <td>public static &lt;E&gt; MultiSet&lt;E&gt; synchronizedMult...</td>\n      <td>/**\n * Provides utility methods and decorators...</td>\n      <td>/*\n * Licensed to the Apache Software Foundati...</td>\n      <td>(</td>\n      <td>[OpeningParenthesis]</td>\n      <td></td>\n      <td>OpeningParenthesis</td>\n      <td></td>\n    </tr>\n    <tr>\n      <th>51</th>\n      <td>True</td>\n      <td>21329</td>\n      <td>PRE</td>\n      <td>commons-collections4-4.1</td>\n      <td>org.apache.commons.collections4</td>\n      <td>PredicateUtils</td>\n      <td>@param predicates an array of predicates to ch...</td>\n      <td>/**\n     * Create a new Predicate that return...</td>\n      <td>public static &lt;T&gt; Predicate&lt;T&gt; anyPredicate(fi...</td>\n      <td>/**\n * &lt;code&gt;PredicateUtils&lt;/code&gt; provides re...</td>\n      <td>/*\n * Licensed to the Apache Software Foundati...</td>\n      <td>(predicates==null)</td>\n      <td>[OpeningParenthesis, MethodArgument, EqOperato...</td>\n      <td></td>\n      <td>EqOperator</td>\n      <td></td>\n    </tr>\n    <tr>\n      <th>51</th>\n      <td>True</td>\n      <td>284</td>\n      <td>NORMAL_POST</td>\n      <td>commons-math3-3.6.1</td>\n      <td>org.apache.commons.math3.util</td>\n      <td>FastMath</td>\n      <td>b if a is &lt;= b, a otherwise.</td>\n      <td>/** Compute the maximum of two values\n     * ...</td>\n      <td>public static double max(final double a, final...</td>\n      <td>/**\n * Faster, more accurate, portable alterna...</td>\n      <td>/*\n * Licensed to the Apache Software Foundati...</td>\n      <td>a&lt;=b?methodResultID==</td>\n      <td>[MethodArgument, NonEqIneqOperator, MethodArgu...</td>\n      <td></td>\n      <td>MethodArgument</td>\n      <td></td>\n    </tr>\n    <tr>\n      <th>51</th>\n      <td>False</td>\n      <td>21907</td>\n      <td>EXCEPT_POST</td>\n      <td>commons-collections4-4.1</td>\n      <td>org.apache.commons.collections4</td>\n      <td>MapUtils</td>\n      <td>@throws java.lang.NullPointerException map is ...</td>\n      <td>/**\n     * Get the specified {@link Map} as a...</td>\n      <td>public static &lt;K, V&gt; IterableMap&lt;K, V&gt; iterabl...</td>\n      <td>/**\n * Provides utility methods and decorators...</td>\n      <td>/*\n * Licensed to the Apache Software Foundati...</td>\n      <td>map==null</td>\n      <td>[MethodArgument, EqOperator, NULL]</td>\n      <td></td>\n      <td>LogicalOperator</td>\n      <td></td>\n    </tr>\n    <tr>\n      <th>51</th>\n      <td>True</td>\n      <td>14707</td>\n      <td>NORMAL_POST</td>\n      <td>plume-lib-1.1.0</td>\n      <td>plume</td>\n      <td>MathMDE</td>\n      <td>x &lt;&lt; y.</td>\n      <td>/** Returns x &amp;lt;&amp;lt; y, the left-shift oper...</td>\n      <td>public static long lshift(long x, long y){\n   ...</td>\n      <td>/** Mathematical utilities. */</td>\n      <td>// ***** This file is automatically generated ...</td>\n      <td>true?methodResultID==x&lt;&lt;</td>\n      <td>[TRUE, QuestionMark, MethodResultID, EqOperato...</td>\n      <td></td>\n      <td>MethodArgument</td>\n      <td></td>\n    </tr>\n    <tr>\n      <th>51</th>\n      <td>True</td>\n      <td>984</td>\n      <td>EXCEPT_POST</td>\n      <td>commons-math3-3.6.1</td>\n      <td>org.apache.commons.math3.stat.inference</td>\n      <td>TTest</td>\n      <td>@throws org.apache.commons.math3.exception.Num...</td>\n      <td>/**\n     * Performs a paired t-test evaluatin...</td>\n      <td>public boolean pairedTTest(final double[] samp...</td>\n      <td>/**\n * An implementation for Student's t-tests...</td>\n      <td>/*\n * Licensed to the Apache Software Foundati...</td>\n      <td>sample1.length&lt;</td>\n      <td>[MethodArgument, Period, ClassField, NonEqIneq...</td>\n      <td></td>\n      <td>S_INT</td>\n      <td></td>\n    </tr>\n    <tr>\n      <th>51</th>\n      <td>False</td>\n      <td>402</td>\n      <td>EXCEPT_POST</td>\n      <td>commons-math3-3.6.1</td>\n      <td>org.apache.commons.math3.util</td>\n      <td>ArithmeticUtils</td>\n      <td>@throws org.apache.commons.math3.exception.Not...</td>\n      <td>/**\n     * Raise a BigInteger to a long power...</td>\n      <td>public static BigInteger pow(final BigInteger ...</td>\n      <td>/**\n * Some useful, arithmetics related, addit...</td>\n      <td>/*\n * Licensed to the Apache Software Foundati...</td>\n      <td>e</td>\n      <td>[MethodArgument]</td>\n      <td></td>\n      <td>EqOperator</td>\n      <td></td>\n    </tr>\n    <tr>\n      <th>51</th>\n      <td>False</td>\n      <td>22431</td>\n      <td>EXCEPT_POST</td>\n      <td>commons-collections4-4.1</td>\n      <td>org.apache.commons.collections4.map</td>\n      <td>AbstractReferenceMap</td>\n      <td>@throws java.lang.NullPointerException either ...</td>\n      <td>/**\n     * Puts a key-value mapping into this...</td>\n      <td>public V put(final K key, final V value){\n    ...</td>\n      <td>/**\n * An abstract implementation of a hash-ba...</td>\n      <td>/*\n * Licensed to the Apache Software Foundati...</td>\n      <td>key</td>\n      <td>[MethodArgument]</td>\n      <td></td>\n      <td>IneqOperator</td>\n      <td></td>\n    </tr>\n    <tr>\n      <th>51</th>\n      <td>True</td>\n      <td>18355</td>\n      <td>EXCEPT_POST</td>\n      <td>jgrapht-core-0.9.2</td>\n      <td>org.jgrapht.alg</td>\n      <td>KShortestPaths</td>\n      <td>@throws java.lang.IllegalArgumentException nPa...</td>\n      <td>/**\n     * Creates an object to calculate ran...</td>\n      <td>public KShortestPaths(Graph&lt;V, E&gt; graph, V sta...</td>\n      <td>/**\n * The algorithm determines the k shortest...</td>\n      <td>/* ==========================================\n...</td>\n      <td>nPaths&lt;0||nPaths==</td>\n      <td>[MethodArgument, NonEqIneqOperator, S_INT, Log...</td>\n      <td></td>\n      <td>S_INT</td>\n      <td></td>\n    </tr>\n    <tr>\n      <th>51</th>\n      <td>False</td>\n      <td>21130</td>\n      <td>PRE</td>\n      <td>commons-collections4-4.1</td>\n      <td>org.apache.commons.collections4.functors</td>\n      <td>PredicateTransformer</td>\n      <td>@param predicate the predicate to call. predic...</td>\n      <td>/**\n     * Factory method that performs valid...</td>\n      <td>public static &lt;T&gt; Transformer&lt;T, Boolean&gt; pred...</td>\n      <td>/**\n * Transformer implementation that calls a...</td>\n      <td>/*\n * Licensed to the Apache Software Foundati...</td>\n      <td>(predicate==null</td>\n      <td>[OpeningParenthesis, MethodArgument, EqOperato...</td>\n      <td></td>\n      <td>LogicalOperator</td>\n      <td></td>\n    </tr>\n    <tr>\n      <th>51</th>\n      <td>False</td>\n      <td>502</td>\n      <td>EXCEPT_POST</td>\n      <td>commons-math3-3.6.1</td>\n      <td>org.apache.commons.math3.distribution</td>\n      <td>PoissonDistribution</td>\n      <td>@throws org.apache.commons.math3.exception.Not...</td>\n      <td>/**\n     * Creates a new Poisson distribution...</td>\n      <td>public PoissonDistribution(double p, double ep...</td>\n      <td>/**\n * Implementation of the Poisson distribut...</td>\n      <td>/*\n * Licensed to the Apache Software Foundati...</td>\n      <td>p&lt;=0</td>\n      <td>[MethodArgument, NonEqIneqOperator, S_INT]</td>\n      <td></td>\n      <td>LogicalOperator</td>\n      <td></td>\n    </tr>\n    <tr>\n      <th>51</th>\n      <td>False</td>\n      <td>16180</td>\n      <td>EXCEPT_POST</td>\n      <td>guava-19.0</td>\n      <td>com.google.common.base</td>\n      <td>Verify</td>\n      <td>@throws com.google.common.base.VerifyException...</td>\n      <td>/**\n   * Ensures that {@code reference} is no...</td>\n      <td>public static &lt;T&gt; T verifyNotNull(@Nullable T ...</td>\n      <td>/**\n * Static convenience methods that serve t...</td>\n      <td>/*\n * Copyright (C) 2013 The Guava Authors\n *\n...</td>\n      <td>reference==</td>\n      <td>[MethodArgument, EqOperator]</td>\n      <td></td>\n      <td>Class</td>\n      <td></td>\n    </tr>\n    <tr>\n      <th>51</th>\n      <td>False</td>\n      <td>277</td>\n      <td>NORMAL_POST</td>\n      <td>commons-math3-3.6.1</td>\n      <td>org.apache.commons.math3.util</td>\n      <td>FastMath</td>\n      <td>a if a is &lt;= b, b otherwise.</td>\n      <td>/** Compute the minimum of two values\n     * ...</td>\n      <td>public static int min(final int a, final int b...</td>\n      <td>/**\n * Faster, more accurate, portable alterna...</td>\n      <td>/*\n * Licensed to the Apache Software Foundati...</td>\n      <td>a&lt;=b?methodResultID==a</td>\n      <td>[MethodArgument, NonEqIneqOperator, MethodArgu...</td>\n      <td></td>\n      <td>BitwiseShiftOperator</td>\n      <td></td>\n    </tr>\n    <tr>\n      <th>51</th>\n      <td>False</td>\n      <td>1102</td>\n      <td>EXCEPT_POST</td>\n      <td>commons-math3-3.6.1</td>\n      <td>org.apache.commons.math3.optimization</td>\n      <td>BaseMultivariateSimpleBoundsOptimizer</td>\n      <td>@throws org.apache.commons.math3.exception.Nul...</td>\n      <td>/**\n     * Optimize an objective function.\n  ...</td>\n      <td>PointValuePair optimize(int maxEval, FUNC f, G...</td>\n      <td>/**\n * This interface is mainly intended to en...</td>\n      <td>/*\n * Licensed to the Apache Software Foundati...</td>\n      <td>f==null||</td>\n      <td>[MethodArgument, EqOperator, NULL, LogicalOper...</td>\n      <td></td>\n      <td>This</td>\n      <td></td>\n    </tr>\n    <tr>\n      <th>51</th>\n      <td>False</td>\n      <td>98</td>\n      <td>EXCEPT_POST</td>\n      <td>commons-math3-3.6.1</td>\n      <td>org.apache.commons.math3.ode</td>\n      <td>AbstractParameterizable</td>\n      <td>@throws org.apache.commons.math3.ode.UnknownPa...</td>\n      <td>/** Check if a parameter is supported and thr...</td>\n      <td>public void complainIfNotSupported(final Strin...</td>\n      <td>/**\n * This abstract class provides boilerpla...</td>\n      <td>/*\n * Licensed to the Apache Software Foundati...</td>\n      <td>(this</td>\n      <td>[OpeningParenthesis, This]</td>\n      <td></td>\n      <td>InstanceOfOperator</td>\n      <td></td>\n    </tr>\n    <tr>\n      <th>51</th>\n      <td>True</td>\n      <td>862</td>\n      <td>EXCEPT_POST</td>\n      <td>commons-math3-3.6.1</td>\n      <td>org.apache.commons.math3.linear</td>\n      <td>FieldMatrix</td>\n      <td>@throws org.apache.commons.math3.exception.Num...</td>\n      <td>/**\n     * Visit (and possibly change) some m...</td>\n      <td>T walkInRowOrder(FieldMatrixChangingVisitor&lt;T&gt;...</td>\n      <td>/**\n * Interface defining field-valued matrix ...</td>\n      <td>/*\n * Licensed to the Apache Software Foundati...</td>\n      <td>endRow&lt;startRow||</td>\n      <td>[MethodArgument, NonEqIneqOperator, MethodArgu...</td>\n      <td></td>\n      <td>MethodArgument</td>\n      <td></td>\n    </tr>\n    <tr>\n      <th>51</th>\n      <td>False</td>\n      <td>15878</td>\n      <td>EXCEPT_POST</td>\n      <td>guava-19.0</td>\n      <td>com.google.common.collect</td>\n      <td>Sets</td>\n      <td>@throws java.lang.NullPointerException set is ...</td>\n      <td>/**\n   * Returns the set of all possible subs...</td>\n      <td>public static &lt;E&gt; Set&lt;Set&lt;E&gt;&gt; powerSet(Set&lt;E&gt; ...</td>\n      <td>/**\n * Static utility methods pertaining to {@...</td>\n      <td>/*\n * Copyright (C) 2007 The Guava Authors\n *\n...</td>\n      <td>set==null||((set==null)==false)&amp;&amp;(set.</td>\n      <td>[MethodArgument, EqOperator, NULL, LogicalOper...</td>\n      <td></td>\n      <td>StreamMethod</td>\n      <td></td>\n    </tr>\n    <tr>\n      <th>51</th>\n      <td>True</td>\n      <td>16128</td>\n      <td>NORMAL_POST</td>\n      <td>guava-19.0</td>\n      <td>com.google.common.base</td>\n      <td>Strings</td>\n      <td>a string containing string repeated count time...</td>\n      <td>/**\n   * Returns a string consisting of a spe...</td>\n      <td>public static String repeat(String string, int...</td>\n      <td>/**\n * Static utility methods pertaining to {@...</td>\n      <td>/*\n * Copyright (C) 2010 The Guava Authors\n *\n...</td>\n      <td>count==0?methodResultID.equals(string</td>\n      <td>[MethodArgument, EqOperator, S_INT, QuestionMa...</td>\n      <td></td>\n      <td>ClosingParenthesis</td>\n      <td></td>\n    </tr>\n    <tr>\n      <th>51</th>\n      <td>False</td>\n      <td>22216</td>\n      <td>NORMAL_POST</td>\n      <td>commons-collections4-4.1</td>\n      <td>org.apache.commons.collections4</td>\n      <td>CollectionUtils</td>\n      <td>true if a is a proper sub-collection of b, fal...</td>\n      <td>/**\n     * Returns {@code true} iff &lt;i&gt;a&lt;/i&gt; ...</td>\n      <td>public static boolean isProperSubCollection(fi...</td>\n      <td>/**\n * Provides utility methods and decorators...</td>\n      <td>/*\n * Licensed to the Apache Software Foundati...</td>\n      <td>CollectionUtils.isSubCollection(a,b)?methodRes...</td>\n      <td>[Class, Period, MethodName, OpeningParenthesis...</td>\n      <td></td>\n      <td>Class</td>\n      <td></td>\n    </tr>\n    <tr>\n      <th>51</th>\n      <td>True</td>\n      <td>701</td>\n      <td>EXCEPT_POST</td>\n      <td>commons-math3-3.6.1</td>\n      <td>org.apache.commons.math3.linear</td>\n      <td>AbstractRealMatrix</td>\n      <td>@throws org.apache.commons.math3.exception.Not...</td>\n      <td>/**\n     * Create a new RealMatrix with the s...</td>\n      <td>protected AbstractRealMatrix(final int rowDime...</td>\n      <td>/**\n * Basic implementation of RealMatrix meth...</td>\n      <td>/*\n * Licensed to the Apache Software Foundati...</td>\n      <td>(</td>\n      <td>[OpeningParenthesis]</td>\n      <td></td>\n      <td>MethodArgument</td>\n      <td></td>\n    </tr>\n    <tr>\n      <th>51</th>\n      <td>False</td>\n      <td>14686</td>\n      <td>PRE</td>\n      <td>plume-lib-1.1.0</td>\n      <td>plume</td>\n      <td>ArraysMDE</td>\n      <td>@param a an array representing a function from...</td>\n      <td>/**\n   * Return the inverse of the given func...</td>\n      <td>public static int[] fn_inverse(int[] a, int ar...</td>\n      <td>/**\n * Utilities for manipulating arrays and c...</td>\n      <td>// If you edit this file, you must also edit i...</td>\n      <td>arange==0</td>\n      <td>[MethodArgument, EqOperator, S_INT]</td>\n      <td></td>\n      <td>LogicalOperator</td>\n      <td></td>\n    </tr>\n    <tr>\n      <th>51</th>\n      <td>False</td>\n      <td>22244</td>\n      <td>EXCEPT_POST</td>\n      <td>commons-collections4-4.1</td>\n      <td>org.apache.commons.collections4</td>\n      <td>CollectionUtils</td>\n      <td>@throws java.lang.NullPointerException the col...</td>\n      <td>/**\n     * Adds all elements in the {@link It...</td>\n      <td>public static &lt;C&gt; boolean addAll(final Collect...</td>\n      <td>/**\n * Provides utility methods and decorators...</td>\n      <td>/*\n * Licensed to the Apache Software Foundati...</td>\n      <td>collection==null||iterable==</td>\n      <td>[MethodArgument, EqOperator, NULL, LogicalOper...</td>\n      <td></td>\n      <td>MethodArgument</td>\n      <td></td>\n    </tr>\n    <tr>\n      <th>51</th>\n      <td>False</td>\n      <td>21730</td>\n      <td>PRE</td>\n      <td>commons-collections4-4.1</td>\n      <td>org.apache.commons.collections4.iterators</td>\n      <td>IteratorChain</td>\n      <td>@param iteratorChain the array of iterators. i...</td>\n      <td>/**\n     * Constructs a new &lt;code&gt;IteratorCha...</td>\n      <td>public IteratorChain(final Iterator&lt;? extends ...</td>\n      <td>/**\n * An IteratorChain is an Iterator that wr...</td>\n      <td>/*\n * Licensed to the Apache Software Foundati...</td>\n      <td>(iteratorChain==</td>\n      <td>[OpeningParenthesis, MethodArgument, EqOperator]</td>\n      <td></td>\n      <td>Class</td>\n      <td></td>\n    </tr>\n    <tr>\n      <th>51</th>\n      <td>False</td>\n      <td>15978</td>\n      <td>EXCEPT_POST</td>\n      <td>guava-19.0</td>\n      <td>com.google.common.collect</td>\n      <td>ConcurrentHashMultiset</td>\n      <td>@throws java.lang.IllegalArgumentException cou...</td>\n      <td>/**\n   * Creates an instance using {@code cou...</td>\n      <td>ConcurrentHashMultiset(ConcurrentMap&lt;E, Atomic...</td>\n      <td>/**\n * A multiset that supports concurrent mod...</td>\n      <td>/*\n * Copyright (C) 2007 The Guava Authors\n *\n...</td>\n      <td>(((countMap==null)==false)&amp;&amp;(countMap.isEmpty())</td>\n      <td>[OpeningParenthesis, OpeningParenthesis, Openi...</td>\n      <td></td>\n      <td>LogicalOperator</td>\n      <td></td>\n    </tr>\n  </tbody>\n</table>\n</div>"
     },
     "execution_count": 38,
     "metadata": {},
     "output_type": "execute_result"
    }
   ],
   "source": [
    "df_filtered.loc[51]"
   ],
   "metadata": {
    "collapsed": false,
    "ExecuteTime": {
     "end_time": "2023-07-12T17:11:47.540058Z",
     "start_time": "2023-07-12T17:11:47.480702Z"
    }
   }
  },
  {
   "cell_type": "code",
   "execution_count": 41,
   "outputs": [
    {
     "data": {
      "text/plain": "      label  oracleId   oracleType          projectName  \\\n6     False       800  EXCEPT_POST  commons-math3-3.6.1   \n7     False       800  EXCEPT_POST  commons-math3-3.6.1   \n8      True       800  EXCEPT_POST  commons-math3-3.6.1   \n9     False       800  EXCEPT_POST  commons-math3-3.6.1   \n10     True       800  EXCEPT_POST  commons-math3-3.6.1   \n...     ...       ...          ...                  ...   \n1967   True     16076          PRE           guava-19.0   \n1968  False     16076          PRE           guava-19.0   \n1969  False     16076          PRE           guava-19.0   \n1970  False     16076          PRE           guava-19.0   \n1971  False     16076          PRE           guava-19.0   \n\n                          packageName    className  \\\n6     org.apache.commons.math3.linear  MatrixUtils   \n7     org.apache.commons.math3.linear  MatrixUtils   \n8     org.apache.commons.math3.linear  MatrixUtils   \n9     org.apache.commons.math3.linear  MatrixUtils   \n10    org.apache.commons.math3.linear  MatrixUtils   \n...                               ...          ...   \n1967           com.google.common.math   DoubleMath   \n1968           com.google.common.math   DoubleMath   \n1969           com.google.common.math   DoubleMath   \n1970           com.google.common.math   DoubleMath   \n1971           com.google.common.math   DoubleMath   \n\n                                             javadocTag  \\\n6     @throws org.apache.commons.math3.exception.NoD...   \n7     @throws org.apache.commons.math3.exception.NoD...   \n8     @throws org.apache.commons.math3.exception.NoD...   \n9     @throws org.apache.commons.math3.exception.NoD...   \n10    @throws org.apache.commons.math3.exception.NoD...   \n...                                                 ...   \n1967  @param values values is not empty. not empty s...   \n1968  @param values values is not empty. not empty s...   \n1969  @param values values is not empty. not empty s...   \n1970  @param values values is not empty. not empty s...   \n1971  @param values values is not empty. not empty s...   \n\n                                          methodJavadoc  \\\n6     \t/**\n     * Creates a {@link RealVector} using...   \n7     \t/**\n     * Creates a {@link RealVector} using...   \n8     \t/**\n     * Creates a {@link RealVector} using...   \n9     \t/**\n     * Creates a {@link RealVector} using...   \n10    \t/**\n     * Creates a {@link RealVector} using...   \n...                                                 ...   \n1967  \t/**\n   * Returns the <a href=\"http://en.wikip...   \n1968  \t/**\n   * Returns the <a href=\"http://en.wikip...   \n1969  \t/**\n   * Returns the <a href=\"http://en.wikip...   \n1970  \t/**\n   * Returns the <a href=\"http://en.wikip...   \n1971  \t/**\n   * Returns the <a href=\"http://en.wikip...   \n\n                                       methodSourceCode  \\\n6     public static RealVector createRealVector(doub...   \n7     public static RealVector createRealVector(doub...   \n8     public static RealVector createRealVector(doub...   \n9     public static RealVector createRealVector(doub...   \n10    public static RealVector createRealVector(doub...   \n...                                                 ...   \n1967  public static double mean(int... values){\n    ...   \n1968  public static double mean(int... values){\n    ...   \n1969  public static double mean(int... values){\n    ...   \n1970  public static double mean(int... values){\n    ...   \n1971  public static double mean(int... values){\n    ...   \n\n                                           classJavadoc  \\\n6     /**\n * A collection of static methods that ope...   \n7     /**\n * A collection of static methods that ope...   \n8     /**\n * A collection of static methods that ope...   \n9     /**\n * A collection of static methods that ope...   \n10    /**\n * A collection of static methods that ope...   \n...                                                 ...   \n1967  /**\n * A class for arithmetic on doubles that ...   \n1968  /**\n * A class for arithmetic on doubles that ...   \n1969  /**\n * A class for arithmetic on doubles that ...   \n1970  /**\n * A class for arithmetic on doubles that ...   \n1971  /**\n * A class for arithmetic on doubles that ...   \n\n                                        classSourceCode oracleSoFar  \\\n6     /*\n * Licensed to the Apache Software Foundati...        data   \n7     /*\n * Licensed to the Apache Software Foundati...        data   \n8     /*\n * Licensed to the Apache Software Foundati...        data   \n9     /*\n * Licensed to the Apache Software Foundati...        data   \n10    /*\n * Licensed to the Apache Software Foundati...       data.   \n...                                                 ...         ...   \n1967  /*\n * Copyright (C) 2011 The Guava Authors\n *\n...      values   \n1968  /*\n * Copyright (C) 2011 The Guava Authors\n *\n...      values   \n1969  /*\n * Copyright (C) 2011 The Guava Authors\n *\n...      values   \n1970  /*\n * Copyright (C) 2011 The Guava Authors\n *\n...      values   \n1971  /*\n * Copyright (C) 2011 The Guava Authors\n *\n...    values!=   \n\n                   tokenClassesSoFar token          tokenClass tokenInfo  \n6                   [MethodArgument]              IneqOperator            \n7                   [MethodArgument]                EqOperator            \n8                   [MethodArgument]                    Period            \n9                   [MethodArgument]        InstanceOfOperator            \n10          [MethodArgument, Period]                ClassField            \n...                              ...   ...                 ...       ...  \n1967                [MethodArgument]              IneqOperator            \n1968                [MethodArgument]                EqOperator            \n1969                [MethodArgument]                    Period            \n1970                [MethodArgument]        InstanceOfOperator            \n1971  [MethodArgument, IneqOperator]            MethodArgument            \n\n[15113 rows x 16 columns]",
      "text/html": "<div>\n<style scoped>\n    .dataframe tbody tr th:only-of-type {\n        vertical-align: middle;\n    }\n\n    .dataframe tbody tr th {\n        vertical-align: top;\n    }\n\n    .dataframe thead th {\n        text-align: right;\n    }\n</style>\n<table border=\"1\" class=\"dataframe\">\n  <thead>\n    <tr style=\"text-align: right;\">\n      <th></th>\n      <th>label</th>\n      <th>oracleId</th>\n      <th>oracleType</th>\n      <th>projectName</th>\n      <th>packageName</th>\n      <th>className</th>\n      <th>javadocTag</th>\n      <th>methodJavadoc</th>\n      <th>methodSourceCode</th>\n      <th>classJavadoc</th>\n      <th>classSourceCode</th>\n      <th>oracleSoFar</th>\n      <th>tokenClassesSoFar</th>\n      <th>token</th>\n      <th>tokenClass</th>\n      <th>tokenInfo</th>\n    </tr>\n  </thead>\n  <tbody>\n    <tr>\n      <th>6</th>\n      <td>False</td>\n      <td>800</td>\n      <td>EXCEPT_POST</td>\n      <td>commons-math3-3.6.1</td>\n      <td>org.apache.commons.math3.linear</td>\n      <td>MatrixUtils</td>\n      <td>@throws org.apache.commons.math3.exception.NoD...</td>\n      <td>/**\n     * Creates a {@link RealVector} using...</td>\n      <td>public static RealVector createRealVector(doub...</td>\n      <td>/**\n * A collection of static methods that ope...</td>\n      <td>/*\n * Licensed to the Apache Software Foundati...</td>\n      <td>data</td>\n      <td>[MethodArgument]</td>\n      <td></td>\n      <td>IneqOperator</td>\n      <td></td>\n    </tr>\n    <tr>\n      <th>7</th>\n      <td>False</td>\n      <td>800</td>\n      <td>EXCEPT_POST</td>\n      <td>commons-math3-3.6.1</td>\n      <td>org.apache.commons.math3.linear</td>\n      <td>MatrixUtils</td>\n      <td>@throws org.apache.commons.math3.exception.NoD...</td>\n      <td>/**\n     * Creates a {@link RealVector} using...</td>\n      <td>public static RealVector createRealVector(doub...</td>\n      <td>/**\n * A collection of static methods that ope...</td>\n      <td>/*\n * Licensed to the Apache Software Foundati...</td>\n      <td>data</td>\n      <td>[MethodArgument]</td>\n      <td></td>\n      <td>EqOperator</td>\n      <td></td>\n    </tr>\n    <tr>\n      <th>8</th>\n      <td>True</td>\n      <td>800</td>\n      <td>EXCEPT_POST</td>\n      <td>commons-math3-3.6.1</td>\n      <td>org.apache.commons.math3.linear</td>\n      <td>MatrixUtils</td>\n      <td>@throws org.apache.commons.math3.exception.NoD...</td>\n      <td>/**\n     * Creates a {@link RealVector} using...</td>\n      <td>public static RealVector createRealVector(doub...</td>\n      <td>/**\n * A collection of static methods that ope...</td>\n      <td>/*\n * Licensed to the Apache Software Foundati...</td>\n      <td>data</td>\n      <td>[MethodArgument]</td>\n      <td></td>\n      <td>Period</td>\n      <td></td>\n    </tr>\n    <tr>\n      <th>9</th>\n      <td>False</td>\n      <td>800</td>\n      <td>EXCEPT_POST</td>\n      <td>commons-math3-3.6.1</td>\n      <td>org.apache.commons.math3.linear</td>\n      <td>MatrixUtils</td>\n      <td>@throws org.apache.commons.math3.exception.NoD...</td>\n      <td>/**\n     * Creates a {@link RealVector} using...</td>\n      <td>public static RealVector createRealVector(doub...</td>\n      <td>/**\n * A collection of static methods that ope...</td>\n      <td>/*\n * Licensed to the Apache Software Foundati...</td>\n      <td>data</td>\n      <td>[MethodArgument]</td>\n      <td></td>\n      <td>InstanceOfOperator</td>\n      <td></td>\n    </tr>\n    <tr>\n      <th>10</th>\n      <td>True</td>\n      <td>800</td>\n      <td>EXCEPT_POST</td>\n      <td>commons-math3-3.6.1</td>\n      <td>org.apache.commons.math3.linear</td>\n      <td>MatrixUtils</td>\n      <td>@throws org.apache.commons.math3.exception.NoD...</td>\n      <td>/**\n     * Creates a {@link RealVector} using...</td>\n      <td>public static RealVector createRealVector(doub...</td>\n      <td>/**\n * A collection of static methods that ope...</td>\n      <td>/*\n * Licensed to the Apache Software Foundati...</td>\n      <td>data.</td>\n      <td>[MethodArgument, Period]</td>\n      <td></td>\n      <td>ClassField</td>\n      <td></td>\n    </tr>\n    <tr>\n      <th>...</th>\n      <td>...</td>\n      <td>...</td>\n      <td>...</td>\n      <td>...</td>\n      <td>...</td>\n      <td>...</td>\n      <td>...</td>\n      <td>...</td>\n      <td>...</td>\n      <td>...</td>\n      <td>...</td>\n      <td>...</td>\n      <td>...</td>\n      <td>...</td>\n      <td>...</td>\n      <td>...</td>\n    </tr>\n    <tr>\n      <th>1967</th>\n      <td>True</td>\n      <td>16076</td>\n      <td>PRE</td>\n      <td>guava-19.0</td>\n      <td>com.google.common.math</td>\n      <td>DoubleMath</td>\n      <td>@param values values is not empty. not empty s...</td>\n      <td>/**\n   * Returns the &lt;a href=\"http://en.wikip...</td>\n      <td>public static double mean(int... values){\n    ...</td>\n      <td>/**\n * A class for arithmetic on doubles that ...</td>\n      <td>/*\n * Copyright (C) 2011 The Guava Authors\n *\n...</td>\n      <td>values</td>\n      <td>[MethodArgument]</td>\n      <td></td>\n      <td>IneqOperator</td>\n      <td></td>\n    </tr>\n    <tr>\n      <th>1968</th>\n      <td>False</td>\n      <td>16076</td>\n      <td>PRE</td>\n      <td>guava-19.0</td>\n      <td>com.google.common.math</td>\n      <td>DoubleMath</td>\n      <td>@param values values is not empty. not empty s...</td>\n      <td>/**\n   * Returns the &lt;a href=\"http://en.wikip...</td>\n      <td>public static double mean(int... values){\n    ...</td>\n      <td>/**\n * A class for arithmetic on doubles that ...</td>\n      <td>/*\n * Copyright (C) 2011 The Guava Authors\n *\n...</td>\n      <td>values</td>\n      <td>[MethodArgument]</td>\n      <td></td>\n      <td>EqOperator</td>\n      <td></td>\n    </tr>\n    <tr>\n      <th>1969</th>\n      <td>False</td>\n      <td>16076</td>\n      <td>PRE</td>\n      <td>guava-19.0</td>\n      <td>com.google.common.math</td>\n      <td>DoubleMath</td>\n      <td>@param values values is not empty. not empty s...</td>\n      <td>/**\n   * Returns the &lt;a href=\"http://en.wikip...</td>\n      <td>public static double mean(int... values){\n    ...</td>\n      <td>/**\n * A class for arithmetic on doubles that ...</td>\n      <td>/*\n * Copyright (C) 2011 The Guava Authors\n *\n...</td>\n      <td>values</td>\n      <td>[MethodArgument]</td>\n      <td></td>\n      <td>Period</td>\n      <td></td>\n    </tr>\n    <tr>\n      <th>1970</th>\n      <td>False</td>\n      <td>16076</td>\n      <td>PRE</td>\n      <td>guava-19.0</td>\n      <td>com.google.common.math</td>\n      <td>DoubleMath</td>\n      <td>@param values values is not empty. not empty s...</td>\n      <td>/**\n   * Returns the &lt;a href=\"http://en.wikip...</td>\n      <td>public static double mean(int... values){\n    ...</td>\n      <td>/**\n * A class for arithmetic on doubles that ...</td>\n      <td>/*\n * Copyright (C) 2011 The Guava Authors\n *\n...</td>\n      <td>values</td>\n      <td>[MethodArgument]</td>\n      <td></td>\n      <td>InstanceOfOperator</td>\n      <td></td>\n    </tr>\n    <tr>\n      <th>1971</th>\n      <td>False</td>\n      <td>16076</td>\n      <td>PRE</td>\n      <td>guava-19.0</td>\n      <td>com.google.common.math</td>\n      <td>DoubleMath</td>\n      <td>@param values values is not empty. not empty s...</td>\n      <td>/**\n   * Returns the &lt;a href=\"http://en.wikip...</td>\n      <td>public static double mean(int... values){\n    ...</td>\n      <td>/**\n * A class for arithmetic on doubles that ...</td>\n      <td>/*\n * Copyright (C) 2011 The Guava Authors\n *\n...</td>\n      <td>values!=</td>\n      <td>[MethodArgument, IneqOperator]</td>\n      <td></td>\n      <td>MethodArgument</td>\n      <td></td>\n    </tr>\n  </tbody>\n</table>\n<p>15113 rows × 16 columns</p>\n</div>"
     },
     "execution_count": 41,
     "metadata": {},
     "output_type": "execute_result"
    }
   ],
   "source": [
    "a.head()"
   ],
   "metadata": {
    "collapsed": false,
    "ExecuteTime": {
     "end_time": "2023-07-12T17:12:16.520758Z",
     "start_time": "2023-07-12T17:12:16.474907Z"
    }
   }
  },
  {
   "cell_type": "code",
   "execution_count": 43,
   "outputs": [
    {
     "data": {
      "text/plain": "oracleId\n0          51\n1         105\n2         120\n3         137\n4         163\n         ... \n22491    1730\n22492    1752\n22493    1774\n22494    1867\n22495    1881\nName: oracleSoFar, Length: 3089, dtype: int64"
     },
     "execution_count": 43,
     "metadata": {},
     "output_type": "execute_result"
    }
   ],
   "source": [
    "a['oracleSoFar'].idxmax()"
   ],
   "metadata": {
    "collapsed": false,
    "ExecuteTime": {
     "end_time": "2023-07-12T17:13:04.941211Z",
     "start_time": "2023-07-12T17:13:04.436611Z"
    }
   }
  },
  {
   "cell_type": "code",
   "execution_count": 47,
   "outputs": [
    {
     "ename": "KeyError",
     "evalue": "'Column not found: 51'",
     "output_type": "error",
     "traceback": [
      "\u001B[0;31m---------------------------------------------------------------------------\u001B[0m",
      "\u001B[0;31mKeyError\u001B[0m                                  Traceback (most recent call last)",
      "Cell \u001B[0;32mIn[47], line 1\u001B[0m\n\u001B[0;32m----> 1\u001B[0m \u001B[43ma\u001B[49m\u001B[43m[\u001B[49m\u001B[38;5;241;43m51\u001B[39;49m\u001B[43m]\u001B[49m\n",
      "File \u001B[0;32m~/miniconda3/envs/ml-model/lib/python3.9/site-packages/pandas/core/groupby/generic.py:1416\u001B[0m, in \u001B[0;36mDataFrameGroupBy.__getitem__\u001B[0;34m(self, key)\u001B[0m\n\u001B[1;32m   1407\u001B[0m \u001B[38;5;28;01mif\u001B[39;00m \u001B[38;5;28misinstance\u001B[39m(key, \u001B[38;5;28mtuple\u001B[39m) \u001B[38;5;129;01mand\u001B[39;00m \u001B[38;5;28mlen\u001B[39m(key) \u001B[38;5;241m>\u001B[39m \u001B[38;5;241m1\u001B[39m:\n\u001B[1;32m   1408\u001B[0m     \u001B[38;5;66;03m# if len == 1, then it becomes a SeriesGroupBy and this is actually\u001B[39;00m\n\u001B[1;32m   1409\u001B[0m     \u001B[38;5;66;03m# valid syntax, so don't raise warning\u001B[39;00m\n\u001B[1;32m   1410\u001B[0m     warnings\u001B[38;5;241m.\u001B[39mwarn(\n\u001B[1;32m   1411\u001B[0m         \u001B[38;5;124m\"\u001B[39m\u001B[38;5;124mIndexing with multiple keys (implicitly converted to a tuple \u001B[39m\u001B[38;5;124m\"\u001B[39m\n\u001B[1;32m   1412\u001B[0m         \u001B[38;5;124m\"\u001B[39m\u001B[38;5;124mof keys) will be deprecated, use a list instead.\u001B[39m\u001B[38;5;124m\"\u001B[39m,\n\u001B[1;32m   1413\u001B[0m         \u001B[38;5;167;01mFutureWarning\u001B[39;00m,\n\u001B[1;32m   1414\u001B[0m         stacklevel\u001B[38;5;241m=\u001B[39mfind_stack_level(),\n\u001B[1;32m   1415\u001B[0m     )\n\u001B[0;32m-> 1416\u001B[0m \u001B[38;5;28;01mreturn\u001B[39;00m \u001B[38;5;28;43msuper\u001B[39;49m\u001B[43m(\u001B[49m\u001B[43m)\u001B[49m\u001B[38;5;241;43m.\u001B[39;49m\u001B[38;5;21;43m__getitem__\u001B[39;49m\u001B[43m(\u001B[49m\u001B[43mkey\u001B[49m\u001B[43m)\u001B[49m\n",
      "File \u001B[0;32m~/miniconda3/envs/ml-model/lib/python3.9/site-packages/pandas/core/base.py:248\u001B[0m, in \u001B[0;36mSelectionMixin.__getitem__\u001B[0;34m(self, key)\u001B[0m\n\u001B[1;32m    246\u001B[0m \u001B[38;5;28;01melse\u001B[39;00m:\n\u001B[1;32m    247\u001B[0m     \u001B[38;5;28;01mif\u001B[39;00m key \u001B[38;5;129;01mnot\u001B[39;00m \u001B[38;5;129;01min\u001B[39;00m \u001B[38;5;28mself\u001B[39m\u001B[38;5;241m.\u001B[39mobj:\n\u001B[0;32m--> 248\u001B[0m         \u001B[38;5;28;01mraise\u001B[39;00m \u001B[38;5;167;01mKeyError\u001B[39;00m(\u001B[38;5;124mf\u001B[39m\u001B[38;5;124m\"\u001B[39m\u001B[38;5;124mColumn not found: \u001B[39m\u001B[38;5;132;01m{\u001B[39;00mkey\u001B[38;5;132;01m}\u001B[39;00m\u001B[38;5;124m\"\u001B[39m)\n\u001B[1;32m    249\u001B[0m     subset \u001B[38;5;241m=\u001B[39m \u001B[38;5;28mself\u001B[39m\u001B[38;5;241m.\u001B[39mobj[key]\n\u001B[1;32m    250\u001B[0m     ndim \u001B[38;5;241m=\u001B[39m subset\u001B[38;5;241m.\u001B[39mndim\n",
      "\u001B[0;31mKeyError\u001B[0m: 'Column not found: 51'"
     ]
    }
   ],
   "source": [
    "a[51]"
   ],
   "metadata": {
    "collapsed": false,
    "ExecuteTime": {
     "end_time": "2023-07-12T17:14:38.251391Z",
     "start_time": "2023-07-12T17:14:38.246734Z"
    }
   }
  },
  {
   "cell_type": "code",
   "execution_count": 49,
   "outputs": [],
   "source": [
    "df_oracles_javadoctags = pd.read_json(os.path.join(\"..\", \"resources\", \"oracles_javadoctags.json\"))"
   ],
   "metadata": {
    "collapsed": false,
    "ExecuteTime": {
     "end_time": "2023-07-13T07:28:33.955440Z",
     "start_time": "2023-07-13T07:28:33.822039Z"
    }
   }
  },
  {
   "cell_type": "code",
   "execution_count": 50,
   "outputs": [
    {
     "data": {
      "text/plain": "(26702, 2)"
     },
     "execution_count": 50,
     "metadata": {},
     "output_type": "execute_result"
    }
   ],
   "source": [
    "df_oracles_javadoctags.shape"
   ],
   "metadata": {
    "collapsed": false,
    "ExecuteTime": {
     "end_time": "2023-07-13T07:28:40.851482Z",
     "start_time": "2023-07-13T07:28:40.833481Z"
    }
   }
  },
  {
   "cell_type": "code",
   "execution_count": 51,
   "outputs": [
    {
     "data": {
      "text/plain": "  oracle                                         javadocTag\n0      ;  @throws DimensionMismatchException if\\n{@code ...\n1      ;  @throws NotPositiveException if any of the pro...\n2      ;  @throws NotFiniteNumberException if any of the...\n3      ;  @throws NotANumberException if any of the prob...\n4      ;  @throws MathArithmeticException all of the pro...",
      "text/html": "<div>\n<style scoped>\n    .dataframe tbody tr th:only-of-type {\n        vertical-align: middle;\n    }\n\n    .dataframe tbody tr th {\n        vertical-align: top;\n    }\n\n    .dataframe thead th {\n        text-align: right;\n    }\n</style>\n<table border=\"1\" class=\"dataframe\">\n  <thead>\n    <tr style=\"text-align: right;\">\n      <th></th>\n      <th>oracle</th>\n      <th>javadocTag</th>\n    </tr>\n  </thead>\n  <tbody>\n    <tr>\n      <th>0</th>\n      <td>;</td>\n      <td>@throws DimensionMismatchException if\\n{@code ...</td>\n    </tr>\n    <tr>\n      <th>1</th>\n      <td>;</td>\n      <td>@throws NotPositiveException if any of the pro...</td>\n    </tr>\n    <tr>\n      <th>2</th>\n      <td>;</td>\n      <td>@throws NotFiniteNumberException if any of the...</td>\n    </tr>\n    <tr>\n      <th>3</th>\n      <td>;</td>\n      <td>@throws NotANumberException if any of the prob...</td>\n    </tr>\n    <tr>\n      <th>4</th>\n      <td>;</td>\n      <td>@throws MathArithmeticException all of the pro...</td>\n    </tr>\n  </tbody>\n</table>\n</div>"
     },
     "execution_count": 51,
     "metadata": {},
     "output_type": "execute_result"
    }
   ],
   "source": [
    "df_oracles_javadoctags.head()"
   ],
   "metadata": {
    "collapsed": false,
    "ExecuteTime": {
     "end_time": "2023-07-13T07:29:20.126545Z",
     "start_time": "2023-07-13T07:29:20.109919Z"
    }
   }
  },
  {
   "cell_type": "code",
   "execution_count": 52,
   "outputs": [],
   "source": [
    "df_oracles_javadoctags.to_csv(os.path.join(output_path, 'oracles_javadoctags.csv'), index=False)"
   ],
   "metadata": {
    "collapsed": false,
    "ExecuteTime": {
     "end_time": "2023-07-13T07:30:27.173336Z",
     "start_time": "2023-07-13T07:30:27.071631Z"
    }
   }
  },
  {
   "cell_type": "code",
   "execution_count": 57,
   "outputs": [],
   "source": [
    "_, json_oracles_javadoctags = utils.import_json(\n",
    "    os.path.join(\n",
    "        os.path.dirname(os.path.abspath('')),\n",
    "        'resources',\n",
    "        'oracles_javadoctags.json'\n",
    "    )\n",
    ")"
   ],
   "metadata": {
    "collapsed": false,
    "ExecuteTime": {
     "end_time": "2023-07-13T12:14:25.365870Z",
     "start_time": "2023-07-13T12:14:25.223028Z"
    }
   }
  },
  {
   "cell_type": "code",
   "execution_count": 68,
   "outputs": [],
   "source": [
    "original_javadoctags_sets = []\n",
    "original_javadoctags = []\n",
    "\n",
    "for o in json_oracles_javadoctags:\n",
    "    original_javadoctags.append(o[\"javadocTag\"])\n",
    "    if len(original_javadoctags) % 25 == 0:\n",
    "        original_javadoctags_sets.append(original_javadoctags)\n",
    "        original_javadoctags = []\n",
    "\n",
    "utils.export_stats(\n",
    "    os.path.join(\n",
    "        os.path.dirname(os.path.abspath('')),\n",
    "        'resources',\n",
    "        'original_javadoctags_set.json'\n",
    "    ),\n",
    "    original_javadoctags_sets\n",
    ")"
   ],
   "metadata": {
    "collapsed": false,
    "ExecuteTime": {
     "end_time": "2023-07-13T21:40:37.360744Z",
     "start_time": "2023-07-13T21:40:37.080292Z"
    }
   }
  },
  {
   "cell_type": "code",
   "execution_count": 69,
   "outputs": [
    {
     "data": {
      "text/plain": "1068"
     },
     "execution_count": 69,
     "metadata": {},
     "output_type": "execute_result"
    }
   ],
   "source": [
    "len(original_javadoctags_sets)"
   ],
   "metadata": {
    "collapsed": false,
    "ExecuteTime": {
     "end_time": "2023-07-13T21:41:41.621394Z",
     "start_time": "2023-07-13T21:41:41.612824Z"
    }
   }
  },
  {
   "cell_type": "code",
   "execution_count": null,
   "outputs": [],
   "source": [],
   "metadata": {
    "collapsed": false
   }
  }
 ],
 "metadata": {
  "kernelspec": {
   "display_name": "Python 3",
   "language": "python",
   "name": "python3"
  },
  "language_info": {
   "codemirror_mode": {
    "name": "ipython",
    "version": 2
   },
   "file_extension": ".py",
   "mimetype": "text/x-python",
   "name": "python",
   "nbconvert_exporter": "python",
   "pygments_lexer": "ipython2",
   "version": "2.7.6"
  }
 },
 "nbformat": 4,
 "nbformat_minor": 0
}
