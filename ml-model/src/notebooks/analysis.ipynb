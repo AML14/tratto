{
 "cells": [
  {
   "cell_type": "code",
   "execution_count": 47,
   "metadata": {},
   "outputs": [
    {
     "name": "stdout",
     "output_type": "stream",
     "text": [
      "\u001B[31mERROR: You must give at least one requirement to install (see \"pip help install\")\u001B[0m\n"
     ]
    }
   ],
   "source": []
  },
  {
   "cell_type": "code",
   "execution_count": 27,
   "metadata": {
    "ExecuteTime": {
     "start_time": "2023-05-30T10:59:23.578134Z",
     "end_time": "2023-05-30T10:59:23.595898Z"
    }
   },
   "outputs": [],
   "source": [
    "import os\n",
    "import numpy as np\n",
    "import torch\n",
    "import pandas as pd\n",
    "from functools import reduce\n",
    "from transformers import AutoTokenizer"
   ]
  },
  {
   "cell_type": "code",
   "execution_count": 28,
   "metadata": {
    "ExecuteTime": {
     "start_time": "2023-05-30T10:59:24.381646Z",
     "end_time": "2023-05-30T10:59:24.397557Z"
    }
   },
   "outputs": [],
   "source": [
    "device = torch.device(\"cpu\")"
   ]
  },
  {
   "cell_type": "code",
   "execution_count": 45,
   "metadata": {
    "ExecuteTime": {
     "start_time": "2023-05-30T11:06:45.300364Z",
     "end_time": "2023-05-30T11:06:45.307792Z"
    }
   },
   "outputs": [],
   "source": [
    "d_path = os.path.join(os.getcwd(), \"..\", \"..\", \"token-classes-dataset\")"
   ]
  },
  {
   "cell_type": "code",
   "execution_count": 46,
   "metadata": {
    "ExecuteTime": {
     "start_time": "2023-05-30T11:06:47.305614Z",
     "end_time": "2023-05-30T11:07:02.161251Z"
    }
   },
   "outputs": [],
   "source": [
    "# list of partial dataframes\n",
    "dfs = []\n",
    "\n",
    "# collects partial dataframes from oracles\n",
    "for file_name in os.listdir(d_path):\n",
    "    df = pd.read_json(os.path.join(d_path,  file_name))\n",
    "    dfs.append(df)\n",
    "\n",
    "df_dataset = pd.concat(dfs)\n",
    "# drop column id (it is not relevant for training the model)\n",
    "df_dataset = df_dataset.drop(['id'], axis=1)\n",
    "# map empty cells to empty strings\n",
    "df_dataset.fillna('', inplace=True)\n",
    "# specify the type of each column in the dataset\n",
    "df_dataset = df_dataset.astype({\n",
    "    'label': 'bool',\n",
    "    'oracleId': 'int64',\n",
    "    'oracleType': 'string',\n",
    "    'projectName': 'string',\n",
    "    'packageName': 'string',\n",
    "    'className': 'string',\n",
    "    'javadocTag': 'string',\n",
    "    'methodJavadoc': 'string',\n",
    "    'methodSourceCode': 'string',\n",
    "    'classJavadoc': 'string',\n",
    "    'classSourceCode': 'string',\n",
    "    'oracleSoFar': 'string',\n",
    "    'token': 'string',\n",
    "    'tokenClass': 'string',\n",
    "    'tokenInfo': 'string'\n",
    "})"
   ]
  },
  {
   "cell_type": "code",
   "execution_count": 48,
   "outputs": [
    {
     "data": {
      "text/plain": "(88262, 15)"
     },
     "execution_count": 48,
     "metadata": {},
     "output_type": "execute_result"
    }
   ],
   "source": [
    "df_dataset.shape"
   ],
   "metadata": {
    "collapsed": false,
    "ExecuteTime": {
     "start_time": "2023-05-30T11:07:17.053126Z",
     "end_time": "2023-05-30T11:07:17.058564Z"
    }
   }
  },
  {
   "cell_type": "code",
   "execution_count": 43,
   "outputs": [],
   "source": [
    "unique_values = df_dataset['tokenClass'].unique()"
   ],
   "metadata": {
    "collapsed": false,
    "ExecuteTime": {
     "start_time": "2023-05-30T11:05:44.696358Z",
     "end_time": "2023-05-30T11:05:44.706959Z"
    }
   }
  },
  {
   "cell_type": "code",
   "execution_count": 44,
   "outputs": [
    {
     "data": {
      "text/plain": "<StringArray>\n[        'MethodArgument',      'NonEqIneqOperator',                  'S_INT',\n              'Semicolon',             'EqOperator',                 'DOUBLE',\n                   'NULL',        'LogicalOperator',           'QuestionMark',\n         'MethodResultID',                  'Colon',                   'TRUE',\n     'OpeningParenthesis',     'ClosingParenthesis',                  'FALSE',\n                   'This',                 'Period',             'MethodName',\n                'BOOLEAN',             'ClassField',                  'Class',\n           'IneqOperator',            'ArraysClass',           'StreamMethod',\n            'MatchMethod',         'MatchMethodVar',             'RightArrow',\n   'ArithmeticalOperator',                  'Comma',   'BitwiseShiftOperator',\n 'BitwiseLogicalOperator',               'S_STRING',     'InstanceOfOperator']\nLength: 33, dtype: string"
     },
     "execution_count": 44,
     "metadata": {},
     "output_type": "execute_result"
    }
   ],
   "source": [
    "unique_values"
   ],
   "metadata": {
    "collapsed": false,
    "ExecuteTime": {
     "start_time": "2023-05-30T11:05:44.708082Z",
     "end_time": "2023-05-30T11:05:44.730875Z"
    }
   }
  },
  {
   "cell_type": "code",
   "execution_count": 22,
   "metadata": {
    "ExecuteTime": {
     "start_time": "2023-05-29T14:45:13.713140Z",
     "end_time": "2023-05-29T14:45:13.720706Z"
    }
   },
   "outputs": [
    {
     "data": {
      "text/plain": "Index(['label', 'oracleId', 'oracleType', 'projectName', 'packageName',\n       'className', 'javadocTag', 'methodJavadoc', 'methodSourceCode',\n       'classJavadoc', 'classSourceCode', 'oracleSoFar', 'token', 'tokenClass',\n       'tokenInfo'],\n      dtype='object')"
     },
     "execution_count": 22,
     "metadata": {},
     "output_type": "execute_result"
    }
   ],
   "source": [
    "df_dataset.columns"
   ]
  },
  {
   "cell_type": "code",
   "execution_count": 23,
   "metadata": {
    "ExecuteTime": {
     "start_time": "2023-05-29T14:45:15.203437Z",
     "end_time": "2023-05-29T14:45:15.216345Z"
    }
   },
   "outputs": [],
   "source": [
    "# delete the oracle ids and the tgt labels from the input dataset\n",
    "df_src = df_dataset.drop(['label','oracleId','projectName','classSourceCode','classJavadoc','token','tokenInfo'], axis=1)"
   ]
  },
  {
   "cell_type": "code",
   "execution_count": 24,
   "metadata": {
    "ExecuteTime": {
     "start_time": "2023-05-29T14:45:17.440537Z",
     "end_time": "2023-05-29T14:45:17.458334Z"
    }
   },
   "outputs": [
    {
     "data": {
      "text/plain": "(88262, 8)"
     },
     "execution_count": 24,
     "metadata": {},
     "output_type": "execute_result"
    }
   ],
   "source": [
    "df_src.shape"
   ]
  },
  {
   "cell_type": "code",
   "execution_count": 25,
   "metadata": {
    "ExecuteTime": {
     "start_time": "2023-05-29T14:45:20.313897Z",
     "end_time": "2023-05-29T14:45:21.151461Z"
    }
   },
   "outputs": [],
   "source": [
    "%%capture\n",
    "tokenizer = AutoTokenizer.from_pretrained(\"microsoft/codebert-base\", model_max_length=512)"
   ]
  },
  {
   "cell_type": "code",
   "execution_count": 26,
   "metadata": {
    "ExecuteTime": {
     "start_time": "2023-05-29T14:55:12.871458Z",
     "end_time": "2023-05-29T14:57:19.870296Z"
    }
   },
   "outputs": [
    {
     "name": "stderr",
     "output_type": "stream",
     "text": [
      "Token indices sequence length is longer than the specified maximum sequence length for this model (515 > 512). Running this sequence through the model will result in indexing errors\n"
     ]
    }
   ],
   "source": [
    "df_src_concat = df_src.apply(lambda row: tokenizer.tokenize(tokenizer.cls_token.join(row.values)), axis=1)\n",
    "# The pandas dataframe is transformed in a list of strings: each string is a input\n",
    "# to the model\n",
    "src = df_src_concat.to_numpy().tolist()\n",
    "\n",
    "#max_len = reduce(lambda max_len, s: len(s) if len(s) > max_len else max_len, src,0) + 2"
   ]
  },
  {
   "cell_type": "code",
   "execution_count": 11,
   "metadata": {},
   "outputs": [],
   "source": [
    "unique_values = df_dataset['tokenClass'].unique()"
   ]
  },
  {
   "cell_type": "code",
   "execution_count": 12,
   "metadata": {},
   "outputs": [
    {
     "data": {
      "text/plain": [
       "<StringArray>\n",
       "[        'MethodArgument',                  'Class',              'Semicolon',\n",
       "     'OpeningParenthesis',                   'TRUE',            'ArraysClass',\n",
       "                   'This',           'QuestionMark',         'MethodResultID',\n",
       "           'IneqOperator',             'EqOperator',                 'Period',\n",
       "     'InstanceOfOperator',             'MethodName',                   'NULL',\n",
       "     'ClosingParenthesis',                  'Colon',        'LogicalOperator',\n",
       "                  'FALSE',      'NonEqIneqOperator',                  'S_INT',\n",
       "  'BitwiseNegateOperator',                 'DOUBLE',   'ArithmeticalOperator',\n",
       "   'BitwiseShiftOperator',               'S_STRING',                'BOOLEAN',\n",
       "           'StreamMethod',            'MatchMethod',         'MatchMethodVar',\n",
       "             'RightArrow',             'ClassField',          'ClassModifier',\n",
       " 'BitwiseLogicalOperator',                  'Comma']\n",
       "Length: 35, dtype: string"
      ]
     },
     "execution_count": 12,
     "metadata": {},
     "output_type": "execute_result"
    }
   ],
   "source": [
    "unique_values"
   ]
  },
  {
   "cell_type": "code",
   "execution_count": 13,
   "metadata": {},
   "outputs": [
    {
     "ename": "NameError",
     "evalue": "name 'max_len' is not defined",
     "output_type": "error",
     "traceback": [
      "\u001B[0;31m---------------------------------------------------------------------------\u001B[0m",
      "\u001B[0;31mNameError\u001B[0m                                 Traceback (most recent call last)",
      "Cell \u001B[0;32mIn[13], line 1\u001B[0m\n\u001B[0;32m----> 1\u001B[0m max_len\n",
      "\u001B[0;31mNameError\u001B[0m: name 'max_len' is not defined"
     ]
    }
   ],
   "source": [
    "max_len"
   ]
  },
  {
   "cell_type": "code",
   "execution_count": null,
   "metadata": {},
   "outputs": [
    {
     "data": {
      "text/html": [
       "<div>\n",
       "<style scoped>\n",
       "    .dataframe tbody tr th:only-of-type {\n",
       "        vertical-align: middle;\n",
       "    }\n",
       "\n",
       "    .dataframe tbody tr th {\n",
       "        vertical-align: top;\n",
       "    }\n",
       "\n",
       "    .dataframe thead th {\n",
       "        text-align: right;\n",
       "    }\n",
       "</style>\n",
       "<table border=\"1\" class=\"dataframe\">\n",
       "  <thead>\n",
       "    <tr style=\"text-align: right;\">\n",
       "      <th></th>\n",
       "      <th>oracleType</th>\n",
       "      <th>packageName</th>\n",
       "      <th>className</th>\n",
       "      <th>javadocTag</th>\n",
       "      <th>oracleSoFar</th>\n",
       "      <th>tokenClass</th>\n",
       "    </tr>\n",
       "  </thead>\n",
       "  <tbody>\n",
       "    <tr>\n",
       "      <th>0</th>\n",
       "      <td>PRE</td>\n",
       "      <td>plume</td>\n",
       "      <td>Lookup</td>\n",
       "      <td>@param reader where to read the entry from</td>\n",
       "      <td></td>\n",
       "      <td>MethodArgument</td>\n",
       "    </tr>\n",
       "    <tr>\n",
       "      <th>1</th>\n",
       "      <td>PRE</td>\n",
       "      <td>plume</td>\n",
       "      <td>Lookup</td>\n",
       "      <td>@param reader where to read the entry from</td>\n",
       "      <td></td>\n",
       "      <td>Class</td>\n",
       "    </tr>\n",
       "    <tr>\n",
       "      <th>2</th>\n",
       "      <td>PRE</td>\n",
       "      <td>plume</td>\n",
       "      <td>Lookup</td>\n",
       "      <td>@param reader where to read the entry from</td>\n",
       "      <td></td>\n",
       "      <td>Semicolon</td>\n",
       "    </tr>\n",
       "    <tr>\n",
       "      <th>3</th>\n",
       "      <td>PRE</td>\n",
       "      <td>plume</td>\n",
       "      <td>Lookup</td>\n",
       "      <td>@param reader where to read the entry from</td>\n",
       "      <td></td>\n",
       "      <td>OpeningParenthesis</td>\n",
       "    </tr>\n",
       "    <tr>\n",
       "      <th>4</th>\n",
       "      <td>NORMAL_POST</td>\n",
       "      <td>plume</td>\n",
       "      <td>Lookup</td>\n",
       "      <td>the next entry, or null</td>\n",
       "      <td></td>\n",
       "      <td>MethodArgument</td>\n",
       "    </tr>\n",
       "  </tbody>\n",
       "</table>\n",
       "</div>"
      ],
      "text/plain": [
       "    oracleType packageName className  \\\n",
       "0          PRE       plume    Lookup   \n",
       "1          PRE       plume    Lookup   \n",
       "2          PRE       plume    Lookup   \n",
       "3          PRE       plume    Lookup   \n",
       "4  NORMAL_POST       plume    Lookup   \n",
       "\n",
       "                                   javadocTag oracleSoFar          tokenClass  \n",
       "0  @param reader where to read the entry from                  MethodArgument  \n",
       "1  @param reader where to read the entry from                           Class  \n",
       "2  @param reader where to read the entry from                       Semicolon  \n",
       "3  @param reader where to read the entry from              OpeningParenthesis  \n",
       "4                     the next entry, or null                  MethodArgument  "
      ]
     },
     "execution_count": 78,
     "metadata": {},
     "output_type": "execute_result"
    }
   ],
   "source": [
    "df_src.head()"
   ]
  },
  {
   "cell_type": "code",
   "execution_count": null,
   "metadata": {},
   "outputs": [
    {
     "data": {
      "text/plain": [
       "'PRE<s>plume<s>WeakIdentityPair<s>@param b second argument<s><s>Semicolon'"
      ]
     },
     "execution_count": 79,
     "metadata": {},
     "output_type": "execute_result"
    }
   ],
   "source": [
    "max(src)"
   ]
  },
  {
   "cell_type": "code",
   "execution_count": null,
   "metadata": {},
   "outputs": [],
   "source": [
    "# Assuming you have a list of strings named 'string_list'\n",
    "max_length_element = max(src, key=lambda x: len(x))\n",
    "\n",
    "# If you want to get the index of the element instead, you can use argmax()\n",
    "max_length_index = np.argmax([len(x) for x in src])"
   ]
  },
  {
   "cell_type": "code",
   "execution_count": null,
   "metadata": {},
   "outputs": [
    {
     "data": {
      "text/plain": [
       "'PRE<s>org.apache.commons.math3.ml.neuralnet.twod.util<s>UnifiedDistanceMatrix<s>@param individualDistances If {@code true}, the 8 individual\\ninter-units distances will be {@link #computeImage(NeuronSquareMesh2D)\\ncomputed}.  They will be stored in additional pixels around each of\\nthe original units of the 2D-map.  The additional pixels that lie\\nalong a \"diagonal\" are shared by <em>two</em> pairs of units: their\\nvalue will be set to the average distance between the units belonging\\nto each of the pairs.  The value zero will be stored in the pixel\\ncorresponding to the location of a unit of the 2D-map.\\n<br>\\nIf {@code false}, only the average distance between a unit and all its\\nneighbours will be computed (and stored in the pixel corresponding to\\nthat unit of the 2D-map).  In that case, the number of neighbours taken\\ninto account depends on the network\\'s\\n{@link org.apache.commons.math3.ml.neuralnet.SquareNeighbourhood\\nneighbourhood type}.<s><s>OpeningParenthesis'"
      ]
     },
     "execution_count": 84,
     "metadata": {},
     "output_type": "execute_result"
    }
   ],
   "source": [
    "max_length_element"
   ]
  },
  {
   "cell_type": "code",
   "execution_count": null,
   "metadata": {},
   "outputs": [
    {
     "data": {
      "text/plain": [
       "970"
      ]
     },
     "execution_count": 85,
     "metadata": {},
     "output_type": "execute_result"
    }
   ],
   "source": [
    "len(max_length_element)"
   ]
  },
  {
   "cell_type": "code",
   "execution_count": null,
   "metadata": {},
   "outputs": [],
   "source": [
    "b = []\n",
    "\n",
    "b.append(max_length_element)\n",
    "\n",
    "a = tokenizer(\n",
    "    b,\n",
    "    truncation=False\n",
    ")"
   ]
  },
  {
   "cell_type": "code",
   "execution_count": null,
   "metadata": {},
   "outputs": [
    {
     "data": {
      "text/plain": [
       "268"
      ]
     },
     "execution_count": 103,
     "metadata": {},
     "output_type": "execute_result"
    }
   ],
   "source": [
    "len(a[\"input_ids\"][0])"
   ]
  },
  {
   "cell_type": "code",
   "execution_count": null,
   "metadata": {},
   "outputs": [
    {
     "ename": "TypeError",
     "evalue": "new(): invalid data type 'str'",
     "output_type": "error",
     "traceback": [
      "\u001B[0;31m---------------------------------------------------------------------------\u001B[0m",
      "\u001B[0;31mTypeError\u001B[0m                                 Traceback (most recent call last)",
      "Cell \u001B[0;32mIn[91], line 1\u001B[0m\n\u001B[0;32m----> 1\u001B[0m torch\u001B[39m.\u001B[39mtensor(max_length_element)\n",
      "\u001B[0;31mTypeError\u001B[0m: new(): invalid data type 'str'"
     ]
    }
   ],
   "source": [
    "# Assuming you have a string named 'my_string'\n",
    "numerical_representation = [ord(char) for char in my_string]  # Convert string to a list of ASCII values\n",
    "\n",
    "# Create a PyTorch tensor from the numerical representation\n",
    "tensor = torch.tensor(numerical_representation)"
   ]
  },
  {
   "cell_type": "code",
   "execution_count": null,
   "metadata": {},
   "outputs": [
    {
     "data": {
      "text/plain": [
       "str"
      ]
     },
     "execution_count": 109,
     "metadata": {},
     "output_type": "execute_result"
    }
   ],
   "source": [
    "type(tokenizer.tokenize(max_length_element)[0])"
   ]
  },
  {
   "cell_type": "code",
   "execution_count": null,
   "metadata": {},
   "outputs": [
    {
     "data": {
      "text/plain": [
       "268"
      ]
     },
     "execution_count": 111,
     "metadata": {},
     "output_type": "execute_result"
    }
   ],
   "source": [
    "max_len"
   ]
  },
  {
   "cell_type": "code",
   "execution_count": null,
   "metadata": {},
   "outputs": [],
   "source": [
    "string_lengths = np.array([len(sublist) + 2 for sublist in src ])\n",
    "\n",
    "max_length = np.max(string_lengths)\n",
    "mean_length = np.mean(string_lengths)\n",
    "median_length = np.median(string_lengths)"
   ]
  },
  {
   "cell_type": "code",
   "execution_count": null,
   "metadata": {},
   "outputs": [
    {
     "data": {
      "text/plain": [
       "27727"
      ]
     },
     "execution_count": 11,
     "metadata": {},
     "output_type": "execute_result"
    }
   ],
   "source": [
    "max_length"
   ]
  },
  {
   "cell_type": "code",
   "execution_count": null,
   "metadata": {},
   "outputs": [
    {
     "data": {
      "text/plain": [
       "215.18788288835913"
      ]
     },
     "execution_count": 12,
     "metadata": {},
     "output_type": "execute_result"
    }
   ],
   "source": [
    "mean_length"
   ]
  },
  {
   "cell_type": "code",
   "execution_count": null,
   "metadata": {},
   "outputs": [
    {
     "data": {
      "text/plain": [
       "118.0"
      ]
     },
     "execution_count": 13,
     "metadata": {},
     "output_type": "execute_result"
    }
   ],
   "source": [
    "median_length"
   ]
  },
  {
   "cell_type": "code",
   "execution_count": 28,
   "metadata": {},
   "outputs": [],
   "source": [
    "filtered_strings = [string for string in src if len(string) < 512]"
   ]
  },
  {
   "cell_type": "code",
   "execution_count": null,
   "metadata": {},
   "outputs": [
    {
     "data": {
      "text/plain": [
       "189187"
      ]
     },
     "execution_count": 11,
     "metadata": {},
     "output_type": "execute_result"
    }
   ],
   "source": [
    "len(src)"
   ]
  },
  {
   "cell_type": "code",
   "execution_count": null,
   "metadata": {},
   "outputs": [
    {
     "data": {
      "text/plain": [
       "155578"
      ]
     },
     "execution_count": 12,
     "metadata": {},
     "output_type": "execute_result"
    }
   ],
   "source": [
    "len(filtered_strings)"
   ]
  },
  {
   "cell_type": "code",
   "execution_count": null,
   "metadata": {},
   "outputs": [
    {
     "data": {
      "text/plain": [
       "35"
      ]
     },
     "execution_count": 14,
     "metadata": {},
     "output_type": "execute_result"
    }
   ],
   "source": [
    "len(df_src[\"tokenClass\"].value_counts())"
   ]
  },
  {
   "cell_type": "code",
   "execution_count": 19,
   "metadata": {
    "ExecuteTime": {
     "start_time": "2023-05-29T10:49:25.935152Z",
     "end_time": "2023-05-29T10:49:25.949110Z"
    }
   },
   "outputs": [
    {
     "data": {
      "text/plain": "Class                     32428\nSemicolon                 31038\nMethodArgument            29226\nOpeningParenthesis        29003\nThis                      14980\nTRUE                      12001\nArraysClass                6109\nLogicalOperator            5729\nEqOperator                 5149\nIneqOperator               4098\nPeriod                     3778\nInstanceOfOperator         2651\nNULL                       2358\nS_INT                      2212\nClosingParenthesis         1368\nNonEqIneqOperator          1184\nMethodResultID              961\nDOUBLE                      887\nBitwiseNegateOperator       841\nFALSE                       828\nMethodName                  523\nColon                       386\nQuestionMark                296\nArithmeticalOperator        253\nClassField                  239\nBitwiseLogicalOperator      186\nBitwiseShiftOperator        186\nBOOLEAN                     138\nStreamMethod                 52\nMatchMethodVar               42\nMatchMethod                  14\nRightArrow                   14\nS_STRING                     13\nComma                         9\nClassModifier                 7\nName: tokenClass, dtype: Int64"
     },
     "execution_count": 19,
     "metadata": {},
     "output_type": "execute_result"
    }
   ],
   "source": [
    "df_dataset[\"tokenClass\"].value_counts()#/len(df_dataset[\"tokenClass\"]) * 100"
   ]
  },
  {
   "cell_type": "code",
   "execution_count": 17,
   "metadata": {},
   "outputs": [
    {
     "ename": "ValueError",
     "evalue": "invalid literal for int() with base 10: 'MethodArgument'",
     "output_type": "error",
     "traceback": [
      "\u001B[0;31m---------------------------------------------------------------------------\u001B[0m",
      "\u001B[0;31mValueError\u001B[0m                                Traceback (most recent call last)",
      "Cell \u001B[0;32mIn[17], line 1\u001B[0m\n\u001B[0;32m----> 1\u001B[0m np\u001B[39m.\u001B[39mbincount(df_src[\u001B[39m\"\u001B[39m\u001B[39mtokenClass\u001B[39m\u001B[39m\"\u001B[39m])\n",
      "File \u001B[0;32m<__array_function__ internals>:200\u001B[0m, in \u001B[0;36mbincount\u001B[0;34m(*args, **kwargs)\u001B[0m\n",
      "File \u001B[0;32m~/.conda/envs/tratto/lib/python3.11/site-packages/pandas/core/series.py:893\u001B[0m, in \u001B[0;36mSeries.__array__\u001B[0;34m(self, dtype)\u001B[0m\n\u001B[1;32m    846\u001B[0m \u001B[39mdef\u001B[39;00m \u001B[39m__array__\u001B[39m(\u001B[39mself\u001B[39m, dtype: npt\u001B[39m.\u001B[39mDTypeLike \u001B[39m|\u001B[39m \u001B[39mNone\u001B[39;00m \u001B[39m=\u001B[39m \u001B[39mNone\u001B[39;00m) \u001B[39m-\u001B[39m\u001B[39m>\u001B[39m np\u001B[39m.\u001B[39mndarray:\n\u001B[1;32m    847\u001B[0m     \u001B[39m\"\"\"\u001B[39;00m\n\u001B[1;32m    848\u001B[0m \u001B[39m    Return the values as a NumPy array.\u001B[39;00m\n\u001B[1;32m    849\u001B[0m \n\u001B[0;32m   (...)\u001B[0m\n\u001B[1;32m    891\u001B[0m \u001B[39m          dtype='datetime64[ns]')\u001B[39;00m\n\u001B[1;32m    892\u001B[0m \u001B[39m    \"\"\"\u001B[39;00m\n\u001B[0;32m--> 893\u001B[0m     \u001B[39mreturn\u001B[39;00m np\u001B[39m.\u001B[39masarray(\u001B[39mself\u001B[39m\u001B[39m.\u001B[39m_values, dtype)\n",
      "File \u001B[0;32m~/.conda/envs/tratto/lib/python3.11/site-packages/pandas/core/arrays/numpy_.py:126\u001B[0m, in \u001B[0;36mPandasArray.__array__\u001B[0;34m(self, dtype)\u001B[0m\n\u001B[1;32m    125\u001B[0m \u001B[39mdef\u001B[39;00m \u001B[39m__array__\u001B[39m(\u001B[39mself\u001B[39m, dtype: NpDtype \u001B[39m|\u001B[39m \u001B[39mNone\u001B[39;00m \u001B[39m=\u001B[39m \u001B[39mNone\u001B[39;00m) \u001B[39m-\u001B[39m\u001B[39m>\u001B[39m np\u001B[39m.\u001B[39mndarray:\n\u001B[0;32m--> 126\u001B[0m     \u001B[39mreturn\u001B[39;00m np\u001B[39m.\u001B[39masarray(\u001B[39mself\u001B[39m\u001B[39m.\u001B[39m_ndarray, dtype\u001B[39m=\u001B[39mdtype)\n",
      "\u001B[0;31mValueError\u001B[0m: invalid literal for int() with base 10: 'MethodArgument'"
     ]
    }
   ],
   "source": [
    "np.bincount(df_src[\"tokenClass\"])"
   ]
  },
  {
   "cell_type": "code",
   "execution_count": 14,
   "metadata": {},
   "outputs": [],
   "source": [
    "# Get unique values from the column\n",
    "unique_values = df_dataset['tokenClass'].unique()\n",
    "\n",
    "# Create a dictionary to map string values to their corresponding vector\n",
    "mapping = {}\n",
    "for i, value in enumerate(unique_values):\n",
    "    vector = np.zeros(len(unique_values))\n",
    "    vector[i] = 1.0\n",
    "    mapping[value] = list(vector)\n",
    "\n",
    "# Add a new column to the original DataFrame with the mapped vectors\n",
    "df_dataset['tokenClassVectorized'] = df_dataset['tokenClass'].map(mapping)"
   ]
  },
  {
   "cell_type": "code",
   "execution_count": 15,
   "metadata": {},
   "outputs": [
    {
     "data": {
      "text/html": [
       "<div>\n",
       "<style scoped>\n",
       "    .dataframe tbody tr th:only-of-type {\n",
       "        vertical-align: middle;\n",
       "    }\n",
       "\n",
       "    .dataframe tbody tr th {\n",
       "        vertical-align: top;\n",
       "    }\n",
       "\n",
       "    .dataframe thead th {\n",
       "        text-align: right;\n",
       "    }\n",
       "</style>\n",
       "<table border=\"1\" class=\"dataframe\">\n",
       "  <thead>\n",
       "    <tr style=\"text-align: right;\">\n",
       "      <th></th>\n",
       "      <th>label</th>\n",
       "      <th>oracleId</th>\n",
       "      <th>oracleType</th>\n",
       "      <th>projectName</th>\n",
       "      <th>packageName</th>\n",
       "      <th>className</th>\n",
       "      <th>javadocTag</th>\n",
       "      <th>methodJavadoc</th>\n",
       "      <th>methodSourceCode</th>\n",
       "      <th>classJavadoc</th>\n",
       "      <th>classSourceCode</th>\n",
       "      <th>oracleSoFar</th>\n",
       "      <th>token</th>\n",
       "      <th>tokenClass</th>\n",
       "      <th>tokenInfo</th>\n",
       "      <th>tokenClassVectorized</th>\n",
       "    </tr>\n",
       "  </thead>\n",
       "  <tbody>\n",
       "    <tr>\n",
       "      <th>0</th>\n",
       "      <td>False</td>\n",
       "      <td>15264</td>\n",
       "      <td>PRE</td>\n",
       "      <td>plume-lib-1.1.0</td>\n",
       "      <td>plume</td>\n",
       "      <td>Lookup</td>\n",
       "      <td>@param reader where to read the entry from</td>\n",
       "      <td>/**\n",
       "   * Returns the next entry.  If no more ...</td>\n",
       "      <td>public static Entry old_get_entry(EntryReader ...</td>\n",
       "      <td>/**\n",
       " * Lookup searches a set of files, much li...</td>\n",
       "      <td>package plume;\n",
       "\n",
       "import static plume.EntryReade...</td>\n",
       "      <td></td>\n",
       "      <td></td>\n",
       "      <td>MethodArgument</td>\n",
       "      <td></td>\n",
       "      <td>[1.0, 0.0, 0.0, 0.0, 0.0, 0.0, 0.0, 0.0, 0.0, ...</td>\n",
       "    </tr>\n",
       "    <tr>\n",
       "      <th>1</th>\n",
       "      <td>False</td>\n",
       "      <td>15264</td>\n",
       "      <td>PRE</td>\n",
       "      <td>plume-lib-1.1.0</td>\n",
       "      <td>plume</td>\n",
       "      <td>Lookup</td>\n",
       "      <td>@param reader where to read the entry from</td>\n",
       "      <td>/**\n",
       "   * Returns the next entry.  If no more ...</td>\n",
       "      <td>public static Entry old_get_entry(EntryReader ...</td>\n",
       "      <td>/**\n",
       " * Lookup searches a set of files, much li...</td>\n",
       "      <td>package plume;\n",
       "\n",
       "import static plume.EntryReade...</td>\n",
       "      <td></td>\n",
       "      <td></td>\n",
       "      <td>Class</td>\n",
       "      <td></td>\n",
       "      <td>[0.0, 1.0, 0.0, 0.0, 0.0, 0.0, 0.0, 0.0, 0.0, ...</td>\n",
       "    </tr>\n",
       "    <tr>\n",
       "      <th>2</th>\n",
       "      <td>True</td>\n",
       "      <td>15264</td>\n",
       "      <td>PRE</td>\n",
       "      <td>plume-lib-1.1.0</td>\n",
       "      <td>plume</td>\n",
       "      <td>Lookup</td>\n",
       "      <td>@param reader where to read the entry from</td>\n",
       "      <td>/**\n",
       "   * Returns the next entry.  If no more ...</td>\n",
       "      <td>public static Entry old_get_entry(EntryReader ...</td>\n",
       "      <td>/**\n",
       " * Lookup searches a set of files, much li...</td>\n",
       "      <td>package plume;\n",
       "\n",
       "import static plume.EntryReade...</td>\n",
       "      <td></td>\n",
       "      <td></td>\n",
       "      <td>Semicolon</td>\n",
       "      <td></td>\n",
       "      <td>[0.0, 0.0, 1.0, 0.0, 0.0, 0.0, 0.0, 0.0, 0.0, ...</td>\n",
       "    </tr>\n",
       "    <tr>\n",
       "      <th>3</th>\n",
       "      <td>False</td>\n",
       "      <td>15264</td>\n",
       "      <td>PRE</td>\n",
       "      <td>plume-lib-1.1.0</td>\n",
       "      <td>plume</td>\n",
       "      <td>Lookup</td>\n",
       "      <td>@param reader where to read the entry from</td>\n",
       "      <td>/**\n",
       "   * Returns the next entry.  If no more ...</td>\n",
       "      <td>public static Entry old_get_entry(EntryReader ...</td>\n",
       "      <td>/**\n",
       " * Lookup searches a set of files, much li...</td>\n",
       "      <td>package plume;\n",
       "\n",
       "import static plume.EntryReade...</td>\n",
       "      <td></td>\n",
       "      <td></td>\n",
       "      <td>OpeningParenthesis</td>\n",
       "      <td></td>\n",
       "      <td>[0.0, 0.0, 0.0, 1.0, 0.0, 0.0, 0.0, 0.0, 0.0, ...</td>\n",
       "    </tr>\n",
       "    <tr>\n",
       "      <th>4</th>\n",
       "      <td>False</td>\n",
       "      <td>15265</td>\n",
       "      <td>NORMAL_POST</td>\n",
       "      <td>plume-lib-1.1.0</td>\n",
       "      <td>plume</td>\n",
       "      <td>Lookup</td>\n",
       "      <td>the next entry, or null</td>\n",
       "      <td>/**\n",
       "   * Returns the next entry.  If no more ...</td>\n",
       "      <td>public static Entry old_get_entry(EntryReader ...</td>\n",
       "      <td>/**\n",
       " * Lookup searches a set of files, much li...</td>\n",
       "      <td>package plume;\n",
       "\n",
       "import static plume.EntryReade...</td>\n",
       "      <td></td>\n",
       "      <td></td>\n",
       "      <td>MethodArgument</td>\n",
       "      <td></td>\n",
       "      <td>[1.0, 0.0, 0.0, 0.0, 0.0, 0.0, 0.0, 0.0, 0.0, ...</td>\n",
       "    </tr>\n",
       "  </tbody>\n",
       "</table>\n",
       "</div>"
      ],
      "text/plain": [
       "   label  oracleId   oracleType      projectName packageName className  \\\n",
       "0  False     15264          PRE  plume-lib-1.1.0       plume    Lookup   \n",
       "1  False     15264          PRE  plume-lib-1.1.0       plume    Lookup   \n",
       "2   True     15264          PRE  plume-lib-1.1.0       plume    Lookup   \n",
       "3  False     15264          PRE  plume-lib-1.1.0       plume    Lookup   \n",
       "4  False     15265  NORMAL_POST  plume-lib-1.1.0       plume    Lookup   \n",
       "\n",
       "                                   javadocTag  \\\n",
       "0  @param reader where to read the entry from   \n",
       "1  @param reader where to read the entry from   \n",
       "2  @param reader where to read the entry from   \n",
       "3  @param reader where to read the entry from   \n",
       "4                     the next entry, or null   \n",
       "\n",
       "                                       methodJavadoc  \\\n",
       "0  \t/**\n",
       "   * Returns the next entry.  If no more ...   \n",
       "1  \t/**\n",
       "   * Returns the next entry.  If no more ...   \n",
       "2  \t/**\n",
       "   * Returns the next entry.  If no more ...   \n",
       "3  \t/**\n",
       "   * Returns the next entry.  If no more ...   \n",
       "4  \t/**\n",
       "   * Returns the next entry.  If no more ...   \n",
       "\n",
       "                                    methodSourceCode  \\\n",
       "0  public static Entry old_get_entry(EntryReader ...   \n",
       "1  public static Entry old_get_entry(EntryReader ...   \n",
       "2  public static Entry old_get_entry(EntryReader ...   \n",
       "3  public static Entry old_get_entry(EntryReader ...   \n",
       "4  public static Entry old_get_entry(EntryReader ...   \n",
       "\n",
       "                                        classJavadoc  \\\n",
       "0  /**\n",
       " * Lookup searches a set of files, much li...   \n",
       "1  /**\n",
       " * Lookup searches a set of files, much li...   \n",
       "2  /**\n",
       " * Lookup searches a set of files, much li...   \n",
       "3  /**\n",
       " * Lookup searches a set of files, much li...   \n",
       "4  /**\n",
       " * Lookup searches a set of files, much li...   \n",
       "\n",
       "                                     classSourceCode oracleSoFar token  \\\n",
       "0  package plume;\n",
       "\n",
       "import static plume.EntryReade...                     \n",
       "1  package plume;\n",
       "\n",
       "import static plume.EntryReade...                     \n",
       "2  package plume;\n",
       "\n",
       "import static plume.EntryReade...                     \n",
       "3  package plume;\n",
       "\n",
       "import static plume.EntryReade...                     \n",
       "4  package plume;\n",
       "\n",
       "import static plume.EntryReade...                     \n",
       "\n",
       "           tokenClass tokenInfo  \\\n",
       "0      MethodArgument             \n",
       "1               Class             \n",
       "2           Semicolon             \n",
       "3  OpeningParenthesis             \n",
       "4      MethodArgument             \n",
       "\n",
       "                                tokenClassVectorized  \n",
       "0  [1.0, 0.0, 0.0, 0.0, 0.0, 0.0, 0.0, 0.0, 0.0, ...  \n",
       "1  [0.0, 1.0, 0.0, 0.0, 0.0, 0.0, 0.0, 0.0, 0.0, ...  \n",
       "2  [0.0, 0.0, 1.0, 0.0, 0.0, 0.0, 0.0, 0.0, 0.0, ...  \n",
       "3  [0.0, 0.0, 0.0, 1.0, 0.0, 0.0, 0.0, 0.0, 0.0, ...  \n",
       "4  [1.0, 0.0, 0.0, 0.0, 0.0, 0.0, 0.0, 0.0, 0.0, ...  "
      ]
     },
     "execution_count": 15,
     "metadata": {},
     "output_type": "execute_result"
    }
   ],
   "source": [
    "df_dataset.head()"
   ]
  },
  {
   "cell_type": "code",
   "execution_count": 18,
   "metadata": {},
   "outputs": [
    {
     "data": {
      "text/plain": [
       "1.0000000000000002"
      ]
     },
     "execution_count": 18,
     "metadata": {},
     "output_type": "execute_result"
    }
   ],
   "source": [
    "# Convert string labels to integer labels\n",
    "unique_labels, integer_labels = np.unique(df_dataset[\"tokenClass\"], return_inverse=True)\n",
    "\n",
    "# Count the occurrences of each class\n",
    "class_counts = np.bincount(integer_labels)\n",
    "\n",
    "# Calculate the inverse class frequencies\n",
    "total_samples = np.sum(class_counts)\n",
    "class_frequencies = class_counts / total_samples\n",
    "class_weights = 1.0 / class_frequencies\n",
    "\n",
    "# Normalize the class weights\n",
    "class_weights /= np.sum(class_weights)\n",
    "\n",
    "class_weights.sum()"
   ]
  },
  {
   "cell_type": "code",
   "execution_count": 25,
   "metadata": {},
   "outputs": [
    {
     "data": {
      "text/plain": [
       "(array(['ArithmeticalOperator', 'ArraysClass', 'BOOLEAN',\n",
       "        'BitwiseLogicalOperator', 'BitwiseNegateOperator',\n",
       "        'BitwiseShiftOperator', 'Class', 'ClassField', 'ClassModifier',\n",
       "        'ClosingParenthesis', 'Colon', 'Comma', 'DOUBLE', 'EqOperator',\n",
       "        'FALSE', 'IneqOperator', 'InstanceOfOperator', 'LogicalOperator',\n",
       "        'MatchMethod', 'MatchMethodVar', 'MethodArgument', 'MethodName',\n",
       "        'MethodResultID', 'NULL', 'NonEqIneqOperator',\n",
       "        'OpeningParenthesis', 'Period', 'QuestionMark', 'RightArrow',\n",
       "        'S_INT', 'S_STRING', 'Semicolon', 'StreamMethod', 'TRUE', 'This'],\n",
       "       dtype=object),\n",
       " array([  253,  6109,   138,   186,   841,   186, 32428,   239,     7,\n",
       "         1368,   386,     9,   887,  5149,   828,  4098,  2651,  5729,\n",
       "           14,    42, 29226,   523,   961,  2358,  1184, 29003,  3778,\n",
       "          296,    14,  2212,    13, 31038,    52, 12001, 14980]))"
      ]
     },
     "execution_count": 25,
     "metadata": {},
     "output_type": "execute_result"
    }
   ],
   "source": [
    "np.unique(df_dataset[\"tokenClass\"], return_counts=True)"
   ]
  },
  {
   "cell_type": "code",
   "execution_count": 22,
   "metadata": {},
   "outputs": [
    {
     "data": {
      "text/plain": [
       "35"
      ]
     },
     "execution_count": 22,
     "metadata": {},
     "output_type": "execute_result"
    }
   ],
   "source": [
    "len(unique_labels)"
   ]
  },
  {
   "cell_type": "code",
   "execution_count": 11,
   "outputs": [],
   "source": [
    "a = df_dataset[df_dataset[\"tokenClass\"]==\"Class\"]"
   ],
   "metadata": {
    "collapsed": false,
    "ExecuteTime": {
     "start_time": "2023-05-29T10:46:13.051289Z",
     "end_time": "2023-05-29T10:46:13.088274Z"
    }
   }
  },
  {
   "cell_type": "code",
   "execution_count": 14,
   "outputs": [
    {
     "data": {
      "text/plain": "      label  oracleId   oracleType               projectName  \\\n143   False       813  EXCEPT_POST       commons-math3-3.6.1   \n144   False       813  EXCEPT_POST       commons-math3-3.6.1   \n145   False       813  EXCEPT_POST       commons-math3-3.6.1   \n146   False       813  EXCEPT_POST       commons-math3-3.6.1   \n147   False       813  EXCEPT_POST       commons-math3-3.6.1   \n...     ...       ...          ...                       ...   \n1462  False     22109  NORMAL_POST  commons-collections4-4.1   \n1463  False     22109  NORMAL_POST  commons-collections4-4.1   \n1464  False     22109  NORMAL_POST  commons-collections4-4.1   \n1465  False     22109  NORMAL_POST  commons-collections4-4.1   \n1466  False     22109  NORMAL_POST  commons-collections4-4.1   \n\n                          packageName    className  \\\n143   org.apache.commons.math3.linear  MatrixUtils   \n144   org.apache.commons.math3.linear  MatrixUtils   \n145   org.apache.commons.math3.linear  MatrixUtils   \n146   org.apache.commons.math3.linear  MatrixUtils   \n147   org.apache.commons.math3.linear  MatrixUtils   \n...                               ...          ...   \n1462  org.apache.commons.collections4     BagUtils   \n1463  org.apache.commons.collections4     BagUtils   \n1464  org.apache.commons.collections4     BagUtils   \n1465  org.apache.commons.collections4     BagUtils   \n1466  org.apache.commons.collections4     BagUtils   \n\n                                             javadocTag  \\\n143   @throws org.apache.commons.math3.linear.NonSym...   \n144   @throws org.apache.commons.math3.linear.NonSym...   \n145   @throws org.apache.commons.math3.linear.NonSym...   \n146   @throws org.apache.commons.math3.linear.NonSym...   \n147   @throws org.apache.commons.math3.linear.NonSym...   \n...                                                 ...   \n1462                               an empty sorted Bag.   \n1463                               an empty sorted Bag.   \n1464                               an empty sorted Bag.   \n1465                               an empty sorted Bag.   \n1466                               an empty sorted Bag.   \n\n                                          methodJavadoc  \\\n143   \t/**\n     * Checks whether a matrix is symmetr...   \n144   \t/**\n     * Checks whether a matrix is symmetr...   \n145   \t/**\n     * Checks whether a matrix is symmetr...   \n146   \t/**\n     * Checks whether a matrix is symmetr...   \n147   \t/**\n     * Checks whether a matrix is symmetr...   \n...                                                 ...   \n1462  \t/**\n     * Get an empty <code>SortedBag</code...   \n1463  \t/**\n     * Get an empty <code>SortedBag</code...   \n1464  \t/**\n     * Get an empty <code>SortedBag</code...   \n1465  \t/**\n     * Get an empty <code>SortedBag</code...   \n1466  \t/**\n     * Get an empty <code>SortedBag</code...   \n\n                                       methodSourceCode  \\\n143   public static void checkSymmetric(RealMatrix m...   \n144   public static void checkSymmetric(RealMatrix m...   \n145   public static void checkSymmetric(RealMatrix m...   \n146   public static void checkSymmetric(RealMatrix m...   \n147   public static void checkSymmetric(RealMatrix m...   \n...                                                 ...   \n1462  public static <E> SortedBag<E> emptySortedBag(...   \n1463  public static <E> SortedBag<E> emptySortedBag(...   \n1464  public static <E> SortedBag<E> emptySortedBag(...   \n1465  public static <E> SortedBag<E> emptySortedBag(...   \n1466  public static <E> SortedBag<E> emptySortedBag(...   \n\n                                           classJavadoc  \\\n143   /**\n * A collection of static methods that ope...   \n144   /**\n * A collection of static methods that ope...   \n145   /**\n * A collection of static methods that ope...   \n146   /**\n * A collection of static methods that ope...   \n147   /**\n * A collection of static methods that ope...   \n...                                                 ...   \n1462  /**\n * Provides utility methods and decorators...   \n1463  /**\n * Provides utility methods and decorators...   \n1464  /**\n * Provides utility methods and decorators...   \n1465  /**\n * Provides utility methods and decorators...   \n1466  /**\n * Provides utility methods and decorators...   \n\n                                        classSourceCode  \\\n143   /*\n * Licensed to the Apache Software Foundati...   \n144   /*\n * Licensed to the Apache Software Foundati...   \n145   /*\n * Licensed to the Apache Software Foundati...   \n146   /*\n * Licensed to the Apache Software Foundati...   \n147   /*\n * Licensed to the Apache Software Foundati...   \n...                                                 ...   \n1462  /*\n * Licensed to the Apache Software Foundati...   \n1463  /*\n * Licensed to the Apache Software Foundati...   \n1464  /*\n * Licensed to the Apache Software Foundati...   \n1465  /*\n * Licensed to the Apache Software Foundati...   \n1466  /*\n * Licensed to the Apache Software Foundati...   \n\n                      oracleSoFar                                token  \\\n143                             (                     RealFieldElement   \n144                             (                               Primes   \n145                             (                          SmallPrimes   \n146                             (                           PollardRho   \n147                             (                          CurveFitter   \n...                           ...                                  ...   \n1462  true?methodResultID.equals(     AbstractUntypedIteratorDecorator   \n1463  true?methodResultID.equals(  AbstractOrderedMapIteratorDecorator   \n1464  true?methodResultID.equals(                   FilterListIterator   \n1465  true?methodResultID.equals(                        SplitMapUtils   \n1466  true?methodResultID.equals(                           BoundedMap   \n\n     tokenClass                                          tokenInfo  \n143       Class   ['org.apache.commons.math3', 'RealFieldElement']  \n144       Class      ['org.apache.commons.math3.primes', 'Primes']  \n145       Class  ['org.apache.commons.math3.primes', 'SmallPrim...  \n146       Class  ['org.apache.commons.math3.primes', 'PollardRho']  \n147       Class  ['org.apache.commons.math3.fitting', 'CurveFit...  \n...         ...                                                ...  \n1462      Class  ['org.apache.commons.collections4.iterators', ...  \n1463      Class  ['org.apache.commons.collections4.iterators', ...  \n1464      Class  ['org.apache.commons.collections4.iterators', ...  \n1465      Class  ['org.apache.commons.collections4', 'SplitMapU...  \n1466      Class  ['org.apache.commons.collections4', 'BoundedMap']  \n\n[24840 rows x 15 columns]",
      "text/html": "<div>\n<style scoped>\n    .dataframe tbody tr th:only-of-type {\n        vertical-align: middle;\n    }\n\n    .dataframe tbody tr th {\n        vertical-align: top;\n    }\n\n    .dataframe thead th {\n        text-align: right;\n    }\n</style>\n<table border=\"1\" class=\"dataframe\">\n  <thead>\n    <tr style=\"text-align: right;\">\n      <th></th>\n      <th>label</th>\n      <th>oracleId</th>\n      <th>oracleType</th>\n      <th>projectName</th>\n      <th>packageName</th>\n      <th>className</th>\n      <th>javadocTag</th>\n      <th>methodJavadoc</th>\n      <th>methodSourceCode</th>\n      <th>classJavadoc</th>\n      <th>classSourceCode</th>\n      <th>oracleSoFar</th>\n      <th>token</th>\n      <th>tokenClass</th>\n      <th>tokenInfo</th>\n    </tr>\n  </thead>\n  <tbody>\n    <tr>\n      <th>143</th>\n      <td>False</td>\n      <td>813</td>\n      <td>EXCEPT_POST</td>\n      <td>commons-math3-3.6.1</td>\n      <td>org.apache.commons.math3.linear</td>\n      <td>MatrixUtils</td>\n      <td>@throws org.apache.commons.math3.linear.NonSym...</td>\n      <td>/**\n     * Checks whether a matrix is symmetr...</td>\n      <td>public static void checkSymmetric(RealMatrix m...</td>\n      <td>/**\n * A collection of static methods that ope...</td>\n      <td>/*\n * Licensed to the Apache Software Foundati...</td>\n      <td>(</td>\n      <td>RealFieldElement</td>\n      <td>Class</td>\n      <td>['org.apache.commons.math3', 'RealFieldElement']</td>\n    </tr>\n    <tr>\n      <th>144</th>\n      <td>False</td>\n      <td>813</td>\n      <td>EXCEPT_POST</td>\n      <td>commons-math3-3.6.1</td>\n      <td>org.apache.commons.math3.linear</td>\n      <td>MatrixUtils</td>\n      <td>@throws org.apache.commons.math3.linear.NonSym...</td>\n      <td>/**\n     * Checks whether a matrix is symmetr...</td>\n      <td>public static void checkSymmetric(RealMatrix m...</td>\n      <td>/**\n * A collection of static methods that ope...</td>\n      <td>/*\n * Licensed to the Apache Software Foundati...</td>\n      <td>(</td>\n      <td>Primes</td>\n      <td>Class</td>\n      <td>['org.apache.commons.math3.primes', 'Primes']</td>\n    </tr>\n    <tr>\n      <th>145</th>\n      <td>False</td>\n      <td>813</td>\n      <td>EXCEPT_POST</td>\n      <td>commons-math3-3.6.1</td>\n      <td>org.apache.commons.math3.linear</td>\n      <td>MatrixUtils</td>\n      <td>@throws org.apache.commons.math3.linear.NonSym...</td>\n      <td>/**\n     * Checks whether a matrix is symmetr...</td>\n      <td>public static void checkSymmetric(RealMatrix m...</td>\n      <td>/**\n * A collection of static methods that ope...</td>\n      <td>/*\n * Licensed to the Apache Software Foundati...</td>\n      <td>(</td>\n      <td>SmallPrimes</td>\n      <td>Class</td>\n      <td>['org.apache.commons.math3.primes', 'SmallPrim...</td>\n    </tr>\n    <tr>\n      <th>146</th>\n      <td>False</td>\n      <td>813</td>\n      <td>EXCEPT_POST</td>\n      <td>commons-math3-3.6.1</td>\n      <td>org.apache.commons.math3.linear</td>\n      <td>MatrixUtils</td>\n      <td>@throws org.apache.commons.math3.linear.NonSym...</td>\n      <td>/**\n     * Checks whether a matrix is symmetr...</td>\n      <td>public static void checkSymmetric(RealMatrix m...</td>\n      <td>/**\n * A collection of static methods that ope...</td>\n      <td>/*\n * Licensed to the Apache Software Foundati...</td>\n      <td>(</td>\n      <td>PollardRho</td>\n      <td>Class</td>\n      <td>['org.apache.commons.math3.primes', 'PollardRho']</td>\n    </tr>\n    <tr>\n      <th>147</th>\n      <td>False</td>\n      <td>813</td>\n      <td>EXCEPT_POST</td>\n      <td>commons-math3-3.6.1</td>\n      <td>org.apache.commons.math3.linear</td>\n      <td>MatrixUtils</td>\n      <td>@throws org.apache.commons.math3.linear.NonSym...</td>\n      <td>/**\n     * Checks whether a matrix is symmetr...</td>\n      <td>public static void checkSymmetric(RealMatrix m...</td>\n      <td>/**\n * A collection of static methods that ope...</td>\n      <td>/*\n * Licensed to the Apache Software Foundati...</td>\n      <td>(</td>\n      <td>CurveFitter</td>\n      <td>Class</td>\n      <td>['org.apache.commons.math3.fitting', 'CurveFit...</td>\n    </tr>\n    <tr>\n      <th>...</th>\n      <td>...</td>\n      <td>...</td>\n      <td>...</td>\n      <td>...</td>\n      <td>...</td>\n      <td>...</td>\n      <td>...</td>\n      <td>...</td>\n      <td>...</td>\n      <td>...</td>\n      <td>...</td>\n      <td>...</td>\n      <td>...</td>\n      <td>...</td>\n      <td>...</td>\n    </tr>\n    <tr>\n      <th>1462</th>\n      <td>False</td>\n      <td>22109</td>\n      <td>NORMAL_POST</td>\n      <td>commons-collections4-4.1</td>\n      <td>org.apache.commons.collections4</td>\n      <td>BagUtils</td>\n      <td>an empty sorted Bag.</td>\n      <td>/**\n     * Get an empty &lt;code&gt;SortedBag&lt;/code...</td>\n      <td>public static &lt;E&gt; SortedBag&lt;E&gt; emptySortedBag(...</td>\n      <td>/**\n * Provides utility methods and decorators...</td>\n      <td>/*\n * Licensed to the Apache Software Foundati...</td>\n      <td>true?methodResultID.equals(</td>\n      <td>AbstractUntypedIteratorDecorator</td>\n      <td>Class</td>\n      <td>['org.apache.commons.collections4.iterators', ...</td>\n    </tr>\n    <tr>\n      <th>1463</th>\n      <td>False</td>\n      <td>22109</td>\n      <td>NORMAL_POST</td>\n      <td>commons-collections4-4.1</td>\n      <td>org.apache.commons.collections4</td>\n      <td>BagUtils</td>\n      <td>an empty sorted Bag.</td>\n      <td>/**\n     * Get an empty &lt;code&gt;SortedBag&lt;/code...</td>\n      <td>public static &lt;E&gt; SortedBag&lt;E&gt; emptySortedBag(...</td>\n      <td>/**\n * Provides utility methods and decorators...</td>\n      <td>/*\n * Licensed to the Apache Software Foundati...</td>\n      <td>true?methodResultID.equals(</td>\n      <td>AbstractOrderedMapIteratorDecorator</td>\n      <td>Class</td>\n      <td>['org.apache.commons.collections4.iterators', ...</td>\n    </tr>\n    <tr>\n      <th>1464</th>\n      <td>False</td>\n      <td>22109</td>\n      <td>NORMAL_POST</td>\n      <td>commons-collections4-4.1</td>\n      <td>org.apache.commons.collections4</td>\n      <td>BagUtils</td>\n      <td>an empty sorted Bag.</td>\n      <td>/**\n     * Get an empty &lt;code&gt;SortedBag&lt;/code...</td>\n      <td>public static &lt;E&gt; SortedBag&lt;E&gt; emptySortedBag(...</td>\n      <td>/**\n * Provides utility methods and decorators...</td>\n      <td>/*\n * Licensed to the Apache Software Foundati...</td>\n      <td>true?methodResultID.equals(</td>\n      <td>FilterListIterator</td>\n      <td>Class</td>\n      <td>['org.apache.commons.collections4.iterators', ...</td>\n    </tr>\n    <tr>\n      <th>1465</th>\n      <td>False</td>\n      <td>22109</td>\n      <td>NORMAL_POST</td>\n      <td>commons-collections4-4.1</td>\n      <td>org.apache.commons.collections4</td>\n      <td>BagUtils</td>\n      <td>an empty sorted Bag.</td>\n      <td>/**\n     * Get an empty &lt;code&gt;SortedBag&lt;/code...</td>\n      <td>public static &lt;E&gt; SortedBag&lt;E&gt; emptySortedBag(...</td>\n      <td>/**\n * Provides utility methods and decorators...</td>\n      <td>/*\n * Licensed to the Apache Software Foundati...</td>\n      <td>true?methodResultID.equals(</td>\n      <td>SplitMapUtils</td>\n      <td>Class</td>\n      <td>['org.apache.commons.collections4', 'SplitMapU...</td>\n    </tr>\n    <tr>\n      <th>1466</th>\n      <td>False</td>\n      <td>22109</td>\n      <td>NORMAL_POST</td>\n      <td>commons-collections4-4.1</td>\n      <td>org.apache.commons.collections4</td>\n      <td>BagUtils</td>\n      <td>an empty sorted Bag.</td>\n      <td>/**\n     * Get an empty &lt;code&gt;SortedBag&lt;/code...</td>\n      <td>public static &lt;E&gt; SortedBag&lt;E&gt; emptySortedBag(...</td>\n      <td>/**\n * Provides utility methods and decorators...</td>\n      <td>/*\n * Licensed to the Apache Software Foundati...</td>\n      <td>true?methodResultID.equals(</td>\n      <td>BoundedMap</td>\n      <td>Class</td>\n      <td>['org.apache.commons.collections4', 'BoundedMap']</td>\n    </tr>\n  </tbody>\n</table>\n<p>24840 rows × 15 columns</p>\n</div>"
     },
     "execution_count": 14,
     "metadata": {},
     "output_type": "execute_result"
    }
   ],
   "source": [
    "a"
   ],
   "metadata": {
    "collapsed": false,
    "ExecuteTime": {
     "start_time": "2023-05-29T10:46:30.550668Z",
     "end_time": "2023-05-29T10:46:30.563023Z"
    }
   }
  },
  {
   "cell_type": "code",
   "execution_count": null,
   "outputs": [],
   "source": [],
   "metadata": {
    "collapsed": false
   }
  }
 ],
 "metadata": {
  "kernelspec": {
   "display_name": "tratto",
   "language": "python",
   "name": "python3"
  },
  "language_info": {
   "codemirror_mode": {
    "name": "ipython",
    "version": 3
   },
   "file_extension": ".py",
   "mimetype": "text/x-python",
   "name": "python",
   "nbconvert_exporter": "python",
   "pygments_lexer": "ipython3",
   "version": "3.11.3 | packaged by conda-forge | (main, Apr  6 2023, 08:57:19) [GCC 11.3.0]"
  },
  "orig_nbformat": 4,
  "vscode": {
   "interpreter": {
    "hash": "4baf8ca64f576eefa27491d265483fc5223469915e486f115fcdc807150b49f0"
   }
  }
 },
 "nbformat": 4,
 "nbformat_minor": 2
}
