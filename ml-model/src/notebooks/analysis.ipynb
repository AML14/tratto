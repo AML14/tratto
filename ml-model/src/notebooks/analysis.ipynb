{
 "cells": [
  {
   "cell_type": "code",
   "execution_count": 47,
   "metadata": {},
   "outputs": [
    {
     "name": "stdout",
     "output_type": "stream",
     "text": [
      "\u001B[31mERROR: You must give at least one requirement to install (see \"pip help install\")\u001B[0m\n"
     ]
    }
   ],
   "source": []
  },
  {
   "cell_type": "code",
   "execution_count": 2,
   "metadata": {
    "ExecuteTime": {
     "start_time": "2023-06-02T10:41:27.620970Z",
     "end_time": "2023-06-02T10:41:27.739887Z"
    }
   },
   "outputs": [],
   "source": [
    "import os\n",
    "import numpy as np\n",
    "import torch\n",
    "import pandas as pd\n",
    "from functools import reduce\n",
    "from transformers import AutoTokenizer, RobertaTokenizer"
   ]
  },
  {
   "cell_type": "code",
   "execution_count": 3,
   "metadata": {
    "ExecuteTime": {
     "start_time": "2023-06-02T10:41:29.498963Z",
     "end_time": "2023-06-02T10:41:29.504481Z"
    }
   },
   "outputs": [],
   "source": [
    "device = torch.device(\"cpu\")"
   ]
  },
  {
   "cell_type": "code",
   "execution_count": 4,
   "metadata": {
    "ExecuteTime": {
     "start_time": "2023-06-02T10:41:29.868600Z",
     "end_time": "2023-06-02T10:41:29.874172Z"
    }
   },
   "outputs": [],
   "source": [
    "d_path = os.path.join(os.getcwd(), \"..\", \"..\", \"token-classes-dataset\")"
   ]
  },
  {
   "cell_type": "code",
   "execution_count": 5,
   "metadata": {
    "ExecuteTime": {
     "start_time": "2023-06-02T10:41:32.115660Z",
     "end_time": "2023-06-02T10:42:04.875454Z"
    }
   },
   "outputs": [],
   "source": [
    "# list of partial dataframes\n",
    "dfs = []\n",
    "\n",
    "# collects partial dataframes from oracles\n",
    "for file_name in os.listdir(d_path):\n",
    "    df = pd.read_json(os.path.join(d_path,  file_name))\n",
    "    dfs.append(df)\n",
    "\n",
    "df_dataset = pd.concat(dfs)\n",
    "# drop column id (it is not relevant for training the model)\n",
    "df_dataset = df_dataset.drop(['id'], axis=1)\n",
    "# map empty cells to empty strings\n",
    "df_dataset.fillna('', inplace=True)\n",
    "# specify the type of each column in the dataset\n",
    "df_dataset = df_dataset.astype({\n",
    "    'label': 'bool',\n",
    "    'oracleId': 'int64',\n",
    "    'oracleType': 'string',\n",
    "    'projectName': 'string',\n",
    "    'packageName': 'string',\n",
    "    'className': 'string',\n",
    "    'javadocTag': 'string',\n",
    "    'methodJavadoc': 'string',\n",
    "    'methodSourceCode': 'string',\n",
    "    'classJavadoc': 'string',\n",
    "    'classSourceCode': 'string',\n",
    "    'oracleSoFar': 'string',\n",
    "    'token': 'string',\n",
    "    'tokenClass': 'string',\n",
    "    'tokenInfo': 'string'\n",
    "})"
   ]
  },
  {
   "cell_type": "code",
   "execution_count": 6,
   "outputs": [
    {
     "data": {
      "text/plain": "(189187, 15)"
     },
     "execution_count": 6,
     "metadata": {},
     "output_type": "execute_result"
    }
   ],
   "source": [
    "df_dataset.shape"
   ],
   "metadata": {
    "collapsed": false,
    "ExecuteTime": {
     "start_time": "2023-06-02T10:42:04.865976Z",
     "end_time": "2023-06-02T10:42:04.889454Z"
    }
   }
  },
  {
   "cell_type": "code",
   "execution_count": 7,
   "outputs": [],
   "source": [
    "unique_values = df_dataset['tokenClass'].unique()"
   ],
   "metadata": {
    "collapsed": false,
    "ExecuteTime": {
     "start_time": "2023-06-02T10:42:04.893223Z",
     "end_time": "2023-06-02T10:42:04.930126Z"
    }
   }
  },
  {
   "cell_type": "code",
   "execution_count": 8,
   "outputs": [
    {
     "data": {
      "text/plain": "<StringArray>\n[        'MethodArgument',                  'Class',                   'This',\n                   'TRUE',              'Semicolon',     'OpeningParenthesis',\n            'ArraysClass',           'IneqOperator',             'EqOperator',\n                 'Period',     'InstanceOfOperator',                   'NULL',\n        'LogicalOperator',      'NonEqIneqOperator',                  'S_INT',\n  'BitwiseNegateOperator',           'QuestionMark',         'MethodResultID',\n             'MethodName',     'ClosingParenthesis',                  'Colon',\n                  'FALSE',           'StreamMethod',                'BOOLEAN',\n                  'Comma',             'ClassField', 'BitwiseLogicalOperator',\n   'ArithmeticalOperator',   'BitwiseShiftOperator',                 'DOUBLE',\n            'MatchMethod',         'MatchMethodVar',             'RightArrow',\n          'ClassModifier',               'S_STRING']\nLength: 35, dtype: string"
     },
     "execution_count": 8,
     "metadata": {},
     "output_type": "execute_result"
    }
   ],
   "source": [
    "unique_values"
   ],
   "metadata": {
    "collapsed": false,
    "ExecuteTime": {
     "start_time": "2023-06-02T10:42:04.917239Z",
     "end_time": "2023-06-02T10:42:04.946481Z"
    }
   }
  },
  {
   "cell_type": "code",
   "execution_count": 9,
   "metadata": {
    "ExecuteTime": {
     "start_time": "2023-06-02T10:42:04.924734Z",
     "end_time": "2023-06-02T10:42:04.946927Z"
    }
   },
   "outputs": [
    {
     "data": {
      "text/plain": "Index(['label', 'oracleId', 'oracleType', 'projectName', 'packageName',\n       'className', 'javadocTag', 'methodJavadoc', 'methodSourceCode',\n       'classJavadoc', 'classSourceCode', 'oracleSoFar', 'token', 'tokenClass',\n       'tokenInfo'],\n      dtype='object')"
     },
     "execution_count": 9,
     "metadata": {},
     "output_type": "execute_result"
    }
   ],
   "source": [
    "df_dataset.columns"
   ]
  },
  {
   "cell_type": "code",
   "execution_count": 10,
   "metadata": {
    "ExecuteTime": {
     "start_time": "2023-06-02T10:42:04.934155Z",
     "end_time": "2023-06-02T10:42:04.947427Z"
    }
   },
   "outputs": [],
   "source": [
    "# delete the oracle ids and the tgt labels from the input dataset\n",
    "df_src = df_dataset.drop(['label','oracleId','projectName','classSourceCode','classJavadoc','token','tokenInfo'], axis=1)"
   ]
  },
  {
   "cell_type": "code",
   "execution_count": 11,
   "metadata": {
    "ExecuteTime": {
     "start_time": "2023-06-02T10:42:04.939863Z",
     "end_time": "2023-06-02T10:42:04.947802Z"
    }
   },
   "outputs": [
    {
     "data": {
      "text/plain": "(189187, 8)"
     },
     "execution_count": 11,
     "metadata": {},
     "output_type": "execute_result"
    }
   ],
   "source": [
    "df_src.shape"
   ]
  },
  {
   "cell_type": "code",
   "execution_count": 12,
   "metadata": {
    "ExecuteTime": {
     "start_time": "2023-06-02T10:46:44.069314Z",
     "end_time": "2023-06-02T10:46:48.059314Z"
    }
   },
   "outputs": [],
   "source": [
    "%%capture\n",
    "tokenizer = RobertaTokenizer.from_pretrained('roberta-base', do_lower_case=False) #AutoTokenizer.from_pretrained(\"microsoft/codebert-base\", model_max_length=512)"
   ]
  },
  {
   "cell_type": "code",
   "execution_count": 23,
   "metadata": {
    "ExecuteTime": {
     "start_time": "2023-06-02T10:56:19.719221Z",
     "end_time": "2023-06-02T11:02:55.128697Z"
    }
   },
   "outputs": [],
   "source": [
    "df_src_concat = df_src.apply(lambda row: tokenizer.tokenize(tokenizer.cls_token.join(row.values)), axis=1)\n",
    "# The pandas dataframe is transformed in a list of strings: each string is a input\n",
    "# to the model\n",
    "src = df_src_concat.to_numpy().tolist()\n",
    "\n",
    "#max_len = reduce(lambda max_len, s: len(s) if len(s) > max_len else max_len, src,0) + 2"
   ]
  },
  {
   "cell_type": "code",
   "execution_count": 28,
   "outputs": [],
   "source": [
    "%%capture\n",
    "tokenizer_2 = AutoTokenizer.from_pretrained(\"microsoft/codebert-base\", model_max_length=512)\n"
   ],
   "metadata": {
    "collapsed": false,
    "ExecuteTime": {
     "start_time": "2023-06-02T11:06:44.160157Z",
     "end_time": "2023-06-02T11:06:45.110433Z"
    }
   }
  },
  {
   "cell_type": "code",
   "execution_count": 30,
   "outputs": [
    {
     "name": "stderr",
     "output_type": "stream",
     "text": [
      "Token indices sequence length is longer than the specified maximum sequence length for this model (653 > 512). Running this sequence through the model will result in indexing errors\n"
     ]
    }
   ],
   "source": [
    "df_src_concat_2 = df_src.apply(lambda row: tokenizer_2.tokenize(tokenizer.cls_token.join(row.values)), axis=1)\n",
    "# The pandas dataframe is transformed in a list of strings: each string is a input\n",
    "# to the model\n",
    "src_2 = df_src_concat.to_numpy().tolist()\n",
    "\n",
    "#max_len = reduce(lambda max_len, s: len(s) if len(s) > max_len else max_len, src,0) + 2"
   ],
   "metadata": {
    "collapsed": false,
    "ExecuteTime": {
     "start_time": "2023-06-02T11:13:31.660221Z",
     "end_time": "2023-06-02T11:17:59.921950Z"
    }
   }
  },
  {
   "cell_type": "code",
   "execution_count": 14,
   "metadata": {
    "ExecuteTime": {
     "start_time": "2023-06-02T10:53:48.182044Z",
     "end_time": "2023-06-02T10:53:48.208211Z"
    }
   },
   "outputs": [],
   "source": [
    "unique_values = df_dataset['tokenClass'].unique()"
   ]
  },
  {
   "cell_type": "code",
   "execution_count": 15,
   "metadata": {
    "ExecuteTime": {
     "start_time": "2023-06-02T10:53:49.034070Z",
     "end_time": "2023-06-02T10:53:49.051537Z"
    }
   },
   "outputs": [
    {
     "data": {
      "text/plain": "<StringArray>\n[        'MethodArgument',                  'Class',                   'This',\n                   'TRUE',              'Semicolon',     'OpeningParenthesis',\n            'ArraysClass',           'IneqOperator',             'EqOperator',\n                 'Period',     'InstanceOfOperator',                   'NULL',\n        'LogicalOperator',      'NonEqIneqOperator',                  'S_INT',\n  'BitwiseNegateOperator',           'QuestionMark',         'MethodResultID',\n             'MethodName',     'ClosingParenthesis',                  'Colon',\n                  'FALSE',           'StreamMethod',                'BOOLEAN',\n                  'Comma',             'ClassField', 'BitwiseLogicalOperator',\n   'ArithmeticalOperator',   'BitwiseShiftOperator',                 'DOUBLE',\n            'MatchMethod',         'MatchMethodVar',             'RightArrow',\n          'ClassModifier',               'S_STRING']\nLength: 35, dtype: string"
     },
     "execution_count": 15,
     "metadata": {},
     "output_type": "execute_result"
    }
   ],
   "source": [
    "unique_values"
   ]
  },
  {
   "cell_type": "code",
   "execution_count": 17,
   "metadata": {
    "ExecuteTime": {
     "start_time": "2023-06-02T10:54:13.065279Z",
     "end_time": "2023-06-02T10:54:13.091521Z"
    }
   },
   "outputs": [
    {
     "data": {
      "text/plain": "    oracleType                                   packageName       className  \\\n0  NORMAL_POST  org.apache.commons.math3.optimization.linear  SimplexTableau   \n1  NORMAL_POST  org.apache.commons.math3.optimization.linear  SimplexTableau   \n2  NORMAL_POST  org.apache.commons.math3.optimization.linear  SimplexTableau   \n3  NORMAL_POST  org.apache.commons.math3.optimization.linear  SimplexTableau   \n4  NORMAL_POST  org.apache.commons.math3.optimization.linear  SimplexTableau   \n\n                                          javadocTag  \\\n0   number of constraint with the specified relat...   \n1   number of constraint with the specified relat...   \n2   number of constraint with the specified relat...   \n3   number of constraint with the specified relat...   \n4   number of constraint with the specified relat...   \n\n                                       methodJavadoc  \\\n0  \t/**\n     * Get a count of constraints corresp...   \n1  \t/**\n     * Get a count of constraints corresp...   \n2  \t/**\n     * Get a count of constraints corresp...   \n3  \t/**\n     * Get a count of constraints corresp...   \n4  \t/**\n     * Get a count of constraints corresp...   \n\n                                    methodSourceCode oracleSoFar  \\\n0  private int getConstraintTypeCounts(final Rela...               \n1  private int getConstraintTypeCounts(final Rela...               \n2  private int getConstraintTypeCounts(final Rela...               \n3  private int getConstraintTypeCounts(final Rela...               \n4  private int getConstraintTypeCounts(final Rela...               \n\n       tokenClass  \n0  MethodArgument  \n1           Class  \n2            This  \n3            TRUE  \n4       Semicolon  ",
      "text/html": "<div>\n<style scoped>\n    .dataframe tbody tr th:only-of-type {\n        vertical-align: middle;\n    }\n\n    .dataframe tbody tr th {\n        vertical-align: top;\n    }\n\n    .dataframe thead th {\n        text-align: right;\n    }\n</style>\n<table border=\"1\" class=\"dataframe\">\n  <thead>\n    <tr style=\"text-align: right;\">\n      <th></th>\n      <th>oracleType</th>\n      <th>packageName</th>\n      <th>className</th>\n      <th>javadocTag</th>\n      <th>methodJavadoc</th>\n      <th>methodSourceCode</th>\n      <th>oracleSoFar</th>\n      <th>tokenClass</th>\n    </tr>\n  </thead>\n  <tbody>\n    <tr>\n      <th>0</th>\n      <td>NORMAL_POST</td>\n      <td>org.apache.commons.math3.optimization.linear</td>\n      <td>SimplexTableau</td>\n      <td>number of constraint with the specified relat...</td>\n      <td>/**\n     * Get a count of constraints corresp...</td>\n      <td>private int getConstraintTypeCounts(final Rela...</td>\n      <td></td>\n      <td>MethodArgument</td>\n    </tr>\n    <tr>\n      <th>1</th>\n      <td>NORMAL_POST</td>\n      <td>org.apache.commons.math3.optimization.linear</td>\n      <td>SimplexTableau</td>\n      <td>number of constraint with the specified relat...</td>\n      <td>/**\n     * Get a count of constraints corresp...</td>\n      <td>private int getConstraintTypeCounts(final Rela...</td>\n      <td></td>\n      <td>Class</td>\n    </tr>\n    <tr>\n      <th>2</th>\n      <td>NORMAL_POST</td>\n      <td>org.apache.commons.math3.optimization.linear</td>\n      <td>SimplexTableau</td>\n      <td>number of constraint with the specified relat...</td>\n      <td>/**\n     * Get a count of constraints corresp...</td>\n      <td>private int getConstraintTypeCounts(final Rela...</td>\n      <td></td>\n      <td>This</td>\n    </tr>\n    <tr>\n      <th>3</th>\n      <td>NORMAL_POST</td>\n      <td>org.apache.commons.math3.optimization.linear</td>\n      <td>SimplexTableau</td>\n      <td>number of constraint with the specified relat...</td>\n      <td>/**\n     * Get a count of constraints corresp...</td>\n      <td>private int getConstraintTypeCounts(final Rela...</td>\n      <td></td>\n      <td>TRUE</td>\n    </tr>\n    <tr>\n      <th>4</th>\n      <td>NORMAL_POST</td>\n      <td>org.apache.commons.math3.optimization.linear</td>\n      <td>SimplexTableau</td>\n      <td>number of constraint with the specified relat...</td>\n      <td>/**\n     * Get a count of constraints corresp...</td>\n      <td>private int getConstraintTypeCounts(final Rela...</td>\n      <td></td>\n      <td>Semicolon</td>\n    </tr>\n  </tbody>\n</table>\n</div>"
     },
     "execution_count": 17,
     "metadata": {},
     "output_type": "execute_result"
    }
   ],
   "source": [
    "df_src.head()"
   ]
  },
  {
   "cell_type": "code",
   "execution_count": 31,
   "metadata": {
    "ExecuteTime": {
     "start_time": "2023-06-02T11:19:55.989133Z",
     "end_time": "2023-06-02T11:19:55.998479Z"
    }
   },
   "outputs": [
    {
     "data": {
      "text/plain": "['PRE',\n '<s>',\n 'pl',\n 'ume',\n '<s>',\n 'Weak',\n 'Id',\n 'entity',\n 'P',\n 'air',\n '<s>',\n '@',\n 'param',\n 'Ġb',\n 'Ġsecond',\n 'Ġargument',\n '<s>',\n 'ĉ',\n '/**',\n 'ĠFactory',\n 'Ġmethod',\n 'Ġwith',\n 'Ġshort',\n 'Ġname',\n 'Ġand',\n 'Ġno',\n 'Ġneed',\n 'Ġto',\n 'Ġname',\n 'Ġtype',\n 'Ġparameters',\n '.',\n 'Ċ',\n 'Ġ',\n 'Ġ',\n 'Ġ*',\n 'Ġ@',\n 'param',\n 'Ġ<',\n 'A',\n '>',\n 'Ġtype',\n 'Ġof',\n 'Ġfirst',\n 'Ġargument',\n 'Ċ',\n 'Ġ',\n 'Ġ',\n 'Ġ*',\n 'Ġ@',\n 'param',\n 'Ġ<',\n 'B',\n '>',\n 'Ġtype',\n 'Ġof',\n 'Ġsecond',\n 'Ġargument',\n 'Ċ',\n 'Ġ',\n 'Ġ',\n 'Ġ*',\n 'Ġ@',\n 'param',\n 'Ġa',\n 'Ġfirst',\n 'Ġargument',\n 'Ċ',\n 'Ġ',\n 'Ġ',\n 'Ġ*',\n 'Ġ@',\n 'param',\n 'Ġb',\n 'Ġsecond',\n 'Ġargument',\n 'Ċ',\n 'Ġ',\n 'Ġ',\n 'Ġ*',\n 'Ġ@',\n 'return',\n 'Ġa',\n 'ĠWeak',\n 'Id',\n 'entity',\n 'P',\n 'air',\n 'Ġof',\n 'Ġ(',\n 'a',\n ',',\n 'Ġb',\n ')',\n 'Ċ',\n 'Ġ',\n 'Ġ',\n 'Ġ*/',\n '<s>',\n 'public',\n 'Ġstatic',\n 'Ġ<',\n 'A',\n 'Ġextends',\n 'ĠObject',\n ',',\n 'ĠB',\n 'Ġextends',\n 'ĠObject',\n '>',\n 'ĠWeak',\n 'Id',\n 'entity',\n 'P',\n 'air',\n '<',\n 'A',\n ',',\n 'ĠB',\n '>',\n 'Ġof',\n '(',\n 'A',\n 'Ġa',\n ',',\n 'ĠB',\n 'Ġb',\n '){',\n 'Ċ',\n 'Ġ',\n 'Ġ',\n 'Ġ',\n 'Ġreturn',\n 'Ġnew',\n 'ĠWeak',\n 'Id',\n 'entity',\n 'P',\n 'air',\n '<',\n 'A',\n ',',\n 'ĠB',\n '>(',\n 'a',\n ',',\n 'Ġb',\n ');',\n 'Ċ',\n '}',\n '<s>',\n '<s>',\n 'S',\n 'emic',\n 'olon']"
     },
     "execution_count": 31,
     "metadata": {},
     "output_type": "execute_result"
    }
   ],
   "source": [
    "max(src)"
   ]
  },
  {
   "cell_type": "code",
   "execution_count": 32,
   "metadata": {
    "ExecuteTime": {
     "start_time": "2023-06-02T11:20:16.461538Z",
     "end_time": "2023-06-02T11:20:16.514042Z"
    }
   },
   "outputs": [],
   "source": [
    "# Assuming you have a list of strings named 'string_list'\n",
    "max_length_element = max(src_2, key=lambda x: len(x))\n",
    "\n",
    "# If you want to get the index of the element instead, you can use argmax()\n",
    "max_length_index = np.argmax([len(x) for x in src_2])"
   ]
  },
  {
   "cell_type": "code",
   "execution_count": 33,
   "metadata": {
    "ExecuteTime": {
     "start_time": "2023-06-02T11:20:17.641113Z",
     "end_time": "2023-06-02T11:20:17.660440Z"
    }
   },
   "outputs": [
    {
     "data": {
      "text/plain": "['NOR',\n 'MAL',\n '_',\n 'POST',\n '<s>',\n 'org',\n '.',\n 'apache',\n '.',\n 'comm',\n 'ons',\n '.',\n 'math',\n '3',\n '.',\n 'optim',\n '.',\n 'non',\n 'linear',\n '.',\n 'sc',\n 'al',\n 'ar',\n '.',\n 'n',\n 'oder',\n 'iv',\n '<s>',\n 'BO',\n 'BY',\n 'Q',\n 'A',\n 'Opt',\n 'im',\n 'izer',\n '<s>',\n 'Ġthe',\n 'Ġvalue',\n 'Ġof',\n 'Ġthe',\n 'Ġobjective',\n 'Ġat',\n 'Ġthe',\n 'Ġoptimum',\n '.',\n '<s>',\n 'ĉ',\n '/**',\n 'Ċ',\n 'Ġ',\n 'Ġ',\n 'Ġ',\n 'Ġ',\n 'Ġ*',\n 'Ġ',\n 'Ġ',\n 'Ġ',\n 'Ġ',\n 'ĠThe',\n 'Ġarguments',\n 'ĠN',\n ',',\n 'ĠN',\n 'PT',\n ',',\n 'ĠX',\n ',',\n 'ĠXL',\n ',',\n 'ĠX',\n 'U',\n ',',\n 'ĠRH',\n 'OB',\n 'EG',\n ',',\n 'ĠR',\n 'HO',\n 'END',\n ',',\n 'ĠI',\n 'PR',\n 'INT',\n 'Ġand',\n 'ĠMAX',\n 'FUN',\n 'Ċ',\n 'Ġ',\n 'Ġ',\n 'Ġ',\n 'Ġ',\n 'Ġ*',\n 'Ġ',\n 'Ġ',\n 'Ġ',\n 'Ġ',\n 'Ġ',\n 'Ġ',\n 'Ġare',\n 'Ġidentical',\n 'Ġto',\n 'Ġthe',\n 'Ġcorresponding',\n 'Ġarguments',\n 'Ġin',\n 'ĠSUB',\n 'R',\n 'OUT',\n 'INE',\n 'ĠB',\n 'OB',\n 'Y',\n 'Q',\n 'A',\n '.',\n 'Ċ',\n 'Ġ',\n 'Ġ',\n 'Ġ',\n 'Ġ',\n 'Ġ*',\n 'Ġ',\n 'Ġ',\n 'Ġ',\n 'Ġ',\n 'ĠX',\n 'B',\n 'ASE',\n 'Ġholds',\n 'Ġa',\n 'Ġshift',\n 'Ġof',\n 'Ġorigin',\n 'Ġthat',\n 'Ġshould',\n 'Ġreduce',\n 'Ġthe',\n 'Ġcontributions',\n 'Ċ',\n 'Ġ',\n 'Ġ',\n 'Ġ',\n 'Ġ',\n 'Ġ*',\n 'Ġ',\n 'Ġ',\n 'Ġ',\n 'Ġ',\n 'Ġ',\n 'Ġ',\n 'Ġfrom',\n 'Ġrounding',\n 'Ġerrors',\n 'Ġto',\n 'Ġvalues',\n 'Ġof',\n 'Ġthe',\n 'Ġmodel',\n 'Ġand',\n 'ĠLag',\n 'range',\n 'Ġfunctions',\n '.',\n 'Ċ',\n 'Ġ',\n 'Ġ',\n 'Ġ',\n 'Ġ',\n 'Ġ*',\n 'Ġ',\n 'Ġ',\n 'Ġ',\n 'Ġ',\n 'ĠX',\n 'PT',\n 'Ġis',\n 'Ġa',\n 'Ġtwo',\n '-',\n 'dimensional',\n 'Ġarray',\n 'Ġthat',\n 'Ġholds',\n 'Ġthe',\n 'Ġcoordinates',\n 'Ġof',\n 'Ġthe',\n 'Ċ',\n 'Ġ',\n 'Ġ',\n 'Ġ',\n 'Ġ',\n 'Ġ*',\n 'Ġ',\n 'Ġ',\n 'Ġ',\n 'Ġ',\n 'Ġ',\n 'Ġ',\n 'Ġinterpol',\n 'ation',\n 'Ġpoints',\n 'Ġrelative',\n 'Ġto',\n 'ĠX',\n 'B',\n 'ASE',\n '.',\n 'Ċ',\n 'Ġ',\n 'Ġ',\n 'Ġ',\n 'Ġ',\n 'Ġ*',\n 'Ġ',\n 'Ġ',\n 'Ġ',\n 'Ġ',\n 'ĠF',\n 'VAL',\n 'Ġholds',\n 'Ġthe',\n 'Ġvalues',\n 'Ġof',\n 'ĠF',\n 'Ġat',\n 'Ġthe',\n 'Ġinterpol',\n 'ation',\n 'Ġpoints',\n '.',\n 'Ċ',\n 'Ġ',\n 'Ġ',\n 'Ġ',\n 'Ġ',\n 'Ġ*',\n 'Ġ',\n 'Ġ',\n 'Ġ',\n 'Ġ',\n 'ĠX',\n 'OP',\n 'T',\n 'Ġis',\n 'Ġset',\n 'Ġto',\n 'Ġthe',\n 'Ġdisplacement',\n 'Ġfrom',\n 'ĠX',\n 'B',\n 'ASE',\n 'Ġof',\n 'Ġthe',\n 'Ġtrust',\n 'Ġregion',\n 'Ġcentre',\n '.',\n 'Ċ',\n 'Ġ',\n 'Ġ',\n 'Ġ',\n 'Ġ',\n 'Ġ*',\n 'Ġ',\n 'Ġ',\n 'Ġ',\n 'Ġ',\n 'ĠGOP',\n 'T',\n 'Ġholds',\n 'Ġthe',\n 'Ġgradient',\n 'Ġof',\n 'Ġthe',\n 'Ġquad',\n 'r',\n 'atic',\n 'Ġmodel',\n 'Ġat',\n 'ĠX',\n 'B',\n 'ASE',\n '+',\n 'X',\n 'OP',\n 'T',\n '.',\n 'Ċ',\n 'Ġ',\n 'Ġ',\n 'Ġ',\n 'Ġ',\n 'Ġ*',\n 'Ġ',\n 'Ġ',\n 'Ġ',\n 'Ġ',\n 'ĠHQ',\n 'Ġholds',\n 'Ġthe',\n 'Ġexplicit',\n 'Ġsecond',\n 'Ġderivatives',\n 'Ġof',\n 'Ġthe',\n 'Ġquad',\n 'r',\n 'atic',\n 'Ġmodel',\n '.',\n 'Ċ',\n 'Ġ',\n 'Ġ',\n 'Ġ',\n 'Ġ',\n 'Ġ*',\n 'Ġ',\n 'Ġ',\n 'Ġ',\n 'Ġ',\n 'ĠP',\n 'Q',\n 'Ġcontains',\n 'Ġthe',\n 'Ġparameters',\n 'Ġof',\n 'Ġthe',\n 'Ġimplicit',\n 'Ġsecond',\n 'Ġderivatives',\n 'Ġof',\n 'Ġthe',\n 'Ċ',\n 'Ġ',\n 'Ġ',\n 'Ġ',\n 'Ġ',\n 'Ġ*',\n 'Ġ',\n 'Ġ',\n 'Ġ',\n 'Ġ',\n 'Ġ',\n 'Ġ',\n 'Ġquad',\n 'r',\n 'atic',\n 'Ġmodel',\n '.',\n 'Ċ',\n 'Ġ',\n 'Ġ',\n 'Ġ',\n 'Ġ',\n 'Ġ*',\n 'Ġ',\n 'Ġ',\n 'Ġ',\n 'Ġ',\n 'ĠBM',\n 'AT',\n 'Ġholds',\n 'Ġthe',\n 'Ġlast',\n 'ĠN',\n 'Ġcolumns',\n 'Ġof',\n 'ĠH',\n '.',\n 'Ċ',\n 'Ġ',\n 'Ġ',\n 'Ġ',\n 'Ġ',\n 'Ġ*',\n 'Ġ',\n 'Ġ',\n 'Ġ',\n 'Ġ',\n 'ĠZ',\n 'MAT',\n 'Ġholds',\n 'Ġthe',\n 'Ġfactor',\n 'ization',\n 'Ġof',\n 'Ġthe',\n 'Ġleading',\n 'ĠN',\n 'PT',\n 'Ġby',\n 'ĠN',\n 'PT',\n 'Ġsub',\n 'mat',\n 'rix',\n 'Ġof',\n 'ĠH',\n ',',\n 'Ċ',\n 'Ġ',\n 'Ġ',\n 'Ġ',\n 'Ġ',\n 'Ġ*',\n 'Ġ',\n 'Ġ',\n 'Ġ',\n 'Ġ',\n 'Ġ',\n 'Ġ',\n 'Ġthis',\n 'Ġfactor',\n 'ization',\n 'Ġbeing',\n 'ĠZ',\n 'MAT',\n 'Ġtimes',\n 'ĠZ',\n 'MAT',\n '^',\n 'T',\n ',',\n 'Ġwhich',\n 'Ġprovides',\n 'Ġboth',\n 'Ġthe',\n 'Ċ',\n 'Ġ',\n 'Ġ',\n 'Ġ',\n 'Ġ',\n 'Ġ*',\n 'Ġ',\n 'Ġ',\n 'Ġ',\n 'Ġ',\n 'Ġ',\n 'Ġ',\n 'Ġcorrect',\n 'Ġrank',\n 'Ġand',\n 'Ġpositive',\n 'Ġsemi',\n '-',\n 'def',\n 'init',\n 'eness',\n '.',\n 'Ċ',\n 'Ġ',\n 'Ġ',\n 'Ġ',\n 'Ġ',\n 'Ġ*',\n 'Ġ',\n 'Ġ',\n 'Ġ',\n 'Ġ',\n 'ĠND',\n 'IM',\n 'Ġis',\n 'Ġthe',\n 'Ġfirst',\n 'Ġdimension',\n 'Ġof',\n 'ĠBM',\n 'AT',\n 'Ġand',\n 'Ġhas',\n 'Ġthe',\n 'Ġvalue',\n 'ĠN',\n 'PT',\n '+',\n 'N',\n '.',\n 'Ċ',\n 'Ġ',\n 'Ġ',\n 'Ġ',\n 'Ġ',\n 'Ġ*',\n 'Ġ',\n 'Ġ',\n 'Ġ',\n 'Ġ',\n 'ĠSL',\n 'Ġand',\n 'ĠSU',\n 'Ġhold',\n 'Ġthe',\n 'Ġdifferences',\n 'ĠXL',\n '-',\n 'X',\n 'B',\n 'ASE',\n 'Ġand',\n 'ĠX',\n 'U',\n '-',\n 'X',\n 'B',\n 'ASE',\n ',',\n 'Ġrespectively',\n '.',\n 'Ċ',\n 'Ġ',\n 'Ġ',\n 'Ġ',\n 'Ġ',\n 'Ġ*',\n 'Ġ',\n 'Ġ',\n 'Ġ',\n 'Ġ',\n 'Ġ',\n 'Ġ',\n 'ĠAll',\n 'Ġthe',\n 'Ġcomponents',\n 'Ġof',\n 'Ġevery',\n 'ĠX',\n 'OP',\n 'T',\n 'Ġare',\n 'Ġgoing',\n 'Ġto',\n 'Ġsatisfy',\n 'Ġthe',\n 'Ġbounds',\n 'Ċ',\n 'Ġ',\n 'Ġ',\n 'Ġ',\n 'Ġ',\n 'Ġ*',\n 'Ġ',\n 'Ġ',\n 'Ġ',\n 'Ġ',\n 'Ġ',\n 'Ġ',\n 'ĠSL',\n '(',\n 'I',\n ')',\n 'Ġ.',\n 'LE',\n 'Q',\n '.',\n 'ĠX',\n 'OP',\n 'T',\n '(',\n 'I',\n ')',\n 'Ġ.',\n 'LE',\n 'Q',\n '.',\n 'ĠSU',\n '(',\n 'I',\n '),',\n 'Ġwith',\n 'Ġappropriate',\n 'Ġequal',\n 'ities',\n 'Ġwhen',\n 'Ċ',\n 'Ġ',\n 'Ġ',\n 'Ġ',\n 'Ġ',\n 'Ġ*',\n 'Ġ',\n 'Ġ',\n 'Ġ',\n 'Ġ',\n 'Ġ',\n 'Ġ',\n 'ĠX',\n 'OP',\n 'T',\n 'Ġis',\n 'Ġon',\n 'Ġa',\n 'Ġconstraint',\n 'Ġboundary',\n '.',\n 'Ċ',\n 'Ġ',\n 'Ġ',\n 'Ġ',\n 'Ġ',\n 'Ġ*',\n 'Ġ',\n 'Ġ',\n 'Ġ',\n 'Ġ',\n 'ĠX',\n 'NEW',\n 'Ġis',\n 'Ġchosen',\n 'Ġby',\n 'ĠSUB',\n 'R',\n 'OUT',\n 'INE',\n 'ĠT',\n 'RS',\n 'BOX',\n 'Ġor',\n 'ĠAL',\n 'TM',\n 'OV',\n '.',\n 'ĠUsually',\n 'ĠX',\n 'B',\n 'ASE',\n '+',\n 'X',\n 'NEW',\n 'Ġis',\n 'Ġthe',\n 'Ċ',\n 'Ġ',\n 'Ġ',\n 'Ġ',\n 'Ġ',\n 'Ġ*',\n 'Ġ',\n 'Ġ',\n 'Ġ',\n 'Ġ',\n 'Ġ',\n 'Ġ',\n 'Ġvector',\n 'Ġof',\n 'Ġvariables',\n 'Ġfor',\n 'Ġthe',\n 'Ġnext',\n 'Ġcall',\n 'Ġof',\n 'ĠCAL',\n 'FUN',\n '.',\n 'ĠX',\n 'NEW',\n 'Ġalso',\n 'Ġsatisfies',\n 'Ċ',\n 'Ġ',\n 'Ġ',\n 'Ġ',\n 'Ġ',\n 'Ġ*',\n 'Ġ',\n 'Ġ',\n 'Ġ',\n 'Ġ',\n 'Ġ',\n 'Ġ',\n 'Ġthe',\n 'ĠSL',\n 'Ġand',\n 'ĠSU',\n 'Ġconstraints',\n 'Ġin',\n 'Ġthe',\n 'Ġway',\n 'Ġthat',\n 'Ġhas',\n 'Ġjust',\n 'Ġbeen',\n 'Ġmentioned',\n '.',\n 'Ċ',\n 'Ġ',\n 'Ġ',\n 'Ġ',\n 'Ġ',\n 'Ġ*',\n 'Ġ',\n 'Ġ',\n 'Ġ',\n 'Ġ',\n 'ĠX',\n 'ALT',\n 'Ġis',\n 'Ġan',\n 'Ġalternative',\n 'Ġto',\n 'ĠX',\n 'NEW',\n ',',\n 'Ġchosen',\n 'Ġby',\n 'ĠAL',\n 'TM',\n 'OV',\n ',',\n 'Ġthat',\n 'Ġmay',\n 'Ġreplace',\n 'ĠX',\n 'NEW',\n 'Ċ',\n 'Ġ',\n 'Ġ',\n 'Ġ',\n 'Ġ',\n 'Ġ*',\n 'Ġ',\n 'Ġ',\n 'Ġ',\n 'Ġ',\n 'Ġ',\n 'Ġ',\n 'Ġin',\n 'Ġorder',\n 'Ġto',\n 'Ġincrease',\n 'Ġthe',\n 'Ġdenomin',\n 'ator',\n 'Ġin',\n 'Ġthe',\n 'Ġupdating',\n 'Ġof',\n 'ĠUPDATE',\n '.',\n 'Ċ',\n 'Ġ',\n 'Ġ',\n 'Ġ',\n 'Ġ',\n 'Ġ*',\n 'Ġ',\n 'Ġ',\n 'Ġ',\n 'Ġ',\n 'ĠD',\n 'Ġis',\n 'Ġreserved',\n 'Ġfor',\n 'Ġa',\n 'Ġtrial',\n 'Ġstep',\n 'Ġfrom',\n 'ĠX',\n 'OP',\n 'T',\n ',',\n 'Ġwhich',\n 'Ġis',\n 'Ġusually',\n 'ĠX',\n 'NEW',\n '-',\n 'X',\n 'OP',\n 'T',\n '.',\n 'Ċ',\n 'Ġ',\n 'Ġ',\n 'Ġ',\n 'Ġ',\n 'Ġ*',\n 'Ġ',\n 'Ġ',\n 'Ġ',\n 'Ġ',\n 'ĠV',\n 'L',\n 'AG',\n 'Ġcontains',\n 'Ġthe',\n 'Ġvalues',\n 'Ġof',\n 'Ġthe',\n 'ĠLag',\n 'range',\n 'Ġfunctions',\n 'Ġat',\n 'Ġa',\n 'Ġnew',\n 'Ġpoint',\n 'ĠX',\n '.',\n 'Ċ',\n 'Ġ',\n 'Ġ',\n 'Ġ',\n 'Ġ',\n 'Ġ*',\n 'Ġ',\n 'Ġ',\n 'Ġ',\n 'Ġ',\n 'Ġ',\n 'Ġ',\n 'ĠThey',\n 'Ġare',\n 'Ġpart',\n 'Ġof',\n 'Ġa',\n 'Ġproduct',\n 'Ġthat',\n 'Ġrequires',\n 'ĠV',\n 'L',\n 'AG',\n 'Ġto',\n 'Ġbe',\n 'Ġof',\n 'Ġlength',\n 'ĠND',\n 'IM',\n '.',\n 'Ċ',\n 'Ġ',\n 'Ġ',\n 'Ġ',\n 'Ġ',\n 'Ġ*',\n 'Ġ',\n 'Ġ',\n 'Ġ',\n 'Ġ',\n 'ĠW',\n 'Ġis',\n 'Ġa',\n 'Ġone',\n '-',\n 'dimensional',\n 'Ġarray',\n 'Ġthat',\n 'Ġis',\n 'Ġused',\n 'Ġfor',\n 'Ġworking',\n 'Ġspace',\n '.',\n 'ĠIts',\n 'Ġlength',\n 'Ċ',\n 'Ġ',\n 'Ġ',\n 'Ġ',\n 'Ġ',\n 'Ġ*',\n 'Ġ',\n 'Ġ',\n 'Ġ',\n 'Ġ',\n 'Ġ',\n 'Ġ',\n 'Ġmust',\n 'Ġbe',\n 'Ġat',\n 'Ġleast',\n 'Ġ3',\n '*',\n 'ND',\n 'IM',\n 'Ġ=',\n 'Ġ3',\n '*',\n '(',\n 'N',\n 'PT',\n '+',\n 'N',\n ').',\n 'Ċ',\n 'Ġ',\n 'Ġ',\n 'Ġ',\n 'Ġ',\n 'Ġ*',\n 'Ċ',\n 'Ġ',\n 'Ġ',\n 'Ġ',\n 'Ġ',\n 'Ġ*',\n 'Ġ@',\n 'param',\n 'Ġlower',\n 'Bound',\n 'ĠLower',\n 'Ġbounds',\n '.',\n 'Ċ',\n 'Ġ',\n 'Ġ',\n 'Ġ',\n 'Ġ',\n 'Ġ*',\n 'Ġ@',\n 'param',\n 'Ġupper',\n 'Bound',\n 'ĠUpper',\n 'Ġbounds',\n '.',\n 'Ċ',\n 'Ġ',\n 'Ġ',\n 'Ġ',\n 'Ġ',\n 'Ġ*',\n 'Ġ@',\n 'return',\n 'Ġthe',\n 'Ġvalue',\n 'Ġof',\n 'Ġthe',\n 'Ġobjective',\n 'Ġat',\n 'Ġthe',\n 'Ġoptimum',\n '.',\n 'Ċ',\n 'Ġ',\n 'Ġ',\n 'Ġ',\n 'Ġ',\n 'Ġ*/',\n '<s>',\n 'private',\n 'Ġdouble',\n 'Ġb',\n 'oby',\n 'q',\n 'b',\n '(',\n 'double',\n '[]',\n 'Ġlower',\n 'Bound',\n ',',\n 'Ġdouble',\n '[]',\n 'Ġupper',\n 'Bound',\n '){',\n 'Ċ',\n 'Ġ',\n 'Ġ',\n 'Ġ',\n 'Ġ//',\n 'ĠXXX',\n 'Ċ',\n 'Ġ',\n 'Ġ',\n 'Ġ',\n 'Ġprint',\n 'Method',\n '();',\n 'Ċ',\n 'Ġ',\n 'Ġ',\n 'Ġ',\n 'Ġfinal',\n 'Ġint',\n 'Ġn',\n 'Ġ=',\n 'Ġcurrent',\n 'Best',\n '.',\n 'get',\n 'Dim',\n 'ension',\n '();',\n 'Ċ',\n 'Ġ',\n 'Ġ',\n 'Ġ',\n 'Ġfinal',\n 'Ġint',\n 'Ġn',\n 'pt',\n 'Ġ=',\n 'Ġnumber',\n 'Of',\n 'Inter',\n 'pol',\n 'ation',\n 'Points',\n ...]"
     },
     "execution_count": 33,
     "metadata": {},
     "output_type": "execute_result"
    }
   ],
   "source": [
    "max_length_element"
   ]
  },
  {
   "cell_type": "code",
   "execution_count": 34,
   "metadata": {
    "ExecuteTime": {
     "start_time": "2023-06-02T11:20:20.233507Z",
     "end_time": "2023-06-02T11:20:20.247346Z"
    }
   },
   "outputs": [
    {
     "data": {
      "text/plain": "28619"
     },
     "execution_count": 34,
     "metadata": {},
     "output_type": "execute_result"
    }
   ],
   "source": [
    "len(max_length_element)"
   ]
  },
  {
   "cell_type": "code",
   "execution_count": 22,
   "metadata": {},
   "outputs": [
    {
     "ename": "ValueError",
     "evalue": "too many values to unpack (expected 2)",
     "output_type": "error",
     "traceback": [
      "\u001B[0;31m---------------------------------------------------------------------------\u001B[0m",
      "\u001B[0;31mValueError\u001B[0m                                Traceback (most recent call last)",
      "Cell \u001B[0;32mIn[22], line 5\u001B[0m\n\u001B[1;32m      1\u001B[0m b \u001B[38;5;241m=\u001B[39m []\n\u001B[1;32m      3\u001B[0m b\u001B[38;5;241m.\u001B[39mappend(max_length_element)\n\u001B[0;32m----> 5\u001B[0m a \u001B[38;5;241m=\u001B[39m \u001B[43mtokenizer\u001B[49m\u001B[43m(\u001B[49m\n\u001B[1;32m      6\u001B[0m \u001B[43m    \u001B[49m\u001B[43mb\u001B[49m\u001B[43m,\u001B[49m\n\u001B[1;32m      7\u001B[0m \u001B[43m    \u001B[49m\u001B[43mtruncation\u001B[49m\u001B[38;5;241;43m=\u001B[39;49m\u001B[38;5;28;43;01mFalse\u001B[39;49;00m\n\u001B[1;32m      8\u001B[0m \u001B[43m)\u001B[49m\n",
      "File \u001B[0;32m~/Downloads/ml-model/lib/python3.8/site-packages/transformers/tokenization_utils_base.py:2523\u001B[0m, in \u001B[0;36mPreTrainedTokenizerBase.__call__\u001B[0;34m(self, text, text_pair, text_target, text_pair_target, add_special_tokens, padding, truncation, max_length, stride, is_split_into_words, pad_to_multiple_of, return_tensors, return_token_type_ids, return_attention_mask, return_overflowing_tokens, return_special_tokens_mask, return_offsets_mapping, return_length, verbose, **kwargs)\u001B[0m\n\u001B[1;32m   2521\u001B[0m     \u001B[38;5;28;01mif\u001B[39;00m \u001B[38;5;129;01mnot\u001B[39;00m \u001B[38;5;28mself\u001B[39m\u001B[38;5;241m.\u001B[39m_in_target_context_manager:\n\u001B[1;32m   2522\u001B[0m         \u001B[38;5;28mself\u001B[39m\u001B[38;5;241m.\u001B[39m_switch_to_input_mode()\n\u001B[0;32m-> 2523\u001B[0m     encodings \u001B[38;5;241m=\u001B[39m \u001B[38;5;28;43mself\u001B[39;49m\u001B[38;5;241;43m.\u001B[39;49m\u001B[43m_call_one\u001B[49m\u001B[43m(\u001B[49m\u001B[43mtext\u001B[49m\u001B[38;5;241;43m=\u001B[39;49m\u001B[43mtext\u001B[49m\u001B[43m,\u001B[49m\u001B[43m \u001B[49m\u001B[43mtext_pair\u001B[49m\u001B[38;5;241;43m=\u001B[39;49m\u001B[43mtext_pair\u001B[49m\u001B[43m,\u001B[49m\u001B[43m \u001B[49m\u001B[38;5;241;43m*\u001B[39;49m\u001B[38;5;241;43m*\u001B[39;49m\u001B[43mall_kwargs\u001B[49m\u001B[43m)\u001B[49m\n\u001B[1;32m   2524\u001B[0m \u001B[38;5;28;01mif\u001B[39;00m text_target \u001B[38;5;129;01mis\u001B[39;00m \u001B[38;5;129;01mnot\u001B[39;00m \u001B[38;5;28;01mNone\u001B[39;00m:\n\u001B[1;32m   2525\u001B[0m     \u001B[38;5;28mself\u001B[39m\u001B[38;5;241m.\u001B[39m_switch_to_target_mode()\n",
      "File \u001B[0;32m~/Downloads/ml-model/lib/python3.8/site-packages/transformers/tokenization_utils_base.py:2609\u001B[0m, in \u001B[0;36mPreTrainedTokenizerBase._call_one\u001B[0;34m(self, text, text_pair, add_special_tokens, padding, truncation, max_length, stride, is_split_into_words, pad_to_multiple_of, return_tensors, return_token_type_ids, return_attention_mask, return_overflowing_tokens, return_special_tokens_mask, return_offsets_mapping, return_length, verbose, **kwargs)\u001B[0m\n\u001B[1;32m   2604\u001B[0m         \u001B[38;5;28;01mraise\u001B[39;00m \u001B[38;5;167;01mValueError\u001B[39;00m(\n\u001B[1;32m   2605\u001B[0m             \u001B[38;5;124mf\u001B[39m\u001B[38;5;124m\"\u001B[39m\u001B[38;5;124mbatch length of `text`: \u001B[39m\u001B[38;5;132;01m{\u001B[39;00m\u001B[38;5;28mlen\u001B[39m(text)\u001B[38;5;132;01m}\u001B[39;00m\u001B[38;5;124m does not match batch length of `text_pair`:\u001B[39m\u001B[38;5;124m\"\u001B[39m\n\u001B[1;32m   2606\u001B[0m             \u001B[38;5;124mf\u001B[39m\u001B[38;5;124m\"\u001B[39m\u001B[38;5;124m \u001B[39m\u001B[38;5;132;01m{\u001B[39;00m\u001B[38;5;28mlen\u001B[39m(text_pair)\u001B[38;5;132;01m}\u001B[39;00m\u001B[38;5;124m.\u001B[39m\u001B[38;5;124m\"\u001B[39m\n\u001B[1;32m   2607\u001B[0m         )\n\u001B[1;32m   2608\u001B[0m     batch_text_or_text_pairs \u001B[38;5;241m=\u001B[39m \u001B[38;5;28mlist\u001B[39m(\u001B[38;5;28mzip\u001B[39m(text, text_pair)) \u001B[38;5;28;01mif\u001B[39;00m text_pair \u001B[38;5;129;01mis\u001B[39;00m \u001B[38;5;129;01mnot\u001B[39;00m \u001B[38;5;28;01mNone\u001B[39;00m \u001B[38;5;28;01melse\u001B[39;00m text\n\u001B[0;32m-> 2609\u001B[0m     \u001B[38;5;28;01mreturn\u001B[39;00m \u001B[38;5;28;43mself\u001B[39;49m\u001B[38;5;241;43m.\u001B[39;49m\u001B[43mbatch_encode_plus\u001B[49m\u001B[43m(\u001B[49m\n\u001B[1;32m   2610\u001B[0m \u001B[43m        \u001B[49m\u001B[43mbatch_text_or_text_pairs\u001B[49m\u001B[38;5;241;43m=\u001B[39;49m\u001B[43mbatch_text_or_text_pairs\u001B[49m\u001B[43m,\u001B[49m\n\u001B[1;32m   2611\u001B[0m \u001B[43m        \u001B[49m\u001B[43madd_special_tokens\u001B[49m\u001B[38;5;241;43m=\u001B[39;49m\u001B[43madd_special_tokens\u001B[49m\u001B[43m,\u001B[49m\n\u001B[1;32m   2612\u001B[0m \u001B[43m        \u001B[49m\u001B[43mpadding\u001B[49m\u001B[38;5;241;43m=\u001B[39;49m\u001B[43mpadding\u001B[49m\u001B[43m,\u001B[49m\n\u001B[1;32m   2613\u001B[0m \u001B[43m        \u001B[49m\u001B[43mtruncation\u001B[49m\u001B[38;5;241;43m=\u001B[39;49m\u001B[43mtruncation\u001B[49m\u001B[43m,\u001B[49m\n\u001B[1;32m   2614\u001B[0m \u001B[43m        \u001B[49m\u001B[43mmax_length\u001B[49m\u001B[38;5;241;43m=\u001B[39;49m\u001B[43mmax_length\u001B[49m\u001B[43m,\u001B[49m\n\u001B[1;32m   2615\u001B[0m \u001B[43m        \u001B[49m\u001B[43mstride\u001B[49m\u001B[38;5;241;43m=\u001B[39;49m\u001B[43mstride\u001B[49m\u001B[43m,\u001B[49m\n\u001B[1;32m   2616\u001B[0m \u001B[43m        \u001B[49m\u001B[43mis_split_into_words\u001B[49m\u001B[38;5;241;43m=\u001B[39;49m\u001B[43mis_split_into_words\u001B[49m\u001B[43m,\u001B[49m\n\u001B[1;32m   2617\u001B[0m \u001B[43m        \u001B[49m\u001B[43mpad_to_multiple_of\u001B[49m\u001B[38;5;241;43m=\u001B[39;49m\u001B[43mpad_to_multiple_of\u001B[49m\u001B[43m,\u001B[49m\n\u001B[1;32m   2618\u001B[0m \u001B[43m        \u001B[49m\u001B[43mreturn_tensors\u001B[49m\u001B[38;5;241;43m=\u001B[39;49m\u001B[43mreturn_tensors\u001B[49m\u001B[43m,\u001B[49m\n\u001B[1;32m   2619\u001B[0m \u001B[43m        \u001B[49m\u001B[43mreturn_token_type_ids\u001B[49m\u001B[38;5;241;43m=\u001B[39;49m\u001B[43mreturn_token_type_ids\u001B[49m\u001B[43m,\u001B[49m\n\u001B[1;32m   2620\u001B[0m \u001B[43m        \u001B[49m\u001B[43mreturn_attention_mask\u001B[49m\u001B[38;5;241;43m=\u001B[39;49m\u001B[43mreturn_attention_mask\u001B[49m\u001B[43m,\u001B[49m\n\u001B[1;32m   2621\u001B[0m \u001B[43m        \u001B[49m\u001B[43mreturn_overflowing_tokens\u001B[49m\u001B[38;5;241;43m=\u001B[39;49m\u001B[43mreturn_overflowing_tokens\u001B[49m\u001B[43m,\u001B[49m\n\u001B[1;32m   2622\u001B[0m \u001B[43m        \u001B[49m\u001B[43mreturn_special_tokens_mask\u001B[49m\u001B[38;5;241;43m=\u001B[39;49m\u001B[43mreturn_special_tokens_mask\u001B[49m\u001B[43m,\u001B[49m\n\u001B[1;32m   2623\u001B[0m \u001B[43m        \u001B[49m\u001B[43mreturn_offsets_mapping\u001B[49m\u001B[38;5;241;43m=\u001B[39;49m\u001B[43mreturn_offsets_mapping\u001B[49m\u001B[43m,\u001B[49m\n\u001B[1;32m   2624\u001B[0m \u001B[43m        \u001B[49m\u001B[43mreturn_length\u001B[49m\u001B[38;5;241;43m=\u001B[39;49m\u001B[43mreturn_length\u001B[49m\u001B[43m,\u001B[49m\n\u001B[1;32m   2625\u001B[0m \u001B[43m        \u001B[49m\u001B[43mverbose\u001B[49m\u001B[38;5;241;43m=\u001B[39;49m\u001B[43mverbose\u001B[49m\u001B[43m,\u001B[49m\n\u001B[1;32m   2626\u001B[0m \u001B[43m        \u001B[49m\u001B[38;5;241;43m*\u001B[39;49m\u001B[38;5;241;43m*\u001B[39;49m\u001B[43mkwargs\u001B[49m\u001B[43m,\u001B[49m\n\u001B[1;32m   2627\u001B[0m \u001B[43m    \u001B[49m\u001B[43m)\u001B[49m\n\u001B[1;32m   2628\u001B[0m \u001B[38;5;28;01melse\u001B[39;00m:\n\u001B[1;32m   2629\u001B[0m     \u001B[38;5;28;01mreturn\u001B[39;00m \u001B[38;5;28mself\u001B[39m\u001B[38;5;241m.\u001B[39mencode_plus(\n\u001B[1;32m   2630\u001B[0m         text\u001B[38;5;241m=\u001B[39mtext,\n\u001B[1;32m   2631\u001B[0m         text_pair\u001B[38;5;241m=\u001B[39mtext_pair,\n\u001B[0;32m   (...)\u001B[0m\n\u001B[1;32m   2647\u001B[0m         \u001B[38;5;241m*\u001B[39m\u001B[38;5;241m*\u001B[39mkwargs,\n\u001B[1;32m   2648\u001B[0m     )\n",
      "File \u001B[0;32m~/Downloads/ml-model/lib/python3.8/site-packages/transformers/tokenization_utils_base.py:2800\u001B[0m, in \u001B[0;36mPreTrainedTokenizerBase.batch_encode_plus\u001B[0;34m(self, batch_text_or_text_pairs, add_special_tokens, padding, truncation, max_length, stride, is_split_into_words, pad_to_multiple_of, return_tensors, return_token_type_ids, return_attention_mask, return_overflowing_tokens, return_special_tokens_mask, return_offsets_mapping, return_length, verbose, **kwargs)\u001B[0m\n\u001B[1;32m   2790\u001B[0m \u001B[38;5;66;03m# Backward compatibility for 'truncation_strategy', 'pad_to_max_length'\u001B[39;00m\n\u001B[1;32m   2791\u001B[0m padding_strategy, truncation_strategy, max_length, kwargs \u001B[38;5;241m=\u001B[39m \u001B[38;5;28mself\u001B[39m\u001B[38;5;241m.\u001B[39m_get_padding_truncation_strategies(\n\u001B[1;32m   2792\u001B[0m     padding\u001B[38;5;241m=\u001B[39mpadding,\n\u001B[1;32m   2793\u001B[0m     truncation\u001B[38;5;241m=\u001B[39mtruncation,\n\u001B[0;32m   (...)\u001B[0m\n\u001B[1;32m   2797\u001B[0m     \u001B[38;5;241m*\u001B[39m\u001B[38;5;241m*\u001B[39mkwargs,\n\u001B[1;32m   2798\u001B[0m )\n\u001B[0;32m-> 2800\u001B[0m \u001B[38;5;28;01mreturn\u001B[39;00m \u001B[38;5;28;43mself\u001B[39;49m\u001B[38;5;241;43m.\u001B[39;49m\u001B[43m_batch_encode_plus\u001B[49m\u001B[43m(\u001B[49m\n\u001B[1;32m   2801\u001B[0m \u001B[43m    \u001B[49m\u001B[43mbatch_text_or_text_pairs\u001B[49m\u001B[38;5;241;43m=\u001B[39;49m\u001B[43mbatch_text_or_text_pairs\u001B[49m\u001B[43m,\u001B[49m\n\u001B[1;32m   2802\u001B[0m \u001B[43m    \u001B[49m\u001B[43madd_special_tokens\u001B[49m\u001B[38;5;241;43m=\u001B[39;49m\u001B[43madd_special_tokens\u001B[49m\u001B[43m,\u001B[49m\n\u001B[1;32m   2803\u001B[0m \u001B[43m    \u001B[49m\u001B[43mpadding_strategy\u001B[49m\u001B[38;5;241;43m=\u001B[39;49m\u001B[43mpadding_strategy\u001B[49m\u001B[43m,\u001B[49m\n\u001B[1;32m   2804\u001B[0m \u001B[43m    \u001B[49m\u001B[43mtruncation_strategy\u001B[49m\u001B[38;5;241;43m=\u001B[39;49m\u001B[43mtruncation_strategy\u001B[49m\u001B[43m,\u001B[49m\n\u001B[1;32m   2805\u001B[0m \u001B[43m    \u001B[49m\u001B[43mmax_length\u001B[49m\u001B[38;5;241;43m=\u001B[39;49m\u001B[43mmax_length\u001B[49m\u001B[43m,\u001B[49m\n\u001B[1;32m   2806\u001B[0m \u001B[43m    \u001B[49m\u001B[43mstride\u001B[49m\u001B[38;5;241;43m=\u001B[39;49m\u001B[43mstride\u001B[49m\u001B[43m,\u001B[49m\n\u001B[1;32m   2807\u001B[0m \u001B[43m    \u001B[49m\u001B[43mis_split_into_words\u001B[49m\u001B[38;5;241;43m=\u001B[39;49m\u001B[43mis_split_into_words\u001B[49m\u001B[43m,\u001B[49m\n\u001B[1;32m   2808\u001B[0m \u001B[43m    \u001B[49m\u001B[43mpad_to_multiple_of\u001B[49m\u001B[38;5;241;43m=\u001B[39;49m\u001B[43mpad_to_multiple_of\u001B[49m\u001B[43m,\u001B[49m\n\u001B[1;32m   2809\u001B[0m \u001B[43m    \u001B[49m\u001B[43mreturn_tensors\u001B[49m\u001B[38;5;241;43m=\u001B[39;49m\u001B[43mreturn_tensors\u001B[49m\u001B[43m,\u001B[49m\n\u001B[1;32m   2810\u001B[0m \u001B[43m    \u001B[49m\u001B[43mreturn_token_type_ids\u001B[49m\u001B[38;5;241;43m=\u001B[39;49m\u001B[43mreturn_token_type_ids\u001B[49m\u001B[43m,\u001B[49m\n\u001B[1;32m   2811\u001B[0m \u001B[43m    \u001B[49m\u001B[43mreturn_attention_mask\u001B[49m\u001B[38;5;241;43m=\u001B[39;49m\u001B[43mreturn_attention_mask\u001B[49m\u001B[43m,\u001B[49m\n\u001B[1;32m   2812\u001B[0m \u001B[43m    \u001B[49m\u001B[43mreturn_overflowing_tokens\u001B[49m\u001B[38;5;241;43m=\u001B[39;49m\u001B[43mreturn_overflowing_tokens\u001B[49m\u001B[43m,\u001B[49m\n\u001B[1;32m   2813\u001B[0m \u001B[43m    \u001B[49m\u001B[43mreturn_special_tokens_mask\u001B[49m\u001B[38;5;241;43m=\u001B[39;49m\u001B[43mreturn_special_tokens_mask\u001B[49m\u001B[43m,\u001B[49m\n\u001B[1;32m   2814\u001B[0m \u001B[43m    \u001B[49m\u001B[43mreturn_offsets_mapping\u001B[49m\u001B[38;5;241;43m=\u001B[39;49m\u001B[43mreturn_offsets_mapping\u001B[49m\u001B[43m,\u001B[49m\n\u001B[1;32m   2815\u001B[0m \u001B[43m    \u001B[49m\u001B[43mreturn_length\u001B[49m\u001B[38;5;241;43m=\u001B[39;49m\u001B[43mreturn_length\u001B[49m\u001B[43m,\u001B[49m\n\u001B[1;32m   2816\u001B[0m \u001B[43m    \u001B[49m\u001B[43mverbose\u001B[49m\u001B[38;5;241;43m=\u001B[39;49m\u001B[43mverbose\u001B[49m\u001B[43m,\u001B[49m\n\u001B[1;32m   2817\u001B[0m \u001B[43m    \u001B[49m\u001B[38;5;241;43m*\u001B[39;49m\u001B[38;5;241;43m*\u001B[39;49m\u001B[43mkwargs\u001B[49m\u001B[43m,\u001B[49m\n\u001B[1;32m   2818\u001B[0m \u001B[43m\u001B[49m\u001B[43m)\u001B[49m\n",
      "File \u001B[0;32m~/Downloads/ml-model/lib/python3.8/site-packages/transformers/tokenization_utils.py:731\u001B[0m, in \u001B[0;36mPreTrainedTokenizer._batch_encode_plus\u001B[0;34m(self, batch_text_or_text_pairs, add_special_tokens, padding_strategy, truncation_strategy, max_length, stride, is_split_into_words, pad_to_multiple_of, return_tensors, return_token_type_ids, return_attention_mask, return_overflowing_tokens, return_special_tokens_mask, return_offsets_mapping, return_length, verbose, **kwargs)\u001B[0m\n\u001B[1;32m    729\u001B[0m     ids, pair_ids \u001B[38;5;241m=\u001B[39m ids_or_pair_ids, \u001B[38;5;28;01mNone\u001B[39;00m\n\u001B[1;32m    730\u001B[0m \u001B[38;5;28;01melse\u001B[39;00m:\n\u001B[0;32m--> 731\u001B[0m     ids, pair_ids \u001B[38;5;241m=\u001B[39m ids_or_pair_ids\n\u001B[1;32m    733\u001B[0m first_ids \u001B[38;5;241m=\u001B[39m get_input_ids(ids)\n\u001B[1;32m    734\u001B[0m second_ids \u001B[38;5;241m=\u001B[39m get_input_ids(pair_ids) \u001B[38;5;28;01mif\u001B[39;00m pair_ids \u001B[38;5;129;01mis\u001B[39;00m \u001B[38;5;129;01mnot\u001B[39;00m \u001B[38;5;28;01mNone\u001B[39;00m \u001B[38;5;28;01melse\u001B[39;00m \u001B[38;5;28;01mNone\u001B[39;00m\n",
      "\u001B[0;31mValueError\u001B[0m: too many values to unpack (expected 2)"
     ]
    }
   ],
   "source": [
    "b = []\n",
    "\n",
    "b.append(max_length_element)\n",
    "\n",
    "a = tokenizer(\n",
    "    b,\n",
    "    truncation=False\n",
    ")"
   ]
  },
  {
   "cell_type": "code",
   "execution_count": null,
   "metadata": {},
   "outputs": [
    {
     "data": {
      "text/plain": [
       "268"
      ]
     },
     "execution_count": 103,
     "metadata": {},
     "output_type": "execute_result"
    }
   ],
   "source": [
    "len(a[\"input_ids\"][0])"
   ]
  },
  {
   "cell_type": "code",
   "execution_count": null,
   "metadata": {},
   "outputs": [
    {
     "ename": "TypeError",
     "evalue": "new(): invalid data type 'str'",
     "output_type": "error",
     "traceback": [
      "\u001B[0;31m---------------------------------------------------------------------------\u001B[0m",
      "\u001B[0;31mTypeError\u001B[0m                                 Traceback (most recent call last)",
      "Cell \u001B[0;32mIn[91], line 1\u001B[0m\n\u001B[0;32m----> 1\u001B[0m torch\u001B[39m.\u001B[39mtensor(max_length_element)\n",
      "\u001B[0;31mTypeError\u001B[0m: new(): invalid data type 'str'"
     ]
    }
   ],
   "source": [
    "# Assuming you have a string named 'my_string'\n",
    "numerical_representation = [ord(char) for char in my_string]  # Convert string to a list of ASCII values\n",
    "\n",
    "# Create a PyTorch tensor from the numerical representation\n",
    "tensor = torch.tensor(numerical_representation)"
   ]
  },
  {
   "cell_type": "code",
   "execution_count": null,
   "metadata": {},
   "outputs": [
    {
     "data": {
      "text/plain": [
       "str"
      ]
     },
     "execution_count": 109,
     "metadata": {},
     "output_type": "execute_result"
    }
   ],
   "source": [
    "type(tokenizer.tokenize(max_length_element)[0])"
   ]
  },
  {
   "cell_type": "code",
   "execution_count": null,
   "metadata": {},
   "outputs": [
    {
     "data": {
      "text/plain": [
       "268"
      ]
     },
     "execution_count": 111,
     "metadata": {},
     "output_type": "execute_result"
    }
   ],
   "source": [
    "max_len"
   ]
  },
  {
   "cell_type": "code",
   "execution_count": 35,
   "metadata": {
    "ExecuteTime": {
     "start_time": "2023-06-02T11:20:46.179110Z",
     "end_time": "2023-06-02T11:20:46.186901Z"
    }
   },
   "outputs": [],
   "source": [
    "string_lengths = np.array([len(sublist) + 2 for sublist in src ])\n",
    "\n",
    "max_length = np.max(string_lengths)\n",
    "mean_length = np.mean(string_lengths)\n",
    "median_length = np.median(string_lengths)"
   ]
  },
  {
   "cell_type": "code",
   "execution_count": 36,
   "metadata": {
    "ExecuteTime": {
     "start_time": "2023-06-02T11:20:47.023175Z",
     "end_time": "2023-06-02T11:20:47.031096Z"
    }
   },
   "outputs": [
    {
     "data": {
      "text/plain": "28621"
     },
     "execution_count": 36,
     "metadata": {},
     "output_type": "execute_result"
    }
   ],
   "source": [
    "max_length"
   ]
  },
  {
   "cell_type": "code",
   "execution_count": 37,
   "metadata": {
    "ExecuteTime": {
     "start_time": "2023-06-02T11:20:49.409034Z",
     "end_time": "2023-06-02T11:20:49.414231Z"
    }
   },
   "outputs": [
    {
     "data": {
      "text/plain": "391.1331011115986"
     },
     "execution_count": 37,
     "metadata": {},
     "output_type": "execute_result"
    }
   ],
   "source": [
    "mean_length"
   ]
  },
  {
   "cell_type": "code",
   "execution_count": 38,
   "metadata": {
    "ExecuteTime": {
     "start_time": "2023-06-02T11:20:51.828351Z",
     "end_time": "2023-06-02T11:20:51.834100Z"
    }
   },
   "outputs": [
    {
     "data": {
      "text/plain": "292.0"
     },
     "execution_count": 38,
     "metadata": {},
     "output_type": "execute_result"
    }
   ],
   "source": [
    "median_length"
   ]
  },
  {
   "cell_type": "code",
   "execution_count": 39,
   "metadata": {
    "ExecuteTime": {
     "start_time": "2023-06-02T11:20:58.476606Z",
     "end_time": "2023-06-02T11:20:58.489883Z"
    }
   },
   "outputs": [],
   "source": [
    "filtered_strings = [string for string in src if len(string) < 512]"
   ]
  },
  {
   "cell_type": "code",
   "execution_count": 40,
   "metadata": {
    "ExecuteTime": {
     "start_time": "2023-06-02T11:20:59.908320Z",
     "end_time": "2023-06-02T11:20:59.916152Z"
    }
   },
   "outputs": [
    {
     "data": {
      "text/plain": "189187"
     },
     "execution_count": 40,
     "metadata": {},
     "output_type": "execute_result"
    }
   ],
   "source": [
    "len(src)"
   ]
  },
  {
   "cell_type": "code",
   "execution_count": 41,
   "metadata": {
    "ExecuteTime": {
     "start_time": "2023-06-02T11:21:01.233519Z",
     "end_time": "2023-06-02T11:21:01.239395Z"
    }
   },
   "outputs": [
    {
     "data": {
      "text/plain": "155578"
     },
     "execution_count": 41,
     "metadata": {},
     "output_type": "execute_result"
    }
   ],
   "source": [
    "len(filtered_strings)"
   ]
  },
  {
   "cell_type": "code",
   "execution_count": 42,
   "metadata": {
    "ExecuteTime": {
     "start_time": "2023-06-02T11:21:03.239669Z",
     "end_time": "2023-06-02T11:21:03.257134Z"
    }
   },
   "outputs": [
    {
     "data": {
      "text/plain": "35"
     },
     "execution_count": 42,
     "metadata": {},
     "output_type": "execute_result"
    }
   ],
   "source": [
    "len(df_src[\"tokenClass\"].value_counts())"
   ]
  },
  {
   "cell_type": "code",
   "execution_count": 19,
   "metadata": {
    "ExecuteTime": {
     "start_time": "2023-05-29T10:49:25.935152Z",
     "end_time": "2023-05-29T10:49:25.949110Z"
    }
   },
   "outputs": [
    {
     "data": {
      "text/plain": "Class                     32428\nSemicolon                 31038\nMethodArgument            29226\nOpeningParenthesis        29003\nThis                      14980\nTRUE                      12001\nArraysClass                6109\nLogicalOperator            5729\nEqOperator                 5149\nIneqOperator               4098\nPeriod                     3778\nInstanceOfOperator         2651\nNULL                       2358\nS_INT                      2212\nClosingParenthesis         1368\nNonEqIneqOperator          1184\nMethodResultID              961\nDOUBLE                      887\nBitwiseNegateOperator       841\nFALSE                       828\nMethodName                  523\nColon                       386\nQuestionMark                296\nArithmeticalOperator        253\nClassField                  239\nBitwiseLogicalOperator      186\nBitwiseShiftOperator        186\nBOOLEAN                     138\nStreamMethod                 52\nMatchMethodVar               42\nMatchMethod                  14\nRightArrow                   14\nS_STRING                     13\nComma                         9\nClassModifier                 7\nName: tokenClass, dtype: Int64"
     },
     "execution_count": 19,
     "metadata": {},
     "output_type": "execute_result"
    }
   ],
   "source": [
    "df_dataset[\"tokenClass\"].value_counts()#/len(df_dataset[\"tokenClass\"]) * 100"
   ]
  },
  {
   "cell_type": "code",
   "execution_count": 17,
   "metadata": {},
   "outputs": [
    {
     "ename": "ValueError",
     "evalue": "invalid literal for int() with base 10: 'MethodArgument'",
     "output_type": "error",
     "traceback": [
      "\u001B[0;31m---------------------------------------------------------------------------\u001B[0m",
      "\u001B[0;31mValueError\u001B[0m                                Traceback (most recent call last)",
      "Cell \u001B[0;32mIn[17], line 1\u001B[0m\n\u001B[0;32m----> 1\u001B[0m np\u001B[39m.\u001B[39mbincount(df_src[\u001B[39m\"\u001B[39m\u001B[39mtokenClass\u001B[39m\u001B[39m\"\u001B[39m])\n",
      "File \u001B[0;32m<__array_function__ internals>:200\u001B[0m, in \u001B[0;36mbincount\u001B[0;34m(*args, **kwargs)\u001B[0m\n",
      "File \u001B[0;32m~/.conda/envs/tratto/lib/python3.11/site-packages/pandas/core/series.py:893\u001B[0m, in \u001B[0;36mSeries.__array__\u001B[0;34m(self, dtype)\u001B[0m\n\u001B[1;32m    846\u001B[0m \u001B[39mdef\u001B[39;00m \u001B[39m__array__\u001B[39m(\u001B[39mself\u001B[39m, dtype: npt\u001B[39m.\u001B[39mDTypeLike \u001B[39m|\u001B[39m \u001B[39mNone\u001B[39;00m \u001B[39m=\u001B[39m \u001B[39mNone\u001B[39;00m) \u001B[39m-\u001B[39m\u001B[39m>\u001B[39m np\u001B[39m.\u001B[39mndarray:\n\u001B[1;32m    847\u001B[0m     \u001B[39m\"\"\"\u001B[39;00m\n\u001B[1;32m    848\u001B[0m \u001B[39m    Return the values as a NumPy array.\u001B[39;00m\n\u001B[1;32m    849\u001B[0m \n\u001B[0;32m   (...)\u001B[0m\n\u001B[1;32m    891\u001B[0m \u001B[39m          dtype='datetime64[ns]')\u001B[39;00m\n\u001B[1;32m    892\u001B[0m \u001B[39m    \"\"\"\u001B[39;00m\n\u001B[0;32m--> 893\u001B[0m     \u001B[39mreturn\u001B[39;00m np\u001B[39m.\u001B[39masarray(\u001B[39mself\u001B[39m\u001B[39m.\u001B[39m_values, dtype)\n",
      "File \u001B[0;32m~/.conda/envs/tratto/lib/python3.11/site-packages/pandas/core/arrays/numpy_.py:126\u001B[0m, in \u001B[0;36mPandasArray.__array__\u001B[0;34m(self, dtype)\u001B[0m\n\u001B[1;32m    125\u001B[0m \u001B[39mdef\u001B[39;00m \u001B[39m__array__\u001B[39m(\u001B[39mself\u001B[39m, dtype: NpDtype \u001B[39m|\u001B[39m \u001B[39mNone\u001B[39;00m \u001B[39m=\u001B[39m \u001B[39mNone\u001B[39;00m) \u001B[39m-\u001B[39m\u001B[39m>\u001B[39m np\u001B[39m.\u001B[39mndarray:\n\u001B[0;32m--> 126\u001B[0m     \u001B[39mreturn\u001B[39;00m np\u001B[39m.\u001B[39masarray(\u001B[39mself\u001B[39m\u001B[39m.\u001B[39m_ndarray, dtype\u001B[39m=\u001B[39mdtype)\n",
      "\u001B[0;31mValueError\u001B[0m: invalid literal for int() with base 10: 'MethodArgument'"
     ]
    }
   ],
   "source": [
    "np.bincount(df_src[\"tokenClass\"])"
   ]
  },
  {
   "cell_type": "code",
   "execution_count": 14,
   "metadata": {},
   "outputs": [],
   "source": [
    "# Get unique values from the column\n",
    "unique_values = df_dataset['tokenClass'].unique()\n",
    "\n",
    "# Create a dictionary to map string values to their corresponding vector\n",
    "mapping = {}\n",
    "for i, value in enumerate(unique_values):\n",
    "    vector = np.zeros(len(unique_values))\n",
    "    vector[i] = 1.0\n",
    "    mapping[value] = list(vector)\n",
    "\n",
    "# Add a new column to the original DataFrame with the mapped vectors\n",
    "df_dataset['tokenClassVectorized'] = df_dataset['tokenClass'].map(mapping)"
   ]
  },
  {
   "cell_type": "code",
   "execution_count": 15,
   "metadata": {},
   "outputs": [
    {
     "data": {
      "text/html": [
       "<div>\n",
       "<style scoped>\n",
       "    .dataframe tbody tr th:only-of-type {\n",
       "        vertical-align: middle;\n",
       "    }\n",
       "\n",
       "    .dataframe tbody tr th {\n",
       "        vertical-align: top;\n",
       "    }\n",
       "\n",
       "    .dataframe thead th {\n",
       "        text-align: right;\n",
       "    }\n",
       "</style>\n",
       "<table border=\"1\" class=\"dataframe\">\n",
       "  <thead>\n",
       "    <tr style=\"text-align: right;\">\n",
       "      <th></th>\n",
       "      <th>label</th>\n",
       "      <th>oracleId</th>\n",
       "      <th>oracleType</th>\n",
       "      <th>projectName</th>\n",
       "      <th>packageName</th>\n",
       "      <th>className</th>\n",
       "      <th>javadocTag</th>\n",
       "      <th>methodJavadoc</th>\n",
       "      <th>methodSourceCode</th>\n",
       "      <th>classJavadoc</th>\n",
       "      <th>classSourceCode</th>\n",
       "      <th>oracleSoFar</th>\n",
       "      <th>token</th>\n",
       "      <th>tokenClass</th>\n",
       "      <th>tokenInfo</th>\n",
       "      <th>tokenClassVectorized</th>\n",
       "    </tr>\n",
       "  </thead>\n",
       "  <tbody>\n",
       "    <tr>\n",
       "      <th>0</th>\n",
       "      <td>False</td>\n",
       "      <td>15264</td>\n",
       "      <td>PRE</td>\n",
       "      <td>plume-lib-1.1.0</td>\n",
       "      <td>plume</td>\n",
       "      <td>Lookup</td>\n",
       "      <td>@param reader where to read the entry from</td>\n",
       "      <td>/**\n",
       "   * Returns the next entry.  If no more ...</td>\n",
       "      <td>public static Entry old_get_entry(EntryReader ...</td>\n",
       "      <td>/**\n",
       " * Lookup searches a set of files, much li...</td>\n",
       "      <td>package plume;\n",
       "\n",
       "import static plume.EntryReade...</td>\n",
       "      <td></td>\n",
       "      <td></td>\n",
       "      <td>MethodArgument</td>\n",
       "      <td></td>\n",
       "      <td>[1.0, 0.0, 0.0, 0.0, 0.0, 0.0, 0.0, 0.0, 0.0, ...</td>\n",
       "    </tr>\n",
       "    <tr>\n",
       "      <th>1</th>\n",
       "      <td>False</td>\n",
       "      <td>15264</td>\n",
       "      <td>PRE</td>\n",
       "      <td>plume-lib-1.1.0</td>\n",
       "      <td>plume</td>\n",
       "      <td>Lookup</td>\n",
       "      <td>@param reader where to read the entry from</td>\n",
       "      <td>/**\n",
       "   * Returns the next entry.  If no more ...</td>\n",
       "      <td>public static Entry old_get_entry(EntryReader ...</td>\n",
       "      <td>/**\n",
       " * Lookup searches a set of files, much li...</td>\n",
       "      <td>package plume;\n",
       "\n",
       "import static plume.EntryReade...</td>\n",
       "      <td></td>\n",
       "      <td></td>\n",
       "      <td>Class</td>\n",
       "      <td></td>\n",
       "      <td>[0.0, 1.0, 0.0, 0.0, 0.0, 0.0, 0.0, 0.0, 0.0, ...</td>\n",
       "    </tr>\n",
       "    <tr>\n",
       "      <th>2</th>\n",
       "      <td>True</td>\n",
       "      <td>15264</td>\n",
       "      <td>PRE</td>\n",
       "      <td>plume-lib-1.1.0</td>\n",
       "      <td>plume</td>\n",
       "      <td>Lookup</td>\n",
       "      <td>@param reader where to read the entry from</td>\n",
       "      <td>/**\n",
       "   * Returns the next entry.  If no more ...</td>\n",
       "      <td>public static Entry old_get_entry(EntryReader ...</td>\n",
       "      <td>/**\n",
       " * Lookup searches a set of files, much li...</td>\n",
       "      <td>package plume;\n",
       "\n",
       "import static plume.EntryReade...</td>\n",
       "      <td></td>\n",
       "      <td></td>\n",
       "      <td>Semicolon</td>\n",
       "      <td></td>\n",
       "      <td>[0.0, 0.0, 1.0, 0.0, 0.0, 0.0, 0.0, 0.0, 0.0, ...</td>\n",
       "    </tr>\n",
       "    <tr>\n",
       "      <th>3</th>\n",
       "      <td>False</td>\n",
       "      <td>15264</td>\n",
       "      <td>PRE</td>\n",
       "      <td>plume-lib-1.1.0</td>\n",
       "      <td>plume</td>\n",
       "      <td>Lookup</td>\n",
       "      <td>@param reader where to read the entry from</td>\n",
       "      <td>/**\n",
       "   * Returns the next entry.  If no more ...</td>\n",
       "      <td>public static Entry old_get_entry(EntryReader ...</td>\n",
       "      <td>/**\n",
       " * Lookup searches a set of files, much li...</td>\n",
       "      <td>package plume;\n",
       "\n",
       "import static plume.EntryReade...</td>\n",
       "      <td></td>\n",
       "      <td></td>\n",
       "      <td>OpeningParenthesis</td>\n",
       "      <td></td>\n",
       "      <td>[0.0, 0.0, 0.0, 1.0, 0.0, 0.0, 0.0, 0.0, 0.0, ...</td>\n",
       "    </tr>\n",
       "    <tr>\n",
       "      <th>4</th>\n",
       "      <td>False</td>\n",
       "      <td>15265</td>\n",
       "      <td>NORMAL_POST</td>\n",
       "      <td>plume-lib-1.1.0</td>\n",
       "      <td>plume</td>\n",
       "      <td>Lookup</td>\n",
       "      <td>the next entry, or null</td>\n",
       "      <td>/**\n",
       "   * Returns the next entry.  If no more ...</td>\n",
       "      <td>public static Entry old_get_entry(EntryReader ...</td>\n",
       "      <td>/**\n",
       " * Lookup searches a set of files, much li...</td>\n",
       "      <td>package plume;\n",
       "\n",
       "import static plume.EntryReade...</td>\n",
       "      <td></td>\n",
       "      <td></td>\n",
       "      <td>MethodArgument</td>\n",
       "      <td></td>\n",
       "      <td>[1.0, 0.0, 0.0, 0.0, 0.0, 0.0, 0.0, 0.0, 0.0, ...</td>\n",
       "    </tr>\n",
       "  </tbody>\n",
       "</table>\n",
       "</div>"
      ],
      "text/plain": [
       "   label  oracleId   oracleType      projectName packageName className  \\\n",
       "0  False     15264          PRE  plume-lib-1.1.0       plume    Lookup   \n",
       "1  False     15264          PRE  plume-lib-1.1.0       plume    Lookup   \n",
       "2   True     15264          PRE  plume-lib-1.1.0       plume    Lookup   \n",
       "3  False     15264          PRE  plume-lib-1.1.0       plume    Lookup   \n",
       "4  False     15265  NORMAL_POST  plume-lib-1.1.0       plume    Lookup   \n",
       "\n",
       "                                   javadocTag  \\\n",
       "0  @param reader where to read the entry from   \n",
       "1  @param reader where to read the entry from   \n",
       "2  @param reader where to read the entry from   \n",
       "3  @param reader where to read the entry from   \n",
       "4                     the next entry, or null   \n",
       "\n",
       "                                       methodJavadoc  \\\n",
       "0  \t/**\n",
       "   * Returns the next entry.  If no more ...   \n",
       "1  \t/**\n",
       "   * Returns the next entry.  If no more ...   \n",
       "2  \t/**\n",
       "   * Returns the next entry.  If no more ...   \n",
       "3  \t/**\n",
       "   * Returns the next entry.  If no more ...   \n",
       "4  \t/**\n",
       "   * Returns the next entry.  If no more ...   \n",
       "\n",
       "                                    methodSourceCode  \\\n",
       "0  public static Entry old_get_entry(EntryReader ...   \n",
       "1  public static Entry old_get_entry(EntryReader ...   \n",
       "2  public static Entry old_get_entry(EntryReader ...   \n",
       "3  public static Entry old_get_entry(EntryReader ...   \n",
       "4  public static Entry old_get_entry(EntryReader ...   \n",
       "\n",
       "                                        classJavadoc  \\\n",
       "0  /**\n",
       " * Lookup searches a set of files, much li...   \n",
       "1  /**\n",
       " * Lookup searches a set of files, much li...   \n",
       "2  /**\n",
       " * Lookup searches a set of files, much li...   \n",
       "3  /**\n",
       " * Lookup searches a set of files, much li...   \n",
       "4  /**\n",
       " * Lookup searches a set of files, much li...   \n",
       "\n",
       "                                     classSourceCode oracleSoFar token  \\\n",
       "0  package plume;\n",
       "\n",
       "import static plume.EntryReade...                     \n",
       "1  package plume;\n",
       "\n",
       "import static plume.EntryReade...                     \n",
       "2  package plume;\n",
       "\n",
       "import static plume.EntryReade...                     \n",
       "3  package plume;\n",
       "\n",
       "import static plume.EntryReade...                     \n",
       "4  package plume;\n",
       "\n",
       "import static plume.EntryReade...                     \n",
       "\n",
       "           tokenClass tokenInfo  \\\n",
       "0      MethodArgument             \n",
       "1               Class             \n",
       "2           Semicolon             \n",
       "3  OpeningParenthesis             \n",
       "4      MethodArgument             \n",
       "\n",
       "                                tokenClassVectorized  \n",
       "0  [1.0, 0.0, 0.0, 0.0, 0.0, 0.0, 0.0, 0.0, 0.0, ...  \n",
       "1  [0.0, 1.0, 0.0, 0.0, 0.0, 0.0, 0.0, 0.0, 0.0, ...  \n",
       "2  [0.0, 0.0, 1.0, 0.0, 0.0, 0.0, 0.0, 0.0, 0.0, ...  \n",
       "3  [0.0, 0.0, 0.0, 1.0, 0.0, 0.0, 0.0, 0.0, 0.0, ...  \n",
       "4  [1.0, 0.0, 0.0, 0.0, 0.0, 0.0, 0.0, 0.0, 0.0, ...  "
      ]
     },
     "execution_count": 15,
     "metadata": {},
     "output_type": "execute_result"
    }
   ],
   "source": [
    "df_dataset.head()"
   ]
  },
  {
   "cell_type": "code",
   "execution_count": 18,
   "metadata": {},
   "outputs": [
    {
     "data": {
      "text/plain": [
       "1.0000000000000002"
      ]
     },
     "execution_count": 18,
     "metadata": {},
     "output_type": "execute_result"
    }
   ],
   "source": [
    "# Convert string labels to integer labels\n",
    "unique_labels, integer_labels = np.unique(df_dataset[\"tokenClass\"], return_inverse=True)\n",
    "\n",
    "# Count the occurrences of each class\n",
    "class_counts = np.bincount(integer_labels)\n",
    "\n",
    "# Calculate the inverse class frequencies\n",
    "total_samples = np.sum(class_counts)\n",
    "class_frequencies = class_counts / total_samples\n",
    "class_weights = 1.0 / class_frequencies\n",
    "\n",
    "# Normalize the class weights\n",
    "class_weights /= np.sum(class_weights)\n",
    "\n",
    "class_weights.sum()"
   ]
  },
  {
   "cell_type": "code",
   "execution_count": 25,
   "metadata": {},
   "outputs": [
    {
     "data": {
      "text/plain": [
       "(array(['ArithmeticalOperator', 'ArraysClass', 'BOOLEAN',\n",
       "        'BitwiseLogicalOperator', 'BitwiseNegateOperator',\n",
       "        'BitwiseShiftOperator', 'Class', 'ClassField', 'ClassModifier',\n",
       "        'ClosingParenthesis', 'Colon', 'Comma', 'DOUBLE', 'EqOperator',\n",
       "        'FALSE', 'IneqOperator', 'InstanceOfOperator', 'LogicalOperator',\n",
       "        'MatchMethod', 'MatchMethodVar', 'MethodArgument', 'MethodName',\n",
       "        'MethodResultID', 'NULL', 'NonEqIneqOperator',\n",
       "        'OpeningParenthesis', 'Period', 'QuestionMark', 'RightArrow',\n",
       "        'S_INT', 'S_STRING', 'Semicolon', 'StreamMethod', 'TRUE', 'This'],\n",
       "       dtype=object),\n",
       " array([  253,  6109,   138,   186,   841,   186, 32428,   239,     7,\n",
       "         1368,   386,     9,   887,  5149,   828,  4098,  2651,  5729,\n",
       "           14,    42, 29226,   523,   961,  2358,  1184, 29003,  3778,\n",
       "          296,    14,  2212,    13, 31038,    52, 12001, 14980]))"
      ]
     },
     "execution_count": 25,
     "metadata": {},
     "output_type": "execute_result"
    }
   ],
   "source": [
    "np.unique(df_dataset[\"tokenClass\"], return_counts=True)"
   ]
  },
  {
   "cell_type": "code",
   "execution_count": 22,
   "metadata": {},
   "outputs": [
    {
     "data": {
      "text/plain": [
       "35"
      ]
     },
     "execution_count": 22,
     "metadata": {},
     "output_type": "execute_result"
    }
   ],
   "source": [
    "len(unique_labels)"
   ]
  },
  {
   "cell_type": "code",
   "execution_count": 11,
   "outputs": [],
   "source": [
    "a = df_dataset[df_dataset[\"tokenClass\"]==\"Class\"]"
   ],
   "metadata": {
    "collapsed": false,
    "ExecuteTime": {
     "start_time": "2023-05-29T10:46:13.051289Z",
     "end_time": "2023-05-29T10:46:13.088274Z"
    }
   }
  },
  {
   "cell_type": "code",
   "execution_count": 14,
   "outputs": [
    {
     "data": {
      "text/plain": "      label  oracleId   oracleType               projectName  \\\n143   False       813  EXCEPT_POST       commons-math3-3.6.1   \n144   False       813  EXCEPT_POST       commons-math3-3.6.1   \n145   False       813  EXCEPT_POST       commons-math3-3.6.1   \n146   False       813  EXCEPT_POST       commons-math3-3.6.1   \n147   False       813  EXCEPT_POST       commons-math3-3.6.1   \n...     ...       ...          ...                       ...   \n1462  False     22109  NORMAL_POST  commons-collections4-4.1   \n1463  False     22109  NORMAL_POST  commons-collections4-4.1   \n1464  False     22109  NORMAL_POST  commons-collections4-4.1   \n1465  False     22109  NORMAL_POST  commons-collections4-4.1   \n1466  False     22109  NORMAL_POST  commons-collections4-4.1   \n\n                          packageName    className  \\\n143   org.apache.commons.math3.linear  MatrixUtils   \n144   org.apache.commons.math3.linear  MatrixUtils   \n145   org.apache.commons.math3.linear  MatrixUtils   \n146   org.apache.commons.math3.linear  MatrixUtils   \n147   org.apache.commons.math3.linear  MatrixUtils   \n...                               ...          ...   \n1462  org.apache.commons.collections4     BagUtils   \n1463  org.apache.commons.collections4     BagUtils   \n1464  org.apache.commons.collections4     BagUtils   \n1465  org.apache.commons.collections4     BagUtils   \n1466  org.apache.commons.collections4     BagUtils   \n\n                                             javadocTag  \\\n143   @throws org.apache.commons.math3.linear.NonSym...   \n144   @throws org.apache.commons.math3.linear.NonSym...   \n145   @throws org.apache.commons.math3.linear.NonSym...   \n146   @throws org.apache.commons.math3.linear.NonSym...   \n147   @throws org.apache.commons.math3.linear.NonSym...   \n...                                                 ...   \n1462                               an empty sorted Bag.   \n1463                               an empty sorted Bag.   \n1464                               an empty sorted Bag.   \n1465                               an empty sorted Bag.   \n1466                               an empty sorted Bag.   \n\n                                          methodJavadoc  \\\n143   \t/**\n     * Checks whether a matrix is symmetr...   \n144   \t/**\n     * Checks whether a matrix is symmetr...   \n145   \t/**\n     * Checks whether a matrix is symmetr...   \n146   \t/**\n     * Checks whether a matrix is symmetr...   \n147   \t/**\n     * Checks whether a matrix is symmetr...   \n...                                                 ...   \n1462  \t/**\n     * Get an empty <code>SortedBag</code...   \n1463  \t/**\n     * Get an empty <code>SortedBag</code...   \n1464  \t/**\n     * Get an empty <code>SortedBag</code...   \n1465  \t/**\n     * Get an empty <code>SortedBag</code...   \n1466  \t/**\n     * Get an empty <code>SortedBag</code...   \n\n                                       methodSourceCode  \\\n143   public static void checkSymmetric(RealMatrix m...   \n144   public static void checkSymmetric(RealMatrix m...   \n145   public static void checkSymmetric(RealMatrix m...   \n146   public static void checkSymmetric(RealMatrix m...   \n147   public static void checkSymmetric(RealMatrix m...   \n...                                                 ...   \n1462  public static <E> SortedBag<E> emptySortedBag(...   \n1463  public static <E> SortedBag<E> emptySortedBag(...   \n1464  public static <E> SortedBag<E> emptySortedBag(...   \n1465  public static <E> SortedBag<E> emptySortedBag(...   \n1466  public static <E> SortedBag<E> emptySortedBag(...   \n\n                                           classJavadoc  \\\n143   /**\n * A collection of static methods that ope...   \n144   /**\n * A collection of static methods that ope...   \n145   /**\n * A collection of static methods that ope...   \n146   /**\n * A collection of static methods that ope...   \n147   /**\n * A collection of static methods that ope...   \n...                                                 ...   \n1462  /**\n * Provides utility methods and decorators...   \n1463  /**\n * Provides utility methods and decorators...   \n1464  /**\n * Provides utility methods and decorators...   \n1465  /**\n * Provides utility methods and decorators...   \n1466  /**\n * Provides utility methods and decorators...   \n\n                                        classSourceCode  \\\n143   /*\n * Licensed to the Apache Software Foundati...   \n144   /*\n * Licensed to the Apache Software Foundati...   \n145   /*\n * Licensed to the Apache Software Foundati...   \n146   /*\n * Licensed to the Apache Software Foundati...   \n147   /*\n * Licensed to the Apache Software Foundati...   \n...                                                 ...   \n1462  /*\n * Licensed to the Apache Software Foundati...   \n1463  /*\n * Licensed to the Apache Software Foundati...   \n1464  /*\n * Licensed to the Apache Software Foundati...   \n1465  /*\n * Licensed to the Apache Software Foundati...   \n1466  /*\n * Licensed to the Apache Software Foundati...   \n\n                      oracleSoFar                                token  \\\n143                             (                     RealFieldElement   \n144                             (                               Primes   \n145                             (                          SmallPrimes   \n146                             (                           PollardRho   \n147                             (                          CurveFitter   \n...                           ...                                  ...   \n1462  true?methodResultID.equals(     AbstractUntypedIteratorDecorator   \n1463  true?methodResultID.equals(  AbstractOrderedMapIteratorDecorator   \n1464  true?methodResultID.equals(                   FilterListIterator   \n1465  true?methodResultID.equals(                        SplitMapUtils   \n1466  true?methodResultID.equals(                           BoundedMap   \n\n     tokenClass                                          tokenInfo  \n143       Class   ['org.apache.commons.math3', 'RealFieldElement']  \n144       Class      ['org.apache.commons.math3.primes', 'Primes']  \n145       Class  ['org.apache.commons.math3.primes', 'SmallPrim...  \n146       Class  ['org.apache.commons.math3.primes', 'PollardRho']  \n147       Class  ['org.apache.commons.math3.fitting', 'CurveFit...  \n...         ...                                                ...  \n1462      Class  ['org.apache.commons.collections4.iterators', ...  \n1463      Class  ['org.apache.commons.collections4.iterators', ...  \n1464      Class  ['org.apache.commons.collections4.iterators', ...  \n1465      Class  ['org.apache.commons.collections4', 'SplitMapU...  \n1466      Class  ['org.apache.commons.collections4', 'BoundedMap']  \n\n[24840 rows x 15 columns]",
      "text/html": "<div>\n<style scoped>\n    .dataframe tbody tr th:only-of-type {\n        vertical-align: middle;\n    }\n\n    .dataframe tbody tr th {\n        vertical-align: top;\n    }\n\n    .dataframe thead th {\n        text-align: right;\n    }\n</style>\n<table border=\"1\" class=\"dataframe\">\n  <thead>\n    <tr style=\"text-align: right;\">\n      <th></th>\n      <th>label</th>\n      <th>oracleId</th>\n      <th>oracleType</th>\n      <th>projectName</th>\n      <th>packageName</th>\n      <th>className</th>\n      <th>javadocTag</th>\n      <th>methodJavadoc</th>\n      <th>methodSourceCode</th>\n      <th>classJavadoc</th>\n      <th>classSourceCode</th>\n      <th>oracleSoFar</th>\n      <th>token</th>\n      <th>tokenClass</th>\n      <th>tokenInfo</th>\n    </tr>\n  </thead>\n  <tbody>\n    <tr>\n      <th>143</th>\n      <td>False</td>\n      <td>813</td>\n      <td>EXCEPT_POST</td>\n      <td>commons-math3-3.6.1</td>\n      <td>org.apache.commons.math3.linear</td>\n      <td>MatrixUtils</td>\n      <td>@throws org.apache.commons.math3.linear.NonSym...</td>\n      <td>/**\n     * Checks whether a matrix is symmetr...</td>\n      <td>public static void checkSymmetric(RealMatrix m...</td>\n      <td>/**\n * A collection of static methods that ope...</td>\n      <td>/*\n * Licensed to the Apache Software Foundati...</td>\n      <td>(</td>\n      <td>RealFieldElement</td>\n      <td>Class</td>\n      <td>['org.apache.commons.math3', 'RealFieldElement']</td>\n    </tr>\n    <tr>\n      <th>144</th>\n      <td>False</td>\n      <td>813</td>\n      <td>EXCEPT_POST</td>\n      <td>commons-math3-3.6.1</td>\n      <td>org.apache.commons.math3.linear</td>\n      <td>MatrixUtils</td>\n      <td>@throws org.apache.commons.math3.linear.NonSym...</td>\n      <td>/**\n     * Checks whether a matrix is symmetr...</td>\n      <td>public static void checkSymmetric(RealMatrix m...</td>\n      <td>/**\n * A collection of static methods that ope...</td>\n      <td>/*\n * Licensed to the Apache Software Foundati...</td>\n      <td>(</td>\n      <td>Primes</td>\n      <td>Class</td>\n      <td>['org.apache.commons.math3.primes', 'Primes']</td>\n    </tr>\n    <tr>\n      <th>145</th>\n      <td>False</td>\n      <td>813</td>\n      <td>EXCEPT_POST</td>\n      <td>commons-math3-3.6.1</td>\n      <td>org.apache.commons.math3.linear</td>\n      <td>MatrixUtils</td>\n      <td>@throws org.apache.commons.math3.linear.NonSym...</td>\n      <td>/**\n     * Checks whether a matrix is symmetr...</td>\n      <td>public static void checkSymmetric(RealMatrix m...</td>\n      <td>/**\n * A collection of static methods that ope...</td>\n      <td>/*\n * Licensed to the Apache Software Foundati...</td>\n      <td>(</td>\n      <td>SmallPrimes</td>\n      <td>Class</td>\n      <td>['org.apache.commons.math3.primes', 'SmallPrim...</td>\n    </tr>\n    <tr>\n      <th>146</th>\n      <td>False</td>\n      <td>813</td>\n      <td>EXCEPT_POST</td>\n      <td>commons-math3-3.6.1</td>\n      <td>org.apache.commons.math3.linear</td>\n      <td>MatrixUtils</td>\n      <td>@throws org.apache.commons.math3.linear.NonSym...</td>\n      <td>/**\n     * Checks whether a matrix is symmetr...</td>\n      <td>public static void checkSymmetric(RealMatrix m...</td>\n      <td>/**\n * A collection of static methods that ope...</td>\n      <td>/*\n * Licensed to the Apache Software Foundati...</td>\n      <td>(</td>\n      <td>PollardRho</td>\n      <td>Class</td>\n      <td>['org.apache.commons.math3.primes', 'PollardRho']</td>\n    </tr>\n    <tr>\n      <th>147</th>\n      <td>False</td>\n      <td>813</td>\n      <td>EXCEPT_POST</td>\n      <td>commons-math3-3.6.1</td>\n      <td>org.apache.commons.math3.linear</td>\n      <td>MatrixUtils</td>\n      <td>@throws org.apache.commons.math3.linear.NonSym...</td>\n      <td>/**\n     * Checks whether a matrix is symmetr...</td>\n      <td>public static void checkSymmetric(RealMatrix m...</td>\n      <td>/**\n * A collection of static methods that ope...</td>\n      <td>/*\n * Licensed to the Apache Software Foundati...</td>\n      <td>(</td>\n      <td>CurveFitter</td>\n      <td>Class</td>\n      <td>['org.apache.commons.math3.fitting', 'CurveFit...</td>\n    </tr>\n    <tr>\n      <th>...</th>\n      <td>...</td>\n      <td>...</td>\n      <td>...</td>\n      <td>...</td>\n      <td>...</td>\n      <td>...</td>\n      <td>...</td>\n      <td>...</td>\n      <td>...</td>\n      <td>...</td>\n      <td>...</td>\n      <td>...</td>\n      <td>...</td>\n      <td>...</td>\n      <td>...</td>\n    </tr>\n    <tr>\n      <th>1462</th>\n      <td>False</td>\n      <td>22109</td>\n      <td>NORMAL_POST</td>\n      <td>commons-collections4-4.1</td>\n      <td>org.apache.commons.collections4</td>\n      <td>BagUtils</td>\n      <td>an empty sorted Bag.</td>\n      <td>/**\n     * Get an empty &lt;code&gt;SortedBag&lt;/code...</td>\n      <td>public static &lt;E&gt; SortedBag&lt;E&gt; emptySortedBag(...</td>\n      <td>/**\n * Provides utility methods and decorators...</td>\n      <td>/*\n * Licensed to the Apache Software Foundati...</td>\n      <td>true?methodResultID.equals(</td>\n      <td>AbstractUntypedIteratorDecorator</td>\n      <td>Class</td>\n      <td>['org.apache.commons.collections4.iterators', ...</td>\n    </tr>\n    <tr>\n      <th>1463</th>\n      <td>False</td>\n      <td>22109</td>\n      <td>NORMAL_POST</td>\n      <td>commons-collections4-4.1</td>\n      <td>org.apache.commons.collections4</td>\n      <td>BagUtils</td>\n      <td>an empty sorted Bag.</td>\n      <td>/**\n     * Get an empty &lt;code&gt;SortedBag&lt;/code...</td>\n      <td>public static &lt;E&gt; SortedBag&lt;E&gt; emptySortedBag(...</td>\n      <td>/**\n * Provides utility methods and decorators...</td>\n      <td>/*\n * Licensed to the Apache Software Foundati...</td>\n      <td>true?methodResultID.equals(</td>\n      <td>AbstractOrderedMapIteratorDecorator</td>\n      <td>Class</td>\n      <td>['org.apache.commons.collections4.iterators', ...</td>\n    </tr>\n    <tr>\n      <th>1464</th>\n      <td>False</td>\n      <td>22109</td>\n      <td>NORMAL_POST</td>\n      <td>commons-collections4-4.1</td>\n      <td>org.apache.commons.collections4</td>\n      <td>BagUtils</td>\n      <td>an empty sorted Bag.</td>\n      <td>/**\n     * Get an empty &lt;code&gt;SortedBag&lt;/code...</td>\n      <td>public static &lt;E&gt; SortedBag&lt;E&gt; emptySortedBag(...</td>\n      <td>/**\n * Provides utility methods and decorators...</td>\n      <td>/*\n * Licensed to the Apache Software Foundati...</td>\n      <td>true?methodResultID.equals(</td>\n      <td>FilterListIterator</td>\n      <td>Class</td>\n      <td>['org.apache.commons.collections4.iterators', ...</td>\n    </tr>\n    <tr>\n      <th>1465</th>\n      <td>False</td>\n      <td>22109</td>\n      <td>NORMAL_POST</td>\n      <td>commons-collections4-4.1</td>\n      <td>org.apache.commons.collections4</td>\n      <td>BagUtils</td>\n      <td>an empty sorted Bag.</td>\n      <td>/**\n     * Get an empty &lt;code&gt;SortedBag&lt;/code...</td>\n      <td>public static &lt;E&gt; SortedBag&lt;E&gt; emptySortedBag(...</td>\n      <td>/**\n * Provides utility methods and decorators...</td>\n      <td>/*\n * Licensed to the Apache Software Foundati...</td>\n      <td>true?methodResultID.equals(</td>\n      <td>SplitMapUtils</td>\n      <td>Class</td>\n      <td>['org.apache.commons.collections4', 'SplitMapU...</td>\n    </tr>\n    <tr>\n      <th>1466</th>\n      <td>False</td>\n      <td>22109</td>\n      <td>NORMAL_POST</td>\n      <td>commons-collections4-4.1</td>\n      <td>org.apache.commons.collections4</td>\n      <td>BagUtils</td>\n      <td>an empty sorted Bag.</td>\n      <td>/**\n     * Get an empty &lt;code&gt;SortedBag&lt;/code...</td>\n      <td>public static &lt;E&gt; SortedBag&lt;E&gt; emptySortedBag(...</td>\n      <td>/**\n * Provides utility methods and decorators...</td>\n      <td>/*\n * Licensed to the Apache Software Foundati...</td>\n      <td>true?methodResultID.equals(</td>\n      <td>BoundedMap</td>\n      <td>Class</td>\n      <td>['org.apache.commons.collections4', 'BoundedMap']</td>\n    </tr>\n  </tbody>\n</table>\n<p>24840 rows × 15 columns</p>\n</div>"
     },
     "execution_count": 14,
     "metadata": {},
     "output_type": "execute_result"
    }
   ],
   "source": [
    "a"
   ],
   "metadata": {
    "collapsed": false,
    "ExecuteTime": {
     "start_time": "2023-05-29T10:46:30.550668Z",
     "end_time": "2023-05-29T10:46:30.563023Z"
    }
   }
  },
  {
   "cell_type": "code",
   "execution_count": null,
   "outputs": [],
   "source": [],
   "metadata": {
    "collapsed": false
   }
  }
 ],
 "metadata": {
  "kernelspec": {
   "display_name": "tratto",
   "language": "python",
   "name": "python3"
  },
  "language_info": {
   "codemirror_mode": {
    "name": "ipython",
    "version": 3
   },
   "file_extension": ".py",
   "mimetype": "text/x-python",
   "name": "python",
   "nbconvert_exporter": "python",
   "pygments_lexer": "ipython3",
   "version": "3.11.3 | packaged by conda-forge | (main, Apr  6 2023, 08:57:19) [GCC 11.3.0]"
  },
  "orig_nbformat": 4,
  "vscode": {
   "interpreter": {
    "hash": "4baf8ca64f576eefa27491d265483fc5223469915e486f115fcdc807150b49f0"
   }
  }
 },
 "nbformat": 4,
 "nbformat_minor": 2
}
