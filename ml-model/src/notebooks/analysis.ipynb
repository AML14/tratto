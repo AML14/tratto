{
 "cells": [
  {
   "cell_type": "code",
   "execution_count": 47,
   "metadata": {},
   "outputs": [
    {
     "name": "stdout",
     "output_type": "stream",
     "text": [
      "\u001B[31mERROR: You must give at least one requirement to install (see \"pip help install\")\u001B[0m\n"
     ]
    }
   ],
   "source": []
  },
  {
   "cell_type": "code",
   "execution_count": 1,
   "metadata": {
    "ExecuteTime": {
     "start_time": "2023-06-03T09:55:00.206213Z",
     "end_time": "2023-06-03T09:55:03.132079Z"
    }
   },
   "outputs": [],
   "source": [
    "import os\n",
    "import numpy as np\n",
    "import torch\n",
    "import pandas as pd\n",
    "from functools import reduce\n",
    "from transformers import AutoTokenizer, RobertaTokenizer"
   ]
  },
  {
   "cell_type": "code",
   "execution_count": 2,
   "metadata": {
    "ExecuteTime": {
     "start_time": "2023-06-03T09:55:03.133567Z",
     "end_time": "2023-06-03T09:55:03.137563Z"
    }
   },
   "outputs": [],
   "source": [
    "device = torch.device(\"cpu\")"
   ]
  },
  {
   "cell_type": "code",
   "execution_count": 3,
   "metadata": {
    "ExecuteTime": {
     "start_time": "2023-06-03T09:55:03.140361Z",
     "end_time": "2023-06-03T09:55:03.143635Z"
    }
   },
   "outputs": [],
   "source": [
    "d_path = os.path.join(os.getcwd(), \"..\", \"..\", \"token-classes-dataset\")"
   ]
  },
  {
   "cell_type": "code",
   "execution_count": 4,
   "metadata": {
    "ExecuteTime": {
     "start_time": "2023-06-03T09:55:03.150489Z",
     "end_time": "2023-06-03T09:55:34.792171Z"
    }
   },
   "outputs": [],
   "source": [
    "# list of partial dataframes\n",
    "dfs = []\n",
    "\n",
    "# collects partial dataframes from oracles\n",
    "for file_name in os.listdir(d_path):\n",
    "    df = pd.read_json(os.path.join(d_path,  file_name))\n",
    "    dfs.append(df)\n",
    "\n",
    "df_dataset = pd.concat(dfs)\n",
    "# drop column id (it is not relevant for training the model)\n",
    "df_dataset = df_dataset.drop(['id'], axis=1)\n",
    "# map empty cells to empty strings\n",
    "df_dataset.fillna('', inplace=True)\n",
    "# specify the type of each column in the dataset\n",
    "df_dataset = df_dataset.astype({\n",
    "    'label': 'bool',\n",
    "    'oracleId': 'int64',\n",
    "    'oracleType': 'string',\n",
    "    'projectName': 'string',\n",
    "    'packageName': 'string',\n",
    "    'className': 'string',\n",
    "    'javadocTag': 'string',\n",
    "    'methodJavadoc': 'string',\n",
    "    'methodSourceCode': 'string',\n",
    "    'classJavadoc': 'string',\n",
    "    'classSourceCode': 'string',\n",
    "    'oracleSoFar': 'string',\n",
    "    'token': 'string',\n",
    "    'tokenClass': 'string',\n",
    "    'tokenInfo': 'string'\n",
    "})"
   ]
  },
  {
   "cell_type": "code",
   "execution_count": 5,
   "outputs": [
    {
     "data": {
      "text/plain": "(189187, 15)"
     },
     "execution_count": 5,
     "metadata": {},
     "output_type": "execute_result"
    }
   ],
   "source": [
    "df_dataset.shape"
   ],
   "metadata": {
    "collapsed": false,
    "ExecuteTime": {
     "start_time": "2023-06-03T09:45:05.996474Z",
     "end_time": "2023-06-03T09:45:06.005629Z"
    }
   }
  },
  {
   "cell_type": "code",
   "execution_count": 6,
   "outputs": [
    {
     "data": {
      "text/plain": "   label  oracleId   oracleType          projectName  \\\n0  False     10700  NORMAL_POST  commons-math3-3.6.1   \n1  False     10700  NORMAL_POST  commons-math3-3.6.1   \n2  False     10700  NORMAL_POST  commons-math3-3.6.1   \n3  False     10700  NORMAL_POST  commons-math3-3.6.1   \n4   True     10700  NORMAL_POST  commons-math3-3.6.1   \n\n                                    packageName       className  \\\n0  org.apache.commons.math3.optimization.linear  SimplexTableau   \n1  org.apache.commons.math3.optimization.linear  SimplexTableau   \n2  org.apache.commons.math3.optimization.linear  SimplexTableau   \n3  org.apache.commons.math3.optimization.linear  SimplexTableau   \n4  org.apache.commons.math3.optimization.linear  SimplexTableau   \n\n                                          javadocTag  \\\n0   number of constraint with the specified relat...   \n1   number of constraint with the specified relat...   \n2   number of constraint with the specified relat...   \n3   number of constraint with the specified relat...   \n4   number of constraint with the specified relat...   \n\n                                       methodJavadoc  \\\n0  \t/**\n     * Get a count of constraints corresp...   \n1  \t/**\n     * Get a count of constraints corresp...   \n2  \t/**\n     * Get a count of constraints corresp...   \n3  \t/**\n     * Get a count of constraints corresp...   \n4  \t/**\n     * Get a count of constraints corresp...   \n\n                                    methodSourceCode  \\\n0  private int getConstraintTypeCounts(final Rela...   \n1  private int getConstraintTypeCounts(final Rela...   \n2  private int getConstraintTypeCounts(final Rela...   \n3  private int getConstraintTypeCounts(final Rela...   \n4  private int getConstraintTypeCounts(final Rela...   \n\n                                        classJavadoc  \\\n0  /**\n * A tableau for use in the Simplex method...   \n1  /**\n * A tableau for use in the Simplex method...   \n2  /**\n * A tableau for use in the Simplex method...   \n3  /**\n * A tableau for use in the Simplex method...   \n4  /**\n * A tableau for use in the Simplex method...   \n\n                                     classSourceCode oracleSoFar token  \\\n0  /*\n * Licensed to the Apache Software Foundati...                     \n1  /*\n * Licensed to the Apache Software Foundati...                     \n2  /*\n * Licensed to the Apache Software Foundati...                     \n3  /*\n * Licensed to the Apache Software Foundati...                     \n4  /*\n * Licensed to the Apache Software Foundati...                     \n\n       tokenClass tokenInfo  \n0  MethodArgument            \n1           Class            \n2            This            \n3            TRUE            \n4       Semicolon            ",
      "text/html": "<div>\n<style scoped>\n    .dataframe tbody tr th:only-of-type {\n        vertical-align: middle;\n    }\n\n    .dataframe tbody tr th {\n        vertical-align: top;\n    }\n\n    .dataframe thead th {\n        text-align: right;\n    }\n</style>\n<table border=\"1\" class=\"dataframe\">\n  <thead>\n    <tr style=\"text-align: right;\">\n      <th></th>\n      <th>label</th>\n      <th>oracleId</th>\n      <th>oracleType</th>\n      <th>projectName</th>\n      <th>packageName</th>\n      <th>className</th>\n      <th>javadocTag</th>\n      <th>methodJavadoc</th>\n      <th>methodSourceCode</th>\n      <th>classJavadoc</th>\n      <th>classSourceCode</th>\n      <th>oracleSoFar</th>\n      <th>token</th>\n      <th>tokenClass</th>\n      <th>tokenInfo</th>\n    </tr>\n  </thead>\n  <tbody>\n    <tr>\n      <th>0</th>\n      <td>False</td>\n      <td>10700</td>\n      <td>NORMAL_POST</td>\n      <td>commons-math3-3.6.1</td>\n      <td>org.apache.commons.math3.optimization.linear</td>\n      <td>SimplexTableau</td>\n      <td>number of constraint with the specified relat...</td>\n      <td>/**\n     * Get a count of constraints corresp...</td>\n      <td>private int getConstraintTypeCounts(final Rela...</td>\n      <td>/**\n * A tableau for use in the Simplex method...</td>\n      <td>/*\n * Licensed to the Apache Software Foundati...</td>\n      <td></td>\n      <td></td>\n      <td>MethodArgument</td>\n      <td></td>\n    </tr>\n    <tr>\n      <th>1</th>\n      <td>False</td>\n      <td>10700</td>\n      <td>NORMAL_POST</td>\n      <td>commons-math3-3.6.1</td>\n      <td>org.apache.commons.math3.optimization.linear</td>\n      <td>SimplexTableau</td>\n      <td>number of constraint with the specified relat...</td>\n      <td>/**\n     * Get a count of constraints corresp...</td>\n      <td>private int getConstraintTypeCounts(final Rela...</td>\n      <td>/**\n * A tableau for use in the Simplex method...</td>\n      <td>/*\n * Licensed to the Apache Software Foundati...</td>\n      <td></td>\n      <td></td>\n      <td>Class</td>\n      <td></td>\n    </tr>\n    <tr>\n      <th>2</th>\n      <td>False</td>\n      <td>10700</td>\n      <td>NORMAL_POST</td>\n      <td>commons-math3-3.6.1</td>\n      <td>org.apache.commons.math3.optimization.linear</td>\n      <td>SimplexTableau</td>\n      <td>number of constraint with the specified relat...</td>\n      <td>/**\n     * Get a count of constraints corresp...</td>\n      <td>private int getConstraintTypeCounts(final Rela...</td>\n      <td>/**\n * A tableau for use in the Simplex method...</td>\n      <td>/*\n * Licensed to the Apache Software Foundati...</td>\n      <td></td>\n      <td></td>\n      <td>This</td>\n      <td></td>\n    </tr>\n    <tr>\n      <th>3</th>\n      <td>False</td>\n      <td>10700</td>\n      <td>NORMAL_POST</td>\n      <td>commons-math3-3.6.1</td>\n      <td>org.apache.commons.math3.optimization.linear</td>\n      <td>SimplexTableau</td>\n      <td>number of constraint with the specified relat...</td>\n      <td>/**\n     * Get a count of constraints corresp...</td>\n      <td>private int getConstraintTypeCounts(final Rela...</td>\n      <td>/**\n * A tableau for use in the Simplex method...</td>\n      <td>/*\n * Licensed to the Apache Software Foundati...</td>\n      <td></td>\n      <td></td>\n      <td>TRUE</td>\n      <td></td>\n    </tr>\n    <tr>\n      <th>4</th>\n      <td>True</td>\n      <td>10700</td>\n      <td>NORMAL_POST</td>\n      <td>commons-math3-3.6.1</td>\n      <td>org.apache.commons.math3.optimization.linear</td>\n      <td>SimplexTableau</td>\n      <td>number of constraint with the specified relat...</td>\n      <td>/**\n     * Get a count of constraints corresp...</td>\n      <td>private int getConstraintTypeCounts(final Rela...</td>\n      <td>/**\n * A tableau for use in the Simplex method...</td>\n      <td>/*\n * Licensed to the Apache Software Foundati...</td>\n      <td></td>\n      <td></td>\n      <td>Semicolon</td>\n      <td></td>\n    </tr>\n  </tbody>\n</table>\n</div>"
     },
     "execution_count": 6,
     "metadata": {},
     "output_type": "execute_result"
    }
   ],
   "source": [
    "df_dataset.head()"
   ],
   "metadata": {
    "collapsed": false,
    "ExecuteTime": {
     "start_time": "2023-06-03T09:45:06.011173Z",
     "end_time": "2023-06-03T09:45:06.057779Z"
    }
   }
  },
  {
   "cell_type": "code",
   "execution_count": 7,
   "outputs": [],
   "source": [
    "unique_values = df_dataset['tokenClass'].unique()"
   ],
   "metadata": {
    "collapsed": false,
    "ExecuteTime": {
     "start_time": "2023-06-02T10:42:04.893223Z",
     "end_time": "2023-06-02T10:42:04.930126Z"
    }
   }
  },
  {
   "cell_type": "code",
   "execution_count": 8,
   "outputs": [
    {
     "data": {
      "text/plain": "<StringArray>\n[        'MethodArgument',                  'Class',                   'This',\n                   'TRUE',              'Semicolon',     'OpeningParenthesis',\n            'ArraysClass',           'IneqOperator',             'EqOperator',\n                 'Period',     'InstanceOfOperator',                   'NULL',\n        'LogicalOperator',      'NonEqIneqOperator',                  'S_INT',\n  'BitwiseNegateOperator',           'QuestionMark',         'MethodResultID',\n             'MethodName',     'ClosingParenthesis',                  'Colon',\n                  'FALSE',           'StreamMethod',                'BOOLEAN',\n                  'Comma',             'ClassField', 'BitwiseLogicalOperator',\n   'ArithmeticalOperator',   'BitwiseShiftOperator',                 'DOUBLE',\n            'MatchMethod',         'MatchMethodVar',             'RightArrow',\n          'ClassModifier',               'S_STRING']\nLength: 35, dtype: string"
     },
     "execution_count": 8,
     "metadata": {},
     "output_type": "execute_result"
    }
   ],
   "source": [
    "unique_values"
   ],
   "metadata": {
    "collapsed": false,
    "ExecuteTime": {
     "start_time": "2023-06-02T10:42:04.917239Z",
     "end_time": "2023-06-02T10:42:04.946481Z"
    }
   }
  },
  {
   "cell_type": "code",
   "execution_count": 9,
   "metadata": {
    "ExecuteTime": {
     "start_time": "2023-06-02T10:42:04.924734Z",
     "end_time": "2023-06-02T10:42:04.946927Z"
    }
   },
   "outputs": [
    {
     "data": {
      "text/plain": "Index(['label', 'oracleId', 'oracleType', 'projectName', 'packageName',\n       'className', 'javadocTag', 'methodJavadoc', 'methodSourceCode',\n       'classJavadoc', 'classSourceCode', 'oracleSoFar', 'token', 'tokenClass',\n       'tokenInfo'],\n      dtype='object')"
     },
     "execution_count": 9,
     "metadata": {},
     "output_type": "execute_result"
    }
   ],
   "source": [
    "df_dataset.columns"
   ]
  },
  {
   "cell_type": "code",
   "execution_count": 10,
   "metadata": {
    "ExecuteTime": {
     "start_time": "2023-06-02T10:42:04.934155Z",
     "end_time": "2023-06-02T10:42:04.947427Z"
    }
   },
   "outputs": [],
   "source": [
    "# delete the oracle ids and the tgt labels from the input dataset\n",
    "df_src = df_dataset.drop(['label','oracleId','projectName','classSourceCode','classJavadoc','token','tokenInfo'], axis=1)"
   ]
  },
  {
   "cell_type": "code",
   "execution_count": 11,
   "metadata": {
    "ExecuteTime": {
     "start_time": "2023-06-02T10:42:04.939863Z",
     "end_time": "2023-06-02T10:42:04.947802Z"
    }
   },
   "outputs": [
    {
     "data": {
      "text/plain": "(189187, 8)"
     },
     "execution_count": 11,
     "metadata": {},
     "output_type": "execute_result"
    }
   ],
   "source": [
    "df_src.shape"
   ]
  },
  {
   "cell_type": "code",
   "execution_count": 12,
   "metadata": {
    "ExecuteTime": {
     "start_time": "2023-06-02T10:46:44.069314Z",
     "end_time": "2023-06-02T10:46:48.059314Z"
    }
   },
   "outputs": [],
   "source": [
    "%%capture\n",
    "tokenizer = RobertaTokenizer.from_pretrained('roberta-base', do_lower_case=False) #AutoTokenizer.from_pretrained(\"microsoft/codebert-base\", model_max_length=512)"
   ]
  },
  {
   "cell_type": "code",
   "execution_count": 23,
   "metadata": {
    "ExecuteTime": {
     "start_time": "2023-06-02T10:56:19.719221Z",
     "end_time": "2023-06-02T11:02:55.128697Z"
    }
   },
   "outputs": [],
   "source": [
    "df_src_concat = df_src.apply(lambda row: tokenizer.tokenize(tokenizer.cls_token.join(row.values)), axis=1)\n",
    "# The pandas dataframe is transformed in a list of strings: each string is a input\n",
    "# to the model\n",
    "src = df_src_concat.to_numpy().tolist()\n",
    "\n",
    "#max_len = reduce(lambda max_len, s: len(s) if len(s) > max_len else max_len, src,0) + 2"
   ]
  },
  {
   "cell_type": "code",
   "execution_count": 28,
   "outputs": [],
   "source": [
    "%%capture\n",
    "tokenizer_2 = AutoTokenizer.from_pretrained(\"microsoft/codebert-base\", model_max_length=512)\n"
   ],
   "metadata": {
    "collapsed": false,
    "ExecuteTime": {
     "start_time": "2023-06-02T11:06:44.160157Z",
     "end_time": "2023-06-02T11:06:45.110433Z"
    }
   }
  },
  {
   "cell_type": "code",
   "execution_count": 30,
   "outputs": [
    {
     "name": "stderr",
     "output_type": "stream",
     "text": [
      "Token indices sequence length is longer than the specified maximum sequence length for this model (653 > 512). Running this sequence through the model will result in indexing errors\n"
     ]
    }
   ],
   "source": [
    "df_src_concat_2 = df_src.apply(lambda row: tokenizer_2.tokenize(tokenizer.cls_token.join(row.values)), axis=1)\n",
    "# The pandas dataframe is transformed in a list of strings: each string is a input\n",
    "# to the model\n",
    "src_2 = df_src_concat.to_numpy().tolist()\n",
    "\n",
    "#max_len = reduce(lambda max_len, s: len(s) if len(s) > max_len else max_len, src,0) + 2"
   ],
   "metadata": {
    "collapsed": false,
    "ExecuteTime": {
     "start_time": "2023-06-02T11:13:31.660221Z",
     "end_time": "2023-06-02T11:17:59.921950Z"
    }
   }
  },
  {
   "cell_type": "code",
   "execution_count": 14,
   "metadata": {
    "ExecuteTime": {
     "start_time": "2023-06-02T10:53:48.182044Z",
     "end_time": "2023-06-02T10:53:48.208211Z"
    }
   },
   "outputs": [],
   "source": [
    "unique_values = df_dataset['tokenClass'].unique()"
   ]
  },
  {
   "cell_type": "code",
   "execution_count": 15,
   "metadata": {
    "ExecuteTime": {
     "start_time": "2023-06-02T10:53:49.034070Z",
     "end_time": "2023-06-02T10:53:49.051537Z"
    }
   },
   "outputs": [
    {
     "data": {
      "text/plain": "<StringArray>\n[        'MethodArgument',                  'Class',                   'This',\n                   'TRUE',              'Semicolon',     'OpeningParenthesis',\n            'ArraysClass',           'IneqOperator',             'EqOperator',\n                 'Period',     'InstanceOfOperator',                   'NULL',\n        'LogicalOperator',      'NonEqIneqOperator',                  'S_INT',\n  'BitwiseNegateOperator',           'QuestionMark',         'MethodResultID',\n             'MethodName',     'ClosingParenthesis',                  'Colon',\n                  'FALSE',           'StreamMethod',                'BOOLEAN',\n                  'Comma',             'ClassField', 'BitwiseLogicalOperator',\n   'ArithmeticalOperator',   'BitwiseShiftOperator',                 'DOUBLE',\n            'MatchMethod',         'MatchMethodVar',             'RightArrow',\n          'ClassModifier',               'S_STRING']\nLength: 35, dtype: string"
     },
     "execution_count": 15,
     "metadata": {},
     "output_type": "execute_result"
    }
   ],
   "source": [
    "unique_values"
   ]
  },
  {
   "cell_type": "code",
   "execution_count": 17,
   "metadata": {
    "ExecuteTime": {
     "start_time": "2023-06-02T10:54:13.065279Z",
     "end_time": "2023-06-02T10:54:13.091521Z"
    }
   },
   "outputs": [
    {
     "data": {
      "text/plain": "    oracleType                                   packageName       className  \\\n0  NORMAL_POST  org.apache.commons.math3.optimization.linear  SimplexTableau   \n1  NORMAL_POST  org.apache.commons.math3.optimization.linear  SimplexTableau   \n2  NORMAL_POST  org.apache.commons.math3.optimization.linear  SimplexTableau   \n3  NORMAL_POST  org.apache.commons.math3.optimization.linear  SimplexTableau   \n4  NORMAL_POST  org.apache.commons.math3.optimization.linear  SimplexTableau   \n\n                                          javadocTag  \\\n0   number of constraint with the specified relat...   \n1   number of constraint with the specified relat...   \n2   number of constraint with the specified relat...   \n3   number of constraint with the specified relat...   \n4   number of constraint with the specified relat...   \n\n                                       methodJavadoc  \\\n0  \t/**\n     * Get a count of constraints corresp...   \n1  \t/**\n     * Get a count of constraints corresp...   \n2  \t/**\n     * Get a count of constraints corresp...   \n3  \t/**\n     * Get a count of constraints corresp...   \n4  \t/**\n     * Get a count of constraints corresp...   \n\n                                    methodSourceCode oracleSoFar  \\\n0  private int getConstraintTypeCounts(final Rela...               \n1  private int getConstraintTypeCounts(final Rela...               \n2  private int getConstraintTypeCounts(final Rela...               \n3  private int getConstraintTypeCounts(final Rela...               \n4  private int getConstraintTypeCounts(final Rela...               \n\n       tokenClass  \n0  MethodArgument  \n1           Class  \n2            This  \n3            TRUE  \n4       Semicolon  ",
      "text/html": "<div>\n<style scoped>\n    .dataframe tbody tr th:only-of-type {\n        vertical-align: middle;\n    }\n\n    .dataframe tbody tr th {\n        vertical-align: top;\n    }\n\n    .dataframe thead th {\n        text-align: right;\n    }\n</style>\n<table border=\"1\" class=\"dataframe\">\n  <thead>\n    <tr style=\"text-align: right;\">\n      <th></th>\n      <th>oracleType</th>\n      <th>packageName</th>\n      <th>className</th>\n      <th>javadocTag</th>\n      <th>methodJavadoc</th>\n      <th>methodSourceCode</th>\n      <th>oracleSoFar</th>\n      <th>tokenClass</th>\n    </tr>\n  </thead>\n  <tbody>\n    <tr>\n      <th>0</th>\n      <td>NORMAL_POST</td>\n      <td>org.apache.commons.math3.optimization.linear</td>\n      <td>SimplexTableau</td>\n      <td>number of constraint with the specified relat...</td>\n      <td>/**\n     * Get a count of constraints corresp...</td>\n      <td>private int getConstraintTypeCounts(final Rela...</td>\n      <td></td>\n      <td>MethodArgument</td>\n    </tr>\n    <tr>\n      <th>1</th>\n      <td>NORMAL_POST</td>\n      <td>org.apache.commons.math3.optimization.linear</td>\n      <td>SimplexTableau</td>\n      <td>number of constraint with the specified relat...</td>\n      <td>/**\n     * Get a count of constraints corresp...</td>\n      <td>private int getConstraintTypeCounts(final Rela...</td>\n      <td></td>\n      <td>Class</td>\n    </tr>\n    <tr>\n      <th>2</th>\n      <td>NORMAL_POST</td>\n      <td>org.apache.commons.math3.optimization.linear</td>\n      <td>SimplexTableau</td>\n      <td>number of constraint with the specified relat...</td>\n      <td>/**\n     * Get a count of constraints corresp...</td>\n      <td>private int getConstraintTypeCounts(final Rela...</td>\n      <td></td>\n      <td>This</td>\n    </tr>\n    <tr>\n      <th>3</th>\n      <td>NORMAL_POST</td>\n      <td>org.apache.commons.math3.optimization.linear</td>\n      <td>SimplexTableau</td>\n      <td>number of constraint with the specified relat...</td>\n      <td>/**\n     * Get a count of constraints corresp...</td>\n      <td>private int getConstraintTypeCounts(final Rela...</td>\n      <td></td>\n      <td>TRUE</td>\n    </tr>\n    <tr>\n      <th>4</th>\n      <td>NORMAL_POST</td>\n      <td>org.apache.commons.math3.optimization.linear</td>\n      <td>SimplexTableau</td>\n      <td>number of constraint with the specified relat...</td>\n      <td>/**\n     * Get a count of constraints corresp...</td>\n      <td>private int getConstraintTypeCounts(final Rela...</td>\n      <td></td>\n      <td>Semicolon</td>\n    </tr>\n  </tbody>\n</table>\n</div>"
     },
     "execution_count": 17,
     "metadata": {},
     "output_type": "execute_result"
    }
   ],
   "source": [
    "df_src.head()"
   ]
  },
  {
   "cell_type": "code",
   "execution_count": 31,
   "metadata": {
    "ExecuteTime": {
     "start_time": "2023-06-02T11:19:55.989133Z",
     "end_time": "2023-06-02T11:19:55.998479Z"
    }
   },
   "outputs": [
    {
     "data": {
      "text/plain": "['PRE',\n '<s>',\n 'pl',\n 'ume',\n '<s>',\n 'Weak',\n 'Id',\n 'entity',\n 'P',\n 'air',\n '<s>',\n '@',\n 'param',\n 'Ġb',\n 'Ġsecond',\n 'Ġargument',\n '<s>',\n 'ĉ',\n '/**',\n 'ĠFactory',\n 'Ġmethod',\n 'Ġwith',\n 'Ġshort',\n 'Ġname',\n 'Ġand',\n 'Ġno',\n 'Ġneed',\n 'Ġto',\n 'Ġname',\n 'Ġtype',\n 'Ġparameters',\n '.',\n 'Ċ',\n 'Ġ',\n 'Ġ',\n 'Ġ*',\n 'Ġ@',\n 'param',\n 'Ġ<',\n 'A',\n '>',\n 'Ġtype',\n 'Ġof',\n 'Ġfirst',\n 'Ġargument',\n 'Ċ',\n 'Ġ',\n 'Ġ',\n 'Ġ*',\n 'Ġ@',\n 'param',\n 'Ġ<',\n 'B',\n '>',\n 'Ġtype',\n 'Ġof',\n 'Ġsecond',\n 'Ġargument',\n 'Ċ',\n 'Ġ',\n 'Ġ',\n 'Ġ*',\n 'Ġ@',\n 'param',\n 'Ġa',\n 'Ġfirst',\n 'Ġargument',\n 'Ċ',\n 'Ġ',\n 'Ġ',\n 'Ġ*',\n 'Ġ@',\n 'param',\n 'Ġb',\n 'Ġsecond',\n 'Ġargument',\n 'Ċ',\n 'Ġ',\n 'Ġ',\n 'Ġ*',\n 'Ġ@',\n 'return',\n 'Ġa',\n 'ĠWeak',\n 'Id',\n 'entity',\n 'P',\n 'air',\n 'Ġof',\n 'Ġ(',\n 'a',\n ',',\n 'Ġb',\n ')',\n 'Ċ',\n 'Ġ',\n 'Ġ',\n 'Ġ*/',\n '<s>',\n 'public',\n 'Ġstatic',\n 'Ġ<',\n 'A',\n 'Ġextends',\n 'ĠObject',\n ',',\n 'ĠB',\n 'Ġextends',\n 'ĠObject',\n '>',\n 'ĠWeak',\n 'Id',\n 'entity',\n 'P',\n 'air',\n '<',\n 'A',\n ',',\n 'ĠB',\n '>',\n 'Ġof',\n '(',\n 'A',\n 'Ġa',\n ',',\n 'ĠB',\n 'Ġb',\n '){',\n 'Ċ',\n 'Ġ',\n 'Ġ',\n 'Ġ',\n 'Ġreturn',\n 'Ġnew',\n 'ĠWeak',\n 'Id',\n 'entity',\n 'P',\n 'air',\n '<',\n 'A',\n ',',\n 'ĠB',\n '>(',\n 'a',\n ',',\n 'Ġb',\n ');',\n 'Ċ',\n '}',\n '<s>',\n '<s>',\n 'S',\n 'emic',\n 'olon']"
     },
     "execution_count": 31,
     "metadata": {},
     "output_type": "execute_result"
    }
   ],
   "source": [
    "max(src)"
   ]
  },
  {
   "cell_type": "code",
   "execution_count": 32,
   "metadata": {
    "ExecuteTime": {
     "start_time": "2023-06-02T11:20:16.461538Z",
     "end_time": "2023-06-02T11:20:16.514042Z"
    }
   },
   "outputs": [],
   "source": [
    "# Assuming you have a list of strings named 'string_list'\n",
    "max_length_element = max(src_2, key=lambda x: len(x))\n",
    "\n",
    "# If you want to get the index of the element instead, you can use argmax()\n",
    "max_length_index = np.argmax([len(x) for x in src_2])"
   ]
  },
  {
   "cell_type": "code",
   "execution_count": 33,
   "metadata": {
    "ExecuteTime": {
     "start_time": "2023-06-02T11:20:17.641113Z",
     "end_time": "2023-06-02T11:20:17.660440Z"
    }
   },
   "outputs": [
    {
     "data": {
      "text/plain": "['NOR',\n 'MAL',\n '_',\n 'POST',\n '<s>',\n 'org',\n '.',\n 'apache',\n '.',\n 'comm',\n 'ons',\n '.',\n 'math',\n '3',\n '.',\n 'optim',\n '.',\n 'non',\n 'linear',\n '.',\n 'sc',\n 'al',\n 'ar',\n '.',\n 'n',\n 'oder',\n 'iv',\n '<s>',\n 'BO',\n 'BY',\n 'Q',\n 'A',\n 'Opt',\n 'im',\n 'izer',\n '<s>',\n 'Ġthe',\n 'Ġvalue',\n 'Ġof',\n 'Ġthe',\n 'Ġobjective',\n 'Ġat',\n 'Ġthe',\n 'Ġoptimum',\n '.',\n '<s>',\n 'ĉ',\n '/**',\n 'Ċ',\n 'Ġ',\n 'Ġ',\n 'Ġ',\n 'Ġ',\n 'Ġ*',\n 'Ġ',\n 'Ġ',\n 'Ġ',\n 'Ġ',\n 'ĠThe',\n 'Ġarguments',\n 'ĠN',\n ',',\n 'ĠN',\n 'PT',\n ',',\n 'ĠX',\n ',',\n 'ĠXL',\n ',',\n 'ĠX',\n 'U',\n ',',\n 'ĠRH',\n 'OB',\n 'EG',\n ',',\n 'ĠR',\n 'HO',\n 'END',\n ',',\n 'ĠI',\n 'PR',\n 'INT',\n 'Ġand',\n 'ĠMAX',\n 'FUN',\n 'Ċ',\n 'Ġ',\n 'Ġ',\n 'Ġ',\n 'Ġ',\n 'Ġ*',\n 'Ġ',\n 'Ġ',\n 'Ġ',\n 'Ġ',\n 'Ġ',\n 'Ġ',\n 'Ġare',\n 'Ġidentical',\n 'Ġto',\n 'Ġthe',\n 'Ġcorresponding',\n 'Ġarguments',\n 'Ġin',\n 'ĠSUB',\n 'R',\n 'OUT',\n 'INE',\n 'ĠB',\n 'OB',\n 'Y',\n 'Q',\n 'A',\n '.',\n 'Ċ',\n 'Ġ',\n 'Ġ',\n 'Ġ',\n 'Ġ',\n 'Ġ*',\n 'Ġ',\n 'Ġ',\n 'Ġ',\n 'Ġ',\n 'ĠX',\n 'B',\n 'ASE',\n 'Ġholds',\n 'Ġa',\n 'Ġshift',\n 'Ġof',\n 'Ġorigin',\n 'Ġthat',\n 'Ġshould',\n 'Ġreduce',\n 'Ġthe',\n 'Ġcontributions',\n 'Ċ',\n 'Ġ',\n 'Ġ',\n 'Ġ',\n 'Ġ',\n 'Ġ*',\n 'Ġ',\n 'Ġ',\n 'Ġ',\n 'Ġ',\n 'Ġ',\n 'Ġ',\n 'Ġfrom',\n 'Ġrounding',\n 'Ġerrors',\n 'Ġto',\n 'Ġvalues',\n 'Ġof',\n 'Ġthe',\n 'Ġmodel',\n 'Ġand',\n 'ĠLag',\n 'range',\n 'Ġfunctions',\n '.',\n 'Ċ',\n 'Ġ',\n 'Ġ',\n 'Ġ',\n 'Ġ',\n 'Ġ*',\n 'Ġ',\n 'Ġ',\n 'Ġ',\n 'Ġ',\n 'ĠX',\n 'PT',\n 'Ġis',\n 'Ġa',\n 'Ġtwo',\n '-',\n 'dimensional',\n 'Ġarray',\n 'Ġthat',\n 'Ġholds',\n 'Ġthe',\n 'Ġcoordinates',\n 'Ġof',\n 'Ġthe',\n 'Ċ',\n 'Ġ',\n 'Ġ',\n 'Ġ',\n 'Ġ',\n 'Ġ*',\n 'Ġ',\n 'Ġ',\n 'Ġ',\n 'Ġ',\n 'Ġ',\n 'Ġ',\n 'Ġinterpol',\n 'ation',\n 'Ġpoints',\n 'Ġrelative',\n 'Ġto',\n 'ĠX',\n 'B',\n 'ASE',\n '.',\n 'Ċ',\n 'Ġ',\n 'Ġ',\n 'Ġ',\n 'Ġ',\n 'Ġ*',\n 'Ġ',\n 'Ġ',\n 'Ġ',\n 'Ġ',\n 'ĠF',\n 'VAL',\n 'Ġholds',\n 'Ġthe',\n 'Ġvalues',\n 'Ġof',\n 'ĠF',\n 'Ġat',\n 'Ġthe',\n 'Ġinterpol',\n 'ation',\n 'Ġpoints',\n '.',\n 'Ċ',\n 'Ġ',\n 'Ġ',\n 'Ġ',\n 'Ġ',\n 'Ġ*',\n 'Ġ',\n 'Ġ',\n 'Ġ',\n 'Ġ',\n 'ĠX',\n 'OP',\n 'T',\n 'Ġis',\n 'Ġset',\n 'Ġto',\n 'Ġthe',\n 'Ġdisplacement',\n 'Ġfrom',\n 'ĠX',\n 'B',\n 'ASE',\n 'Ġof',\n 'Ġthe',\n 'Ġtrust',\n 'Ġregion',\n 'Ġcentre',\n '.',\n 'Ċ',\n 'Ġ',\n 'Ġ',\n 'Ġ',\n 'Ġ',\n 'Ġ*',\n 'Ġ',\n 'Ġ',\n 'Ġ',\n 'Ġ',\n 'ĠGOP',\n 'T',\n 'Ġholds',\n 'Ġthe',\n 'Ġgradient',\n 'Ġof',\n 'Ġthe',\n 'Ġquad',\n 'r',\n 'atic',\n 'Ġmodel',\n 'Ġat',\n 'ĠX',\n 'B',\n 'ASE',\n '+',\n 'X',\n 'OP',\n 'T',\n '.',\n 'Ċ',\n 'Ġ',\n 'Ġ',\n 'Ġ',\n 'Ġ',\n 'Ġ*',\n 'Ġ',\n 'Ġ',\n 'Ġ',\n 'Ġ',\n 'ĠHQ',\n 'Ġholds',\n 'Ġthe',\n 'Ġexplicit',\n 'Ġsecond',\n 'Ġderivatives',\n 'Ġof',\n 'Ġthe',\n 'Ġquad',\n 'r',\n 'atic',\n 'Ġmodel',\n '.',\n 'Ċ',\n 'Ġ',\n 'Ġ',\n 'Ġ',\n 'Ġ',\n 'Ġ*',\n 'Ġ',\n 'Ġ',\n 'Ġ',\n 'Ġ',\n 'ĠP',\n 'Q',\n 'Ġcontains',\n 'Ġthe',\n 'Ġparameters',\n 'Ġof',\n 'Ġthe',\n 'Ġimplicit',\n 'Ġsecond',\n 'Ġderivatives',\n 'Ġof',\n 'Ġthe',\n 'Ċ',\n 'Ġ',\n 'Ġ',\n 'Ġ',\n 'Ġ',\n 'Ġ*',\n 'Ġ',\n 'Ġ',\n 'Ġ',\n 'Ġ',\n 'Ġ',\n 'Ġ',\n 'Ġquad',\n 'r',\n 'atic',\n 'Ġmodel',\n '.',\n 'Ċ',\n 'Ġ',\n 'Ġ',\n 'Ġ',\n 'Ġ',\n 'Ġ*',\n 'Ġ',\n 'Ġ',\n 'Ġ',\n 'Ġ',\n 'ĠBM',\n 'AT',\n 'Ġholds',\n 'Ġthe',\n 'Ġlast',\n 'ĠN',\n 'Ġcolumns',\n 'Ġof',\n 'ĠH',\n '.',\n 'Ċ',\n 'Ġ',\n 'Ġ',\n 'Ġ',\n 'Ġ',\n 'Ġ*',\n 'Ġ',\n 'Ġ',\n 'Ġ',\n 'Ġ',\n 'ĠZ',\n 'MAT',\n 'Ġholds',\n 'Ġthe',\n 'Ġfactor',\n 'ization',\n 'Ġof',\n 'Ġthe',\n 'Ġleading',\n 'ĠN',\n 'PT',\n 'Ġby',\n 'ĠN',\n 'PT',\n 'Ġsub',\n 'mat',\n 'rix',\n 'Ġof',\n 'ĠH',\n ',',\n 'Ċ',\n 'Ġ',\n 'Ġ',\n 'Ġ',\n 'Ġ',\n 'Ġ*',\n 'Ġ',\n 'Ġ',\n 'Ġ',\n 'Ġ',\n 'Ġ',\n 'Ġ',\n 'Ġthis',\n 'Ġfactor',\n 'ization',\n 'Ġbeing',\n 'ĠZ',\n 'MAT',\n 'Ġtimes',\n 'ĠZ',\n 'MAT',\n '^',\n 'T',\n ',',\n 'Ġwhich',\n 'Ġprovides',\n 'Ġboth',\n 'Ġthe',\n 'Ċ',\n 'Ġ',\n 'Ġ',\n 'Ġ',\n 'Ġ',\n 'Ġ*',\n 'Ġ',\n 'Ġ',\n 'Ġ',\n 'Ġ',\n 'Ġ',\n 'Ġ',\n 'Ġcorrect',\n 'Ġrank',\n 'Ġand',\n 'Ġpositive',\n 'Ġsemi',\n '-',\n 'def',\n 'init',\n 'eness',\n '.',\n 'Ċ',\n 'Ġ',\n 'Ġ',\n 'Ġ',\n 'Ġ',\n 'Ġ*',\n 'Ġ',\n 'Ġ',\n 'Ġ',\n 'Ġ',\n 'ĠND',\n 'IM',\n 'Ġis',\n 'Ġthe',\n 'Ġfirst',\n 'Ġdimension',\n 'Ġof',\n 'ĠBM',\n 'AT',\n 'Ġand',\n 'Ġhas',\n 'Ġthe',\n 'Ġvalue',\n 'ĠN',\n 'PT',\n '+',\n 'N',\n '.',\n 'Ċ',\n 'Ġ',\n 'Ġ',\n 'Ġ',\n 'Ġ',\n 'Ġ*',\n 'Ġ',\n 'Ġ',\n 'Ġ',\n 'Ġ',\n 'ĠSL',\n 'Ġand',\n 'ĠSU',\n 'Ġhold',\n 'Ġthe',\n 'Ġdifferences',\n 'ĠXL',\n '-',\n 'X',\n 'B',\n 'ASE',\n 'Ġand',\n 'ĠX',\n 'U',\n '-',\n 'X',\n 'B',\n 'ASE',\n ',',\n 'Ġrespectively',\n '.',\n 'Ċ',\n 'Ġ',\n 'Ġ',\n 'Ġ',\n 'Ġ',\n 'Ġ*',\n 'Ġ',\n 'Ġ',\n 'Ġ',\n 'Ġ',\n 'Ġ',\n 'Ġ',\n 'ĠAll',\n 'Ġthe',\n 'Ġcomponents',\n 'Ġof',\n 'Ġevery',\n 'ĠX',\n 'OP',\n 'T',\n 'Ġare',\n 'Ġgoing',\n 'Ġto',\n 'Ġsatisfy',\n 'Ġthe',\n 'Ġbounds',\n 'Ċ',\n 'Ġ',\n 'Ġ',\n 'Ġ',\n 'Ġ',\n 'Ġ*',\n 'Ġ',\n 'Ġ',\n 'Ġ',\n 'Ġ',\n 'Ġ',\n 'Ġ',\n 'ĠSL',\n '(',\n 'I',\n ')',\n 'Ġ.',\n 'LE',\n 'Q',\n '.',\n 'ĠX',\n 'OP',\n 'T',\n '(',\n 'I',\n ')',\n 'Ġ.',\n 'LE',\n 'Q',\n '.',\n 'ĠSU',\n '(',\n 'I',\n '),',\n 'Ġwith',\n 'Ġappropriate',\n 'Ġequal',\n 'ities',\n 'Ġwhen',\n 'Ċ',\n 'Ġ',\n 'Ġ',\n 'Ġ',\n 'Ġ',\n 'Ġ*',\n 'Ġ',\n 'Ġ',\n 'Ġ',\n 'Ġ',\n 'Ġ',\n 'Ġ',\n 'ĠX',\n 'OP',\n 'T',\n 'Ġis',\n 'Ġon',\n 'Ġa',\n 'Ġconstraint',\n 'Ġboundary',\n '.',\n 'Ċ',\n 'Ġ',\n 'Ġ',\n 'Ġ',\n 'Ġ',\n 'Ġ*',\n 'Ġ',\n 'Ġ',\n 'Ġ',\n 'Ġ',\n 'ĠX',\n 'NEW',\n 'Ġis',\n 'Ġchosen',\n 'Ġby',\n 'ĠSUB',\n 'R',\n 'OUT',\n 'INE',\n 'ĠT',\n 'RS',\n 'BOX',\n 'Ġor',\n 'ĠAL',\n 'TM',\n 'OV',\n '.',\n 'ĠUsually',\n 'ĠX',\n 'B',\n 'ASE',\n '+',\n 'X',\n 'NEW',\n 'Ġis',\n 'Ġthe',\n 'Ċ',\n 'Ġ',\n 'Ġ',\n 'Ġ',\n 'Ġ',\n 'Ġ*',\n 'Ġ',\n 'Ġ',\n 'Ġ',\n 'Ġ',\n 'Ġ',\n 'Ġ',\n 'Ġvector',\n 'Ġof',\n 'Ġvariables',\n 'Ġfor',\n 'Ġthe',\n 'Ġnext',\n 'Ġcall',\n 'Ġof',\n 'ĠCAL',\n 'FUN',\n '.',\n 'ĠX',\n 'NEW',\n 'Ġalso',\n 'Ġsatisfies',\n 'Ċ',\n 'Ġ',\n 'Ġ',\n 'Ġ',\n 'Ġ',\n 'Ġ*',\n 'Ġ',\n 'Ġ',\n 'Ġ',\n 'Ġ',\n 'Ġ',\n 'Ġ',\n 'Ġthe',\n 'ĠSL',\n 'Ġand',\n 'ĠSU',\n 'Ġconstraints',\n 'Ġin',\n 'Ġthe',\n 'Ġway',\n 'Ġthat',\n 'Ġhas',\n 'Ġjust',\n 'Ġbeen',\n 'Ġmentioned',\n '.',\n 'Ċ',\n 'Ġ',\n 'Ġ',\n 'Ġ',\n 'Ġ',\n 'Ġ*',\n 'Ġ',\n 'Ġ',\n 'Ġ',\n 'Ġ',\n 'ĠX',\n 'ALT',\n 'Ġis',\n 'Ġan',\n 'Ġalternative',\n 'Ġto',\n 'ĠX',\n 'NEW',\n ',',\n 'Ġchosen',\n 'Ġby',\n 'ĠAL',\n 'TM',\n 'OV',\n ',',\n 'Ġthat',\n 'Ġmay',\n 'Ġreplace',\n 'ĠX',\n 'NEW',\n 'Ċ',\n 'Ġ',\n 'Ġ',\n 'Ġ',\n 'Ġ',\n 'Ġ*',\n 'Ġ',\n 'Ġ',\n 'Ġ',\n 'Ġ',\n 'Ġ',\n 'Ġ',\n 'Ġin',\n 'Ġorder',\n 'Ġto',\n 'Ġincrease',\n 'Ġthe',\n 'Ġdenomin',\n 'ator',\n 'Ġin',\n 'Ġthe',\n 'Ġupdating',\n 'Ġof',\n 'ĠUPDATE',\n '.',\n 'Ċ',\n 'Ġ',\n 'Ġ',\n 'Ġ',\n 'Ġ',\n 'Ġ*',\n 'Ġ',\n 'Ġ',\n 'Ġ',\n 'Ġ',\n 'ĠD',\n 'Ġis',\n 'Ġreserved',\n 'Ġfor',\n 'Ġa',\n 'Ġtrial',\n 'Ġstep',\n 'Ġfrom',\n 'ĠX',\n 'OP',\n 'T',\n ',',\n 'Ġwhich',\n 'Ġis',\n 'Ġusually',\n 'ĠX',\n 'NEW',\n '-',\n 'X',\n 'OP',\n 'T',\n '.',\n 'Ċ',\n 'Ġ',\n 'Ġ',\n 'Ġ',\n 'Ġ',\n 'Ġ*',\n 'Ġ',\n 'Ġ',\n 'Ġ',\n 'Ġ',\n 'ĠV',\n 'L',\n 'AG',\n 'Ġcontains',\n 'Ġthe',\n 'Ġvalues',\n 'Ġof',\n 'Ġthe',\n 'ĠLag',\n 'range',\n 'Ġfunctions',\n 'Ġat',\n 'Ġa',\n 'Ġnew',\n 'Ġpoint',\n 'ĠX',\n '.',\n 'Ċ',\n 'Ġ',\n 'Ġ',\n 'Ġ',\n 'Ġ',\n 'Ġ*',\n 'Ġ',\n 'Ġ',\n 'Ġ',\n 'Ġ',\n 'Ġ',\n 'Ġ',\n 'ĠThey',\n 'Ġare',\n 'Ġpart',\n 'Ġof',\n 'Ġa',\n 'Ġproduct',\n 'Ġthat',\n 'Ġrequires',\n 'ĠV',\n 'L',\n 'AG',\n 'Ġto',\n 'Ġbe',\n 'Ġof',\n 'Ġlength',\n 'ĠND',\n 'IM',\n '.',\n 'Ċ',\n 'Ġ',\n 'Ġ',\n 'Ġ',\n 'Ġ',\n 'Ġ*',\n 'Ġ',\n 'Ġ',\n 'Ġ',\n 'Ġ',\n 'ĠW',\n 'Ġis',\n 'Ġa',\n 'Ġone',\n '-',\n 'dimensional',\n 'Ġarray',\n 'Ġthat',\n 'Ġis',\n 'Ġused',\n 'Ġfor',\n 'Ġworking',\n 'Ġspace',\n '.',\n 'ĠIts',\n 'Ġlength',\n 'Ċ',\n 'Ġ',\n 'Ġ',\n 'Ġ',\n 'Ġ',\n 'Ġ*',\n 'Ġ',\n 'Ġ',\n 'Ġ',\n 'Ġ',\n 'Ġ',\n 'Ġ',\n 'Ġmust',\n 'Ġbe',\n 'Ġat',\n 'Ġleast',\n 'Ġ3',\n '*',\n 'ND',\n 'IM',\n 'Ġ=',\n 'Ġ3',\n '*',\n '(',\n 'N',\n 'PT',\n '+',\n 'N',\n ').',\n 'Ċ',\n 'Ġ',\n 'Ġ',\n 'Ġ',\n 'Ġ',\n 'Ġ*',\n 'Ċ',\n 'Ġ',\n 'Ġ',\n 'Ġ',\n 'Ġ',\n 'Ġ*',\n 'Ġ@',\n 'param',\n 'Ġlower',\n 'Bound',\n 'ĠLower',\n 'Ġbounds',\n '.',\n 'Ċ',\n 'Ġ',\n 'Ġ',\n 'Ġ',\n 'Ġ',\n 'Ġ*',\n 'Ġ@',\n 'param',\n 'Ġupper',\n 'Bound',\n 'ĠUpper',\n 'Ġbounds',\n '.',\n 'Ċ',\n 'Ġ',\n 'Ġ',\n 'Ġ',\n 'Ġ',\n 'Ġ*',\n 'Ġ@',\n 'return',\n 'Ġthe',\n 'Ġvalue',\n 'Ġof',\n 'Ġthe',\n 'Ġobjective',\n 'Ġat',\n 'Ġthe',\n 'Ġoptimum',\n '.',\n 'Ċ',\n 'Ġ',\n 'Ġ',\n 'Ġ',\n 'Ġ',\n 'Ġ*/',\n '<s>',\n 'private',\n 'Ġdouble',\n 'Ġb',\n 'oby',\n 'q',\n 'b',\n '(',\n 'double',\n '[]',\n 'Ġlower',\n 'Bound',\n ',',\n 'Ġdouble',\n '[]',\n 'Ġupper',\n 'Bound',\n '){',\n 'Ċ',\n 'Ġ',\n 'Ġ',\n 'Ġ',\n 'Ġ//',\n 'ĠXXX',\n 'Ċ',\n 'Ġ',\n 'Ġ',\n 'Ġ',\n 'Ġprint',\n 'Method',\n '();',\n 'Ċ',\n 'Ġ',\n 'Ġ',\n 'Ġ',\n 'Ġfinal',\n 'Ġint',\n 'Ġn',\n 'Ġ=',\n 'Ġcurrent',\n 'Best',\n '.',\n 'get',\n 'Dim',\n 'ension',\n '();',\n 'Ċ',\n 'Ġ',\n 'Ġ',\n 'Ġ',\n 'Ġfinal',\n 'Ġint',\n 'Ġn',\n 'pt',\n 'Ġ=',\n 'Ġnumber',\n 'Of',\n 'Inter',\n 'pol',\n 'ation',\n 'Points',\n ...]"
     },
     "execution_count": 33,
     "metadata": {},
     "output_type": "execute_result"
    }
   ],
   "source": [
    "max_length_element"
   ]
  },
  {
   "cell_type": "code",
   "execution_count": 34,
   "metadata": {
    "ExecuteTime": {
     "start_time": "2023-06-02T11:20:20.233507Z",
     "end_time": "2023-06-02T11:20:20.247346Z"
    }
   },
   "outputs": [
    {
     "data": {
      "text/plain": "28619"
     },
     "execution_count": 34,
     "metadata": {},
     "output_type": "execute_result"
    }
   ],
   "source": [
    "len(max_length_element)"
   ]
  },
  {
   "cell_type": "code",
   "execution_count": 22,
   "metadata": {},
   "outputs": [
    {
     "ename": "ValueError",
     "evalue": "too many values to unpack (expected 2)",
     "output_type": "error",
     "traceback": [
      "\u001B[0;31m---------------------------------------------------------------------------\u001B[0m",
      "\u001B[0;31mValueError\u001B[0m                                Traceback (most recent call last)",
      "Cell \u001B[0;32mIn[22], line 5\u001B[0m\n\u001B[1;32m      1\u001B[0m b \u001B[38;5;241m=\u001B[39m []\n\u001B[1;32m      3\u001B[0m b\u001B[38;5;241m.\u001B[39mappend(max_length_element)\n\u001B[0;32m----> 5\u001B[0m a \u001B[38;5;241m=\u001B[39m \u001B[43mtokenizer\u001B[49m\u001B[43m(\u001B[49m\n\u001B[1;32m      6\u001B[0m \u001B[43m    \u001B[49m\u001B[43mb\u001B[49m\u001B[43m,\u001B[49m\n\u001B[1;32m      7\u001B[0m \u001B[43m    \u001B[49m\u001B[43mtruncation\u001B[49m\u001B[38;5;241;43m=\u001B[39;49m\u001B[38;5;28;43;01mFalse\u001B[39;49;00m\n\u001B[1;32m      8\u001B[0m \u001B[43m)\u001B[49m\n",
      "File \u001B[0;32m~/Downloads/ml-model/lib/python3.8/site-packages/transformers/tokenization_utils_base.py:2523\u001B[0m, in \u001B[0;36mPreTrainedTokenizerBase.__call__\u001B[0;34m(self, text, text_pair, text_target, text_pair_target, add_special_tokens, padding, truncation, max_length, stride, is_split_into_words, pad_to_multiple_of, return_tensors, return_token_type_ids, return_attention_mask, return_overflowing_tokens, return_special_tokens_mask, return_offsets_mapping, return_length, verbose, **kwargs)\u001B[0m\n\u001B[1;32m   2521\u001B[0m     \u001B[38;5;28;01mif\u001B[39;00m \u001B[38;5;129;01mnot\u001B[39;00m \u001B[38;5;28mself\u001B[39m\u001B[38;5;241m.\u001B[39m_in_target_context_manager:\n\u001B[1;32m   2522\u001B[0m         \u001B[38;5;28mself\u001B[39m\u001B[38;5;241m.\u001B[39m_switch_to_input_mode()\n\u001B[0;32m-> 2523\u001B[0m     encodings \u001B[38;5;241m=\u001B[39m \u001B[38;5;28;43mself\u001B[39;49m\u001B[38;5;241;43m.\u001B[39;49m\u001B[43m_call_one\u001B[49m\u001B[43m(\u001B[49m\u001B[43mtext\u001B[49m\u001B[38;5;241;43m=\u001B[39;49m\u001B[43mtext\u001B[49m\u001B[43m,\u001B[49m\u001B[43m \u001B[49m\u001B[43mtext_pair\u001B[49m\u001B[38;5;241;43m=\u001B[39;49m\u001B[43mtext_pair\u001B[49m\u001B[43m,\u001B[49m\u001B[43m \u001B[49m\u001B[38;5;241;43m*\u001B[39;49m\u001B[38;5;241;43m*\u001B[39;49m\u001B[43mall_kwargs\u001B[49m\u001B[43m)\u001B[49m\n\u001B[1;32m   2524\u001B[0m \u001B[38;5;28;01mif\u001B[39;00m text_target \u001B[38;5;129;01mis\u001B[39;00m \u001B[38;5;129;01mnot\u001B[39;00m \u001B[38;5;28;01mNone\u001B[39;00m:\n\u001B[1;32m   2525\u001B[0m     \u001B[38;5;28mself\u001B[39m\u001B[38;5;241m.\u001B[39m_switch_to_target_mode()\n",
      "File \u001B[0;32m~/Downloads/ml-model/lib/python3.8/site-packages/transformers/tokenization_utils_base.py:2609\u001B[0m, in \u001B[0;36mPreTrainedTokenizerBase._call_one\u001B[0;34m(self, text, text_pair, add_special_tokens, padding, truncation, max_length, stride, is_split_into_words, pad_to_multiple_of, return_tensors, return_token_type_ids, return_attention_mask, return_overflowing_tokens, return_special_tokens_mask, return_offsets_mapping, return_length, verbose, **kwargs)\u001B[0m\n\u001B[1;32m   2604\u001B[0m         \u001B[38;5;28;01mraise\u001B[39;00m \u001B[38;5;167;01mValueError\u001B[39;00m(\n\u001B[1;32m   2605\u001B[0m             \u001B[38;5;124mf\u001B[39m\u001B[38;5;124m\"\u001B[39m\u001B[38;5;124mbatch length of `text`: \u001B[39m\u001B[38;5;132;01m{\u001B[39;00m\u001B[38;5;28mlen\u001B[39m(text)\u001B[38;5;132;01m}\u001B[39;00m\u001B[38;5;124m does not match batch length of `text_pair`:\u001B[39m\u001B[38;5;124m\"\u001B[39m\n\u001B[1;32m   2606\u001B[0m             \u001B[38;5;124mf\u001B[39m\u001B[38;5;124m\"\u001B[39m\u001B[38;5;124m \u001B[39m\u001B[38;5;132;01m{\u001B[39;00m\u001B[38;5;28mlen\u001B[39m(text_pair)\u001B[38;5;132;01m}\u001B[39;00m\u001B[38;5;124m.\u001B[39m\u001B[38;5;124m\"\u001B[39m\n\u001B[1;32m   2607\u001B[0m         )\n\u001B[1;32m   2608\u001B[0m     batch_text_or_text_pairs \u001B[38;5;241m=\u001B[39m \u001B[38;5;28mlist\u001B[39m(\u001B[38;5;28mzip\u001B[39m(text, text_pair)) \u001B[38;5;28;01mif\u001B[39;00m text_pair \u001B[38;5;129;01mis\u001B[39;00m \u001B[38;5;129;01mnot\u001B[39;00m \u001B[38;5;28;01mNone\u001B[39;00m \u001B[38;5;28;01melse\u001B[39;00m text\n\u001B[0;32m-> 2609\u001B[0m     \u001B[38;5;28;01mreturn\u001B[39;00m \u001B[38;5;28;43mself\u001B[39;49m\u001B[38;5;241;43m.\u001B[39;49m\u001B[43mbatch_encode_plus\u001B[49m\u001B[43m(\u001B[49m\n\u001B[1;32m   2610\u001B[0m \u001B[43m        \u001B[49m\u001B[43mbatch_text_or_text_pairs\u001B[49m\u001B[38;5;241;43m=\u001B[39;49m\u001B[43mbatch_text_or_text_pairs\u001B[49m\u001B[43m,\u001B[49m\n\u001B[1;32m   2611\u001B[0m \u001B[43m        \u001B[49m\u001B[43madd_special_tokens\u001B[49m\u001B[38;5;241;43m=\u001B[39;49m\u001B[43madd_special_tokens\u001B[49m\u001B[43m,\u001B[49m\n\u001B[1;32m   2612\u001B[0m \u001B[43m        \u001B[49m\u001B[43mpadding\u001B[49m\u001B[38;5;241;43m=\u001B[39;49m\u001B[43mpadding\u001B[49m\u001B[43m,\u001B[49m\n\u001B[1;32m   2613\u001B[0m \u001B[43m        \u001B[49m\u001B[43mtruncation\u001B[49m\u001B[38;5;241;43m=\u001B[39;49m\u001B[43mtruncation\u001B[49m\u001B[43m,\u001B[49m\n\u001B[1;32m   2614\u001B[0m \u001B[43m        \u001B[49m\u001B[43mmax_length\u001B[49m\u001B[38;5;241;43m=\u001B[39;49m\u001B[43mmax_length\u001B[49m\u001B[43m,\u001B[49m\n\u001B[1;32m   2615\u001B[0m \u001B[43m        \u001B[49m\u001B[43mstride\u001B[49m\u001B[38;5;241;43m=\u001B[39;49m\u001B[43mstride\u001B[49m\u001B[43m,\u001B[49m\n\u001B[1;32m   2616\u001B[0m \u001B[43m        \u001B[49m\u001B[43mis_split_into_words\u001B[49m\u001B[38;5;241;43m=\u001B[39;49m\u001B[43mis_split_into_words\u001B[49m\u001B[43m,\u001B[49m\n\u001B[1;32m   2617\u001B[0m \u001B[43m        \u001B[49m\u001B[43mpad_to_multiple_of\u001B[49m\u001B[38;5;241;43m=\u001B[39;49m\u001B[43mpad_to_multiple_of\u001B[49m\u001B[43m,\u001B[49m\n\u001B[1;32m   2618\u001B[0m \u001B[43m        \u001B[49m\u001B[43mreturn_tensors\u001B[49m\u001B[38;5;241;43m=\u001B[39;49m\u001B[43mreturn_tensors\u001B[49m\u001B[43m,\u001B[49m\n\u001B[1;32m   2619\u001B[0m \u001B[43m        \u001B[49m\u001B[43mreturn_token_type_ids\u001B[49m\u001B[38;5;241;43m=\u001B[39;49m\u001B[43mreturn_token_type_ids\u001B[49m\u001B[43m,\u001B[49m\n\u001B[1;32m   2620\u001B[0m \u001B[43m        \u001B[49m\u001B[43mreturn_attention_mask\u001B[49m\u001B[38;5;241;43m=\u001B[39;49m\u001B[43mreturn_attention_mask\u001B[49m\u001B[43m,\u001B[49m\n\u001B[1;32m   2621\u001B[0m \u001B[43m        \u001B[49m\u001B[43mreturn_overflowing_tokens\u001B[49m\u001B[38;5;241;43m=\u001B[39;49m\u001B[43mreturn_overflowing_tokens\u001B[49m\u001B[43m,\u001B[49m\n\u001B[1;32m   2622\u001B[0m \u001B[43m        \u001B[49m\u001B[43mreturn_special_tokens_mask\u001B[49m\u001B[38;5;241;43m=\u001B[39;49m\u001B[43mreturn_special_tokens_mask\u001B[49m\u001B[43m,\u001B[49m\n\u001B[1;32m   2623\u001B[0m \u001B[43m        \u001B[49m\u001B[43mreturn_offsets_mapping\u001B[49m\u001B[38;5;241;43m=\u001B[39;49m\u001B[43mreturn_offsets_mapping\u001B[49m\u001B[43m,\u001B[49m\n\u001B[1;32m   2624\u001B[0m \u001B[43m        \u001B[49m\u001B[43mreturn_length\u001B[49m\u001B[38;5;241;43m=\u001B[39;49m\u001B[43mreturn_length\u001B[49m\u001B[43m,\u001B[49m\n\u001B[1;32m   2625\u001B[0m \u001B[43m        \u001B[49m\u001B[43mverbose\u001B[49m\u001B[38;5;241;43m=\u001B[39;49m\u001B[43mverbose\u001B[49m\u001B[43m,\u001B[49m\n\u001B[1;32m   2626\u001B[0m \u001B[43m        \u001B[49m\u001B[38;5;241;43m*\u001B[39;49m\u001B[38;5;241;43m*\u001B[39;49m\u001B[43mkwargs\u001B[49m\u001B[43m,\u001B[49m\n\u001B[1;32m   2627\u001B[0m \u001B[43m    \u001B[49m\u001B[43m)\u001B[49m\n\u001B[1;32m   2628\u001B[0m \u001B[38;5;28;01melse\u001B[39;00m:\n\u001B[1;32m   2629\u001B[0m     \u001B[38;5;28;01mreturn\u001B[39;00m \u001B[38;5;28mself\u001B[39m\u001B[38;5;241m.\u001B[39mencode_plus(\n\u001B[1;32m   2630\u001B[0m         text\u001B[38;5;241m=\u001B[39mtext,\n\u001B[1;32m   2631\u001B[0m         text_pair\u001B[38;5;241m=\u001B[39mtext_pair,\n\u001B[0;32m   (...)\u001B[0m\n\u001B[1;32m   2647\u001B[0m         \u001B[38;5;241m*\u001B[39m\u001B[38;5;241m*\u001B[39mkwargs,\n\u001B[1;32m   2648\u001B[0m     )\n",
      "File \u001B[0;32m~/Downloads/ml-model/lib/python3.8/site-packages/transformers/tokenization_utils_base.py:2800\u001B[0m, in \u001B[0;36mPreTrainedTokenizerBase.batch_encode_plus\u001B[0;34m(self, batch_text_or_text_pairs, add_special_tokens, padding, truncation, max_length, stride, is_split_into_words, pad_to_multiple_of, return_tensors, return_token_type_ids, return_attention_mask, return_overflowing_tokens, return_special_tokens_mask, return_offsets_mapping, return_length, verbose, **kwargs)\u001B[0m\n\u001B[1;32m   2790\u001B[0m \u001B[38;5;66;03m# Backward compatibility for 'truncation_strategy', 'pad_to_max_length'\u001B[39;00m\n\u001B[1;32m   2791\u001B[0m padding_strategy, truncation_strategy, max_length, kwargs \u001B[38;5;241m=\u001B[39m \u001B[38;5;28mself\u001B[39m\u001B[38;5;241m.\u001B[39m_get_padding_truncation_strategies(\n\u001B[1;32m   2792\u001B[0m     padding\u001B[38;5;241m=\u001B[39mpadding,\n\u001B[1;32m   2793\u001B[0m     truncation\u001B[38;5;241m=\u001B[39mtruncation,\n\u001B[0;32m   (...)\u001B[0m\n\u001B[1;32m   2797\u001B[0m     \u001B[38;5;241m*\u001B[39m\u001B[38;5;241m*\u001B[39mkwargs,\n\u001B[1;32m   2798\u001B[0m )\n\u001B[0;32m-> 2800\u001B[0m \u001B[38;5;28;01mreturn\u001B[39;00m \u001B[38;5;28;43mself\u001B[39;49m\u001B[38;5;241;43m.\u001B[39;49m\u001B[43m_batch_encode_plus\u001B[49m\u001B[43m(\u001B[49m\n\u001B[1;32m   2801\u001B[0m \u001B[43m    \u001B[49m\u001B[43mbatch_text_or_text_pairs\u001B[49m\u001B[38;5;241;43m=\u001B[39;49m\u001B[43mbatch_text_or_text_pairs\u001B[49m\u001B[43m,\u001B[49m\n\u001B[1;32m   2802\u001B[0m \u001B[43m    \u001B[49m\u001B[43madd_special_tokens\u001B[49m\u001B[38;5;241;43m=\u001B[39;49m\u001B[43madd_special_tokens\u001B[49m\u001B[43m,\u001B[49m\n\u001B[1;32m   2803\u001B[0m \u001B[43m    \u001B[49m\u001B[43mpadding_strategy\u001B[49m\u001B[38;5;241;43m=\u001B[39;49m\u001B[43mpadding_strategy\u001B[49m\u001B[43m,\u001B[49m\n\u001B[1;32m   2804\u001B[0m \u001B[43m    \u001B[49m\u001B[43mtruncation_strategy\u001B[49m\u001B[38;5;241;43m=\u001B[39;49m\u001B[43mtruncation_strategy\u001B[49m\u001B[43m,\u001B[49m\n\u001B[1;32m   2805\u001B[0m \u001B[43m    \u001B[49m\u001B[43mmax_length\u001B[49m\u001B[38;5;241;43m=\u001B[39;49m\u001B[43mmax_length\u001B[49m\u001B[43m,\u001B[49m\n\u001B[1;32m   2806\u001B[0m \u001B[43m    \u001B[49m\u001B[43mstride\u001B[49m\u001B[38;5;241;43m=\u001B[39;49m\u001B[43mstride\u001B[49m\u001B[43m,\u001B[49m\n\u001B[1;32m   2807\u001B[0m \u001B[43m    \u001B[49m\u001B[43mis_split_into_words\u001B[49m\u001B[38;5;241;43m=\u001B[39;49m\u001B[43mis_split_into_words\u001B[49m\u001B[43m,\u001B[49m\n\u001B[1;32m   2808\u001B[0m \u001B[43m    \u001B[49m\u001B[43mpad_to_multiple_of\u001B[49m\u001B[38;5;241;43m=\u001B[39;49m\u001B[43mpad_to_multiple_of\u001B[49m\u001B[43m,\u001B[49m\n\u001B[1;32m   2809\u001B[0m \u001B[43m    \u001B[49m\u001B[43mreturn_tensors\u001B[49m\u001B[38;5;241;43m=\u001B[39;49m\u001B[43mreturn_tensors\u001B[49m\u001B[43m,\u001B[49m\n\u001B[1;32m   2810\u001B[0m \u001B[43m    \u001B[49m\u001B[43mreturn_token_type_ids\u001B[49m\u001B[38;5;241;43m=\u001B[39;49m\u001B[43mreturn_token_type_ids\u001B[49m\u001B[43m,\u001B[49m\n\u001B[1;32m   2811\u001B[0m \u001B[43m    \u001B[49m\u001B[43mreturn_attention_mask\u001B[49m\u001B[38;5;241;43m=\u001B[39;49m\u001B[43mreturn_attention_mask\u001B[49m\u001B[43m,\u001B[49m\n\u001B[1;32m   2812\u001B[0m \u001B[43m    \u001B[49m\u001B[43mreturn_overflowing_tokens\u001B[49m\u001B[38;5;241;43m=\u001B[39;49m\u001B[43mreturn_overflowing_tokens\u001B[49m\u001B[43m,\u001B[49m\n\u001B[1;32m   2813\u001B[0m \u001B[43m    \u001B[49m\u001B[43mreturn_special_tokens_mask\u001B[49m\u001B[38;5;241;43m=\u001B[39;49m\u001B[43mreturn_special_tokens_mask\u001B[49m\u001B[43m,\u001B[49m\n\u001B[1;32m   2814\u001B[0m \u001B[43m    \u001B[49m\u001B[43mreturn_offsets_mapping\u001B[49m\u001B[38;5;241;43m=\u001B[39;49m\u001B[43mreturn_offsets_mapping\u001B[49m\u001B[43m,\u001B[49m\n\u001B[1;32m   2815\u001B[0m \u001B[43m    \u001B[49m\u001B[43mreturn_length\u001B[49m\u001B[38;5;241;43m=\u001B[39;49m\u001B[43mreturn_length\u001B[49m\u001B[43m,\u001B[49m\n\u001B[1;32m   2816\u001B[0m \u001B[43m    \u001B[49m\u001B[43mverbose\u001B[49m\u001B[38;5;241;43m=\u001B[39;49m\u001B[43mverbose\u001B[49m\u001B[43m,\u001B[49m\n\u001B[1;32m   2817\u001B[0m \u001B[43m    \u001B[49m\u001B[38;5;241;43m*\u001B[39;49m\u001B[38;5;241;43m*\u001B[39;49m\u001B[43mkwargs\u001B[49m\u001B[43m,\u001B[49m\n\u001B[1;32m   2818\u001B[0m \u001B[43m\u001B[49m\u001B[43m)\u001B[49m\n",
      "File \u001B[0;32m~/Downloads/ml-model/lib/python3.8/site-packages/transformers/tokenization_utils.py:731\u001B[0m, in \u001B[0;36mPreTrainedTokenizer._batch_encode_plus\u001B[0;34m(self, batch_text_or_text_pairs, add_special_tokens, padding_strategy, truncation_strategy, max_length, stride, is_split_into_words, pad_to_multiple_of, return_tensors, return_token_type_ids, return_attention_mask, return_overflowing_tokens, return_special_tokens_mask, return_offsets_mapping, return_length, verbose, **kwargs)\u001B[0m\n\u001B[1;32m    729\u001B[0m     ids, pair_ids \u001B[38;5;241m=\u001B[39m ids_or_pair_ids, \u001B[38;5;28;01mNone\u001B[39;00m\n\u001B[1;32m    730\u001B[0m \u001B[38;5;28;01melse\u001B[39;00m:\n\u001B[0;32m--> 731\u001B[0m     ids, pair_ids \u001B[38;5;241m=\u001B[39m ids_or_pair_ids\n\u001B[1;32m    733\u001B[0m first_ids \u001B[38;5;241m=\u001B[39m get_input_ids(ids)\n\u001B[1;32m    734\u001B[0m second_ids \u001B[38;5;241m=\u001B[39m get_input_ids(pair_ids) \u001B[38;5;28;01mif\u001B[39;00m pair_ids \u001B[38;5;129;01mis\u001B[39;00m \u001B[38;5;129;01mnot\u001B[39;00m \u001B[38;5;28;01mNone\u001B[39;00m \u001B[38;5;28;01melse\u001B[39;00m \u001B[38;5;28;01mNone\u001B[39;00m\n",
      "\u001B[0;31mValueError\u001B[0m: too many values to unpack (expected 2)"
     ]
    }
   ],
   "source": [
    "b = []\n",
    "\n",
    "b.append(max_length_element)\n",
    "\n",
    "a = tokenizer(\n",
    "    b,\n",
    "    truncation=False\n",
    ")"
   ]
  },
  {
   "cell_type": "code",
   "execution_count": null,
   "metadata": {},
   "outputs": [
    {
     "data": {
      "text/plain": [
       "268"
      ]
     },
     "execution_count": 103,
     "metadata": {},
     "output_type": "execute_result"
    }
   ],
   "source": [
    "len(a[\"input_ids\"][0])"
   ]
  },
  {
   "cell_type": "code",
   "execution_count": null,
   "metadata": {},
   "outputs": [
    {
     "ename": "TypeError",
     "evalue": "new(): invalid data type 'str'",
     "output_type": "error",
     "traceback": [
      "\u001B[0;31m---------------------------------------------------------------------------\u001B[0m",
      "\u001B[0;31mTypeError\u001B[0m                                 Traceback (most recent call last)",
      "Cell \u001B[0;32mIn[91], line 1\u001B[0m\n\u001B[0;32m----> 1\u001B[0m torch\u001B[39m.\u001B[39mtensor(max_length_element)\n",
      "\u001B[0;31mTypeError\u001B[0m: new(): invalid data type 'str'"
     ]
    }
   ],
   "source": [
    "# Assuming you have a string named 'my_string'\n",
    "numerical_representation = [ord(char) for char in my_string]  # Convert string to a list of ASCII values\n",
    "\n",
    "# Create a PyTorch tensor from the numerical representation\n",
    "tensor = torch.tensor(numerical_representation)"
   ]
  },
  {
   "cell_type": "code",
   "execution_count": null,
   "metadata": {},
   "outputs": [
    {
     "data": {
      "text/plain": [
       "str"
      ]
     },
     "execution_count": 109,
     "metadata": {},
     "output_type": "execute_result"
    }
   ],
   "source": [
    "type(tokenizer.tokenize(max_length_element)[0])"
   ]
  },
  {
   "cell_type": "code",
   "execution_count": null,
   "metadata": {},
   "outputs": [
    {
     "data": {
      "text/plain": [
       "268"
      ]
     },
     "execution_count": 111,
     "metadata": {},
     "output_type": "execute_result"
    }
   ],
   "source": [
    "max_len"
   ]
  },
  {
   "cell_type": "code",
   "execution_count": 35,
   "metadata": {
    "ExecuteTime": {
     "start_time": "2023-06-02T11:20:46.179110Z",
     "end_time": "2023-06-02T11:20:46.186901Z"
    }
   },
   "outputs": [],
   "source": [
    "string_lengths = np.array([len(sublist) + 2 for sublist in src ])\n",
    "\n",
    "max_length = np.max(string_lengths)\n",
    "mean_length = np.mean(string_lengths)\n",
    "median_length = np.median(string_lengths)"
   ]
  },
  {
   "cell_type": "code",
   "execution_count": 36,
   "metadata": {
    "ExecuteTime": {
     "start_time": "2023-06-02T11:20:47.023175Z",
     "end_time": "2023-06-02T11:20:47.031096Z"
    }
   },
   "outputs": [
    {
     "data": {
      "text/plain": "28621"
     },
     "execution_count": 36,
     "metadata": {},
     "output_type": "execute_result"
    }
   ],
   "source": [
    "max_length"
   ]
  },
  {
   "cell_type": "code",
   "execution_count": 37,
   "metadata": {
    "ExecuteTime": {
     "start_time": "2023-06-02T11:20:49.409034Z",
     "end_time": "2023-06-02T11:20:49.414231Z"
    }
   },
   "outputs": [
    {
     "data": {
      "text/plain": "391.1331011115986"
     },
     "execution_count": 37,
     "metadata": {},
     "output_type": "execute_result"
    }
   ],
   "source": [
    "mean_length"
   ]
  },
  {
   "cell_type": "code",
   "execution_count": 38,
   "metadata": {
    "ExecuteTime": {
     "start_time": "2023-06-02T11:20:51.828351Z",
     "end_time": "2023-06-02T11:20:51.834100Z"
    }
   },
   "outputs": [
    {
     "data": {
      "text/plain": "292.0"
     },
     "execution_count": 38,
     "metadata": {},
     "output_type": "execute_result"
    }
   ],
   "source": [
    "median_length"
   ]
  },
  {
   "cell_type": "code",
   "execution_count": 39,
   "metadata": {
    "ExecuteTime": {
     "start_time": "2023-06-02T11:20:58.476606Z",
     "end_time": "2023-06-02T11:20:58.489883Z"
    }
   },
   "outputs": [],
   "source": [
    "filtered_strings = [string for string in src if len(string) < 512]"
   ]
  },
  {
   "cell_type": "code",
   "execution_count": 40,
   "metadata": {
    "ExecuteTime": {
     "start_time": "2023-06-02T11:20:59.908320Z",
     "end_time": "2023-06-02T11:20:59.916152Z"
    }
   },
   "outputs": [
    {
     "data": {
      "text/plain": "189187"
     },
     "execution_count": 40,
     "metadata": {},
     "output_type": "execute_result"
    }
   ],
   "source": [
    "len(src)"
   ]
  },
  {
   "cell_type": "code",
   "execution_count": 41,
   "metadata": {
    "ExecuteTime": {
     "start_time": "2023-06-02T11:21:01.233519Z",
     "end_time": "2023-06-02T11:21:01.239395Z"
    }
   },
   "outputs": [
    {
     "data": {
      "text/plain": "155578"
     },
     "execution_count": 41,
     "metadata": {},
     "output_type": "execute_result"
    }
   ],
   "source": [
    "len(filtered_strings)"
   ]
  },
  {
   "cell_type": "code",
   "execution_count": 42,
   "metadata": {
    "ExecuteTime": {
     "start_time": "2023-06-02T11:21:03.239669Z",
     "end_time": "2023-06-02T11:21:03.257134Z"
    }
   },
   "outputs": [
    {
     "data": {
      "text/plain": "35"
     },
     "execution_count": 42,
     "metadata": {},
     "output_type": "execute_result"
    }
   ],
   "source": [
    "len(df_src[\"tokenClass\"].value_counts())"
   ]
  },
  {
   "cell_type": "code",
   "execution_count": 19,
   "metadata": {
    "ExecuteTime": {
     "start_time": "2023-05-29T10:49:25.935152Z",
     "end_time": "2023-05-29T10:49:25.949110Z"
    }
   },
   "outputs": [
    {
     "data": {
      "text/plain": "Class                     32428\nSemicolon                 31038\nMethodArgument            29226\nOpeningParenthesis        29003\nThis                      14980\nTRUE                      12001\nArraysClass                6109\nLogicalOperator            5729\nEqOperator                 5149\nIneqOperator               4098\nPeriod                     3778\nInstanceOfOperator         2651\nNULL                       2358\nS_INT                      2212\nClosingParenthesis         1368\nNonEqIneqOperator          1184\nMethodResultID              961\nDOUBLE                      887\nBitwiseNegateOperator       841\nFALSE                       828\nMethodName                  523\nColon                       386\nQuestionMark                296\nArithmeticalOperator        253\nClassField                  239\nBitwiseLogicalOperator      186\nBitwiseShiftOperator        186\nBOOLEAN                     138\nStreamMethod                 52\nMatchMethodVar               42\nMatchMethod                  14\nRightArrow                   14\nS_STRING                     13\nComma                         9\nClassModifier                 7\nName: tokenClass, dtype: Int64"
     },
     "execution_count": 19,
     "metadata": {},
     "output_type": "execute_result"
    }
   ],
   "source": [
    "df_dataset[\"tokenClass\"].value_counts()#/len(df_dataset[\"tokenClass\"]) * 100"
   ]
  },
  {
   "cell_type": "code",
   "execution_count": 17,
   "metadata": {},
   "outputs": [
    {
     "ename": "ValueError",
     "evalue": "invalid literal for int() with base 10: 'MethodArgument'",
     "output_type": "error",
     "traceback": [
      "\u001B[0;31m---------------------------------------------------------------------------\u001B[0m",
      "\u001B[0;31mValueError\u001B[0m                                Traceback (most recent call last)",
      "Cell \u001B[0;32mIn[17], line 1\u001B[0m\n\u001B[0;32m----> 1\u001B[0m np\u001B[39m.\u001B[39mbincount(df_src[\u001B[39m\"\u001B[39m\u001B[39mtokenClass\u001B[39m\u001B[39m\"\u001B[39m])\n",
      "File \u001B[0;32m<__array_function__ internals>:200\u001B[0m, in \u001B[0;36mbincount\u001B[0;34m(*args, **kwargs)\u001B[0m\n",
      "File \u001B[0;32m~/.conda/envs/tratto/lib/python3.11/site-packages/pandas/core/series.py:893\u001B[0m, in \u001B[0;36mSeries.__array__\u001B[0;34m(self, dtype)\u001B[0m\n\u001B[1;32m    846\u001B[0m \u001B[39mdef\u001B[39;00m \u001B[39m__array__\u001B[39m(\u001B[39mself\u001B[39m, dtype: npt\u001B[39m.\u001B[39mDTypeLike \u001B[39m|\u001B[39m \u001B[39mNone\u001B[39;00m \u001B[39m=\u001B[39m \u001B[39mNone\u001B[39;00m) \u001B[39m-\u001B[39m\u001B[39m>\u001B[39m np\u001B[39m.\u001B[39mndarray:\n\u001B[1;32m    847\u001B[0m     \u001B[39m\"\"\"\u001B[39;00m\n\u001B[1;32m    848\u001B[0m \u001B[39m    Return the values as a NumPy array.\u001B[39;00m\n\u001B[1;32m    849\u001B[0m \n\u001B[0;32m   (...)\u001B[0m\n\u001B[1;32m    891\u001B[0m \u001B[39m          dtype='datetime64[ns]')\u001B[39;00m\n\u001B[1;32m    892\u001B[0m \u001B[39m    \"\"\"\u001B[39;00m\n\u001B[0;32m--> 893\u001B[0m     \u001B[39mreturn\u001B[39;00m np\u001B[39m.\u001B[39masarray(\u001B[39mself\u001B[39m\u001B[39m.\u001B[39m_values, dtype)\n",
      "File \u001B[0;32m~/.conda/envs/tratto/lib/python3.11/site-packages/pandas/core/arrays/numpy_.py:126\u001B[0m, in \u001B[0;36mPandasArray.__array__\u001B[0;34m(self, dtype)\u001B[0m\n\u001B[1;32m    125\u001B[0m \u001B[39mdef\u001B[39;00m \u001B[39m__array__\u001B[39m(\u001B[39mself\u001B[39m, dtype: NpDtype \u001B[39m|\u001B[39m \u001B[39mNone\u001B[39;00m \u001B[39m=\u001B[39m \u001B[39mNone\u001B[39;00m) \u001B[39m-\u001B[39m\u001B[39m>\u001B[39m np\u001B[39m.\u001B[39mndarray:\n\u001B[0;32m--> 126\u001B[0m     \u001B[39mreturn\u001B[39;00m np\u001B[39m.\u001B[39masarray(\u001B[39mself\u001B[39m\u001B[39m.\u001B[39m_ndarray, dtype\u001B[39m=\u001B[39mdtype)\n",
      "\u001B[0;31mValueError\u001B[0m: invalid literal for int() with base 10: 'MethodArgument'"
     ]
    }
   ],
   "source": [
    "np.bincount(df_src[\"tokenClass\"])"
   ]
  },
  {
   "cell_type": "code",
   "execution_count": 14,
   "metadata": {},
   "outputs": [],
   "source": [
    "# Get unique values from the column\n",
    "unique_values = df_dataset['tokenClass'].unique()\n",
    "\n",
    "# Create a dictionary to map string values to their corresponding vector\n",
    "mapping = {}\n",
    "for i, value in enumerate(unique_values):\n",
    "    vector = np.zeros(len(unique_values))\n",
    "    vector[i] = 1.0\n",
    "    mapping[value] = list(vector)\n",
    "\n",
    "# Add a new column to the original DataFrame with the mapped vectors\n",
    "df_dataset['tokenClassVectorized'] = df_dataset['tokenClass'].map(mapping)"
   ]
  },
  {
   "cell_type": "code",
   "execution_count": 15,
   "metadata": {},
   "outputs": [
    {
     "data": {
      "text/html": [
       "<div>\n",
       "<style scoped>\n",
       "    .dataframe tbody tr th:only-of-type {\n",
       "        vertical-align: middle;\n",
       "    }\n",
       "\n",
       "    .dataframe tbody tr th {\n",
       "        vertical-align: top;\n",
       "    }\n",
       "\n",
       "    .dataframe thead th {\n",
       "        text-align: right;\n",
       "    }\n",
       "</style>\n",
       "<table border=\"1\" class=\"dataframe\">\n",
       "  <thead>\n",
       "    <tr style=\"text-align: right;\">\n",
       "      <th></th>\n",
       "      <th>label</th>\n",
       "      <th>oracleId</th>\n",
       "      <th>oracleType</th>\n",
       "      <th>projectName</th>\n",
       "      <th>packageName</th>\n",
       "      <th>className</th>\n",
       "      <th>javadocTag</th>\n",
       "      <th>methodJavadoc</th>\n",
       "      <th>methodSourceCode</th>\n",
       "      <th>classJavadoc</th>\n",
       "      <th>classSourceCode</th>\n",
       "      <th>oracleSoFar</th>\n",
       "      <th>token</th>\n",
       "      <th>tokenClass</th>\n",
       "      <th>tokenInfo</th>\n",
       "      <th>tokenClassVectorized</th>\n",
       "    </tr>\n",
       "  </thead>\n",
       "  <tbody>\n",
       "    <tr>\n",
       "      <th>0</th>\n",
       "      <td>False</td>\n",
       "      <td>15264</td>\n",
       "      <td>PRE</td>\n",
       "      <td>plume-lib-1.1.0</td>\n",
       "      <td>plume</td>\n",
       "      <td>Lookup</td>\n",
       "      <td>@param reader where to read the entry from</td>\n",
       "      <td>/**\n",
       "   * Returns the next entry.  If no more ...</td>\n",
       "      <td>public static Entry old_get_entry(EntryReader ...</td>\n",
       "      <td>/**\n",
       " * Lookup searches a set of files, much li...</td>\n",
       "      <td>package plume;\n",
       "\n",
       "import static plume.EntryReade...</td>\n",
       "      <td></td>\n",
       "      <td></td>\n",
       "      <td>MethodArgument</td>\n",
       "      <td></td>\n",
       "      <td>[1.0, 0.0, 0.0, 0.0, 0.0, 0.0, 0.0, 0.0, 0.0, ...</td>\n",
       "    </tr>\n",
       "    <tr>\n",
       "      <th>1</th>\n",
       "      <td>False</td>\n",
       "      <td>15264</td>\n",
       "      <td>PRE</td>\n",
       "      <td>plume-lib-1.1.0</td>\n",
       "      <td>plume</td>\n",
       "      <td>Lookup</td>\n",
       "      <td>@param reader where to read the entry from</td>\n",
       "      <td>/**\n",
       "   * Returns the next entry.  If no more ...</td>\n",
       "      <td>public static Entry old_get_entry(EntryReader ...</td>\n",
       "      <td>/**\n",
       " * Lookup searches a set of files, much li...</td>\n",
       "      <td>package plume;\n",
       "\n",
       "import static plume.EntryReade...</td>\n",
       "      <td></td>\n",
       "      <td></td>\n",
       "      <td>Class</td>\n",
       "      <td></td>\n",
       "      <td>[0.0, 1.0, 0.0, 0.0, 0.0, 0.0, 0.0, 0.0, 0.0, ...</td>\n",
       "    </tr>\n",
       "    <tr>\n",
       "      <th>2</th>\n",
       "      <td>True</td>\n",
       "      <td>15264</td>\n",
       "      <td>PRE</td>\n",
       "      <td>plume-lib-1.1.0</td>\n",
       "      <td>plume</td>\n",
       "      <td>Lookup</td>\n",
       "      <td>@param reader where to read the entry from</td>\n",
       "      <td>/**\n",
       "   * Returns the next entry.  If no more ...</td>\n",
       "      <td>public static Entry old_get_entry(EntryReader ...</td>\n",
       "      <td>/**\n",
       " * Lookup searches a set of files, much li...</td>\n",
       "      <td>package plume;\n",
       "\n",
       "import static plume.EntryReade...</td>\n",
       "      <td></td>\n",
       "      <td></td>\n",
       "      <td>Semicolon</td>\n",
       "      <td></td>\n",
       "      <td>[0.0, 0.0, 1.0, 0.0, 0.0, 0.0, 0.0, 0.0, 0.0, ...</td>\n",
       "    </tr>\n",
       "    <tr>\n",
       "      <th>3</th>\n",
       "      <td>False</td>\n",
       "      <td>15264</td>\n",
       "      <td>PRE</td>\n",
       "      <td>plume-lib-1.1.0</td>\n",
       "      <td>plume</td>\n",
       "      <td>Lookup</td>\n",
       "      <td>@param reader where to read the entry from</td>\n",
       "      <td>/**\n",
       "   * Returns the next entry.  If no more ...</td>\n",
       "      <td>public static Entry old_get_entry(EntryReader ...</td>\n",
       "      <td>/**\n",
       " * Lookup searches a set of files, much li...</td>\n",
       "      <td>package plume;\n",
       "\n",
       "import static plume.EntryReade...</td>\n",
       "      <td></td>\n",
       "      <td></td>\n",
       "      <td>OpeningParenthesis</td>\n",
       "      <td></td>\n",
       "      <td>[0.0, 0.0, 0.0, 1.0, 0.0, 0.0, 0.0, 0.0, 0.0, ...</td>\n",
       "    </tr>\n",
       "    <tr>\n",
       "      <th>4</th>\n",
       "      <td>False</td>\n",
       "      <td>15265</td>\n",
       "      <td>NORMAL_POST</td>\n",
       "      <td>plume-lib-1.1.0</td>\n",
       "      <td>plume</td>\n",
       "      <td>Lookup</td>\n",
       "      <td>the next entry, or null</td>\n",
       "      <td>/**\n",
       "   * Returns the next entry.  If no more ...</td>\n",
       "      <td>public static Entry old_get_entry(EntryReader ...</td>\n",
       "      <td>/**\n",
       " * Lookup searches a set of files, much li...</td>\n",
       "      <td>package plume;\n",
       "\n",
       "import static plume.EntryReade...</td>\n",
       "      <td></td>\n",
       "      <td></td>\n",
       "      <td>MethodArgument</td>\n",
       "      <td></td>\n",
       "      <td>[1.0, 0.0, 0.0, 0.0, 0.0, 0.0, 0.0, 0.0, 0.0, ...</td>\n",
       "    </tr>\n",
       "  </tbody>\n",
       "</table>\n",
       "</div>"
      ],
      "text/plain": [
       "   label  oracleId   oracleType      projectName packageName className  \\\n",
       "0  False     15264          PRE  plume-lib-1.1.0       plume    Lookup   \n",
       "1  False     15264          PRE  plume-lib-1.1.0       plume    Lookup   \n",
       "2   True     15264          PRE  plume-lib-1.1.0       plume    Lookup   \n",
       "3  False     15264          PRE  plume-lib-1.1.0       plume    Lookup   \n",
       "4  False     15265  NORMAL_POST  plume-lib-1.1.0       plume    Lookup   \n",
       "\n",
       "                                   javadocTag  \\\n",
       "0  @param reader where to read the entry from   \n",
       "1  @param reader where to read the entry from   \n",
       "2  @param reader where to read the entry from   \n",
       "3  @param reader where to read the entry from   \n",
       "4                     the next entry, or null   \n",
       "\n",
       "                                       methodJavadoc  \\\n",
       "0  \t/**\n",
       "   * Returns the next entry.  If no more ...   \n",
       "1  \t/**\n",
       "   * Returns the next entry.  If no more ...   \n",
       "2  \t/**\n",
       "   * Returns the next entry.  If no more ...   \n",
       "3  \t/**\n",
       "   * Returns the next entry.  If no more ...   \n",
       "4  \t/**\n",
       "   * Returns the next entry.  If no more ...   \n",
       "\n",
       "                                    methodSourceCode  \\\n",
       "0  public static Entry old_get_entry(EntryReader ...   \n",
       "1  public static Entry old_get_entry(EntryReader ...   \n",
       "2  public static Entry old_get_entry(EntryReader ...   \n",
       "3  public static Entry old_get_entry(EntryReader ...   \n",
       "4  public static Entry old_get_entry(EntryReader ...   \n",
       "\n",
       "                                        classJavadoc  \\\n",
       "0  /**\n",
       " * Lookup searches a set of files, much li...   \n",
       "1  /**\n",
       " * Lookup searches a set of files, much li...   \n",
       "2  /**\n",
       " * Lookup searches a set of files, much li...   \n",
       "3  /**\n",
       " * Lookup searches a set of files, much li...   \n",
       "4  /**\n",
       " * Lookup searches a set of files, much li...   \n",
       "\n",
       "                                     classSourceCode oracleSoFar token  \\\n",
       "0  package plume;\n",
       "\n",
       "import static plume.EntryReade...                     \n",
       "1  package plume;\n",
       "\n",
       "import static plume.EntryReade...                     \n",
       "2  package plume;\n",
       "\n",
       "import static plume.EntryReade...                     \n",
       "3  package plume;\n",
       "\n",
       "import static plume.EntryReade...                     \n",
       "4  package plume;\n",
       "\n",
       "import static plume.EntryReade...                     \n",
       "\n",
       "           tokenClass tokenInfo  \\\n",
       "0      MethodArgument             \n",
       "1               Class             \n",
       "2           Semicolon             \n",
       "3  OpeningParenthesis             \n",
       "4      MethodArgument             \n",
       "\n",
       "                                tokenClassVectorized  \n",
       "0  [1.0, 0.0, 0.0, 0.0, 0.0, 0.0, 0.0, 0.0, 0.0, ...  \n",
       "1  [0.0, 1.0, 0.0, 0.0, 0.0, 0.0, 0.0, 0.0, 0.0, ...  \n",
       "2  [0.0, 0.0, 1.0, 0.0, 0.0, 0.0, 0.0, 0.0, 0.0, ...  \n",
       "3  [0.0, 0.0, 0.0, 1.0, 0.0, 0.0, 0.0, 0.0, 0.0, ...  \n",
       "4  [1.0, 0.0, 0.0, 0.0, 0.0, 0.0, 0.0, 0.0, 0.0, ...  "
      ]
     },
     "execution_count": 15,
     "metadata": {},
     "output_type": "execute_result"
    }
   ],
   "source": [
    "df_dataset.head()"
   ]
  },
  {
   "cell_type": "code",
   "execution_count": 18,
   "metadata": {},
   "outputs": [
    {
     "data": {
      "text/plain": [
       "1.0000000000000002"
      ]
     },
     "execution_count": 18,
     "metadata": {},
     "output_type": "execute_result"
    }
   ],
   "source": [
    "# Convert string labels to integer labels\n",
    "unique_labels, integer_labels = np.unique(df_dataset[\"tokenClass\"], return_inverse=True)\n",
    "\n",
    "# Count the occurrences of each class\n",
    "class_counts = np.bincount(integer_labels)\n",
    "\n",
    "# Calculate the inverse class frequencies\n",
    "total_samples = np.sum(class_counts)\n",
    "class_frequencies = class_counts / total_samples\n",
    "class_weights = 1.0 / class_frequencies\n",
    "\n",
    "# Normalize the class weights\n",
    "class_weights /= np.sum(class_weights)\n",
    "\n",
    "class_weights.sum()"
   ]
  },
  {
   "cell_type": "code",
   "execution_count": 25,
   "metadata": {},
   "outputs": [
    {
     "data": {
      "text/plain": [
       "(array(['ArithmeticalOperator', 'ArraysClass', 'BOOLEAN',\n",
       "        'BitwiseLogicalOperator', 'BitwiseNegateOperator',\n",
       "        'BitwiseShiftOperator', 'Class', 'ClassField', 'ClassModifier',\n",
       "        'ClosingParenthesis', 'Colon', 'Comma', 'DOUBLE', 'EqOperator',\n",
       "        'FALSE', 'IneqOperator', 'InstanceOfOperator', 'LogicalOperator',\n",
       "        'MatchMethod', 'MatchMethodVar', 'MethodArgument', 'MethodName',\n",
       "        'MethodResultID', 'NULL', 'NonEqIneqOperator',\n",
       "        'OpeningParenthesis', 'Period', 'QuestionMark', 'RightArrow',\n",
       "        'S_INT', 'S_STRING', 'Semicolon', 'StreamMethod', 'TRUE', 'This'],\n",
       "       dtype=object),\n",
       " array([  253,  6109,   138,   186,   841,   186, 32428,   239,     7,\n",
       "         1368,   386,     9,   887,  5149,   828,  4098,  2651,  5729,\n",
       "           14,    42, 29226,   523,   961,  2358,  1184, 29003,  3778,\n",
       "          296,    14,  2212,    13, 31038,    52, 12001, 14980]))"
      ]
     },
     "execution_count": 25,
     "metadata": {},
     "output_type": "execute_result"
    }
   ],
   "source": [
    "np.unique(df_dataset[\"tokenClass\"], return_counts=True)"
   ]
  },
  {
   "cell_type": "code",
   "execution_count": 22,
   "metadata": {},
   "outputs": [
    {
     "data": {
      "text/plain": [
       "35"
      ]
     },
     "execution_count": 22,
     "metadata": {},
     "output_type": "execute_result"
    }
   ],
   "source": [
    "len(unique_labels)"
   ]
  },
  {
   "cell_type": "code",
   "execution_count": 11,
   "outputs": [],
   "source": [
    "a = df_dataset[df_dataset[\"tokenClass\"]==\"Class\"]"
   ],
   "metadata": {
    "collapsed": false,
    "ExecuteTime": {
     "start_time": "2023-05-29T10:46:13.051289Z",
     "end_time": "2023-05-29T10:46:13.088274Z"
    }
   }
  },
  {
   "cell_type": "code",
   "execution_count": 14,
   "outputs": [
    {
     "data": {
      "text/plain": "      label  oracleId   oracleType               projectName  \\\n143   False       813  EXCEPT_POST       commons-math3-3.6.1   \n144   False       813  EXCEPT_POST       commons-math3-3.6.1   \n145   False       813  EXCEPT_POST       commons-math3-3.6.1   \n146   False       813  EXCEPT_POST       commons-math3-3.6.1   \n147   False       813  EXCEPT_POST       commons-math3-3.6.1   \n...     ...       ...          ...                       ...   \n1462  False     22109  NORMAL_POST  commons-collections4-4.1   \n1463  False     22109  NORMAL_POST  commons-collections4-4.1   \n1464  False     22109  NORMAL_POST  commons-collections4-4.1   \n1465  False     22109  NORMAL_POST  commons-collections4-4.1   \n1466  False     22109  NORMAL_POST  commons-collections4-4.1   \n\n                          packageName    className  \\\n143   org.apache.commons.math3.linear  MatrixUtils   \n144   org.apache.commons.math3.linear  MatrixUtils   \n145   org.apache.commons.math3.linear  MatrixUtils   \n146   org.apache.commons.math3.linear  MatrixUtils   \n147   org.apache.commons.math3.linear  MatrixUtils   \n...                               ...          ...   \n1462  org.apache.commons.collections4     BagUtils   \n1463  org.apache.commons.collections4     BagUtils   \n1464  org.apache.commons.collections4     BagUtils   \n1465  org.apache.commons.collections4     BagUtils   \n1466  org.apache.commons.collections4     BagUtils   \n\n                                             javadocTag  \\\n143   @throws org.apache.commons.math3.linear.NonSym...   \n144   @throws org.apache.commons.math3.linear.NonSym...   \n145   @throws org.apache.commons.math3.linear.NonSym...   \n146   @throws org.apache.commons.math3.linear.NonSym...   \n147   @throws org.apache.commons.math3.linear.NonSym...   \n...                                                 ...   \n1462                               an empty sorted Bag.   \n1463                               an empty sorted Bag.   \n1464                               an empty sorted Bag.   \n1465                               an empty sorted Bag.   \n1466                               an empty sorted Bag.   \n\n                                          methodJavadoc  \\\n143   \t/**\n     * Checks whether a matrix is symmetr...   \n144   \t/**\n     * Checks whether a matrix is symmetr...   \n145   \t/**\n     * Checks whether a matrix is symmetr...   \n146   \t/**\n     * Checks whether a matrix is symmetr...   \n147   \t/**\n     * Checks whether a matrix is symmetr...   \n...                                                 ...   \n1462  \t/**\n     * Get an empty <code>SortedBag</code...   \n1463  \t/**\n     * Get an empty <code>SortedBag</code...   \n1464  \t/**\n     * Get an empty <code>SortedBag</code...   \n1465  \t/**\n     * Get an empty <code>SortedBag</code...   \n1466  \t/**\n     * Get an empty <code>SortedBag</code...   \n\n                                       methodSourceCode  \\\n143   public static void checkSymmetric(RealMatrix m...   \n144   public static void checkSymmetric(RealMatrix m...   \n145   public static void checkSymmetric(RealMatrix m...   \n146   public static void checkSymmetric(RealMatrix m...   \n147   public static void checkSymmetric(RealMatrix m...   \n...                                                 ...   \n1462  public static <E> SortedBag<E> emptySortedBag(...   \n1463  public static <E> SortedBag<E> emptySortedBag(...   \n1464  public static <E> SortedBag<E> emptySortedBag(...   \n1465  public static <E> SortedBag<E> emptySortedBag(...   \n1466  public static <E> SortedBag<E> emptySortedBag(...   \n\n                                           classJavadoc  \\\n143   /**\n * A collection of static methods that ope...   \n144   /**\n * A collection of static methods that ope...   \n145   /**\n * A collection of static methods that ope...   \n146   /**\n * A collection of static methods that ope...   \n147   /**\n * A collection of static methods that ope...   \n...                                                 ...   \n1462  /**\n * Provides utility methods and decorators...   \n1463  /**\n * Provides utility methods and decorators...   \n1464  /**\n * Provides utility methods and decorators...   \n1465  /**\n * Provides utility methods and decorators...   \n1466  /**\n * Provides utility methods and decorators...   \n\n                                        classSourceCode  \\\n143   /*\n * Licensed to the Apache Software Foundati...   \n144   /*\n * Licensed to the Apache Software Foundati...   \n145   /*\n * Licensed to the Apache Software Foundati...   \n146   /*\n * Licensed to the Apache Software Foundati...   \n147   /*\n * Licensed to the Apache Software Foundati...   \n...                                                 ...   \n1462  /*\n * Licensed to the Apache Software Foundati...   \n1463  /*\n * Licensed to the Apache Software Foundati...   \n1464  /*\n * Licensed to the Apache Software Foundati...   \n1465  /*\n * Licensed to the Apache Software Foundati...   \n1466  /*\n * Licensed to the Apache Software Foundati...   \n\n                      oracleSoFar                                token  \\\n143                             (                     RealFieldElement   \n144                             (                               Primes   \n145                             (                          SmallPrimes   \n146                             (                           PollardRho   \n147                             (                          CurveFitter   \n...                           ...                                  ...   \n1462  true?methodResultID.equals(     AbstractUntypedIteratorDecorator   \n1463  true?methodResultID.equals(  AbstractOrderedMapIteratorDecorator   \n1464  true?methodResultID.equals(                   FilterListIterator   \n1465  true?methodResultID.equals(                        SplitMapUtils   \n1466  true?methodResultID.equals(                           BoundedMap   \n\n     tokenClass                                          tokenInfo  \n143       Class   ['org.apache.commons.math3', 'RealFieldElement']  \n144       Class      ['org.apache.commons.math3.primes', 'Primes']  \n145       Class  ['org.apache.commons.math3.primes', 'SmallPrim...  \n146       Class  ['org.apache.commons.math3.primes', 'PollardRho']  \n147       Class  ['org.apache.commons.math3.fitting', 'CurveFit...  \n...         ...                                                ...  \n1462      Class  ['org.apache.commons.collections4.iterators', ...  \n1463      Class  ['org.apache.commons.collections4.iterators', ...  \n1464      Class  ['org.apache.commons.collections4.iterators', ...  \n1465      Class  ['org.apache.commons.collections4', 'SplitMapU...  \n1466      Class  ['org.apache.commons.collections4', 'BoundedMap']  \n\n[24840 rows x 15 columns]",
      "text/html": "<div>\n<style scoped>\n    .dataframe tbody tr th:only-of-type {\n        vertical-align: middle;\n    }\n\n    .dataframe tbody tr th {\n        vertical-align: top;\n    }\n\n    .dataframe thead th {\n        text-align: right;\n    }\n</style>\n<table border=\"1\" class=\"dataframe\">\n  <thead>\n    <tr style=\"text-align: right;\">\n      <th></th>\n      <th>label</th>\n      <th>oracleId</th>\n      <th>oracleType</th>\n      <th>projectName</th>\n      <th>packageName</th>\n      <th>className</th>\n      <th>javadocTag</th>\n      <th>methodJavadoc</th>\n      <th>methodSourceCode</th>\n      <th>classJavadoc</th>\n      <th>classSourceCode</th>\n      <th>oracleSoFar</th>\n      <th>token</th>\n      <th>tokenClass</th>\n      <th>tokenInfo</th>\n    </tr>\n  </thead>\n  <tbody>\n    <tr>\n      <th>143</th>\n      <td>False</td>\n      <td>813</td>\n      <td>EXCEPT_POST</td>\n      <td>commons-math3-3.6.1</td>\n      <td>org.apache.commons.math3.linear</td>\n      <td>MatrixUtils</td>\n      <td>@throws org.apache.commons.math3.linear.NonSym...</td>\n      <td>/**\n     * Checks whether a matrix is symmetr...</td>\n      <td>public static void checkSymmetric(RealMatrix m...</td>\n      <td>/**\n * A collection of static methods that ope...</td>\n      <td>/*\n * Licensed to the Apache Software Foundati...</td>\n      <td>(</td>\n      <td>RealFieldElement</td>\n      <td>Class</td>\n      <td>['org.apache.commons.math3', 'RealFieldElement']</td>\n    </tr>\n    <tr>\n      <th>144</th>\n      <td>False</td>\n      <td>813</td>\n      <td>EXCEPT_POST</td>\n      <td>commons-math3-3.6.1</td>\n      <td>org.apache.commons.math3.linear</td>\n      <td>MatrixUtils</td>\n      <td>@throws org.apache.commons.math3.linear.NonSym...</td>\n      <td>/**\n     * Checks whether a matrix is symmetr...</td>\n      <td>public static void checkSymmetric(RealMatrix m...</td>\n      <td>/**\n * A collection of static methods that ope...</td>\n      <td>/*\n * Licensed to the Apache Software Foundati...</td>\n      <td>(</td>\n      <td>Primes</td>\n      <td>Class</td>\n      <td>['org.apache.commons.math3.primes', 'Primes']</td>\n    </tr>\n    <tr>\n      <th>145</th>\n      <td>False</td>\n      <td>813</td>\n      <td>EXCEPT_POST</td>\n      <td>commons-math3-3.6.1</td>\n      <td>org.apache.commons.math3.linear</td>\n      <td>MatrixUtils</td>\n      <td>@throws org.apache.commons.math3.linear.NonSym...</td>\n      <td>/**\n     * Checks whether a matrix is symmetr...</td>\n      <td>public static void checkSymmetric(RealMatrix m...</td>\n      <td>/**\n * A collection of static methods that ope...</td>\n      <td>/*\n * Licensed to the Apache Software Foundati...</td>\n      <td>(</td>\n      <td>SmallPrimes</td>\n      <td>Class</td>\n      <td>['org.apache.commons.math3.primes', 'SmallPrim...</td>\n    </tr>\n    <tr>\n      <th>146</th>\n      <td>False</td>\n      <td>813</td>\n      <td>EXCEPT_POST</td>\n      <td>commons-math3-3.6.1</td>\n      <td>org.apache.commons.math3.linear</td>\n      <td>MatrixUtils</td>\n      <td>@throws org.apache.commons.math3.linear.NonSym...</td>\n      <td>/**\n     * Checks whether a matrix is symmetr...</td>\n      <td>public static void checkSymmetric(RealMatrix m...</td>\n      <td>/**\n * A collection of static methods that ope...</td>\n      <td>/*\n * Licensed to the Apache Software Foundati...</td>\n      <td>(</td>\n      <td>PollardRho</td>\n      <td>Class</td>\n      <td>['org.apache.commons.math3.primes', 'PollardRho']</td>\n    </tr>\n    <tr>\n      <th>147</th>\n      <td>False</td>\n      <td>813</td>\n      <td>EXCEPT_POST</td>\n      <td>commons-math3-3.6.1</td>\n      <td>org.apache.commons.math3.linear</td>\n      <td>MatrixUtils</td>\n      <td>@throws org.apache.commons.math3.linear.NonSym...</td>\n      <td>/**\n     * Checks whether a matrix is symmetr...</td>\n      <td>public static void checkSymmetric(RealMatrix m...</td>\n      <td>/**\n * A collection of static methods that ope...</td>\n      <td>/*\n * Licensed to the Apache Software Foundati...</td>\n      <td>(</td>\n      <td>CurveFitter</td>\n      <td>Class</td>\n      <td>['org.apache.commons.math3.fitting', 'CurveFit...</td>\n    </tr>\n    <tr>\n      <th>...</th>\n      <td>...</td>\n      <td>...</td>\n      <td>...</td>\n      <td>...</td>\n      <td>...</td>\n      <td>...</td>\n      <td>...</td>\n      <td>...</td>\n      <td>...</td>\n      <td>...</td>\n      <td>...</td>\n      <td>...</td>\n      <td>...</td>\n      <td>...</td>\n      <td>...</td>\n    </tr>\n    <tr>\n      <th>1462</th>\n      <td>False</td>\n      <td>22109</td>\n      <td>NORMAL_POST</td>\n      <td>commons-collections4-4.1</td>\n      <td>org.apache.commons.collections4</td>\n      <td>BagUtils</td>\n      <td>an empty sorted Bag.</td>\n      <td>/**\n     * Get an empty &lt;code&gt;SortedBag&lt;/code...</td>\n      <td>public static &lt;E&gt; SortedBag&lt;E&gt; emptySortedBag(...</td>\n      <td>/**\n * Provides utility methods and decorators...</td>\n      <td>/*\n * Licensed to the Apache Software Foundati...</td>\n      <td>true?methodResultID.equals(</td>\n      <td>AbstractUntypedIteratorDecorator</td>\n      <td>Class</td>\n      <td>['org.apache.commons.collections4.iterators', ...</td>\n    </tr>\n    <tr>\n      <th>1463</th>\n      <td>False</td>\n      <td>22109</td>\n      <td>NORMAL_POST</td>\n      <td>commons-collections4-4.1</td>\n      <td>org.apache.commons.collections4</td>\n      <td>BagUtils</td>\n      <td>an empty sorted Bag.</td>\n      <td>/**\n     * Get an empty &lt;code&gt;SortedBag&lt;/code...</td>\n      <td>public static &lt;E&gt; SortedBag&lt;E&gt; emptySortedBag(...</td>\n      <td>/**\n * Provides utility methods and decorators...</td>\n      <td>/*\n * Licensed to the Apache Software Foundati...</td>\n      <td>true?methodResultID.equals(</td>\n      <td>AbstractOrderedMapIteratorDecorator</td>\n      <td>Class</td>\n      <td>['org.apache.commons.collections4.iterators', ...</td>\n    </tr>\n    <tr>\n      <th>1464</th>\n      <td>False</td>\n      <td>22109</td>\n      <td>NORMAL_POST</td>\n      <td>commons-collections4-4.1</td>\n      <td>org.apache.commons.collections4</td>\n      <td>BagUtils</td>\n      <td>an empty sorted Bag.</td>\n      <td>/**\n     * Get an empty &lt;code&gt;SortedBag&lt;/code...</td>\n      <td>public static &lt;E&gt; SortedBag&lt;E&gt; emptySortedBag(...</td>\n      <td>/**\n * Provides utility methods and decorators...</td>\n      <td>/*\n * Licensed to the Apache Software Foundati...</td>\n      <td>true?methodResultID.equals(</td>\n      <td>FilterListIterator</td>\n      <td>Class</td>\n      <td>['org.apache.commons.collections4.iterators', ...</td>\n    </tr>\n    <tr>\n      <th>1465</th>\n      <td>False</td>\n      <td>22109</td>\n      <td>NORMAL_POST</td>\n      <td>commons-collections4-4.1</td>\n      <td>org.apache.commons.collections4</td>\n      <td>BagUtils</td>\n      <td>an empty sorted Bag.</td>\n      <td>/**\n     * Get an empty &lt;code&gt;SortedBag&lt;/code...</td>\n      <td>public static &lt;E&gt; SortedBag&lt;E&gt; emptySortedBag(...</td>\n      <td>/**\n * Provides utility methods and decorators...</td>\n      <td>/*\n * Licensed to the Apache Software Foundati...</td>\n      <td>true?methodResultID.equals(</td>\n      <td>SplitMapUtils</td>\n      <td>Class</td>\n      <td>['org.apache.commons.collections4', 'SplitMapU...</td>\n    </tr>\n    <tr>\n      <th>1466</th>\n      <td>False</td>\n      <td>22109</td>\n      <td>NORMAL_POST</td>\n      <td>commons-collections4-4.1</td>\n      <td>org.apache.commons.collections4</td>\n      <td>BagUtils</td>\n      <td>an empty sorted Bag.</td>\n      <td>/**\n     * Get an empty &lt;code&gt;SortedBag&lt;/code...</td>\n      <td>public static &lt;E&gt; SortedBag&lt;E&gt; emptySortedBag(...</td>\n      <td>/**\n * Provides utility methods and decorators...</td>\n      <td>/*\n * Licensed to the Apache Software Foundati...</td>\n      <td>true?methodResultID.equals(</td>\n      <td>BoundedMap</td>\n      <td>Class</td>\n      <td>['org.apache.commons.collections4', 'BoundedMap']</td>\n    </tr>\n  </tbody>\n</table>\n<p>24840 rows × 15 columns</p>\n</div>"
     },
     "execution_count": 14,
     "metadata": {},
     "output_type": "execute_result"
    }
   ],
   "source": [
    "a"
   ],
   "metadata": {
    "collapsed": false,
    "ExecuteTime": {
     "start_time": "2023-05-29T10:46:30.550668Z",
     "end_time": "2023-05-29T10:46:30.563023Z"
    }
   }
  },
  {
   "cell_type": "code",
   "execution_count": 14,
   "outputs": [],
   "source": [
    "tokenClassDict = {k: i for i, k in enumerate(df_dataset[\"tokenClass\"].unique())}"
   ],
   "metadata": {
    "collapsed": false,
    "ExecuteTime": {
     "start_time": "2023-06-03T02:29:04.968556Z",
     "end_time": "2023-06-03T02:29:04.990937Z"
    }
   }
  },
  {
   "cell_type": "code",
   "execution_count": 28,
   "outputs": [
    {
     "data": {
      "text/plain": "{'MethodArgument': 0,\n 'Class': 1,\n 'This': 2,\n 'TRUE': 3,\n 'Semicolon': 4,\n 'OpeningParenthesis': 5,\n 'ArraysClass': 6,\n 'IneqOperator': 7,\n 'EqOperator': 8,\n 'Period': 9,\n 'InstanceOfOperator': 10,\n 'NULL': 11,\n 'LogicalOperator': 12,\n 'NonEqIneqOperator': 13,\n 'S_INT': 14,\n 'BitwiseNegateOperator': 15,\n 'QuestionMark': 16,\n 'MethodResultID': 17,\n 'MethodName': 18,\n 'ClosingParenthesis': 19,\n 'Colon': 20,\n 'FALSE': 21,\n 'StreamMethod': 22,\n 'BOOLEAN': 23,\n 'Comma': 24,\n 'ClassField': 25,\n 'BitwiseLogicalOperator': 26,\n 'ArithmeticalOperator': 27,\n 'BitwiseShiftOperator': 28,\n 'DOUBLE': 29,\n 'MatchMethod': 30,\n 'MatchMethodVar': 31,\n 'RightArrow': 32,\n 'ClassModifier': 33,\n 'S_STRING': 34}"
     },
     "execution_count": 28,
     "metadata": {},
     "output_type": "execute_result"
    }
   ],
   "source": [
    "tokenClassDict"
   ],
   "metadata": {
    "collapsed": false,
    "ExecuteTime": {
     "start_time": "2023-06-03T01:39:52.399374Z",
     "end_time": "2023-06-03T01:39:52.405942Z"
    }
   }
  },
  {
   "cell_type": "code",
   "execution_count": 46,
   "outputs": [],
   "source": [
    "df_dataset['tokenClass'] = df_dataset['tokenClass'].apply(lambda x: tokenClassDict[x])"
   ],
   "metadata": {
    "collapsed": false,
    "ExecuteTime": {
     "start_time": "2023-06-03T01:46:01.103409Z",
     "end_time": "2023-06-03T01:46:01.172037Z"
    }
   }
  },
  {
   "cell_type": "code",
   "execution_count": null,
   "outputs": [],
   "source": [],
   "metadata": {
    "collapsed": false
   }
  },
  {
   "cell_type": "code",
   "execution_count": 47,
   "outputs": [
    {
     "data": {
      "text/plain": "   label  oracleId   oracleType          projectName  \\\n0  False     10700  NORMAL_POST  commons-math3-3.6.1   \n1  False     10700  NORMAL_POST  commons-math3-3.6.1   \n2  False     10700  NORMAL_POST  commons-math3-3.6.1   \n3  False     10700  NORMAL_POST  commons-math3-3.6.1   \n4   True     10700  NORMAL_POST  commons-math3-3.6.1   \n\n                                    packageName       className  \\\n0  org.apache.commons.math3.optimization.linear  SimplexTableau   \n1  org.apache.commons.math3.optimization.linear  SimplexTableau   \n2  org.apache.commons.math3.optimization.linear  SimplexTableau   \n3  org.apache.commons.math3.optimization.linear  SimplexTableau   \n4  org.apache.commons.math3.optimization.linear  SimplexTableau   \n\n                                          javadocTag  \\\n0   number of constraint with the specified relat...   \n1   number of constraint with the specified relat...   \n2   number of constraint with the specified relat...   \n3   number of constraint with the specified relat...   \n4   number of constraint with the specified relat...   \n\n                                       methodJavadoc  \\\n0  \t/**\n     * Get a count of constraints corresp...   \n1  \t/**\n     * Get a count of constraints corresp...   \n2  \t/**\n     * Get a count of constraints corresp...   \n3  \t/**\n     * Get a count of constraints corresp...   \n4  \t/**\n     * Get a count of constraints corresp...   \n\n                                    methodSourceCode  \\\n0  private int getConstraintTypeCounts(final Rela...   \n1  private int getConstraintTypeCounts(final Rela...   \n2  private int getConstraintTypeCounts(final Rela...   \n3  private int getConstraintTypeCounts(final Rela...   \n4  private int getConstraintTypeCounts(final Rela...   \n\n                                        classJavadoc  \\\n0  /**\n * A tableau for use in the Simplex method...   \n1  /**\n * A tableau for use in the Simplex method...   \n2  /**\n * A tableau for use in the Simplex method...   \n3  /**\n * A tableau for use in the Simplex method...   \n4  /**\n * A tableau for use in the Simplex method...   \n\n                                     classSourceCode oracleSoFar token  \\\n0  /*\n * Licensed to the Apache Software Foundati...                     \n1  /*\n * Licensed to the Apache Software Foundati...                     \n2  /*\n * Licensed to the Apache Software Foundati...                     \n3  /*\n * Licensed to the Apache Software Foundati...                     \n4  /*\n * Licensed to the Apache Software Foundati...                     \n\n   tokenClass tokenInfo  \n0           0            \n1           1            \n2           2            \n3           3            \n4           4            ",
      "text/html": "<div>\n<style scoped>\n    .dataframe tbody tr th:only-of-type {\n        vertical-align: middle;\n    }\n\n    .dataframe tbody tr th {\n        vertical-align: top;\n    }\n\n    .dataframe thead th {\n        text-align: right;\n    }\n</style>\n<table border=\"1\" class=\"dataframe\">\n  <thead>\n    <tr style=\"text-align: right;\">\n      <th></th>\n      <th>label</th>\n      <th>oracleId</th>\n      <th>oracleType</th>\n      <th>projectName</th>\n      <th>packageName</th>\n      <th>className</th>\n      <th>javadocTag</th>\n      <th>methodJavadoc</th>\n      <th>methodSourceCode</th>\n      <th>classJavadoc</th>\n      <th>classSourceCode</th>\n      <th>oracleSoFar</th>\n      <th>token</th>\n      <th>tokenClass</th>\n      <th>tokenInfo</th>\n    </tr>\n  </thead>\n  <tbody>\n    <tr>\n      <th>0</th>\n      <td>False</td>\n      <td>10700</td>\n      <td>NORMAL_POST</td>\n      <td>commons-math3-3.6.1</td>\n      <td>org.apache.commons.math3.optimization.linear</td>\n      <td>SimplexTableau</td>\n      <td>number of constraint with the specified relat...</td>\n      <td>/**\n     * Get a count of constraints corresp...</td>\n      <td>private int getConstraintTypeCounts(final Rela...</td>\n      <td>/**\n * A tableau for use in the Simplex method...</td>\n      <td>/*\n * Licensed to the Apache Software Foundati...</td>\n      <td></td>\n      <td></td>\n      <td>0</td>\n      <td></td>\n    </tr>\n    <tr>\n      <th>1</th>\n      <td>False</td>\n      <td>10700</td>\n      <td>NORMAL_POST</td>\n      <td>commons-math3-3.6.1</td>\n      <td>org.apache.commons.math3.optimization.linear</td>\n      <td>SimplexTableau</td>\n      <td>number of constraint with the specified relat...</td>\n      <td>/**\n     * Get a count of constraints corresp...</td>\n      <td>private int getConstraintTypeCounts(final Rela...</td>\n      <td>/**\n * A tableau for use in the Simplex method...</td>\n      <td>/*\n * Licensed to the Apache Software Foundati...</td>\n      <td></td>\n      <td></td>\n      <td>1</td>\n      <td></td>\n    </tr>\n    <tr>\n      <th>2</th>\n      <td>False</td>\n      <td>10700</td>\n      <td>NORMAL_POST</td>\n      <td>commons-math3-3.6.1</td>\n      <td>org.apache.commons.math3.optimization.linear</td>\n      <td>SimplexTableau</td>\n      <td>number of constraint with the specified relat...</td>\n      <td>/**\n     * Get a count of constraints corresp...</td>\n      <td>private int getConstraintTypeCounts(final Rela...</td>\n      <td>/**\n * A tableau for use in the Simplex method...</td>\n      <td>/*\n * Licensed to the Apache Software Foundati...</td>\n      <td></td>\n      <td></td>\n      <td>2</td>\n      <td></td>\n    </tr>\n    <tr>\n      <th>3</th>\n      <td>False</td>\n      <td>10700</td>\n      <td>NORMAL_POST</td>\n      <td>commons-math3-3.6.1</td>\n      <td>org.apache.commons.math3.optimization.linear</td>\n      <td>SimplexTableau</td>\n      <td>number of constraint with the specified relat...</td>\n      <td>/**\n     * Get a count of constraints corresp...</td>\n      <td>private int getConstraintTypeCounts(final Rela...</td>\n      <td>/**\n * A tableau for use in the Simplex method...</td>\n      <td>/*\n * Licensed to the Apache Software Foundati...</td>\n      <td></td>\n      <td></td>\n      <td>3</td>\n      <td></td>\n    </tr>\n    <tr>\n      <th>4</th>\n      <td>True</td>\n      <td>10700</td>\n      <td>NORMAL_POST</td>\n      <td>commons-math3-3.6.1</td>\n      <td>org.apache.commons.math3.optimization.linear</td>\n      <td>SimplexTableau</td>\n      <td>number of constraint with the specified relat...</td>\n      <td>/**\n     * Get a count of constraints corresp...</td>\n      <td>private int getConstraintTypeCounts(final Rela...</td>\n      <td>/**\n * A tableau for use in the Simplex method...</td>\n      <td>/*\n * Licensed to the Apache Software Foundati...</td>\n      <td></td>\n      <td></td>\n      <td>4</td>\n      <td></td>\n    </tr>\n  </tbody>\n</table>\n</div>"
     },
     "execution_count": 47,
     "metadata": {},
     "output_type": "execute_result"
    }
   ],
   "source": [
    "df_dataset.head()"
   ],
   "metadata": {
    "collapsed": false,
    "ExecuteTime": {
     "start_time": "2023-06-03T01:46:01.172610Z",
     "end_time": "2023-06-03T01:46:01.234304Z"
    }
   }
  },
  {
   "cell_type": "code",
   "execution_count": 20,
   "outputs": [],
   "source": [
    "# get the list of column names\n",
    "cols = list(df_dataset)\n",
    "\n",
    "a = df_dataset.groupby(['oracleId', 'oracleSoFar'])\n",
    "\n"
   ],
   "metadata": {
    "collapsed": false,
    "ExecuteTime": {
     "start_time": "2023-06-03T02:03:54.176176Z",
     "end_time": "2023-06-03T02:03:54.189410Z"
    }
   }
  },
  {
   "cell_type": "code",
   "execution_count": 25,
   "outputs": [],
   "source": [
    "b = a[\"tokenClass\"].apply(list)"
   ],
   "metadata": {
    "collapsed": false,
    "ExecuteTime": {
     "start_time": "2023-06-03T02:04:58.350636Z",
     "end_time": "2023-06-03T02:05:01.747776Z"
    }
   }
  },
  {
   "cell_type": "code",
   "execution_count": 31,
   "outputs": [
    {
     "data": {
      "text/plain": "oracleId  oracleSoFar\n0                        [MethodArgument, Class, TRUE, Semicolon, Openi...\n          (                    [MethodArgument, Class, OpeningParenthesis]\n          ((                   [MethodArgument, Class, OpeningParenthesis]\n          ((start        [IneqOperator, EqOperator, Period, InstanceOfO...\n          ((start==                          [MethodArgument, Class, NULL]\nName: tokenClass, dtype: object"
     },
     "execution_count": 31,
     "metadata": {},
     "output_type": "execute_result"
    }
   ],
   "source": [
    "b.head()"
   ],
   "metadata": {
    "collapsed": false,
    "ExecuteTime": {
     "start_time": "2023-06-03T02:06:24.710995Z",
     "end_time": "2023-06-03T02:06:24.717330Z"
    }
   }
  },
  {
   "cell_type": "code",
   "execution_count": 50,
   "outputs": [
    {
     "data": {
      "text/plain": "['label',\n 'oracleId',\n 'oracleType',\n 'projectName',\n 'packageName',\n 'className',\n 'javadocTag',\n 'methodJavadoc',\n 'methodSourceCode',\n 'classJavadoc',\n 'classSourceCode',\n 'oracleSoFar',\n 'token',\n 'tokenClass',\n 'tokenInfo']"
     },
     "execution_count": 50,
     "metadata": {},
     "output_type": "execute_result"
    }
   ],
   "source": [
    "cols"
   ],
   "metadata": {
    "collapsed": false,
    "ExecuteTime": {
     "start_time": "2023-06-03T01:46:27.837679Z",
     "end_time": "2023-06-03T01:46:27.858977Z"
    }
   }
  },
  {
   "cell_type": "code",
   "execution_count": 16,
   "outputs": [],
   "source": [
    "a = df_dataset.groupby(['oracleId', 'oracleSoFar'])"
   ],
   "metadata": {
    "collapsed": false,
    "ExecuteTime": {
     "start_time": "2023-06-03T01:25:11.813839Z",
     "end_time": "2023-06-03T01:25:11.860704Z"
    }
   }
  },
  {
   "cell_type": "code",
   "execution_count": 17,
   "outputs": [
    {
     "data": {
      "text/plain": "     label  oracleId   oracleType          projectName  \\\n0    False     10700  NORMAL_POST  commons-math3-3.6.1   \n1    False     10700  NORMAL_POST  commons-math3-3.6.1   \n2    False     10700  NORMAL_POST  commons-math3-3.6.1   \n3    False     10700  NORMAL_POST  commons-math3-3.6.1   \n4     True     10700  NORMAL_POST  commons-math3-3.6.1   \n..     ...       ...          ...                  ...   \n481  False      2799          PRE  commons-math3-3.6.1   \n482  False      2799          PRE  commons-math3-3.6.1   \n483   True      2799          PRE  commons-math3-3.6.1   \n484  False      2799          PRE  commons-math3-3.6.1   \n485  False      2799          PRE  commons-math3-3.6.1   \n\n                                       packageName         className  \\\n0     org.apache.commons.math3.optimization.linear    SimplexTableau   \n1     org.apache.commons.math3.optimization.linear    SimplexTableau   \n2     org.apache.commons.math3.optimization.linear    SimplexTableau   \n3     org.apache.commons.math3.optimization.linear    SimplexTableau   \n4     org.apache.commons.math3.optimization.linear    SimplexTableau   \n..                                             ...               ...   \n481  org.apache.commons.math3.analysis.polynomials  PolynomialsUtils   \n482  org.apache.commons.math3.analysis.polynomials  PolynomialsUtils   \n483  org.apache.commons.math3.analysis.polynomials  PolynomialsUtils   \n484  org.apache.commons.math3.analysis.polynomials  PolynomialsUtils   \n485  org.apache.commons.math3.analysis.polynomials  PolynomialsUtils   \n\n                                            javadocTag  \\\n0     number of constraint with the specified relat...   \n1     number of constraint with the specified relat...   \n2     number of constraint with the specified relat...   \n3     number of constraint with the specified relat...   \n4     number of constraint with the specified relat...   \n..                                                 ...   \n481                          @param shift Shift value.   \n482                          @param shift Shift value.   \n483                          @param shift Shift value.   \n484                          @param shift Shift value.   \n485                          @param shift Shift value.   \n\n                                         methodJavadoc  \\\n0    \t/**\n     * Get a count of constraints corresp...   \n1    \t/**\n     * Get a count of constraints corresp...   \n2    \t/**\n     * Get a count of constraints corresp...   \n3    \t/**\n     * Get a count of constraints corresp...   \n4    \t/**\n     * Get a count of constraints corresp...   \n..                                                 ...   \n481  \t/**\n     * Compute the coefficients of the po...   \n482  \t/**\n     * Compute the coefficients of the po...   \n483  \t/**\n     * Compute the coefficients of the po...   \n484  \t/**\n     * Compute the coefficients of the po...   \n485  \t/**\n     * Compute the coefficients of the po...   \n\n                                      methodSourceCode  \\\n0    private int getConstraintTypeCounts(final Rela...   \n1    private int getConstraintTypeCounts(final Rela...   \n2    private int getConstraintTypeCounts(final Rela...   \n3    private int getConstraintTypeCounts(final Rela...   \n4    private int getConstraintTypeCounts(final Rela...   \n..                                                 ...   \n481  public static double[] shift(final double[] co...   \n482  public static double[] shift(final double[] co...   \n483  public static double[] shift(final double[] co...   \n484  public static double[] shift(final double[] co...   \n485  public static double[] shift(final double[] co...   \n\n                                          classJavadoc  \\\n0    /**\n * A tableau for use in the Simplex method...   \n1    /**\n * A tableau for use in the Simplex method...   \n2    /**\n * A tableau for use in the Simplex method...   \n3    /**\n * A tableau for use in the Simplex method...   \n4    /**\n * A tableau for use in the Simplex method...   \n..                                                 ...   \n481  /**\n * A collection of static methods that ope...   \n482  /**\n * A collection of static methods that ope...   \n483  /**\n * A collection of static methods that ope...   \n484  /**\n * A collection of static methods that ope...   \n485  /**\n * A collection of static methods that ope...   \n\n                                       classSourceCode oracleSoFar token  \\\n0    /*\n * Licensed to the Apache Software Foundati...                     \n1    /*\n * Licensed to the Apache Software Foundati...                     \n2    /*\n * Licensed to the Apache Software Foundati...                     \n3    /*\n * Licensed to the Apache Software Foundati...                     \n4    /*\n * Licensed to the Apache Software Foundati...                     \n..                                                 ...         ...   ...   \n481  /*\n * Licensed to the Apache Software Foundati...                     \n482  /*\n * Licensed to the Apache Software Foundati...                     \n483  /*\n * Licensed to the Apache Software Foundati...                     \n484  /*\n * Licensed to the Apache Software Foundati...                     \n485  /*\n * Licensed to the Apache Software Foundati...                     \n\n             tokenClass tokenInfo  \n0        MethodArgument            \n1                 Class            \n2                  This            \n3                  TRUE            \n4             Semicolon            \n..                  ...       ...  \n481      MethodArgument            \n482               Class            \n483           Semicolon            \n484  OpeningParenthesis            \n485         ArraysClass            \n\n[179482 rows x 15 columns]",
      "text/html": "<div>\n<style scoped>\n    .dataframe tbody tr th:only-of-type {\n        vertical-align: middle;\n    }\n\n    .dataframe tbody tr th {\n        vertical-align: top;\n    }\n\n    .dataframe thead th {\n        text-align: right;\n    }\n</style>\n<table border=\"1\" class=\"dataframe\">\n  <thead>\n    <tr style=\"text-align: right;\">\n      <th></th>\n      <th>label</th>\n      <th>oracleId</th>\n      <th>oracleType</th>\n      <th>projectName</th>\n      <th>packageName</th>\n      <th>className</th>\n      <th>javadocTag</th>\n      <th>methodJavadoc</th>\n      <th>methodSourceCode</th>\n      <th>classJavadoc</th>\n      <th>classSourceCode</th>\n      <th>oracleSoFar</th>\n      <th>token</th>\n      <th>tokenClass</th>\n      <th>tokenInfo</th>\n    </tr>\n  </thead>\n  <tbody>\n    <tr>\n      <th>0</th>\n      <td>False</td>\n      <td>10700</td>\n      <td>NORMAL_POST</td>\n      <td>commons-math3-3.6.1</td>\n      <td>org.apache.commons.math3.optimization.linear</td>\n      <td>SimplexTableau</td>\n      <td>number of constraint with the specified relat...</td>\n      <td>/**\n     * Get a count of constraints corresp...</td>\n      <td>private int getConstraintTypeCounts(final Rela...</td>\n      <td>/**\n * A tableau for use in the Simplex method...</td>\n      <td>/*\n * Licensed to the Apache Software Foundati...</td>\n      <td></td>\n      <td></td>\n      <td>MethodArgument</td>\n      <td></td>\n    </tr>\n    <tr>\n      <th>1</th>\n      <td>False</td>\n      <td>10700</td>\n      <td>NORMAL_POST</td>\n      <td>commons-math3-3.6.1</td>\n      <td>org.apache.commons.math3.optimization.linear</td>\n      <td>SimplexTableau</td>\n      <td>number of constraint with the specified relat...</td>\n      <td>/**\n     * Get a count of constraints corresp...</td>\n      <td>private int getConstraintTypeCounts(final Rela...</td>\n      <td>/**\n * A tableau for use in the Simplex method...</td>\n      <td>/*\n * Licensed to the Apache Software Foundati...</td>\n      <td></td>\n      <td></td>\n      <td>Class</td>\n      <td></td>\n    </tr>\n    <tr>\n      <th>2</th>\n      <td>False</td>\n      <td>10700</td>\n      <td>NORMAL_POST</td>\n      <td>commons-math3-3.6.1</td>\n      <td>org.apache.commons.math3.optimization.linear</td>\n      <td>SimplexTableau</td>\n      <td>number of constraint with the specified relat...</td>\n      <td>/**\n     * Get a count of constraints corresp...</td>\n      <td>private int getConstraintTypeCounts(final Rela...</td>\n      <td>/**\n * A tableau for use in the Simplex method...</td>\n      <td>/*\n * Licensed to the Apache Software Foundati...</td>\n      <td></td>\n      <td></td>\n      <td>This</td>\n      <td></td>\n    </tr>\n    <tr>\n      <th>3</th>\n      <td>False</td>\n      <td>10700</td>\n      <td>NORMAL_POST</td>\n      <td>commons-math3-3.6.1</td>\n      <td>org.apache.commons.math3.optimization.linear</td>\n      <td>SimplexTableau</td>\n      <td>number of constraint with the specified relat...</td>\n      <td>/**\n     * Get a count of constraints corresp...</td>\n      <td>private int getConstraintTypeCounts(final Rela...</td>\n      <td>/**\n * A tableau for use in the Simplex method...</td>\n      <td>/*\n * Licensed to the Apache Software Foundati...</td>\n      <td></td>\n      <td></td>\n      <td>TRUE</td>\n      <td></td>\n    </tr>\n    <tr>\n      <th>4</th>\n      <td>True</td>\n      <td>10700</td>\n      <td>NORMAL_POST</td>\n      <td>commons-math3-3.6.1</td>\n      <td>org.apache.commons.math3.optimization.linear</td>\n      <td>SimplexTableau</td>\n      <td>number of constraint with the specified relat...</td>\n      <td>/**\n     * Get a count of constraints corresp...</td>\n      <td>private int getConstraintTypeCounts(final Rela...</td>\n      <td>/**\n * A tableau for use in the Simplex method...</td>\n      <td>/*\n * Licensed to the Apache Software Foundati...</td>\n      <td></td>\n      <td></td>\n      <td>Semicolon</td>\n      <td></td>\n    </tr>\n    <tr>\n      <th>...</th>\n      <td>...</td>\n      <td>...</td>\n      <td>...</td>\n      <td>...</td>\n      <td>...</td>\n      <td>...</td>\n      <td>...</td>\n      <td>...</td>\n      <td>...</td>\n      <td>...</td>\n      <td>...</td>\n      <td>...</td>\n      <td>...</td>\n      <td>...</td>\n      <td>...</td>\n    </tr>\n    <tr>\n      <th>481</th>\n      <td>False</td>\n      <td>2799</td>\n      <td>PRE</td>\n      <td>commons-math3-3.6.1</td>\n      <td>org.apache.commons.math3.analysis.polynomials</td>\n      <td>PolynomialsUtils</td>\n      <td>@param shift Shift value.</td>\n      <td>/**\n     * Compute the coefficients of the po...</td>\n      <td>public static double[] shift(final double[] co...</td>\n      <td>/**\n * A collection of static methods that ope...</td>\n      <td>/*\n * Licensed to the Apache Software Foundati...</td>\n      <td></td>\n      <td></td>\n      <td>MethodArgument</td>\n      <td></td>\n    </tr>\n    <tr>\n      <th>482</th>\n      <td>False</td>\n      <td>2799</td>\n      <td>PRE</td>\n      <td>commons-math3-3.6.1</td>\n      <td>org.apache.commons.math3.analysis.polynomials</td>\n      <td>PolynomialsUtils</td>\n      <td>@param shift Shift value.</td>\n      <td>/**\n     * Compute the coefficients of the po...</td>\n      <td>public static double[] shift(final double[] co...</td>\n      <td>/**\n * A collection of static methods that ope...</td>\n      <td>/*\n * Licensed to the Apache Software Foundati...</td>\n      <td></td>\n      <td></td>\n      <td>Class</td>\n      <td></td>\n    </tr>\n    <tr>\n      <th>483</th>\n      <td>True</td>\n      <td>2799</td>\n      <td>PRE</td>\n      <td>commons-math3-3.6.1</td>\n      <td>org.apache.commons.math3.analysis.polynomials</td>\n      <td>PolynomialsUtils</td>\n      <td>@param shift Shift value.</td>\n      <td>/**\n     * Compute the coefficients of the po...</td>\n      <td>public static double[] shift(final double[] co...</td>\n      <td>/**\n * A collection of static methods that ope...</td>\n      <td>/*\n * Licensed to the Apache Software Foundati...</td>\n      <td></td>\n      <td></td>\n      <td>Semicolon</td>\n      <td></td>\n    </tr>\n    <tr>\n      <th>484</th>\n      <td>False</td>\n      <td>2799</td>\n      <td>PRE</td>\n      <td>commons-math3-3.6.1</td>\n      <td>org.apache.commons.math3.analysis.polynomials</td>\n      <td>PolynomialsUtils</td>\n      <td>@param shift Shift value.</td>\n      <td>/**\n     * Compute the coefficients of the po...</td>\n      <td>public static double[] shift(final double[] co...</td>\n      <td>/**\n * A collection of static methods that ope...</td>\n      <td>/*\n * Licensed to the Apache Software Foundati...</td>\n      <td></td>\n      <td></td>\n      <td>OpeningParenthesis</td>\n      <td></td>\n    </tr>\n    <tr>\n      <th>485</th>\n      <td>False</td>\n      <td>2799</td>\n      <td>PRE</td>\n      <td>commons-math3-3.6.1</td>\n      <td>org.apache.commons.math3.analysis.polynomials</td>\n      <td>PolynomialsUtils</td>\n      <td>@param shift Shift value.</td>\n      <td>/**\n     * Compute the coefficients of the po...</td>\n      <td>public static double[] shift(final double[] co...</td>\n      <td>/**\n * A collection of static methods that ope...</td>\n      <td>/*\n * Licensed to the Apache Software Foundati...</td>\n      <td></td>\n      <td></td>\n      <td>ArraysClass</td>\n      <td></td>\n    </tr>\n  </tbody>\n</table>\n<p>179482 rows × 15 columns</p>\n</div>"
     },
     "execution_count": 17,
     "metadata": {},
     "output_type": "execute_result"
    }
   ],
   "source": [
    "a.head()"
   ],
   "metadata": {
    "collapsed": false,
    "ExecuteTime": {
     "start_time": "2023-06-03T01:25:12.519003Z",
     "end_time": "2023-06-03T01:25:12.777299Z"
    }
   }
  },
  {
   "cell_type": "code",
   "execution_count": 18,
   "outputs": [
    {
     "ename": "TypeError",
     "evalue": "incompatible index of inserted column with frame index",
     "output_type": "error",
     "traceback": [
      "\u001B[0;31m---------------------------------------------------------------------------\u001B[0m",
      "\u001B[0;31mValueError\u001B[0m                                Traceback (most recent call last)",
      "File \u001B[0;32m~/Downloads/ml-model/lib/python3.8/site-packages/pandas/core/frame.py:12020\u001B[0m, in \u001B[0;36m_reindex_for_setitem\u001B[0;34m(value, index)\u001B[0m\n\u001B[1;32m  12019\u001B[0m \u001B[38;5;28;01mtry\u001B[39;00m:\n\u001B[0;32m> 12020\u001B[0m     reindexed_value \u001B[38;5;241m=\u001B[39m \u001B[43mvalue\u001B[49m\u001B[38;5;241;43m.\u001B[39;49m\u001B[43mreindex\u001B[49m\u001B[43m(\u001B[49m\u001B[43mindex\u001B[49m\u001B[43m)\u001B[49m\u001B[38;5;241m.\u001B[39m_values\n\u001B[1;32m  12021\u001B[0m \u001B[38;5;28;01mexcept\u001B[39;00m \u001B[38;5;167;01mValueError\u001B[39;00m \u001B[38;5;28;01mas\u001B[39;00m err:\n\u001B[1;32m  12022\u001B[0m     \u001B[38;5;66;03m# raised in MultiIndex.from_tuples, see test_insert_error_msmgs\u001B[39;00m\n",
      "File \u001B[0;32m~/Downloads/ml-model/lib/python3.8/site-packages/pandas/core/series.py:5094\u001B[0m, in \u001B[0;36mSeries.reindex\u001B[0;34m(self, *args, **kwargs)\u001B[0m\n\u001B[1;32m   5093\u001B[0m     kwargs\u001B[38;5;241m.\u001B[39mupdate({\u001B[38;5;124m\"\u001B[39m\u001B[38;5;124mindex\u001B[39m\u001B[38;5;124m\"\u001B[39m: index})\n\u001B[0;32m-> 5094\u001B[0m \u001B[38;5;28;01mreturn\u001B[39;00m \u001B[38;5;28;43msuper\u001B[39;49m\u001B[43m(\u001B[49m\u001B[43m)\u001B[49m\u001B[38;5;241;43m.\u001B[39;49m\u001B[43mreindex\u001B[49m\u001B[43m(\u001B[49m\u001B[38;5;241;43m*\u001B[39;49m\u001B[38;5;241;43m*\u001B[39;49m\u001B[43mkwargs\u001B[49m\u001B[43m)\u001B[49m\n",
      "File \u001B[0;32m~/Downloads/ml-model/lib/python3.8/site-packages/pandas/core/generic.py:5289\u001B[0m, in \u001B[0;36mNDFrame.reindex\u001B[0;34m(self, *args, **kwargs)\u001B[0m\n\u001B[1;32m   5288\u001B[0m \u001B[38;5;66;03m# perform the reindex on the axes\u001B[39;00m\n\u001B[0;32m-> 5289\u001B[0m \u001B[38;5;28;01mreturn\u001B[39;00m \u001B[38;5;28;43mself\u001B[39;49m\u001B[38;5;241;43m.\u001B[39;49m\u001B[43m_reindex_axes\u001B[49m\u001B[43m(\u001B[49m\n\u001B[1;32m   5290\u001B[0m \u001B[43m    \u001B[49m\u001B[43maxes\u001B[49m\u001B[43m,\u001B[49m\u001B[43m \u001B[49m\u001B[43mlevel\u001B[49m\u001B[43m,\u001B[49m\u001B[43m \u001B[49m\u001B[43mlimit\u001B[49m\u001B[43m,\u001B[49m\u001B[43m \u001B[49m\u001B[43mtolerance\u001B[49m\u001B[43m,\u001B[49m\u001B[43m \u001B[49m\u001B[43mmethod\u001B[49m\u001B[43m,\u001B[49m\u001B[43m \u001B[49m\u001B[43mfill_value\u001B[49m\u001B[43m,\u001B[49m\u001B[43m \u001B[49m\u001B[43mcopy\u001B[49m\n\u001B[1;32m   5291\u001B[0m \u001B[43m\u001B[49m\u001B[43m)\u001B[49m\u001B[38;5;241m.\u001B[39m__finalize__(\u001B[38;5;28mself\u001B[39m, method\u001B[38;5;241m=\u001B[39m\u001B[38;5;124m\"\u001B[39m\u001B[38;5;124mreindex\u001B[39m\u001B[38;5;124m\"\u001B[39m)\n",
      "File \u001B[0;32m~/Downloads/ml-model/lib/python3.8/site-packages/pandas/core/generic.py:5304\u001B[0m, in \u001B[0;36mNDFrame._reindex_axes\u001B[0;34m(self, axes, level, limit, tolerance, method, fill_value, copy)\u001B[0m\n\u001B[1;32m   5303\u001B[0m ax \u001B[38;5;241m=\u001B[39m \u001B[38;5;28mself\u001B[39m\u001B[38;5;241m.\u001B[39m_get_axis(a)\n\u001B[0;32m-> 5304\u001B[0m new_index, indexer \u001B[38;5;241m=\u001B[39m \u001B[43max\u001B[49m\u001B[38;5;241;43m.\u001B[39;49m\u001B[43mreindex\u001B[49m\u001B[43m(\u001B[49m\n\u001B[1;32m   5305\u001B[0m \u001B[43m    \u001B[49m\u001B[43mlabels\u001B[49m\u001B[43m,\u001B[49m\u001B[43m \u001B[49m\u001B[43mlevel\u001B[49m\u001B[38;5;241;43m=\u001B[39;49m\u001B[43mlevel\u001B[49m\u001B[43m,\u001B[49m\u001B[43m \u001B[49m\u001B[43mlimit\u001B[49m\u001B[38;5;241;43m=\u001B[39;49m\u001B[43mlimit\u001B[49m\u001B[43m,\u001B[49m\u001B[43m \u001B[49m\u001B[43mtolerance\u001B[49m\u001B[38;5;241;43m=\u001B[39;49m\u001B[43mtolerance\u001B[49m\u001B[43m,\u001B[49m\u001B[43m \u001B[49m\u001B[43mmethod\u001B[49m\u001B[38;5;241;43m=\u001B[39;49m\u001B[43mmethod\u001B[49m\n\u001B[1;32m   5306\u001B[0m \u001B[43m\u001B[49m\u001B[43m)\u001B[49m\n\u001B[1;32m   5308\u001B[0m axis \u001B[38;5;241m=\u001B[39m \u001B[38;5;28mself\u001B[39m\u001B[38;5;241m.\u001B[39m_get_axis_number(a)\n",
      "File \u001B[0;32m~/Downloads/ml-model/lib/python3.8/site-packages/pandas/core/indexes/base.py:4434\u001B[0m, in \u001B[0;36mIndex.reindex\u001B[0;34m(self, target, method, level, limit, tolerance)\u001B[0m\n\u001B[1;32m   4427\u001B[0m             warnings\u001B[38;5;241m.\u001B[39mwarn(\n\u001B[1;32m   4428\u001B[0m                 \u001B[38;5;124m\"\u001B[39m\u001B[38;5;124mreindexing with a non-unique Index is deprecated and \u001B[39m\u001B[38;5;124m\"\u001B[39m\n\u001B[1;32m   4429\u001B[0m                 \u001B[38;5;124m\"\u001B[39m\u001B[38;5;124mwill raise in a future version.\u001B[39m\u001B[38;5;124m\"\u001B[39m,\n\u001B[1;32m   4430\u001B[0m                 \u001B[38;5;167;01mFutureWarning\u001B[39;00m,\n\u001B[1;32m   4431\u001B[0m                 stacklevel\u001B[38;5;241m=\u001B[39mfind_stack_level(),\n\u001B[1;32m   4432\u001B[0m             )\n\u001B[0;32m-> 4434\u001B[0m target \u001B[38;5;241m=\u001B[39m \u001B[38;5;28;43mself\u001B[39;49m\u001B[38;5;241;43m.\u001B[39;49m\u001B[43m_wrap_reindex_result\u001B[49m\u001B[43m(\u001B[49m\u001B[43mtarget\u001B[49m\u001B[43m,\u001B[49m\u001B[43m \u001B[49m\u001B[43mindexer\u001B[49m\u001B[43m,\u001B[49m\u001B[43m \u001B[49m\u001B[43mpreserve_names\u001B[49m\u001B[43m)\u001B[49m\n\u001B[1;32m   4435\u001B[0m \u001B[38;5;28;01mreturn\u001B[39;00m target, indexer\n",
      "File \u001B[0;32m~/Downloads/ml-model/lib/python3.8/site-packages/pandas/core/indexes/multi.py:2556\u001B[0m, in \u001B[0;36mMultiIndex._wrap_reindex_result\u001B[0;34m(self, target, indexer, preserve_names)\u001B[0m\n\u001B[1;32m   2555\u001B[0m \u001B[38;5;28;01mtry\u001B[39;00m:\n\u001B[0;32m-> 2556\u001B[0m     target \u001B[38;5;241m=\u001B[39m \u001B[43mMultiIndex\u001B[49m\u001B[38;5;241;43m.\u001B[39;49m\u001B[43mfrom_tuples\u001B[49m\u001B[43m(\u001B[49m\u001B[43mtarget\u001B[49m\u001B[43m)\u001B[49m\n\u001B[1;32m   2557\u001B[0m \u001B[38;5;28;01mexcept\u001B[39;00m \u001B[38;5;167;01mTypeError\u001B[39;00m:\n\u001B[1;32m   2558\u001B[0m     \u001B[38;5;66;03m# not all tuples, see test_constructor_dict_multiindex_reindex_flat\u001B[39;00m\n",
      "File \u001B[0;32m~/Downloads/ml-model/lib/python3.8/site-packages/pandas/core/indexes/multi.py:205\u001B[0m, in \u001B[0;36mnames_compat.<locals>.new_meth\u001B[0;34m(self_or_cls, *args, **kwargs)\u001B[0m\n\u001B[1;32m    203\u001B[0m     kwargs[\u001B[38;5;124m\"\u001B[39m\u001B[38;5;124mnames\u001B[39m\u001B[38;5;124m\"\u001B[39m] \u001B[38;5;241m=\u001B[39m kwargs\u001B[38;5;241m.\u001B[39mpop(\u001B[38;5;124m\"\u001B[39m\u001B[38;5;124mname\u001B[39m\u001B[38;5;124m\"\u001B[39m)\n\u001B[0;32m--> 205\u001B[0m \u001B[38;5;28;01mreturn\u001B[39;00m \u001B[43mmeth\u001B[49m\u001B[43m(\u001B[49m\u001B[43mself_or_cls\u001B[49m\u001B[43m,\u001B[49m\u001B[43m \u001B[49m\u001B[38;5;241;43m*\u001B[39;49m\u001B[43margs\u001B[49m\u001B[43m,\u001B[49m\u001B[43m \u001B[49m\u001B[38;5;241;43m*\u001B[39;49m\u001B[38;5;241;43m*\u001B[39;49m\u001B[43mkwargs\u001B[49m\u001B[43m)\u001B[49m\n",
      "File \u001B[0;32m~/Downloads/ml-model/lib/python3.8/site-packages/pandas/core/indexes/multi.py:573\u001B[0m, in \u001B[0;36mMultiIndex.from_tuples\u001B[0;34m(cls, tuples, sortorder, names)\u001B[0m\n\u001B[1;32m    571\u001B[0m         tuples \u001B[38;5;241m=\u001B[39m np\u001B[38;5;241m.\u001B[39masarray(tuples\u001B[38;5;241m.\u001B[39m_values)\n\u001B[0;32m--> 573\u001B[0m     arrays \u001B[38;5;241m=\u001B[39m \u001B[38;5;28mlist\u001B[39m(\u001B[43mlib\u001B[49m\u001B[38;5;241;43m.\u001B[39;49m\u001B[43mtuples_to_object_array\u001B[49m\u001B[43m(\u001B[49m\u001B[43mtuples\u001B[49m\u001B[43m)\u001B[49m\u001B[38;5;241m.\u001B[39mT)\n\u001B[1;32m    574\u001B[0m \u001B[38;5;28;01melif\u001B[39;00m \u001B[38;5;28misinstance\u001B[39m(tuples, \u001B[38;5;28mlist\u001B[39m):\n",
      "File \u001B[0;32m~/Downloads/ml-model/lib/python3.8/site-packages/pandas/_libs/lib.pyx:2984\u001B[0m, in \u001B[0;36mpandas._libs.lib.tuples_to_object_array\u001B[0;34m()\u001B[0m\n",
      "\u001B[0;31mValueError\u001B[0m: Buffer dtype mismatch, expected 'Python object' but got 'long'",
      "\nThe above exception was the direct cause of the following exception:\n",
      "\u001B[0;31mTypeError\u001B[0m                                 Traceback (most recent call last)",
      "\u001B[0;32m/var/folders/lk/f9788htd3zz7ym_g3009qc0w0000gn/T/ipykernel_25776/1660456801.py\u001B[0m in \u001B[0;36m?\u001B[0;34m()\u001B[0m\n\u001B[0;32m----> 8\u001B[0;31m df = pd.DataFrame({\n\u001B[0m\u001B[1;32m      9\u001B[0m     \u001B[0;34m'A'\u001B[0m\u001B[0;34m:\u001B[0m \u001B[0;34m[\u001B[0m\u001B[0;34m'foo'\u001B[0m\u001B[0;34m,\u001B[0m \u001B[0;34m'foo'\u001B[0m\u001B[0;34m,\u001B[0m \u001B[0;34m'bar'\u001B[0m\u001B[0;34m,\u001B[0m \u001B[0;34m'bar'\u001B[0m\u001B[0;34m,\u001B[0m \u001B[0;34m'foo'\u001B[0m\u001B[0;34m,\u001B[0m \u001B[0;34m'foo'\u001B[0m\u001B[0;34m]\u001B[0m\u001B[0;34m,\u001B[0m\u001B[0;34m\u001B[0m\u001B[0;34m\u001B[0m\u001B[0m\n\u001B[1;32m     10\u001B[0m     \u001B[0;34m'B'\u001B[0m\u001B[0;34m:\u001B[0m \u001B[0;34m[\u001B[0m\u001B[0;34m'one'\u001B[0m\u001B[0;34m,\u001B[0m \u001B[0;34m'one'\u001B[0m\u001B[0;34m,\u001B[0m \u001B[0;34m'one'\u001B[0m\u001B[0;34m,\u001B[0m \u001B[0;34m'two'\u001B[0m\u001B[0;34m,\u001B[0m \u001B[0;34m'two'\u001B[0m\u001B[0;34m,\u001B[0m \u001B[0;34m'one'\u001B[0m\u001B[0;34m]\u001B[0m\u001B[0;34m,\u001B[0m\u001B[0;34m\u001B[0m\u001B[0;34m\u001B[0m\u001B[0m\n\u001B[1;32m     11\u001B[0m     \u001B[0;34m'C'\u001B[0m\u001B[0;34m:\u001B[0m \u001B[0;34m[\u001B[0m\u001B[0;36m1\u001B[0m\u001B[0;34m,\u001B[0m \u001B[0;36m2\u001B[0m\u001B[0;34m,\u001B[0m \u001B[0;36m3\u001B[0m\u001B[0;34m,\u001B[0m \u001B[0;36m4\u001B[0m\u001B[0;34m,\u001B[0m \u001B[0;36m5\u001B[0m\u001B[0;34m,\u001B[0m \u001B[0;36m6\u001B[0m\u001B[0;34m]\u001B[0m\u001B[0;34m\u001B[0m\u001B[0;34m\u001B[0m\u001B[0m\n",
      "\u001B[0;32m~/Downloads/ml-model/lib/python3.8/site-packages/pandas/core/frame.py\u001B[0m in \u001B[0;36m?\u001B[0;34m(self, key, value)\u001B[0m\n\u001B[1;32m   3976\u001B[0m             \u001B[0;31m# Column to set is duplicated\u001B[0m\u001B[0;34m\u001B[0m\u001B[0;34m\u001B[0m\u001B[0;34m\u001B[0m\u001B[0m\n\u001B[1;32m   3977\u001B[0m             \u001B[0mself\u001B[0m\u001B[0;34m.\u001B[0m\u001B[0m_setitem_array\u001B[0m\u001B[0;34m(\u001B[0m\u001B[0;34m[\u001B[0m\u001B[0mkey\u001B[0m\u001B[0;34m]\u001B[0m\u001B[0;34m,\u001B[0m \u001B[0mvalue\u001B[0m\u001B[0;34m)\u001B[0m\u001B[0;34m\u001B[0m\u001B[0;34m\u001B[0m\u001B[0m\n\u001B[1;32m   3978\u001B[0m         \u001B[0;32melse\u001B[0m\u001B[0;34m:\u001B[0m\u001B[0;34m\u001B[0m\u001B[0;34m\u001B[0m\u001B[0m\n\u001B[1;32m   3979\u001B[0m             \u001B[0;31m# set column\u001B[0m\u001B[0;34m\u001B[0m\u001B[0;34m\u001B[0m\u001B[0;34m\u001B[0m\u001B[0m\n\u001B[0;32m-> 3980\u001B[0;31m             \u001B[0mself\u001B[0m\u001B[0;34m.\u001B[0m\u001B[0m_set_item\u001B[0m\u001B[0;34m(\u001B[0m\u001B[0mkey\u001B[0m\u001B[0;34m,\u001B[0m \u001B[0mvalue\u001B[0m\u001B[0;34m)\u001B[0m\u001B[0;34m\u001B[0m\u001B[0;34m\u001B[0m\u001B[0m\n\u001B[0m",
      "\u001B[0;32m~/Downloads/ml-model/lib/python3.8/site-packages/pandas/core/frame.py\u001B[0m in \u001B[0;36m?\u001B[0;34m(self, key, value)\u001B[0m\n\u001B[1;32m   4170\u001B[0m \u001B[0;34m\u001B[0m\u001B[0m\n\u001B[1;32m   4171\u001B[0m         \u001B[0mSeries\u001B[0m\u001B[0;34m/\u001B[0m\u001B[0mTimeSeries\u001B[0m \u001B[0mwill\u001B[0m \u001B[0mbe\u001B[0m \u001B[0mconformed\u001B[0m \u001B[0mto\u001B[0m \u001B[0mthe\u001B[0m \u001B[0mDataFrames\u001B[0m \u001B[0mindex\u001B[0m \u001B[0mto\u001B[0m\u001B[0;34m\u001B[0m\u001B[0;34m\u001B[0m\u001B[0m\n\u001B[1;32m   4172\u001B[0m         \u001B[0mensure\u001B[0m \u001B[0mhomogeneity\u001B[0m\u001B[0;34m.\u001B[0m\u001B[0;34m\u001B[0m\u001B[0;34m\u001B[0m\u001B[0m\n\u001B[1;32m   4173\u001B[0m         \"\"\"\n\u001B[0;32m-> 4174\u001B[0;31m         \u001B[0mvalue\u001B[0m \u001B[0;34m=\u001B[0m \u001B[0mself\u001B[0m\u001B[0;34m.\u001B[0m\u001B[0m_sanitize_column\u001B[0m\u001B[0;34m(\u001B[0m\u001B[0mvalue\u001B[0m\u001B[0;34m)\u001B[0m\u001B[0;34m\u001B[0m\u001B[0;34m\u001B[0m\u001B[0m\n\u001B[0m\u001B[1;32m   4175\u001B[0m \u001B[0;34m\u001B[0m\u001B[0m\n\u001B[1;32m   4176\u001B[0m         if (\n\u001B[1;32m   4177\u001B[0m             \u001B[0mkey\u001B[0m \u001B[0;32min\u001B[0m \u001B[0mself\u001B[0m\u001B[0;34m.\u001B[0m\u001B[0mcolumns\u001B[0m\u001B[0;34m\u001B[0m\u001B[0;34m\u001B[0m\u001B[0m\n",
      "\u001B[0;32m~/Downloads/ml-model/lib/python3.8/site-packages/pandas/core/frame.py\u001B[0m in \u001B[0;36m?\u001B[0;34m(self, value)\u001B[0m\n\u001B[1;32m   4908\u001B[0m         \u001B[0;31m# or through loc single_block_path\u001B[0m\u001B[0;34m\u001B[0m\u001B[0;34m\u001B[0m\u001B[0;34m\u001B[0m\u001B[0m\n\u001B[1;32m   4909\u001B[0m         \u001B[0;32mif\u001B[0m \u001B[0misinstance\u001B[0m\u001B[0;34m(\u001B[0m\u001B[0mvalue\u001B[0m\u001B[0;34m,\u001B[0m \u001B[0mDataFrame\u001B[0m\u001B[0;34m)\u001B[0m\u001B[0;34m:\u001B[0m\u001B[0;34m\u001B[0m\u001B[0;34m\u001B[0m\u001B[0m\n\u001B[1;32m   4910\u001B[0m             \u001B[0;32mreturn\u001B[0m \u001B[0m_reindex_for_setitem\u001B[0m\u001B[0;34m(\u001B[0m\u001B[0mvalue\u001B[0m\u001B[0;34m,\u001B[0m \u001B[0mself\u001B[0m\u001B[0;34m.\u001B[0m\u001B[0mindex\u001B[0m\u001B[0;34m)\u001B[0m\u001B[0;34m\u001B[0m\u001B[0;34m\u001B[0m\u001B[0m\n\u001B[1;32m   4911\u001B[0m         \u001B[0;32melif\u001B[0m \u001B[0mis_dict_like\u001B[0m\u001B[0;34m(\u001B[0m\u001B[0mvalue\u001B[0m\u001B[0;34m)\u001B[0m\u001B[0;34m:\u001B[0m\u001B[0;34m\u001B[0m\u001B[0;34m\u001B[0m\u001B[0m\n\u001B[0;32m-> 4912\u001B[0;31m             \u001B[0;32mreturn\u001B[0m \u001B[0m_reindex_for_setitem\u001B[0m\u001B[0;34m(\u001B[0m\u001B[0mSeries\u001B[0m\u001B[0;34m(\u001B[0m\u001B[0mvalue\u001B[0m\u001B[0;34m)\u001B[0m\u001B[0;34m,\u001B[0m \u001B[0mself\u001B[0m\u001B[0;34m.\u001B[0m\u001B[0mindex\u001B[0m\u001B[0;34m)\u001B[0m\u001B[0;34m\u001B[0m\u001B[0;34m\u001B[0m\u001B[0m\n\u001B[0m\u001B[1;32m   4913\u001B[0m \u001B[0;34m\u001B[0m\u001B[0m\n\u001B[1;32m   4914\u001B[0m         \u001B[0;32mif\u001B[0m \u001B[0mis_list_like\u001B[0m\u001B[0;34m(\u001B[0m\u001B[0mvalue\u001B[0m\u001B[0;34m)\u001B[0m\u001B[0;34m:\u001B[0m\u001B[0;34m\u001B[0m\u001B[0;34m\u001B[0m\u001B[0m\n\u001B[1;32m   4915\u001B[0m             \u001B[0mcom\u001B[0m\u001B[0;34m.\u001B[0m\u001B[0mrequire_length_match\u001B[0m\u001B[0;34m(\u001B[0m\u001B[0mvalue\u001B[0m\u001B[0;34m,\u001B[0m \u001B[0mself\u001B[0m\u001B[0;34m.\u001B[0m\u001B[0mindex\u001B[0m\u001B[0;34m)\u001B[0m\u001B[0;34m\u001B[0m\u001B[0;34m\u001B[0m\u001B[0m\n",
      "\u001B[0;32m~/Downloads/ml-model/lib/python3.8/site-packages/pandas/core/frame.py\u001B[0m in \u001B[0;36m?\u001B[0;34m(value, index)\u001B[0m\n\u001B[1;32m  12023\u001B[0m         \u001B[0;32mif\u001B[0m \u001B[0;32mnot\u001B[0m \u001B[0mvalue\u001B[0m\u001B[0;34m.\u001B[0m\u001B[0mindex\u001B[0m\u001B[0;34m.\u001B[0m\u001B[0mis_unique\u001B[0m\u001B[0;34m:\u001B[0m\u001B[0;34m\u001B[0m\u001B[0;34m\u001B[0m\u001B[0m\n\u001B[1;32m  12024\u001B[0m             \u001B[0;31m# duplicate axis\u001B[0m\u001B[0;34m\u001B[0m\u001B[0;34m\u001B[0m\u001B[0;34m\u001B[0m\u001B[0m\n\u001B[1;32m  12025\u001B[0m             \u001B[0;32mraise\u001B[0m \u001B[0merr\u001B[0m\u001B[0;34m\u001B[0m\u001B[0;34m\u001B[0m\u001B[0m\n\u001B[1;32m  12026\u001B[0m \u001B[0;34m\u001B[0m\u001B[0m\n\u001B[0;32m> 12027\u001B[0;31m         raise TypeError(\n\u001B[0m\u001B[1;32m  12028\u001B[0m             \u001B[0;34m\"incompatible index of inserted column with frame index\"\u001B[0m\u001B[0;34m\u001B[0m\u001B[0;34m\u001B[0m\u001B[0m\n\u001B[1;32m  12029\u001B[0m         ) from err\n\u001B[1;32m  12030\u001B[0m     \u001B[0;32mreturn\u001B[0m \u001B[0mreindexed_value\u001B[0m\u001B[0;34m\u001B[0m\u001B[0;34m\u001B[0m\u001B[0m\n",
      "\u001B[0;31mTypeError\u001B[0m: incompatible index of inserted column with frame index"
     ]
    }
   ],
   "source": [
    "df = pd.DataFrame({\n",
    "    'A': ['foo', 'foo', 'bar', 'bar', 'foo', 'foo'],\n",
    "    'B': ['one', 'one', 'one', 'two', 'two', 'one'],\n",
    "    'C': [1, 2, 3, 4, 5, 6]\n",
    "})\n",
    "\n",
    "# group the DataFrame by columns A and B, and aggregate the values in column C into a list\n",
    "df['D'] = df.groupby(['A', 'B'])['C'].apply(list)"
   ],
   "metadata": {
    "collapsed": false
   }
  },
  {
   "cell_type": "code",
   "execution_count": 20,
   "outputs": [
    {
     "ename": "TypeError",
     "evalue": "incompatible index of inserted column with frame index",
     "output_type": "error",
     "traceback": [
      "\u001B[0;31m---------------------------------------------------------------------------\u001B[0m",
      "\u001B[0;31mValueError\u001B[0m                                Traceback (most recent call last)",
      "File \u001B[0;32m~/Downloads/ml-model/lib/python3.8/site-packages/pandas/core/frame.py:12020\u001B[0m, in \u001B[0;36m_reindex_for_setitem\u001B[0;34m(value, index)\u001B[0m\n\u001B[1;32m  12019\u001B[0m \u001B[38;5;28;01mtry\u001B[39;00m:\n\u001B[0;32m> 12020\u001B[0m     reindexed_value \u001B[38;5;241m=\u001B[39m \u001B[43mvalue\u001B[49m\u001B[38;5;241;43m.\u001B[39;49m\u001B[43mreindex\u001B[49m\u001B[43m(\u001B[49m\u001B[43mindex\u001B[49m\u001B[43m)\u001B[49m\u001B[38;5;241m.\u001B[39m_values\n\u001B[1;32m  12021\u001B[0m \u001B[38;5;28;01mexcept\u001B[39;00m \u001B[38;5;167;01mValueError\u001B[39;00m \u001B[38;5;28;01mas\u001B[39;00m err:\n\u001B[1;32m  12022\u001B[0m     \u001B[38;5;66;03m# raised in MultiIndex.from_tuples, see test_insert_error_msmgs\u001B[39;00m\n",
      "File \u001B[0;32m~/Downloads/ml-model/lib/python3.8/site-packages/pandas/core/series.py:5094\u001B[0m, in \u001B[0;36mSeries.reindex\u001B[0;34m(self, *args, **kwargs)\u001B[0m\n\u001B[1;32m   5093\u001B[0m     kwargs\u001B[38;5;241m.\u001B[39mupdate({\u001B[38;5;124m\"\u001B[39m\u001B[38;5;124mindex\u001B[39m\u001B[38;5;124m\"\u001B[39m: index})\n\u001B[0;32m-> 5094\u001B[0m \u001B[38;5;28;01mreturn\u001B[39;00m \u001B[38;5;28;43msuper\u001B[39;49m\u001B[43m(\u001B[49m\u001B[43m)\u001B[49m\u001B[38;5;241;43m.\u001B[39;49m\u001B[43mreindex\u001B[49m\u001B[43m(\u001B[49m\u001B[38;5;241;43m*\u001B[39;49m\u001B[38;5;241;43m*\u001B[39;49m\u001B[43mkwargs\u001B[49m\u001B[43m)\u001B[49m\n",
      "File \u001B[0;32m~/Downloads/ml-model/lib/python3.8/site-packages/pandas/core/generic.py:5289\u001B[0m, in \u001B[0;36mNDFrame.reindex\u001B[0;34m(self, *args, **kwargs)\u001B[0m\n\u001B[1;32m   5288\u001B[0m \u001B[38;5;66;03m# perform the reindex on the axes\u001B[39;00m\n\u001B[0;32m-> 5289\u001B[0m \u001B[38;5;28;01mreturn\u001B[39;00m \u001B[38;5;28;43mself\u001B[39;49m\u001B[38;5;241;43m.\u001B[39;49m\u001B[43m_reindex_axes\u001B[49m\u001B[43m(\u001B[49m\n\u001B[1;32m   5290\u001B[0m \u001B[43m    \u001B[49m\u001B[43maxes\u001B[49m\u001B[43m,\u001B[49m\u001B[43m \u001B[49m\u001B[43mlevel\u001B[49m\u001B[43m,\u001B[49m\u001B[43m \u001B[49m\u001B[43mlimit\u001B[49m\u001B[43m,\u001B[49m\u001B[43m \u001B[49m\u001B[43mtolerance\u001B[49m\u001B[43m,\u001B[49m\u001B[43m \u001B[49m\u001B[43mmethod\u001B[49m\u001B[43m,\u001B[49m\u001B[43m \u001B[49m\u001B[43mfill_value\u001B[49m\u001B[43m,\u001B[49m\u001B[43m \u001B[49m\u001B[43mcopy\u001B[49m\n\u001B[1;32m   5291\u001B[0m \u001B[43m\u001B[49m\u001B[43m)\u001B[49m\u001B[38;5;241m.\u001B[39m__finalize__(\u001B[38;5;28mself\u001B[39m, method\u001B[38;5;241m=\u001B[39m\u001B[38;5;124m\"\u001B[39m\u001B[38;5;124mreindex\u001B[39m\u001B[38;5;124m\"\u001B[39m)\n",
      "File \u001B[0;32m~/Downloads/ml-model/lib/python3.8/site-packages/pandas/core/generic.py:5304\u001B[0m, in \u001B[0;36mNDFrame._reindex_axes\u001B[0;34m(self, axes, level, limit, tolerance, method, fill_value, copy)\u001B[0m\n\u001B[1;32m   5303\u001B[0m ax \u001B[38;5;241m=\u001B[39m \u001B[38;5;28mself\u001B[39m\u001B[38;5;241m.\u001B[39m_get_axis(a)\n\u001B[0;32m-> 5304\u001B[0m new_index, indexer \u001B[38;5;241m=\u001B[39m \u001B[43max\u001B[49m\u001B[38;5;241;43m.\u001B[39;49m\u001B[43mreindex\u001B[49m\u001B[43m(\u001B[49m\n\u001B[1;32m   5305\u001B[0m \u001B[43m    \u001B[49m\u001B[43mlabels\u001B[49m\u001B[43m,\u001B[49m\u001B[43m \u001B[49m\u001B[43mlevel\u001B[49m\u001B[38;5;241;43m=\u001B[39;49m\u001B[43mlevel\u001B[49m\u001B[43m,\u001B[49m\u001B[43m \u001B[49m\u001B[43mlimit\u001B[49m\u001B[38;5;241;43m=\u001B[39;49m\u001B[43mlimit\u001B[49m\u001B[43m,\u001B[49m\u001B[43m \u001B[49m\u001B[43mtolerance\u001B[49m\u001B[38;5;241;43m=\u001B[39;49m\u001B[43mtolerance\u001B[49m\u001B[43m,\u001B[49m\u001B[43m \u001B[49m\u001B[43mmethod\u001B[49m\u001B[38;5;241;43m=\u001B[39;49m\u001B[43mmethod\u001B[49m\n\u001B[1;32m   5306\u001B[0m \u001B[43m\u001B[49m\u001B[43m)\u001B[49m\n\u001B[1;32m   5308\u001B[0m axis \u001B[38;5;241m=\u001B[39m \u001B[38;5;28mself\u001B[39m\u001B[38;5;241m.\u001B[39m_get_axis_number(a)\n",
      "File \u001B[0;32m~/Downloads/ml-model/lib/python3.8/site-packages/pandas/core/indexes/base.py:4434\u001B[0m, in \u001B[0;36mIndex.reindex\u001B[0;34m(self, target, method, level, limit, tolerance)\u001B[0m\n\u001B[1;32m   4427\u001B[0m             warnings\u001B[38;5;241m.\u001B[39mwarn(\n\u001B[1;32m   4428\u001B[0m                 \u001B[38;5;124m\"\u001B[39m\u001B[38;5;124mreindexing with a non-unique Index is deprecated and \u001B[39m\u001B[38;5;124m\"\u001B[39m\n\u001B[1;32m   4429\u001B[0m                 \u001B[38;5;124m\"\u001B[39m\u001B[38;5;124mwill raise in a future version.\u001B[39m\u001B[38;5;124m\"\u001B[39m,\n\u001B[1;32m   4430\u001B[0m                 \u001B[38;5;167;01mFutureWarning\u001B[39;00m,\n\u001B[1;32m   4431\u001B[0m                 stacklevel\u001B[38;5;241m=\u001B[39mfind_stack_level(),\n\u001B[1;32m   4432\u001B[0m             )\n\u001B[0;32m-> 4434\u001B[0m target \u001B[38;5;241m=\u001B[39m \u001B[38;5;28;43mself\u001B[39;49m\u001B[38;5;241;43m.\u001B[39;49m\u001B[43m_wrap_reindex_result\u001B[49m\u001B[43m(\u001B[49m\u001B[43mtarget\u001B[49m\u001B[43m,\u001B[49m\u001B[43m \u001B[49m\u001B[43mindexer\u001B[49m\u001B[43m,\u001B[49m\u001B[43m \u001B[49m\u001B[43mpreserve_names\u001B[49m\u001B[43m)\u001B[49m\n\u001B[1;32m   4435\u001B[0m \u001B[38;5;28;01mreturn\u001B[39;00m target, indexer\n",
      "File \u001B[0;32m~/Downloads/ml-model/lib/python3.8/site-packages/pandas/core/indexes/multi.py:2556\u001B[0m, in \u001B[0;36mMultiIndex._wrap_reindex_result\u001B[0;34m(self, target, indexer, preserve_names)\u001B[0m\n\u001B[1;32m   2555\u001B[0m \u001B[38;5;28;01mtry\u001B[39;00m:\n\u001B[0;32m-> 2556\u001B[0m     target \u001B[38;5;241m=\u001B[39m \u001B[43mMultiIndex\u001B[49m\u001B[38;5;241;43m.\u001B[39;49m\u001B[43mfrom_tuples\u001B[49m\u001B[43m(\u001B[49m\u001B[43mtarget\u001B[49m\u001B[43m)\u001B[49m\n\u001B[1;32m   2557\u001B[0m \u001B[38;5;28;01mexcept\u001B[39;00m \u001B[38;5;167;01mTypeError\u001B[39;00m:\n\u001B[1;32m   2558\u001B[0m     \u001B[38;5;66;03m# not all tuples, see test_constructor_dict_multiindex_reindex_flat\u001B[39;00m\n",
      "File \u001B[0;32m~/Downloads/ml-model/lib/python3.8/site-packages/pandas/core/indexes/multi.py:205\u001B[0m, in \u001B[0;36mnames_compat.<locals>.new_meth\u001B[0;34m(self_or_cls, *args, **kwargs)\u001B[0m\n\u001B[1;32m    203\u001B[0m     kwargs[\u001B[38;5;124m\"\u001B[39m\u001B[38;5;124mnames\u001B[39m\u001B[38;5;124m\"\u001B[39m] \u001B[38;5;241m=\u001B[39m kwargs\u001B[38;5;241m.\u001B[39mpop(\u001B[38;5;124m\"\u001B[39m\u001B[38;5;124mname\u001B[39m\u001B[38;5;124m\"\u001B[39m)\n\u001B[0;32m--> 205\u001B[0m \u001B[38;5;28;01mreturn\u001B[39;00m \u001B[43mmeth\u001B[49m\u001B[43m(\u001B[49m\u001B[43mself_or_cls\u001B[49m\u001B[43m,\u001B[49m\u001B[43m \u001B[49m\u001B[38;5;241;43m*\u001B[39;49m\u001B[43margs\u001B[49m\u001B[43m,\u001B[49m\u001B[43m \u001B[49m\u001B[38;5;241;43m*\u001B[39;49m\u001B[38;5;241;43m*\u001B[39;49m\u001B[43mkwargs\u001B[49m\u001B[43m)\u001B[49m\n",
      "File \u001B[0;32m~/Downloads/ml-model/lib/python3.8/site-packages/pandas/core/indexes/multi.py:573\u001B[0m, in \u001B[0;36mMultiIndex.from_tuples\u001B[0;34m(cls, tuples, sortorder, names)\u001B[0m\n\u001B[1;32m    571\u001B[0m         tuples \u001B[38;5;241m=\u001B[39m np\u001B[38;5;241m.\u001B[39masarray(tuples\u001B[38;5;241m.\u001B[39m_values)\n\u001B[0;32m--> 573\u001B[0m     arrays \u001B[38;5;241m=\u001B[39m \u001B[38;5;28mlist\u001B[39m(\u001B[43mlib\u001B[49m\u001B[38;5;241;43m.\u001B[39;49m\u001B[43mtuples_to_object_array\u001B[49m\u001B[43m(\u001B[49m\u001B[43mtuples\u001B[49m\u001B[43m)\u001B[49m\u001B[38;5;241m.\u001B[39mT)\n\u001B[1;32m    574\u001B[0m \u001B[38;5;28;01melif\u001B[39;00m \u001B[38;5;28misinstance\u001B[39m(tuples, \u001B[38;5;28mlist\u001B[39m):\n",
      "File \u001B[0;32m~/Downloads/ml-model/lib/python3.8/site-packages/pandas/_libs/lib.pyx:2984\u001B[0m, in \u001B[0;36mpandas._libs.lib.tuples_to_object_array\u001B[0;34m()\u001B[0m\n",
      "\u001B[0;31mValueError\u001B[0m: Buffer dtype mismatch, expected 'Python object' but got 'long'",
      "\nThe above exception was the direct cause of the following exception:\n",
      "\u001B[0;31mTypeError\u001B[0m                                 Traceback (most recent call last)",
      "\u001B[0;32m/var/folders/lk/f9788htd3zz7ym_g3009qc0w0000gn/T/ipykernel_25776/1720249902.py\u001B[0m in \u001B[0;36m?\u001B[0;34m()\u001B[0m\n\u001B[0;32m---> 11\u001B[0;31m \u001B[0;32mimport\u001B[0m \u001B[0mpandas\u001B[0m \u001B[0;32mas\u001B[0m \u001B[0mpd\u001B[0m\u001B[0;34m\u001B[0m\u001B[0;34m\u001B[0m\u001B[0m\n\u001B[0m\u001B[1;32m     12\u001B[0m \u001B[0;34m\u001B[0m\u001B[0m\n\u001B[1;32m     13\u001B[0m \u001B[0;31m# create a sample DataFrame\u001B[0m\u001B[0;34m\u001B[0m\u001B[0;34m\u001B[0m\u001B[0;34m\u001B[0m\u001B[0m\n\u001B[1;32m     14\u001B[0m df = pd.DataFrame({\n",
      "\u001B[0;32m~/Downloads/ml-model/lib/python3.8/site-packages/pandas/core/frame.py\u001B[0m in \u001B[0;36m?\u001B[0;34m(self, key, value)\u001B[0m\n\u001B[1;32m   3976\u001B[0m             \u001B[0;31m# Column to set is duplicated\u001B[0m\u001B[0;34m\u001B[0m\u001B[0;34m\u001B[0m\u001B[0;34m\u001B[0m\u001B[0m\n\u001B[1;32m   3977\u001B[0m             \u001B[0mself\u001B[0m\u001B[0;34m.\u001B[0m\u001B[0m_setitem_array\u001B[0m\u001B[0;34m(\u001B[0m\u001B[0;34m[\u001B[0m\u001B[0mkey\u001B[0m\u001B[0;34m]\u001B[0m\u001B[0;34m,\u001B[0m \u001B[0mvalue\u001B[0m\u001B[0;34m)\u001B[0m\u001B[0;34m\u001B[0m\u001B[0;34m\u001B[0m\u001B[0m\n\u001B[1;32m   3978\u001B[0m         \u001B[0;32melse\u001B[0m\u001B[0;34m:\u001B[0m\u001B[0;34m\u001B[0m\u001B[0;34m\u001B[0m\u001B[0m\n\u001B[1;32m   3979\u001B[0m             \u001B[0;31m# set column\u001B[0m\u001B[0;34m\u001B[0m\u001B[0;34m\u001B[0m\u001B[0;34m\u001B[0m\u001B[0m\n\u001B[0;32m-> 3980\u001B[0;31m             \u001B[0mself\u001B[0m\u001B[0;34m.\u001B[0m\u001B[0m_set_item\u001B[0m\u001B[0;34m(\u001B[0m\u001B[0mkey\u001B[0m\u001B[0;34m,\u001B[0m \u001B[0mvalue\u001B[0m\u001B[0;34m)\u001B[0m\u001B[0;34m\u001B[0m\u001B[0;34m\u001B[0m\u001B[0m\n\u001B[0m",
      "\u001B[0;32m~/Downloads/ml-model/lib/python3.8/site-packages/pandas/core/frame.py\u001B[0m in \u001B[0;36m?\u001B[0;34m(self, key, value)\u001B[0m\n\u001B[1;32m   4170\u001B[0m \u001B[0;34m\u001B[0m\u001B[0m\n\u001B[1;32m   4171\u001B[0m         \u001B[0mSeries\u001B[0m\u001B[0;34m/\u001B[0m\u001B[0mTimeSeries\u001B[0m \u001B[0mwill\u001B[0m \u001B[0mbe\u001B[0m \u001B[0mconformed\u001B[0m \u001B[0mto\u001B[0m \u001B[0mthe\u001B[0m \u001B[0mDataFrames\u001B[0m \u001B[0mindex\u001B[0m \u001B[0mto\u001B[0m\u001B[0;34m\u001B[0m\u001B[0;34m\u001B[0m\u001B[0m\n\u001B[1;32m   4172\u001B[0m         \u001B[0mensure\u001B[0m \u001B[0mhomogeneity\u001B[0m\u001B[0;34m.\u001B[0m\u001B[0;34m\u001B[0m\u001B[0;34m\u001B[0m\u001B[0m\n\u001B[1;32m   4173\u001B[0m         \"\"\"\n\u001B[0;32m-> 4174\u001B[0;31m         \u001B[0mvalue\u001B[0m \u001B[0;34m=\u001B[0m \u001B[0mself\u001B[0m\u001B[0;34m.\u001B[0m\u001B[0m_sanitize_column\u001B[0m\u001B[0;34m(\u001B[0m\u001B[0mvalue\u001B[0m\u001B[0;34m)\u001B[0m\u001B[0;34m\u001B[0m\u001B[0;34m\u001B[0m\u001B[0m\n\u001B[0m\u001B[1;32m   4175\u001B[0m \u001B[0;34m\u001B[0m\u001B[0m\n\u001B[1;32m   4176\u001B[0m         if (\n\u001B[1;32m   4177\u001B[0m             \u001B[0mkey\u001B[0m \u001B[0;32min\u001B[0m \u001B[0mself\u001B[0m\u001B[0;34m.\u001B[0m\u001B[0mcolumns\u001B[0m\u001B[0;34m\u001B[0m\u001B[0;34m\u001B[0m\u001B[0m\n",
      "\u001B[0;32m~/Downloads/ml-model/lib/python3.8/site-packages/pandas/core/frame.py\u001B[0m in \u001B[0;36m?\u001B[0;34m(self, value)\u001B[0m\n\u001B[1;32m   4908\u001B[0m         \u001B[0;31m# or through loc single_block_path\u001B[0m\u001B[0;34m\u001B[0m\u001B[0;34m\u001B[0m\u001B[0;34m\u001B[0m\u001B[0m\n\u001B[1;32m   4909\u001B[0m         \u001B[0;32mif\u001B[0m \u001B[0misinstance\u001B[0m\u001B[0;34m(\u001B[0m\u001B[0mvalue\u001B[0m\u001B[0;34m,\u001B[0m \u001B[0mDataFrame\u001B[0m\u001B[0;34m)\u001B[0m\u001B[0;34m:\u001B[0m\u001B[0;34m\u001B[0m\u001B[0;34m\u001B[0m\u001B[0m\n\u001B[1;32m   4910\u001B[0m             \u001B[0;32mreturn\u001B[0m \u001B[0m_reindex_for_setitem\u001B[0m\u001B[0;34m(\u001B[0m\u001B[0mvalue\u001B[0m\u001B[0;34m,\u001B[0m \u001B[0mself\u001B[0m\u001B[0;34m.\u001B[0m\u001B[0mindex\u001B[0m\u001B[0;34m)\u001B[0m\u001B[0;34m\u001B[0m\u001B[0;34m\u001B[0m\u001B[0m\n\u001B[1;32m   4911\u001B[0m         \u001B[0;32melif\u001B[0m \u001B[0mis_dict_like\u001B[0m\u001B[0;34m(\u001B[0m\u001B[0mvalue\u001B[0m\u001B[0;34m)\u001B[0m\u001B[0;34m:\u001B[0m\u001B[0;34m\u001B[0m\u001B[0;34m\u001B[0m\u001B[0m\n\u001B[0;32m-> 4912\u001B[0;31m             \u001B[0;32mreturn\u001B[0m \u001B[0m_reindex_for_setitem\u001B[0m\u001B[0;34m(\u001B[0m\u001B[0mSeries\u001B[0m\u001B[0;34m(\u001B[0m\u001B[0mvalue\u001B[0m\u001B[0;34m)\u001B[0m\u001B[0;34m,\u001B[0m \u001B[0mself\u001B[0m\u001B[0;34m.\u001B[0m\u001B[0mindex\u001B[0m\u001B[0;34m)\u001B[0m\u001B[0;34m\u001B[0m\u001B[0;34m\u001B[0m\u001B[0m\n\u001B[0m\u001B[1;32m   4913\u001B[0m \u001B[0;34m\u001B[0m\u001B[0m\n\u001B[1;32m   4914\u001B[0m         \u001B[0;32mif\u001B[0m \u001B[0mis_list_like\u001B[0m\u001B[0;34m(\u001B[0m\u001B[0mvalue\u001B[0m\u001B[0;34m)\u001B[0m\u001B[0;34m:\u001B[0m\u001B[0;34m\u001B[0m\u001B[0;34m\u001B[0m\u001B[0m\n\u001B[1;32m   4915\u001B[0m             \u001B[0mcom\u001B[0m\u001B[0;34m.\u001B[0m\u001B[0mrequire_length_match\u001B[0m\u001B[0;34m(\u001B[0m\u001B[0mvalue\u001B[0m\u001B[0;34m,\u001B[0m \u001B[0mself\u001B[0m\u001B[0;34m.\u001B[0m\u001B[0mindex\u001B[0m\u001B[0;34m)\u001B[0m\u001B[0;34m\u001B[0m\u001B[0;34m\u001B[0m\u001B[0m\n",
      "\u001B[0;32m~/Downloads/ml-model/lib/python3.8/site-packages/pandas/core/frame.py\u001B[0m in \u001B[0;36m?\u001B[0;34m(value, index)\u001B[0m\n\u001B[1;32m  12023\u001B[0m         \u001B[0;32mif\u001B[0m \u001B[0;32mnot\u001B[0m \u001B[0mvalue\u001B[0m\u001B[0;34m.\u001B[0m\u001B[0mindex\u001B[0m\u001B[0;34m.\u001B[0m\u001B[0mis_unique\u001B[0m\u001B[0;34m:\u001B[0m\u001B[0;34m\u001B[0m\u001B[0;34m\u001B[0m\u001B[0m\n\u001B[1;32m  12024\u001B[0m             \u001B[0;31m# duplicate axis\u001B[0m\u001B[0;34m\u001B[0m\u001B[0;34m\u001B[0m\u001B[0;34m\u001B[0m\u001B[0m\n\u001B[1;32m  12025\u001B[0m             \u001B[0;32mraise\u001B[0m \u001B[0merr\u001B[0m\u001B[0;34m\u001B[0m\u001B[0;34m\u001B[0m\u001B[0m\n\u001B[1;32m  12026\u001B[0m \u001B[0;34m\u001B[0m\u001B[0m\n\u001B[0;32m> 12027\u001B[0;31m         raise TypeError(\n\u001B[0m\u001B[1;32m  12028\u001B[0m             \u001B[0;34m\"incompatible index of inserted column with frame index\"\u001B[0m\u001B[0;34m\u001B[0m\u001B[0;34m\u001B[0m\u001B[0m\n\u001B[1;32m  12029\u001B[0m         ) from err\n\u001B[1;32m  12030\u001B[0m     \u001B[0;32mreturn\u001B[0m \u001B[0mreindexed_value\u001B[0m\u001B[0;34m\u001B[0m\u001B[0;34m\u001B[0m\u001B[0m\n",
      "\u001B[0;31mTypeError\u001B[0m: incompatible index of inserted column with frame index"
     ]
    }
   ],
   "source": [
    "import pandas as pd\n",
    "\n",
    "# create a sample DataFrame\n",
    "df = pd.DataFrame({\n",
    "    'A': ['foo', 'foo', 'bar', 'bar', 'foo', 'foo'],\n",
    "    'B': ['one', 'one', 'one', 'two', 'two', 'one'],\n",
    "    'C': [1, 2, 3, 4, 5, 6]\n",
    "})\n",
    "\n",
    "# group the DataFrame by columns A and B, and get the unique values in column C\n",
    "df['D'] = df.groupby(['A', 'B'])['C'].unique().apply(list)\n",
    "\n",
    "# print the result\n",
    "print(df)"
   ],
   "metadata": {
    "collapsed": false
   }
  },
  {
   "cell_type": "code",
   "execution_count": 41,
   "outputs": [],
   "source": [
    "import pandas as pd\n",
    "# Create a sample DataFrame\n",
    "data = {'A': ['X', 'X', 'Y', 'Y', 'Z'],\n",
    "        'B': [1, 1, 1, 2, 1],\n",
    "        'C': [10, 20, 30, 40, 50]}\n",
    "df = pd.DataFrame(data)\n",
    "\n",
    "# Create column D with lists of different values from column C\n",
    "unique_C = df.groupby(['A', 'B'])['C'].unique()\n",
    "pd.merge(df, unique_C, on=[\"A\",\"B\"])"
   ],
   "metadata": {
    "collapsed": false,
    "ExecuteTime": {
     "start_time": "2023-06-03T02:10:24.832075Z",
     "end_time": "2023-06-03T02:10:24.840608Z"
    }
   }
  },
  {
   "cell_type": "code",
   "execution_count": 43,
   "outputs": [
    {
     "data": {
      "text/plain": "   A  B  C_x       C_y\n0  X  1   10  [10, 20]\n1  X  1   20  [10, 20]\n2  Y  1   30      [30]\n3  Y  2   40      [40]\n4  Z  1   50      [50]",
      "text/html": "<div>\n<style scoped>\n    .dataframe tbody tr th:only-of-type {\n        vertical-align: middle;\n    }\n\n    .dataframe tbody tr th {\n        vertical-align: top;\n    }\n\n    .dataframe thead th {\n        text-align: right;\n    }\n</style>\n<table border=\"1\" class=\"dataframe\">\n  <thead>\n    <tr style=\"text-align: right;\">\n      <th></th>\n      <th>A</th>\n      <th>B</th>\n      <th>C_x</th>\n      <th>C_y</th>\n    </tr>\n  </thead>\n  <tbody>\n    <tr>\n      <th>0</th>\n      <td>X</td>\n      <td>1</td>\n      <td>10</td>\n      <td>[10, 20]</td>\n    </tr>\n    <tr>\n      <th>1</th>\n      <td>X</td>\n      <td>1</td>\n      <td>20</td>\n      <td>[10, 20]</td>\n    </tr>\n    <tr>\n      <th>2</th>\n      <td>Y</td>\n      <td>1</td>\n      <td>30</td>\n      <td>[30]</td>\n    </tr>\n    <tr>\n      <th>3</th>\n      <td>Y</td>\n      <td>2</td>\n      <td>40</td>\n      <td>[40]</td>\n    </tr>\n    <tr>\n      <th>4</th>\n      <td>Z</td>\n      <td>1</td>\n      <td>50</td>\n      <td>[50]</td>\n    </tr>\n  </tbody>\n</table>\n</div>"
     },
     "execution_count": 43,
     "metadata": {},
     "output_type": "execute_result"
    }
   ],
   "source": [
    "pd.merge(df, unique_C, on=[\"A\",\"B\"])"
   ],
   "metadata": {
    "collapsed": false,
    "ExecuteTime": {
     "start_time": "2023-06-03T02:11:08.498655Z",
     "end_time": "2023-06-03T02:11:08.535977Z"
    }
   }
  },
  {
   "cell_type": "code",
   "execution_count": 9,
   "outputs": [
    {
     "data": {
      "text/plain": "   A  B   C               D\n0  X  1  10  ((X, 1), [10])\n1  X  2  20  ((X, 2), [20])\n2  Y  1  30  ((Y, 1), [30])\n3  Y  2  40  ((Y, 2), [40])\n4  Z  1  50  ((Z, 1), [50])",
      "text/html": "<div>\n<style scoped>\n    .dataframe tbody tr th:only-of-type {\n        vertical-align: middle;\n    }\n\n    .dataframe tbody tr th {\n        vertical-align: top;\n    }\n\n    .dataframe thead th {\n        text-align: right;\n    }\n</style>\n<table border=\"1\" class=\"dataframe\">\n  <thead>\n    <tr style=\"text-align: right;\">\n      <th></th>\n      <th>A</th>\n      <th>B</th>\n      <th>C</th>\n      <th>D</th>\n    </tr>\n  </thead>\n  <tbody>\n    <tr>\n      <th>0</th>\n      <td>X</td>\n      <td>1</td>\n      <td>10</td>\n      <td>((X, 1), [10])</td>\n    </tr>\n    <tr>\n      <th>1</th>\n      <td>X</td>\n      <td>2</td>\n      <td>20</td>\n      <td>((X, 2), [20])</td>\n    </tr>\n    <tr>\n      <th>2</th>\n      <td>Y</td>\n      <td>1</td>\n      <td>30</td>\n      <td>((Y, 1), [30])</td>\n    </tr>\n    <tr>\n      <th>3</th>\n      <td>Y</td>\n      <td>2</td>\n      <td>40</td>\n      <td>((Y, 2), [40])</td>\n    </tr>\n    <tr>\n      <th>4</th>\n      <td>Z</td>\n      <td>1</td>\n      <td>50</td>\n      <td>((Z, 1), [50])</td>\n    </tr>\n  </tbody>\n</table>\n</div>"
     },
     "execution_count": 9,
     "metadata": {},
     "output_type": "execute_result"
    }
   ],
   "source": [
    "df.head()"
   ],
   "metadata": {
    "collapsed": false,
    "ExecuteTime": {
     "start_time": "2023-06-03T01:31:25.406326Z",
     "end_time": "2023-06-03T01:31:25.411050Z"
    }
   }
  },
  {
   "cell_type": "code",
   "execution_count": 14,
   "outputs": [],
   "source": [
    "df = df.astype({\n",
    "    'D': 'string'\n",
    "})"
   ],
   "metadata": {
    "collapsed": false,
    "ExecuteTime": {
     "start_time": "2023-06-03T01:32:26.775802Z",
     "end_time": "2023-06-03T01:32:26.787570Z"
    }
   }
  },
  {
   "cell_type": "markdown",
   "source": [
    "df"
   ],
   "metadata": {
    "collapsed": false
   }
  },
  {
   "cell_type": "code",
   "execution_count": 62,
   "outputs": [
    {
     "ename": "ValueError",
     "evalue": "Length of values (44589) does not match length of index (189187)",
     "output_type": "error",
     "traceback": [
      "\u001B[0;31m---------------------------------------------------------------------------\u001B[0m",
      "\u001B[0;31mValueError\u001B[0m                                Traceback (most recent call last)",
      "Cell \u001B[0;32mIn[62], line 9\u001B[0m\n\u001B[1;32m      6\u001B[0m df \u001B[38;5;241m=\u001B[39m pd\u001B[38;5;241m.\u001B[39mDataFrame(data)\n\u001B[1;32m      8\u001B[0m \u001B[38;5;66;03m# Create column D with lists of different values from column C\u001B[39;00m\n\u001B[0;32m----> 9\u001B[0m \u001B[43mdf_dataset\u001B[49m\u001B[43m[\u001B[49m\u001B[38;5;124;43m'\u001B[39;49m\u001B[38;5;124;43mA\u001B[39;49m\u001B[38;5;124;43m'\u001B[39;49m\u001B[43m]\u001B[49m \u001B[38;5;241m=\u001B[39m df_dataset\u001B[38;5;241m.\u001B[39mgroupby([\u001B[38;5;124m'\u001B[39m\u001B[38;5;124moracleId\u001B[39m\u001B[38;5;124m'\u001B[39m, \u001B[38;5;124m'\u001B[39m\u001B[38;5;124moracleSoFar\u001B[39m\u001B[38;5;124m'\u001B[39m])[\u001B[38;5;124m\"\u001B[39m\u001B[38;5;124mtokenClass\u001B[39m\u001B[38;5;124m\"\u001B[39m]\n\u001B[1;32m     10\u001B[0m \u001B[38;5;66;03m#df[\"D\"] = df[\"D\"].apply(lambda x: \"[\" + \", \".join(str(x) for x in list(x)) + \"]\")\u001B[39;00m\n\u001B[1;32m     11\u001B[0m df[\u001B[38;5;124m\"\u001B[39m\u001B[38;5;124mD\u001B[39m\u001B[38;5;124m\"\u001B[39m] \u001B[38;5;241m=\u001B[39m df[\u001B[38;5;124m\"\u001B[39m\u001B[38;5;124mD\u001B[39m\u001B[38;5;124m\"\u001B[39m]\u001B[38;5;241m.\u001B[39mapply(\u001B[38;5;28;01mlambda\u001B[39;00m x: \u001B[38;5;28mlist\u001B[39m(x))\n",
      "File \u001B[0;32m~/Downloads/ml-model/lib/python3.8/site-packages/pandas/core/frame.py:3980\u001B[0m, in \u001B[0;36mDataFrame.__setitem__\u001B[0;34m(self, key, value)\u001B[0m\n\u001B[1;32m   3977\u001B[0m     \u001B[38;5;28mself\u001B[39m\u001B[38;5;241m.\u001B[39m_setitem_array([key], value)\n\u001B[1;32m   3978\u001B[0m \u001B[38;5;28;01melse\u001B[39;00m:\n\u001B[1;32m   3979\u001B[0m     \u001B[38;5;66;03m# set column\u001B[39;00m\n\u001B[0;32m-> 3980\u001B[0m     \u001B[38;5;28;43mself\u001B[39;49m\u001B[38;5;241;43m.\u001B[39;49m\u001B[43m_set_item\u001B[49m\u001B[43m(\u001B[49m\u001B[43mkey\u001B[49m\u001B[43m,\u001B[49m\u001B[43m \u001B[49m\u001B[43mvalue\u001B[49m\u001B[43m)\u001B[49m\n",
      "File \u001B[0;32m~/Downloads/ml-model/lib/python3.8/site-packages/pandas/core/frame.py:4174\u001B[0m, in \u001B[0;36mDataFrame._set_item\u001B[0;34m(self, key, value)\u001B[0m\n\u001B[1;32m   4164\u001B[0m \u001B[38;5;28;01mdef\u001B[39;00m \u001B[38;5;21m_set_item\u001B[39m(\u001B[38;5;28mself\u001B[39m, key, value) \u001B[38;5;241m-\u001B[39m\u001B[38;5;241m>\u001B[39m \u001B[38;5;28;01mNone\u001B[39;00m:\n\u001B[1;32m   4165\u001B[0m \u001B[38;5;250m    \u001B[39m\u001B[38;5;124;03m\"\"\"\u001B[39;00m\n\u001B[1;32m   4166\u001B[0m \u001B[38;5;124;03m    Add series to DataFrame in specified column.\u001B[39;00m\n\u001B[1;32m   4167\u001B[0m \n\u001B[0;32m   (...)\u001B[0m\n\u001B[1;32m   4172\u001B[0m \u001B[38;5;124;03m    ensure homogeneity.\u001B[39;00m\n\u001B[1;32m   4173\u001B[0m \u001B[38;5;124;03m    \"\"\"\u001B[39;00m\n\u001B[0;32m-> 4174\u001B[0m     value \u001B[38;5;241m=\u001B[39m \u001B[38;5;28;43mself\u001B[39;49m\u001B[38;5;241;43m.\u001B[39;49m\u001B[43m_sanitize_column\u001B[49m\u001B[43m(\u001B[49m\u001B[43mvalue\u001B[49m\u001B[43m)\u001B[49m\n\u001B[1;32m   4176\u001B[0m     \u001B[38;5;28;01mif\u001B[39;00m (\n\u001B[1;32m   4177\u001B[0m         key \u001B[38;5;129;01min\u001B[39;00m \u001B[38;5;28mself\u001B[39m\u001B[38;5;241m.\u001B[39mcolumns\n\u001B[1;32m   4178\u001B[0m         \u001B[38;5;129;01mand\u001B[39;00m value\u001B[38;5;241m.\u001B[39mndim \u001B[38;5;241m==\u001B[39m \u001B[38;5;241m1\u001B[39m\n\u001B[1;32m   4179\u001B[0m         \u001B[38;5;129;01mand\u001B[39;00m \u001B[38;5;129;01mnot\u001B[39;00m is_extension_array_dtype(value)\n\u001B[1;32m   4180\u001B[0m     ):\n\u001B[1;32m   4181\u001B[0m         \u001B[38;5;66;03m# broadcast across multiple columns if necessary\u001B[39;00m\n\u001B[1;32m   4182\u001B[0m         \u001B[38;5;28;01mif\u001B[39;00m \u001B[38;5;129;01mnot\u001B[39;00m \u001B[38;5;28mself\u001B[39m\u001B[38;5;241m.\u001B[39mcolumns\u001B[38;5;241m.\u001B[39mis_unique \u001B[38;5;129;01mor\u001B[39;00m \u001B[38;5;28misinstance\u001B[39m(\u001B[38;5;28mself\u001B[39m\u001B[38;5;241m.\u001B[39mcolumns, MultiIndex):\n",
      "File \u001B[0;32m~/Downloads/ml-model/lib/python3.8/site-packages/pandas/core/frame.py:4915\u001B[0m, in \u001B[0;36mDataFrame._sanitize_column\u001B[0;34m(self, value)\u001B[0m\n\u001B[1;32m   4912\u001B[0m     \u001B[38;5;28;01mreturn\u001B[39;00m _reindex_for_setitem(Series(value), \u001B[38;5;28mself\u001B[39m\u001B[38;5;241m.\u001B[39mindex)\n\u001B[1;32m   4914\u001B[0m \u001B[38;5;28;01mif\u001B[39;00m is_list_like(value):\n\u001B[0;32m-> 4915\u001B[0m     \u001B[43mcom\u001B[49m\u001B[38;5;241;43m.\u001B[39;49m\u001B[43mrequire_length_match\u001B[49m\u001B[43m(\u001B[49m\u001B[43mvalue\u001B[49m\u001B[43m,\u001B[49m\u001B[43m \u001B[49m\u001B[38;5;28;43mself\u001B[39;49m\u001B[38;5;241;43m.\u001B[39;49m\u001B[43mindex\u001B[49m\u001B[43m)\u001B[49m\n\u001B[1;32m   4916\u001B[0m \u001B[38;5;28;01mreturn\u001B[39;00m sanitize_array(value, \u001B[38;5;28mself\u001B[39m\u001B[38;5;241m.\u001B[39mindex, copy\u001B[38;5;241m=\u001B[39m\u001B[38;5;28;01mTrue\u001B[39;00m, allow_2d\u001B[38;5;241m=\u001B[39m\u001B[38;5;28;01mTrue\u001B[39;00m)\n",
      "File \u001B[0;32m~/Downloads/ml-model/lib/python3.8/site-packages/pandas/core/common.py:571\u001B[0m, in \u001B[0;36mrequire_length_match\u001B[0;34m(data, index)\u001B[0m\n\u001B[1;32m    567\u001B[0m \u001B[38;5;250m\u001B[39m\u001B[38;5;124;03m\"\"\"\u001B[39;00m\n\u001B[1;32m    568\u001B[0m \u001B[38;5;124;03mCheck the length of data matches the length of the index.\u001B[39;00m\n\u001B[1;32m    569\u001B[0m \u001B[38;5;124;03m\"\"\"\u001B[39;00m\n\u001B[1;32m    570\u001B[0m \u001B[38;5;28;01mif\u001B[39;00m \u001B[38;5;28mlen\u001B[39m(data) \u001B[38;5;241m!=\u001B[39m \u001B[38;5;28mlen\u001B[39m(index):\n\u001B[0;32m--> 571\u001B[0m     \u001B[38;5;28;01mraise\u001B[39;00m \u001B[38;5;167;01mValueError\u001B[39;00m(\n\u001B[1;32m    572\u001B[0m         \u001B[38;5;124m\"\u001B[39m\u001B[38;5;124mLength of values \u001B[39m\u001B[38;5;124m\"\u001B[39m\n\u001B[1;32m    573\u001B[0m         \u001B[38;5;124mf\u001B[39m\u001B[38;5;124m\"\u001B[39m\u001B[38;5;124m(\u001B[39m\u001B[38;5;132;01m{\u001B[39;00m\u001B[38;5;28mlen\u001B[39m(data)\u001B[38;5;132;01m}\u001B[39;00m\u001B[38;5;124m) \u001B[39m\u001B[38;5;124m\"\u001B[39m\n\u001B[1;32m    574\u001B[0m         \u001B[38;5;124m\"\u001B[39m\u001B[38;5;124mdoes not match length of index \u001B[39m\u001B[38;5;124m\"\u001B[39m\n\u001B[1;32m    575\u001B[0m         \u001B[38;5;124mf\u001B[39m\u001B[38;5;124m\"\u001B[39m\u001B[38;5;124m(\u001B[39m\u001B[38;5;132;01m{\u001B[39;00m\u001B[38;5;28mlen\u001B[39m(index)\u001B[38;5;132;01m}\u001B[39;00m\u001B[38;5;124m)\u001B[39m\u001B[38;5;124m\"\u001B[39m\n\u001B[1;32m    576\u001B[0m     )\n",
      "\u001B[0;31mValueError\u001B[0m: Length of values (44589) does not match length of index (189187)"
     ]
    }
   ],
   "source": [
    "import pandas as pd\n",
    "# Create a sample DataFrame\n",
    "data = {'A': ['X', 'X', 'Y', 'Y', 'Z'],\n",
    "        'B': [1, 2, 1, 2, 1],\n",
    "        'C': [10, 20, 30, 40, 50]}\n",
    "df = pd.DataFrame(data)\n",
    "\n",
    "# Create column D with lists of different values from column C\n",
    "df_dataset['A'] = df_dataset.groupby(['oracleId', 'oracleSoFar'])[\"tokenClass\"]\n",
    "#df[\"D\"] = df[\"D\"].apply(lambda x: \"[\" + \", \".join(str(x) for x in list(x)) + \"]\")\n",
    "df[\"D\"] = df[\"D\"].apply(lambda x: list(x))"
   ],
   "metadata": {
    "collapsed": false,
    "ExecuteTime": {
     "start_time": "2023-06-03T01:32:57.633900Z",
     "end_time": "2023-06-03T01:32:57.657430Z"
    }
   }
  },
  {
   "cell_type": "code",
   "execution_count": 54,
   "outputs": [
    {
     "data": {
      "text/plain": "        label  oracleId   oracleType          projectName  \\\n0       False     10700  NORMAL_POST  commons-math3-3.6.1   \n1       False     10700  NORMAL_POST  commons-math3-3.6.1   \n2       False     10700  NORMAL_POST  commons-math3-3.6.1   \n3       False     10700  NORMAL_POST  commons-math3-3.6.1   \n4        True     10700  NORMAL_POST  commons-math3-3.6.1   \n...       ...       ...          ...                  ...   \n189182  False      2799          PRE  commons-math3-3.6.1   \n189183  False      2799          PRE  commons-math3-3.6.1   \n189184   True      2799          PRE  commons-math3-3.6.1   \n189185  False      2799          PRE  commons-math3-3.6.1   \n189186  False      2799          PRE  commons-math3-3.6.1   \n\n                                          packageName         className  \\\n0        org.apache.commons.math3.optimization.linear    SimplexTableau   \n1        org.apache.commons.math3.optimization.linear    SimplexTableau   \n2        org.apache.commons.math3.optimization.linear    SimplexTableau   \n3        org.apache.commons.math3.optimization.linear    SimplexTableau   \n4        org.apache.commons.math3.optimization.linear    SimplexTableau   \n...                                               ...               ...   \n189182  org.apache.commons.math3.analysis.polynomials  PolynomialsUtils   \n189183  org.apache.commons.math3.analysis.polynomials  PolynomialsUtils   \n189184  org.apache.commons.math3.analysis.polynomials  PolynomialsUtils   \n189185  org.apache.commons.math3.analysis.polynomials  PolynomialsUtils   \n189186  org.apache.commons.math3.analysis.polynomials  PolynomialsUtils   \n\n                                               javadocTag  \\\n0        number of constraint with the specified relat...   \n1        number of constraint with the specified relat...   \n2        number of constraint with the specified relat...   \n3        number of constraint with the specified relat...   \n4        number of constraint with the specified relat...   \n...                                                   ...   \n189182                          @param shift Shift value.   \n189183                          @param shift Shift value.   \n189184                          @param shift Shift value.   \n189185                          @param shift Shift value.   \n189186                          @param shift Shift value.   \n\n                                            methodJavadoc  \\\n0       \t/**\n     * Get a count of constraints corresp...   \n1       \t/**\n     * Get a count of constraints corresp...   \n2       \t/**\n     * Get a count of constraints corresp...   \n3       \t/**\n     * Get a count of constraints corresp...   \n4       \t/**\n     * Get a count of constraints corresp...   \n...                                                   ...   \n189182  \t/**\n     * Compute the coefficients of the po...   \n189183  \t/**\n     * Compute the coefficients of the po...   \n189184  \t/**\n     * Compute the coefficients of the po...   \n189185  \t/**\n     * Compute the coefficients of the po...   \n189186  \t/**\n     * Compute the coefficients of the po...   \n\n                                         methodSourceCode  \\\n0       private int getConstraintTypeCounts(final Rela...   \n1       private int getConstraintTypeCounts(final Rela...   \n2       private int getConstraintTypeCounts(final Rela...   \n3       private int getConstraintTypeCounts(final Rela...   \n4       private int getConstraintTypeCounts(final Rela...   \n...                                                   ...   \n189182  public static double[] shift(final double[] co...   \n189183  public static double[] shift(final double[] co...   \n189184  public static double[] shift(final double[] co...   \n189185  public static double[] shift(final double[] co...   \n189186  public static double[] shift(final double[] co...   \n\n                                             classJavadoc  \\\n0       /**\n * A tableau for use in the Simplex method...   \n1       /**\n * A tableau for use in the Simplex method...   \n2       /**\n * A tableau for use in the Simplex method...   \n3       /**\n * A tableau for use in the Simplex method...   \n4       /**\n * A tableau for use in the Simplex method...   \n...                                                   ...   \n189182  /**\n * A collection of static methods that ope...   \n189183  /**\n * A collection of static methods that ope...   \n189184  /**\n * A collection of static methods that ope...   \n189185  /**\n * A collection of static methods that ope...   \n189186  /**\n * A collection of static methods that ope...   \n\n                                          classSourceCode oracleSoFar token  \\\n0       /*\n * Licensed to the Apache Software Foundati...                     \n1       /*\n * Licensed to the Apache Software Foundati...                     \n2       /*\n * Licensed to the Apache Software Foundati...                     \n3       /*\n * Licensed to the Apache Software Foundati...                     \n4       /*\n * Licensed to the Apache Software Foundati...                     \n...                                                   ...         ...   ...   \n189182  /*\n * Licensed to the Apache Software Foundati...                     \n189183  /*\n * Licensed to the Apache Software Foundati...                     \n189184  /*\n * Licensed to the Apache Software Foundati...                     \n189185  /*\n * Licensed to the Apache Software Foundati...                     \n189186  /*\n * Licensed to the Apache Software Foundati...                     \n\n                tokenClass tokenInfo  \\\n0           MethodArgument             \n1                    Class             \n2                     This             \n3                     TRUE             \n4                Semicolon             \n...                    ...       ...   \n189182      MethodArgument             \n189183               Class             \n189184           Semicolon             \n189185  OpeningParenthesis             \n189186         ArraysClass             \n\n                                     eligibleTokenClasses  \n0       [MethodArgument, Class, This, TRUE, Semicolon,...  \n1       [MethodArgument, Class, This, TRUE, Semicolon,...  \n2       [MethodArgument, Class, This, TRUE, Semicolon,...  \n3       [MethodArgument, Class, This, TRUE, Semicolon,...  \n4       [MethodArgument, Class, This, TRUE, Semicolon,...  \n...                                                   ...  \n189182  [MethodArgument, Class, Semicolon, OpeningPare...  \n189183  [MethodArgument, Class, Semicolon, OpeningPare...  \n189184  [MethodArgument, Class, Semicolon, OpeningPare...  \n189185  [MethodArgument, Class, Semicolon, OpeningPare...  \n189186  [MethodArgument, Class, Semicolon, OpeningPare...  \n\n[189187 rows x 16 columns]",
      "text/html": "<div>\n<style scoped>\n    .dataframe tbody tr th:only-of-type {\n        vertical-align: middle;\n    }\n\n    .dataframe tbody tr th {\n        vertical-align: top;\n    }\n\n    .dataframe thead th {\n        text-align: right;\n    }\n</style>\n<table border=\"1\" class=\"dataframe\">\n  <thead>\n    <tr style=\"text-align: right;\">\n      <th></th>\n      <th>label</th>\n      <th>oracleId</th>\n      <th>oracleType</th>\n      <th>projectName</th>\n      <th>packageName</th>\n      <th>className</th>\n      <th>javadocTag</th>\n      <th>methodJavadoc</th>\n      <th>methodSourceCode</th>\n      <th>classJavadoc</th>\n      <th>classSourceCode</th>\n      <th>oracleSoFar</th>\n      <th>token</th>\n      <th>tokenClass</th>\n      <th>tokenInfo</th>\n      <th>eligibleTokenClasses</th>\n    </tr>\n  </thead>\n  <tbody>\n    <tr>\n      <th>0</th>\n      <td>False</td>\n      <td>10700</td>\n      <td>NORMAL_POST</td>\n      <td>commons-math3-3.6.1</td>\n      <td>org.apache.commons.math3.optimization.linear</td>\n      <td>SimplexTableau</td>\n      <td>number of constraint with the specified relat...</td>\n      <td>/**\n     * Get a count of constraints corresp...</td>\n      <td>private int getConstraintTypeCounts(final Rela...</td>\n      <td>/**\n * A tableau for use in the Simplex method...</td>\n      <td>/*\n * Licensed to the Apache Software Foundati...</td>\n      <td></td>\n      <td></td>\n      <td>MethodArgument</td>\n      <td></td>\n      <td>[MethodArgument, Class, This, TRUE, Semicolon,...</td>\n    </tr>\n    <tr>\n      <th>1</th>\n      <td>False</td>\n      <td>10700</td>\n      <td>NORMAL_POST</td>\n      <td>commons-math3-3.6.1</td>\n      <td>org.apache.commons.math3.optimization.linear</td>\n      <td>SimplexTableau</td>\n      <td>number of constraint with the specified relat...</td>\n      <td>/**\n     * Get a count of constraints corresp...</td>\n      <td>private int getConstraintTypeCounts(final Rela...</td>\n      <td>/**\n * A tableau for use in the Simplex method...</td>\n      <td>/*\n * Licensed to the Apache Software Foundati...</td>\n      <td></td>\n      <td></td>\n      <td>Class</td>\n      <td></td>\n      <td>[MethodArgument, Class, This, TRUE, Semicolon,...</td>\n    </tr>\n    <tr>\n      <th>2</th>\n      <td>False</td>\n      <td>10700</td>\n      <td>NORMAL_POST</td>\n      <td>commons-math3-3.6.1</td>\n      <td>org.apache.commons.math3.optimization.linear</td>\n      <td>SimplexTableau</td>\n      <td>number of constraint with the specified relat...</td>\n      <td>/**\n     * Get a count of constraints corresp...</td>\n      <td>private int getConstraintTypeCounts(final Rela...</td>\n      <td>/**\n * A tableau for use in the Simplex method...</td>\n      <td>/*\n * Licensed to the Apache Software Foundati...</td>\n      <td></td>\n      <td></td>\n      <td>This</td>\n      <td></td>\n      <td>[MethodArgument, Class, This, TRUE, Semicolon,...</td>\n    </tr>\n    <tr>\n      <th>3</th>\n      <td>False</td>\n      <td>10700</td>\n      <td>NORMAL_POST</td>\n      <td>commons-math3-3.6.1</td>\n      <td>org.apache.commons.math3.optimization.linear</td>\n      <td>SimplexTableau</td>\n      <td>number of constraint with the specified relat...</td>\n      <td>/**\n     * Get a count of constraints corresp...</td>\n      <td>private int getConstraintTypeCounts(final Rela...</td>\n      <td>/**\n * A tableau for use in the Simplex method...</td>\n      <td>/*\n * Licensed to the Apache Software Foundati...</td>\n      <td></td>\n      <td></td>\n      <td>TRUE</td>\n      <td></td>\n      <td>[MethodArgument, Class, This, TRUE, Semicolon,...</td>\n    </tr>\n    <tr>\n      <th>4</th>\n      <td>True</td>\n      <td>10700</td>\n      <td>NORMAL_POST</td>\n      <td>commons-math3-3.6.1</td>\n      <td>org.apache.commons.math3.optimization.linear</td>\n      <td>SimplexTableau</td>\n      <td>number of constraint with the specified relat...</td>\n      <td>/**\n     * Get a count of constraints corresp...</td>\n      <td>private int getConstraintTypeCounts(final Rela...</td>\n      <td>/**\n * A tableau for use in the Simplex method...</td>\n      <td>/*\n * Licensed to the Apache Software Foundati...</td>\n      <td></td>\n      <td></td>\n      <td>Semicolon</td>\n      <td></td>\n      <td>[MethodArgument, Class, This, TRUE, Semicolon,...</td>\n    </tr>\n    <tr>\n      <th>...</th>\n      <td>...</td>\n      <td>...</td>\n      <td>...</td>\n      <td>...</td>\n      <td>...</td>\n      <td>...</td>\n      <td>...</td>\n      <td>...</td>\n      <td>...</td>\n      <td>...</td>\n      <td>...</td>\n      <td>...</td>\n      <td>...</td>\n      <td>...</td>\n      <td>...</td>\n      <td>...</td>\n    </tr>\n    <tr>\n      <th>189182</th>\n      <td>False</td>\n      <td>2799</td>\n      <td>PRE</td>\n      <td>commons-math3-3.6.1</td>\n      <td>org.apache.commons.math3.analysis.polynomials</td>\n      <td>PolynomialsUtils</td>\n      <td>@param shift Shift value.</td>\n      <td>/**\n     * Compute the coefficients of the po...</td>\n      <td>public static double[] shift(final double[] co...</td>\n      <td>/**\n * A collection of static methods that ope...</td>\n      <td>/*\n * Licensed to the Apache Software Foundati...</td>\n      <td></td>\n      <td></td>\n      <td>MethodArgument</td>\n      <td></td>\n      <td>[MethodArgument, Class, Semicolon, OpeningPare...</td>\n    </tr>\n    <tr>\n      <th>189183</th>\n      <td>False</td>\n      <td>2799</td>\n      <td>PRE</td>\n      <td>commons-math3-3.6.1</td>\n      <td>org.apache.commons.math3.analysis.polynomials</td>\n      <td>PolynomialsUtils</td>\n      <td>@param shift Shift value.</td>\n      <td>/**\n     * Compute the coefficients of the po...</td>\n      <td>public static double[] shift(final double[] co...</td>\n      <td>/**\n * A collection of static methods that ope...</td>\n      <td>/*\n * Licensed to the Apache Software Foundati...</td>\n      <td></td>\n      <td></td>\n      <td>Class</td>\n      <td></td>\n      <td>[MethodArgument, Class, Semicolon, OpeningPare...</td>\n    </tr>\n    <tr>\n      <th>189184</th>\n      <td>True</td>\n      <td>2799</td>\n      <td>PRE</td>\n      <td>commons-math3-3.6.1</td>\n      <td>org.apache.commons.math3.analysis.polynomials</td>\n      <td>PolynomialsUtils</td>\n      <td>@param shift Shift value.</td>\n      <td>/**\n     * Compute the coefficients of the po...</td>\n      <td>public static double[] shift(final double[] co...</td>\n      <td>/**\n * A collection of static methods that ope...</td>\n      <td>/*\n * Licensed to the Apache Software Foundati...</td>\n      <td></td>\n      <td></td>\n      <td>Semicolon</td>\n      <td></td>\n      <td>[MethodArgument, Class, Semicolon, OpeningPare...</td>\n    </tr>\n    <tr>\n      <th>189185</th>\n      <td>False</td>\n      <td>2799</td>\n      <td>PRE</td>\n      <td>commons-math3-3.6.1</td>\n      <td>org.apache.commons.math3.analysis.polynomials</td>\n      <td>PolynomialsUtils</td>\n      <td>@param shift Shift value.</td>\n      <td>/**\n     * Compute the coefficients of the po...</td>\n      <td>public static double[] shift(final double[] co...</td>\n      <td>/**\n * A collection of static methods that ope...</td>\n      <td>/*\n * Licensed to the Apache Software Foundati...</td>\n      <td></td>\n      <td></td>\n      <td>OpeningParenthesis</td>\n      <td></td>\n      <td>[MethodArgument, Class, Semicolon, OpeningPare...</td>\n    </tr>\n    <tr>\n      <th>189186</th>\n      <td>False</td>\n      <td>2799</td>\n      <td>PRE</td>\n      <td>commons-math3-3.6.1</td>\n      <td>org.apache.commons.math3.analysis.polynomials</td>\n      <td>PolynomialsUtils</td>\n      <td>@param shift Shift value.</td>\n      <td>/**\n     * Compute the coefficients of the po...</td>\n      <td>public static double[] shift(final double[] co...</td>\n      <td>/**\n * A collection of static methods that ope...</td>\n      <td>/*\n * Licensed to the Apache Software Foundati...</td>\n      <td></td>\n      <td></td>\n      <td>ArraysClass</td>\n      <td></td>\n      <td>[MethodArgument, Class, Semicolon, OpeningPare...</td>\n    </tr>\n  </tbody>\n</table>\n<p>189187 rows × 16 columns</p>\n</div>"
     },
     "execution_count": 54,
     "metadata": {},
     "output_type": "execute_result"
    }
   ],
   "source": [
    "import pandas as pd\n",
    "\n",
    "# Create column D with lists of different values from column C\n",
    "unique = df_dataset.groupby(['oracleId', 'oracleSoFar'])['tokenClass'].unique().to_frame()\n",
    "unique = unique.rename(columns={'tokenClass': 'eligibleTokenClasses'})\n",
    "pd.merge(df_dataset, unique, on=['oracleId', 'oracleSoFar'])"
   ],
   "metadata": {
    "collapsed": false,
    "ExecuteTime": {
     "start_time": "2023-06-03T02:19:32.052981Z",
     "end_time": "2023-06-03T02:19:39.861674Z"
    }
   }
  },
  {
   "cell_type": "code",
   "execution_count": 48,
   "outputs": [
    {
     "data": {
      "text/plain": "oracleId  oracleSoFar\n0                        [MethodArgument, Class, TRUE, Semicolon, Openi...\n          (                    [MethodArgument, Class, OpeningParenthesis]\n          ((                   [MethodArgument, Class, OpeningParenthesis]\n          ((start        [IneqOperator, EqOperator, Period, InstanceOfO...\n          ((start==                          [MethodArgument, Class, NULL]\nName: tokenClass, dtype: object"
     },
     "execution_count": 48,
     "metadata": {},
     "output_type": "execute_result"
    }
   ],
   "source": [
    "unique.head()"
   ],
   "metadata": {
    "collapsed": false,
    "ExecuteTime": {
     "start_time": "2023-06-03T02:17:06.713914Z",
     "end_time": "2023-06-03T02:17:06.733536Z"
    }
   }
  },
  {
   "cell_type": "code",
   "execution_count": 55,
   "outputs": [
    {
     "data": {
      "text/plain": "                                                   eligibleTokenClasses\noracleId oracleSoFar                                                   \n0                     [MethodArgument, Class, TRUE, Semicolon, Openi...\n         (                  [MethodArgument, Class, OpeningParenthesis]\n         ((                 [MethodArgument, Class, OpeningParenthesis]\n         ((start      [IneqOperator, EqOperator, Period, InstanceOfO...\n         ((start==                        [MethodArgument, Class, NULL]\n...                                                                 ...\n26710                 [MethodArgument, Class, This, Semicolon, Openi...\n26711                 [MethodArgument, Class, This, TRUE, Semicolon,...\n26712                 [MethodArgument, Class, This, Semicolon, Openi...\n26713                 [MethodArgument, Class, This, TRUE, Semicolon,...\n26714                 [MethodArgument, Class, This, TRUE, Semicolon,...\n\n[44589 rows x 1 columns]",
      "text/html": "<div>\n<style scoped>\n    .dataframe tbody tr th:only-of-type {\n        vertical-align: middle;\n    }\n\n    .dataframe tbody tr th {\n        vertical-align: top;\n    }\n\n    .dataframe thead th {\n        text-align: right;\n    }\n</style>\n<table border=\"1\" class=\"dataframe\">\n  <thead>\n    <tr style=\"text-align: right;\">\n      <th></th>\n      <th></th>\n      <th>eligibleTokenClasses</th>\n    </tr>\n    <tr>\n      <th>oracleId</th>\n      <th>oracleSoFar</th>\n      <th></th>\n    </tr>\n  </thead>\n  <tbody>\n    <tr>\n      <th rowspan=\"5\" valign=\"top\">0</th>\n      <th></th>\n      <td>[MethodArgument, Class, TRUE, Semicolon, Openi...</td>\n    </tr>\n    <tr>\n      <th>(</th>\n      <td>[MethodArgument, Class, OpeningParenthesis]</td>\n    </tr>\n    <tr>\n      <th>((</th>\n      <td>[MethodArgument, Class, OpeningParenthesis]</td>\n    </tr>\n    <tr>\n      <th>((start</th>\n      <td>[IneqOperator, EqOperator, Period, InstanceOfO...</td>\n    </tr>\n    <tr>\n      <th>((start==</th>\n      <td>[MethodArgument, Class, NULL]</td>\n    </tr>\n    <tr>\n      <th>...</th>\n      <th>...</th>\n      <td>...</td>\n    </tr>\n    <tr>\n      <th>26710</th>\n      <th></th>\n      <td>[MethodArgument, Class, This, Semicolon, Openi...</td>\n    </tr>\n    <tr>\n      <th>26711</th>\n      <th></th>\n      <td>[MethodArgument, Class, This, TRUE, Semicolon,...</td>\n    </tr>\n    <tr>\n      <th>26712</th>\n      <th></th>\n      <td>[MethodArgument, Class, This, Semicolon, Openi...</td>\n    </tr>\n    <tr>\n      <th>26713</th>\n      <th></th>\n      <td>[MethodArgument, Class, This, TRUE, Semicolon,...</td>\n    </tr>\n    <tr>\n      <th>26714</th>\n      <th></th>\n      <td>[MethodArgument, Class, This, TRUE, Semicolon,...</td>\n    </tr>\n  </tbody>\n</table>\n<p>44589 rows × 1 columns</p>\n</div>"
     },
     "execution_count": 55,
     "metadata": {},
     "output_type": "execute_result"
    }
   ],
   "source": [
    "unique"
   ],
   "metadata": {
    "collapsed": false,
    "ExecuteTime": {
     "start_time": "2023-06-03T02:19:53.971481Z",
     "end_time": "2023-06-03T02:19:54.019280Z"
    }
   }
  },
  {
   "cell_type": "code",
   "execution_count": 5,
   "outputs": [],
   "source": [
    "import pandas as pd\n",
    "\n",
    "# Create column D with lists of different values from column C\n",
    "unique = df_dataset.groupby(['oracleId', 'oracleSoFar'])['tokenClass'].unique().to_frame()\n",
    "unique = unique.rename(columns={'tokenClass': 'eligibleTokenClasses'})\n",
    "df_dataset = pd.merge(df_dataset, unique, on=['oracleId', 'oracleSoFar'])\n",
    "\n"
   ],
   "metadata": {
    "collapsed": false,
    "ExecuteTime": {
     "start_time": "2023-06-03T02:25:44.305203Z",
     "end_time": "2023-06-03T02:25:52.780284Z"
    }
   }
  },
  {
   "cell_type": "code",
   "execution_count": 64,
   "outputs": [
    {
     "data": {
      "text/plain": "   label  oracleId   oracleType          projectName  \\\n0  False     10700  NORMAL_POST  commons-math3-3.6.1   \n1  False     10700  NORMAL_POST  commons-math3-3.6.1   \n2  False     10700  NORMAL_POST  commons-math3-3.6.1   \n3  False     10700  NORMAL_POST  commons-math3-3.6.1   \n4   True     10700  NORMAL_POST  commons-math3-3.6.1   \n\n                                    packageName       className  \\\n0  org.apache.commons.math3.optimization.linear  SimplexTableau   \n1  org.apache.commons.math3.optimization.linear  SimplexTableau   \n2  org.apache.commons.math3.optimization.linear  SimplexTableau   \n3  org.apache.commons.math3.optimization.linear  SimplexTableau   \n4  org.apache.commons.math3.optimization.linear  SimplexTableau   \n\n                                          javadocTag  \\\n0   number of constraint with the specified relat...   \n1   number of constraint with the specified relat...   \n2   number of constraint with the specified relat...   \n3   number of constraint with the specified relat...   \n4   number of constraint with the specified relat...   \n\n                                       methodJavadoc  \\\n0  \t/**\n     * Get a count of constraints corresp...   \n1  \t/**\n     * Get a count of constraints corresp...   \n2  \t/**\n     * Get a count of constraints corresp...   \n3  \t/**\n     * Get a count of constraints corresp...   \n4  \t/**\n     * Get a count of constraints corresp...   \n\n                                    methodSourceCode  \\\n0  private int getConstraintTypeCounts(final Rela...   \n1  private int getConstraintTypeCounts(final Rela...   \n2  private int getConstraintTypeCounts(final Rela...   \n3  private int getConstraintTypeCounts(final Rela...   \n4  private int getConstraintTypeCounts(final Rela...   \n\n                                        classJavadoc  \\\n0  /**\n * A tableau for use in the Simplex method...   \n1  /**\n * A tableau for use in the Simplex method...   \n2  /**\n * A tableau for use in the Simplex method...   \n3  /**\n * A tableau for use in the Simplex method...   \n4  /**\n * A tableau for use in the Simplex method...   \n\n                                     classSourceCode oracleSoFar token  \\\n0  /*\n * Licensed to the Apache Software Foundati...                     \n1  /*\n * Licensed to the Apache Software Foundati...                     \n2  /*\n * Licensed to the Apache Software Foundati...                     \n3  /*\n * Licensed to the Apache Software Foundati...                     \n4  /*\n * Licensed to the Apache Software Foundati...                     \n\n       tokenClass tokenInfo  \\\n0  MethodArgument             \n1           Class             \n2            This             \n3            TRUE             \n4       Semicolon             \n\n                              eligibleTokenClasses_x  \\\n0  [MethodArgument, Class, This, TRUE, Semicolon,...   \n1  [MethodArgument, Class, This, TRUE, Semicolon,...   \n2  [MethodArgument, Class, This, TRUE, Semicolon,...   \n3  [MethodArgument, Class, This, TRUE, Semicolon,...   \n4  [MethodArgument, Class, This, TRUE, Semicolon,...   \n\n                              eligibleTokenClasses_y  \\\n0  [MethodArgument, Class, This, TRUE, Semicolon,...   \n1  [MethodArgument, Class, This, TRUE, Semicolon,...   \n2  [MethodArgument, Class, This, TRUE, Semicolon,...   \n3  [MethodArgument, Class, This, TRUE, Semicolon,...   \n4  [MethodArgument, Class, This, TRUE, Semicolon,...   \n\n                                eligibleTokenClasses  \n0  [MethodArgument, Class, This, TRUE, Semicolon,...  \n1  [MethodArgument, Class, This, TRUE, Semicolon,...  \n2  [MethodArgument, Class, This, TRUE, Semicolon,...  \n3  [MethodArgument, Class, This, TRUE, Semicolon,...  \n4  [MethodArgument, Class, This, TRUE, Semicolon,...  ",
      "text/html": "<div>\n<style scoped>\n    .dataframe tbody tr th:only-of-type {\n        vertical-align: middle;\n    }\n\n    .dataframe tbody tr th {\n        vertical-align: top;\n    }\n\n    .dataframe thead th {\n        text-align: right;\n    }\n</style>\n<table border=\"1\" class=\"dataframe\">\n  <thead>\n    <tr style=\"text-align: right;\">\n      <th></th>\n      <th>label</th>\n      <th>oracleId</th>\n      <th>oracleType</th>\n      <th>projectName</th>\n      <th>packageName</th>\n      <th>className</th>\n      <th>javadocTag</th>\n      <th>methodJavadoc</th>\n      <th>methodSourceCode</th>\n      <th>classJavadoc</th>\n      <th>classSourceCode</th>\n      <th>oracleSoFar</th>\n      <th>token</th>\n      <th>tokenClass</th>\n      <th>tokenInfo</th>\n      <th>eligibleTokenClasses_x</th>\n      <th>eligibleTokenClasses_y</th>\n      <th>eligibleTokenClasses</th>\n    </tr>\n  </thead>\n  <tbody>\n    <tr>\n      <th>0</th>\n      <td>False</td>\n      <td>10700</td>\n      <td>NORMAL_POST</td>\n      <td>commons-math3-3.6.1</td>\n      <td>org.apache.commons.math3.optimization.linear</td>\n      <td>SimplexTableau</td>\n      <td>number of constraint with the specified relat...</td>\n      <td>/**\n     * Get a count of constraints corresp...</td>\n      <td>private int getConstraintTypeCounts(final Rela...</td>\n      <td>/**\n * A tableau for use in the Simplex method...</td>\n      <td>/*\n * Licensed to the Apache Software Foundati...</td>\n      <td></td>\n      <td></td>\n      <td>MethodArgument</td>\n      <td></td>\n      <td>[MethodArgument, Class, This, TRUE, Semicolon,...</td>\n      <td>[MethodArgument, Class, This, TRUE, Semicolon,...</td>\n      <td>[MethodArgument, Class, This, TRUE, Semicolon,...</td>\n    </tr>\n    <tr>\n      <th>1</th>\n      <td>False</td>\n      <td>10700</td>\n      <td>NORMAL_POST</td>\n      <td>commons-math3-3.6.1</td>\n      <td>org.apache.commons.math3.optimization.linear</td>\n      <td>SimplexTableau</td>\n      <td>number of constraint with the specified relat...</td>\n      <td>/**\n     * Get a count of constraints corresp...</td>\n      <td>private int getConstraintTypeCounts(final Rela...</td>\n      <td>/**\n * A tableau for use in the Simplex method...</td>\n      <td>/*\n * Licensed to the Apache Software Foundati...</td>\n      <td></td>\n      <td></td>\n      <td>Class</td>\n      <td></td>\n      <td>[MethodArgument, Class, This, TRUE, Semicolon,...</td>\n      <td>[MethodArgument, Class, This, TRUE, Semicolon,...</td>\n      <td>[MethodArgument, Class, This, TRUE, Semicolon,...</td>\n    </tr>\n    <tr>\n      <th>2</th>\n      <td>False</td>\n      <td>10700</td>\n      <td>NORMAL_POST</td>\n      <td>commons-math3-3.6.1</td>\n      <td>org.apache.commons.math3.optimization.linear</td>\n      <td>SimplexTableau</td>\n      <td>number of constraint with the specified relat...</td>\n      <td>/**\n     * Get a count of constraints corresp...</td>\n      <td>private int getConstraintTypeCounts(final Rela...</td>\n      <td>/**\n * A tableau for use in the Simplex method...</td>\n      <td>/*\n * Licensed to the Apache Software Foundati...</td>\n      <td></td>\n      <td></td>\n      <td>This</td>\n      <td></td>\n      <td>[MethodArgument, Class, This, TRUE, Semicolon,...</td>\n      <td>[MethodArgument, Class, This, TRUE, Semicolon,...</td>\n      <td>[MethodArgument, Class, This, TRUE, Semicolon,...</td>\n    </tr>\n    <tr>\n      <th>3</th>\n      <td>False</td>\n      <td>10700</td>\n      <td>NORMAL_POST</td>\n      <td>commons-math3-3.6.1</td>\n      <td>org.apache.commons.math3.optimization.linear</td>\n      <td>SimplexTableau</td>\n      <td>number of constraint with the specified relat...</td>\n      <td>/**\n     * Get a count of constraints corresp...</td>\n      <td>private int getConstraintTypeCounts(final Rela...</td>\n      <td>/**\n * A tableau for use in the Simplex method...</td>\n      <td>/*\n * Licensed to the Apache Software Foundati...</td>\n      <td></td>\n      <td></td>\n      <td>TRUE</td>\n      <td></td>\n      <td>[MethodArgument, Class, This, TRUE, Semicolon,...</td>\n      <td>[MethodArgument, Class, This, TRUE, Semicolon,...</td>\n      <td>[MethodArgument, Class, This, TRUE, Semicolon,...</td>\n    </tr>\n    <tr>\n      <th>4</th>\n      <td>True</td>\n      <td>10700</td>\n      <td>NORMAL_POST</td>\n      <td>commons-math3-3.6.1</td>\n      <td>org.apache.commons.math3.optimization.linear</td>\n      <td>SimplexTableau</td>\n      <td>number of constraint with the specified relat...</td>\n      <td>/**\n     * Get a count of constraints corresp...</td>\n      <td>private int getConstraintTypeCounts(final Rela...</td>\n      <td>/**\n * A tableau for use in the Simplex method...</td>\n      <td>/*\n * Licensed to the Apache Software Foundati...</td>\n      <td></td>\n      <td></td>\n      <td>Semicolon</td>\n      <td></td>\n      <td>[MethodArgument, Class, This, TRUE, Semicolon,...</td>\n      <td>[MethodArgument, Class, This, TRUE, Semicolon,...</td>\n      <td>[MethodArgument, Class, This, TRUE, Semicolon,...</td>\n    </tr>\n  </tbody>\n</table>\n</div>"
     },
     "execution_count": 64,
     "metadata": {},
     "output_type": "execute_result"
    }
   ],
   "source": [
    "df_dataset.head()"
   ],
   "metadata": {
    "collapsed": false,
    "ExecuteTime": {
     "start_time": "2023-06-03T02:24:00.449811Z",
     "end_time": "2023-06-03T02:24:00.465333Z"
    }
   }
  },
  {
   "cell_type": "code",
   "execution_count": 6,
   "outputs": [],
   "source": [
    "cols = list(df_dataset.columns)\n",
    "\n",
    "# move column D after column B\n",
    "cols.insert(cols.index('oracleSoFar') + 1, cols.pop(cols.index('eligibleTokenClasses')))\n",
    "\n",
    "df_dataset = df_dataset[cols]"
   ],
   "metadata": {
    "collapsed": false,
    "ExecuteTime": {
     "start_time": "2023-06-03T02:25:56.580307Z",
     "end_time": "2023-06-03T02:25:56.608327Z"
    }
   }
  },
  {
   "cell_type": "code",
   "execution_count": 63,
   "outputs": [
    {
     "data": {
      "text/plain": "['label',\n 'oracleId',\n 'oracleType',\n 'projectName',\n 'packageName',\n 'className',\n 'javadocTag',\n 'methodJavadoc',\n 'methodSourceCode',\n 'classJavadoc',\n 'classSourceCode',\n 'oracleSoFar',\n 'eligibleTokenClasses',\n 'token',\n 'tokenClass',\n 'tokenInfo',\n 'eligibleTokenClasses_x',\n 'eligibleTokenClasses_y']"
     },
     "execution_count": 63,
     "metadata": {},
     "output_type": "execute_result"
    }
   ],
   "source": [
    "cols"
   ],
   "metadata": {
    "collapsed": false,
    "ExecuteTime": {
     "start_time": "2023-06-03T02:23:20.988930Z",
     "end_time": "2023-06-03T02:23:20.999085Z"
    }
   }
  },
  {
   "cell_type": "code",
   "execution_count": 7,
   "outputs": [
    {
     "data": {
      "text/plain": "   label  oracleId   oracleType          projectName  \\\n0  False     10700  NORMAL_POST  commons-math3-3.6.1   \n1  False     10700  NORMAL_POST  commons-math3-3.6.1   \n2  False     10700  NORMAL_POST  commons-math3-3.6.1   \n3  False     10700  NORMAL_POST  commons-math3-3.6.1   \n4   True     10700  NORMAL_POST  commons-math3-3.6.1   \n\n                                    packageName       className  \\\n0  org.apache.commons.math3.optimization.linear  SimplexTableau   \n1  org.apache.commons.math3.optimization.linear  SimplexTableau   \n2  org.apache.commons.math3.optimization.linear  SimplexTableau   \n3  org.apache.commons.math3.optimization.linear  SimplexTableau   \n4  org.apache.commons.math3.optimization.linear  SimplexTableau   \n\n                                          javadocTag  \\\n0   number of constraint with the specified relat...   \n1   number of constraint with the specified relat...   \n2   number of constraint with the specified relat...   \n3   number of constraint with the specified relat...   \n4   number of constraint with the specified relat...   \n\n                                       methodJavadoc  \\\n0  \t/**\n     * Get a count of constraints corresp...   \n1  \t/**\n     * Get a count of constraints corresp...   \n2  \t/**\n     * Get a count of constraints corresp...   \n3  \t/**\n     * Get a count of constraints corresp...   \n4  \t/**\n     * Get a count of constraints corresp...   \n\n                                    methodSourceCode  \\\n0  private int getConstraintTypeCounts(final Rela...   \n1  private int getConstraintTypeCounts(final Rela...   \n2  private int getConstraintTypeCounts(final Rela...   \n3  private int getConstraintTypeCounts(final Rela...   \n4  private int getConstraintTypeCounts(final Rela...   \n\n                                        classJavadoc  \\\n0  /**\n * A tableau for use in the Simplex method...   \n1  /**\n * A tableau for use in the Simplex method...   \n2  /**\n * A tableau for use in the Simplex method...   \n3  /**\n * A tableau for use in the Simplex method...   \n4  /**\n * A tableau for use in the Simplex method...   \n\n                                     classSourceCode oracleSoFar  \\\n0  /*\n * Licensed to the Apache Software Foundati...               \n1  /*\n * Licensed to the Apache Software Foundati...               \n2  /*\n * Licensed to the Apache Software Foundati...               \n3  /*\n * Licensed to the Apache Software Foundati...               \n4  /*\n * Licensed to the Apache Software Foundati...               \n\n                                eligibleTokenClasses token      tokenClass  \\\n0  [MethodArgument, Class, This, TRUE, Semicolon,...        MethodArgument   \n1  [MethodArgument, Class, This, TRUE, Semicolon,...                 Class   \n2  [MethodArgument, Class, This, TRUE, Semicolon,...                  This   \n3  [MethodArgument, Class, This, TRUE, Semicolon,...                  TRUE   \n4  [MethodArgument, Class, This, TRUE, Semicolon,...             Semicolon   \n\n  tokenInfo  \n0            \n1            \n2            \n3            \n4            ",
      "text/html": "<div>\n<style scoped>\n    .dataframe tbody tr th:only-of-type {\n        vertical-align: middle;\n    }\n\n    .dataframe tbody tr th {\n        vertical-align: top;\n    }\n\n    .dataframe thead th {\n        text-align: right;\n    }\n</style>\n<table border=\"1\" class=\"dataframe\">\n  <thead>\n    <tr style=\"text-align: right;\">\n      <th></th>\n      <th>label</th>\n      <th>oracleId</th>\n      <th>oracleType</th>\n      <th>projectName</th>\n      <th>packageName</th>\n      <th>className</th>\n      <th>javadocTag</th>\n      <th>methodJavadoc</th>\n      <th>methodSourceCode</th>\n      <th>classJavadoc</th>\n      <th>classSourceCode</th>\n      <th>oracleSoFar</th>\n      <th>eligibleTokenClasses</th>\n      <th>token</th>\n      <th>tokenClass</th>\n      <th>tokenInfo</th>\n    </tr>\n  </thead>\n  <tbody>\n    <tr>\n      <th>0</th>\n      <td>False</td>\n      <td>10700</td>\n      <td>NORMAL_POST</td>\n      <td>commons-math3-3.6.1</td>\n      <td>org.apache.commons.math3.optimization.linear</td>\n      <td>SimplexTableau</td>\n      <td>number of constraint with the specified relat...</td>\n      <td>/**\n     * Get a count of constraints corresp...</td>\n      <td>private int getConstraintTypeCounts(final Rela...</td>\n      <td>/**\n * A tableau for use in the Simplex method...</td>\n      <td>/*\n * Licensed to the Apache Software Foundati...</td>\n      <td></td>\n      <td>[MethodArgument, Class, This, TRUE, Semicolon,...</td>\n      <td></td>\n      <td>MethodArgument</td>\n      <td></td>\n    </tr>\n    <tr>\n      <th>1</th>\n      <td>False</td>\n      <td>10700</td>\n      <td>NORMAL_POST</td>\n      <td>commons-math3-3.6.1</td>\n      <td>org.apache.commons.math3.optimization.linear</td>\n      <td>SimplexTableau</td>\n      <td>number of constraint with the specified relat...</td>\n      <td>/**\n     * Get a count of constraints corresp...</td>\n      <td>private int getConstraintTypeCounts(final Rela...</td>\n      <td>/**\n * A tableau for use in the Simplex method...</td>\n      <td>/*\n * Licensed to the Apache Software Foundati...</td>\n      <td></td>\n      <td>[MethodArgument, Class, This, TRUE, Semicolon,...</td>\n      <td></td>\n      <td>Class</td>\n      <td></td>\n    </tr>\n    <tr>\n      <th>2</th>\n      <td>False</td>\n      <td>10700</td>\n      <td>NORMAL_POST</td>\n      <td>commons-math3-3.6.1</td>\n      <td>org.apache.commons.math3.optimization.linear</td>\n      <td>SimplexTableau</td>\n      <td>number of constraint with the specified relat...</td>\n      <td>/**\n     * Get a count of constraints corresp...</td>\n      <td>private int getConstraintTypeCounts(final Rela...</td>\n      <td>/**\n * A tableau for use in the Simplex method...</td>\n      <td>/*\n * Licensed to the Apache Software Foundati...</td>\n      <td></td>\n      <td>[MethodArgument, Class, This, TRUE, Semicolon,...</td>\n      <td></td>\n      <td>This</td>\n      <td></td>\n    </tr>\n    <tr>\n      <th>3</th>\n      <td>False</td>\n      <td>10700</td>\n      <td>NORMAL_POST</td>\n      <td>commons-math3-3.6.1</td>\n      <td>org.apache.commons.math3.optimization.linear</td>\n      <td>SimplexTableau</td>\n      <td>number of constraint with the specified relat...</td>\n      <td>/**\n     * Get a count of constraints corresp...</td>\n      <td>private int getConstraintTypeCounts(final Rela...</td>\n      <td>/**\n * A tableau for use in the Simplex method...</td>\n      <td>/*\n * Licensed to the Apache Software Foundati...</td>\n      <td></td>\n      <td>[MethodArgument, Class, This, TRUE, Semicolon,...</td>\n      <td></td>\n      <td>TRUE</td>\n      <td></td>\n    </tr>\n    <tr>\n      <th>4</th>\n      <td>True</td>\n      <td>10700</td>\n      <td>NORMAL_POST</td>\n      <td>commons-math3-3.6.1</td>\n      <td>org.apache.commons.math3.optimization.linear</td>\n      <td>SimplexTableau</td>\n      <td>number of constraint with the specified relat...</td>\n      <td>/**\n     * Get a count of constraints corresp...</td>\n      <td>private int getConstraintTypeCounts(final Rela...</td>\n      <td>/**\n * A tableau for use in the Simplex method...</td>\n      <td>/*\n * Licensed to the Apache Software Foundati...</td>\n      <td></td>\n      <td>[MethodArgument, Class, This, TRUE, Semicolon,...</td>\n      <td></td>\n      <td>Semicolon</td>\n      <td></td>\n    </tr>\n  </tbody>\n</table>\n</div>"
     },
     "execution_count": 7,
     "metadata": {},
     "output_type": "execute_result"
    }
   ],
   "source": [
    "df_dataset.head()"
   ],
   "metadata": {
    "collapsed": false,
    "ExecuteTime": {
     "start_time": "2023-06-03T02:26:11.795799Z",
     "end_time": "2023-06-03T02:26:11.873543Z"
    }
   }
  },
  {
   "cell_type": "code",
   "execution_count": 16,
   "outputs": [
    {
     "data": {
      "text/plain": "'[MethodArgument, Class, This, TRUE, Semicolon, OpeningParenthesis]'"
     },
     "execution_count": 16,
     "metadata": {},
     "output_type": "execute_result"
    }
   ],
   "source": [
    "\"[\" + \", \".join(df_dataset[\"eligibleTokenClasses\"][0]) + \"]\""
   ],
   "metadata": {
    "collapsed": false,
    "ExecuteTime": {
     "start_time": "2023-06-03T02:30:08.984046Z",
     "end_time": "2023-06-03T02:30:08.995827Z"
    }
   }
  },
  {
   "cell_type": "code",
   "execution_count": 15,
   "outputs": [],
   "source": [
    "tokenClassDict = {k: i for i, k in enumerate(df_dataset[\"tokenClass\"].unique())}\n"
   ],
   "metadata": {
    "collapsed": false,
    "ExecuteTime": {
     "start_time": "2023-06-03T02:29:14.334242Z",
     "end_time": "2023-06-03T02:29:14.365612Z"
    }
   }
  },
  {
   "cell_type": "code",
   "execution_count": 20,
   "outputs": [],
   "source": [
    "value_counts = df_dataset['tokenClass'].value_counts()\n",
    "\n",
    "# Determine the threshold value based on 5% of the total number of rows\n",
    "threshold = len(df_dataset) * 0.005\n",
    "\n",
    "# Filter the DataFrame to keep only the rows meeting the threshold\n",
    "filtered_df = df_dataset[df_dataset['tokenClass'].map(value_counts) >= threshold]"
   ],
   "metadata": {
    "collapsed": false,
    "ExecuteTime": {
     "start_time": "2023-06-03T10:01:39.680603Z",
     "end_time": "2023-06-03T10:01:39.874285Z"
    }
   }
  },
  {
   "cell_type": "code",
   "execution_count": 21,
   "outputs": [
    {
     "data": {
      "text/plain": "<StringArray>\n[    'MethodArgument',              'Class',               'This',\n               'TRUE',          'Semicolon', 'OpeningParenthesis',\n        'ArraysClass',       'IneqOperator',         'EqOperator',\n             'Period', 'InstanceOfOperator',               'NULL',\n    'LogicalOperator',  'NonEqIneqOperator',              'S_INT',\n     'MethodResultID', 'ClosingParenthesis']\nLength: 17, dtype: string"
     },
     "execution_count": 21,
     "metadata": {},
     "output_type": "execute_result"
    }
   ],
   "source": [
    "filtered_df[\"tokenClass\"].unique()"
   ],
   "metadata": {
    "collapsed": false,
    "ExecuteTime": {
     "start_time": "2023-06-03T10:01:40.767253Z",
     "end_time": "2023-06-03T10:01:40.787567Z"
    }
   }
  },
  {
   "cell_type": "code",
   "execution_count": 23,
   "outputs": [
    {
     "data": {
      "text/plain": "Downloading pytorch_model.bin:   0%|          | 0.00/892M [00:00<?, ?B/s]",
      "application/vnd.jupyter.widget-view+json": {
       "version_major": 2,
       "version_minor": 0,
       "model_id": "886e8d609023472da15796f40ff395cd"
      }
     },
     "metadata": {},
     "output_type": "display_data"
    },
    {
     "ename": "ConnectionError",
     "evalue": "HTTPSConnectionPool(host='cdn-lfs.huggingface.co', port=443): Read timed out.",
     "output_type": "error",
     "traceback": [
      "\u001B[0;31m---------------------------------------------------------------------------\u001B[0m",
      "\u001B[0;31mtimeout\u001B[0m                                   Traceback (most recent call last)",
      "File \u001B[0;32m~/Downloads/ml-model/lib/python3.8/site-packages/urllib3/response.py:438\u001B[0m, in \u001B[0;36mHTTPResponse._error_catcher\u001B[0;34m(self)\u001B[0m\n\u001B[1;32m    437\u001B[0m \u001B[38;5;28;01mtry\u001B[39;00m:\n\u001B[0;32m--> 438\u001B[0m     \u001B[38;5;28;01myield\u001B[39;00m\n\u001B[1;32m    440\u001B[0m \u001B[38;5;28;01mexcept\u001B[39;00m SocketTimeout:\n\u001B[1;32m    441\u001B[0m     \u001B[38;5;66;03m# FIXME: Ideally we'd like to include the url in the ReadTimeoutError but\u001B[39;00m\n\u001B[1;32m    442\u001B[0m     \u001B[38;5;66;03m# there is yet no clean way to get at it from this context.\u001B[39;00m\n",
      "File \u001B[0;32m~/Downloads/ml-model/lib/python3.8/site-packages/urllib3/response.py:519\u001B[0m, in \u001B[0;36mHTTPResponse.read\u001B[0;34m(self, amt, decode_content, cache_content)\u001B[0m\n\u001B[1;32m    518\u001B[0m cache_content \u001B[38;5;241m=\u001B[39m \u001B[38;5;28;01mFalse\u001B[39;00m\n\u001B[0;32m--> 519\u001B[0m data \u001B[38;5;241m=\u001B[39m \u001B[38;5;28;43mself\u001B[39;49m\u001B[38;5;241;43m.\u001B[39;49m\u001B[43m_fp\u001B[49m\u001B[38;5;241;43m.\u001B[39;49m\u001B[43mread\u001B[49m\u001B[43m(\u001B[49m\u001B[43mamt\u001B[49m\u001B[43m)\u001B[49m \u001B[38;5;28;01mif\u001B[39;00m \u001B[38;5;129;01mnot\u001B[39;00m fp_closed \u001B[38;5;28;01melse\u001B[39;00m \u001B[38;5;124mb\u001B[39m\u001B[38;5;124m\"\u001B[39m\u001B[38;5;124m\"\u001B[39m\n\u001B[1;32m    520\u001B[0m \u001B[38;5;28;01mif\u001B[39;00m (\n\u001B[1;32m    521\u001B[0m     amt \u001B[38;5;241m!=\u001B[39m \u001B[38;5;241m0\u001B[39m \u001B[38;5;129;01mand\u001B[39;00m \u001B[38;5;129;01mnot\u001B[39;00m data\n\u001B[1;32m    522\u001B[0m ):  \u001B[38;5;66;03m# Platform-specific: Buggy versions of Python.\u001B[39;00m\n\u001B[0;32m   (...)\u001B[0m\n\u001B[1;32m    528\u001B[0m     \u001B[38;5;66;03m# not properly close the connection in all cases. There is\u001B[39;00m\n\u001B[1;32m    529\u001B[0m     \u001B[38;5;66;03m# no harm in redundantly calling close.\u001B[39;00m\n",
      "File \u001B[0;32m/Applications/Xcode.app/Contents/Developer/Library/Frameworks/Python3.framework/Versions/3.8/lib/python3.8/http/client.py:455\u001B[0m, in \u001B[0;36mHTTPResponse.read\u001B[0;34m(self, amt)\u001B[0m\n\u001B[1;32m    454\u001B[0m b \u001B[38;5;241m=\u001B[39m \u001B[38;5;28mbytearray\u001B[39m(amt)\n\u001B[0;32m--> 455\u001B[0m n \u001B[38;5;241m=\u001B[39m \u001B[38;5;28;43mself\u001B[39;49m\u001B[38;5;241;43m.\u001B[39;49m\u001B[43mreadinto\u001B[49m\u001B[43m(\u001B[49m\u001B[43mb\u001B[49m\u001B[43m)\u001B[49m\n\u001B[1;32m    456\u001B[0m \u001B[38;5;28;01mreturn\u001B[39;00m \u001B[38;5;28mmemoryview\u001B[39m(b)[:n]\u001B[38;5;241m.\u001B[39mtobytes()\n",
      "File \u001B[0;32m/Applications/Xcode.app/Contents/Developer/Library/Frameworks/Python3.framework/Versions/3.8/lib/python3.8/http/client.py:499\u001B[0m, in \u001B[0;36mHTTPResponse.readinto\u001B[0;34m(self, b)\u001B[0m\n\u001B[1;32m    496\u001B[0m \u001B[38;5;66;03m# we do not use _safe_read() here because this may be a .will_close\u001B[39;00m\n\u001B[1;32m    497\u001B[0m \u001B[38;5;66;03m# connection, and the user is reading more bytes than will be provided\u001B[39;00m\n\u001B[1;32m    498\u001B[0m \u001B[38;5;66;03m# (for example, reading in 1k chunks)\u001B[39;00m\n\u001B[0;32m--> 499\u001B[0m n \u001B[38;5;241m=\u001B[39m \u001B[38;5;28;43mself\u001B[39;49m\u001B[38;5;241;43m.\u001B[39;49m\u001B[43mfp\u001B[49m\u001B[38;5;241;43m.\u001B[39;49m\u001B[43mreadinto\u001B[49m\u001B[43m(\u001B[49m\u001B[43mb\u001B[49m\u001B[43m)\u001B[49m\n\u001B[1;32m    500\u001B[0m \u001B[38;5;28;01mif\u001B[39;00m \u001B[38;5;129;01mnot\u001B[39;00m n \u001B[38;5;129;01mand\u001B[39;00m b:\n\u001B[1;32m    501\u001B[0m     \u001B[38;5;66;03m# Ideally, we would raise IncompleteRead if the content-length\u001B[39;00m\n\u001B[1;32m    502\u001B[0m     \u001B[38;5;66;03m# wasn't satisfied, but it might break compatibility.\u001B[39;00m\n",
      "File \u001B[0;32m/Applications/Xcode.app/Contents/Developer/Library/Frameworks/Python3.framework/Versions/3.8/lib/python3.8/socket.py:669\u001B[0m, in \u001B[0;36mSocketIO.readinto\u001B[0;34m(self, b)\u001B[0m\n\u001B[1;32m    668\u001B[0m \u001B[38;5;28;01mtry\u001B[39;00m:\n\u001B[0;32m--> 669\u001B[0m     \u001B[38;5;28;01mreturn\u001B[39;00m \u001B[38;5;28;43mself\u001B[39;49m\u001B[38;5;241;43m.\u001B[39;49m\u001B[43m_sock\u001B[49m\u001B[38;5;241;43m.\u001B[39;49m\u001B[43mrecv_into\u001B[49m\u001B[43m(\u001B[49m\u001B[43mb\u001B[49m\u001B[43m)\u001B[49m\n\u001B[1;32m    670\u001B[0m \u001B[38;5;28;01mexcept\u001B[39;00m timeout:\n",
      "File \u001B[0;32m/Applications/Xcode.app/Contents/Developer/Library/Frameworks/Python3.framework/Versions/3.8/lib/python3.8/ssl.py:1241\u001B[0m, in \u001B[0;36mSSLSocket.recv_into\u001B[0;34m(self, buffer, nbytes, flags)\u001B[0m\n\u001B[1;32m   1238\u001B[0m         \u001B[38;5;28;01mraise\u001B[39;00m \u001B[38;5;167;01mValueError\u001B[39;00m(\n\u001B[1;32m   1239\u001B[0m           \u001B[38;5;124m\"\u001B[39m\u001B[38;5;124mnon-zero flags not allowed in calls to recv_into() on \u001B[39m\u001B[38;5;132;01m%s\u001B[39;00m\u001B[38;5;124m\"\u001B[39m \u001B[38;5;241m%\u001B[39m\n\u001B[1;32m   1240\u001B[0m           \u001B[38;5;28mself\u001B[39m\u001B[38;5;241m.\u001B[39m\u001B[38;5;18m__class__\u001B[39m)\n\u001B[0;32m-> 1241\u001B[0m     \u001B[38;5;28;01mreturn\u001B[39;00m \u001B[38;5;28;43mself\u001B[39;49m\u001B[38;5;241;43m.\u001B[39;49m\u001B[43mread\u001B[49m\u001B[43m(\u001B[49m\u001B[43mnbytes\u001B[49m\u001B[43m,\u001B[49m\u001B[43m \u001B[49m\u001B[43mbuffer\u001B[49m\u001B[43m)\u001B[49m\n\u001B[1;32m   1242\u001B[0m \u001B[38;5;28;01melse\u001B[39;00m:\n",
      "File \u001B[0;32m/Applications/Xcode.app/Contents/Developer/Library/Frameworks/Python3.framework/Versions/3.8/lib/python3.8/ssl.py:1099\u001B[0m, in \u001B[0;36mSSLSocket.read\u001B[0;34m(self, len, buffer)\u001B[0m\n\u001B[1;32m   1098\u001B[0m \u001B[38;5;28;01mif\u001B[39;00m buffer \u001B[38;5;129;01mis\u001B[39;00m \u001B[38;5;129;01mnot\u001B[39;00m \u001B[38;5;28;01mNone\u001B[39;00m:\n\u001B[0;32m-> 1099\u001B[0m     \u001B[38;5;28;01mreturn\u001B[39;00m \u001B[38;5;28;43mself\u001B[39;49m\u001B[38;5;241;43m.\u001B[39;49m\u001B[43m_sslobj\u001B[49m\u001B[38;5;241;43m.\u001B[39;49m\u001B[43mread\u001B[49m\u001B[43m(\u001B[49m\u001B[38;5;28;43mlen\u001B[39;49m\u001B[43m,\u001B[49m\u001B[43m \u001B[49m\u001B[43mbuffer\u001B[49m\u001B[43m)\u001B[49m\n\u001B[1;32m   1100\u001B[0m \u001B[38;5;28;01melse\u001B[39;00m:\n",
      "\u001B[0;31mtimeout\u001B[0m: The read operation timed out",
      "\nDuring handling of the above exception, another exception occurred:\n",
      "\u001B[0;31mReadTimeoutError\u001B[0m                          Traceback (most recent call last)",
      "File \u001B[0;32m~/Downloads/ml-model/lib/python3.8/site-packages/requests/models.py:816\u001B[0m, in \u001B[0;36mResponse.iter_content.<locals>.generate\u001B[0;34m()\u001B[0m\n\u001B[1;32m    815\u001B[0m \u001B[38;5;28;01mtry\u001B[39;00m:\n\u001B[0;32m--> 816\u001B[0m     \u001B[38;5;28;01myield from\u001B[39;00m \u001B[38;5;28mself\u001B[39m\u001B[38;5;241m.\u001B[39mraw\u001B[38;5;241m.\u001B[39mstream(chunk_size, decode_content\u001B[38;5;241m=\u001B[39m\u001B[38;5;28;01mTrue\u001B[39;00m)\n\u001B[1;32m    817\u001B[0m \u001B[38;5;28;01mexcept\u001B[39;00m ProtocolError \u001B[38;5;28;01mas\u001B[39;00m e:\n",
      "File \u001B[0;32m~/Downloads/ml-model/lib/python3.8/site-packages/urllib3/response.py:576\u001B[0m, in \u001B[0;36mHTTPResponse.stream\u001B[0;34m(self, amt, decode_content)\u001B[0m\n\u001B[1;32m    575\u001B[0m \u001B[38;5;28;01mwhile\u001B[39;00m \u001B[38;5;129;01mnot\u001B[39;00m is_fp_closed(\u001B[38;5;28mself\u001B[39m\u001B[38;5;241m.\u001B[39m_fp):\n\u001B[0;32m--> 576\u001B[0m     data \u001B[38;5;241m=\u001B[39m \u001B[38;5;28;43mself\u001B[39;49m\u001B[38;5;241;43m.\u001B[39;49m\u001B[43mread\u001B[49m\u001B[43m(\u001B[49m\u001B[43mamt\u001B[49m\u001B[38;5;241;43m=\u001B[39;49m\u001B[43mamt\u001B[49m\u001B[43m,\u001B[49m\u001B[43m \u001B[49m\u001B[43mdecode_content\u001B[49m\u001B[38;5;241;43m=\u001B[39;49m\u001B[43mdecode_content\u001B[49m\u001B[43m)\u001B[49m\n\u001B[1;32m    578\u001B[0m     \u001B[38;5;28;01mif\u001B[39;00m data:\n",
      "File \u001B[0;32m~/Downloads/ml-model/lib/python3.8/site-packages/urllib3/response.py:541\u001B[0m, in \u001B[0;36mHTTPResponse.read\u001B[0;34m(self, amt, decode_content, cache_content)\u001B[0m\n\u001B[1;32m    532\u001B[0m             \u001B[38;5;28;01mif\u001B[39;00m \u001B[38;5;28mself\u001B[39m\u001B[38;5;241m.\u001B[39menforce_content_length \u001B[38;5;129;01mand\u001B[39;00m \u001B[38;5;28mself\u001B[39m\u001B[38;5;241m.\u001B[39mlength_remaining \u001B[38;5;129;01mnot\u001B[39;00m \u001B[38;5;129;01min\u001B[39;00m (\n\u001B[1;32m    533\u001B[0m                 \u001B[38;5;241m0\u001B[39m,\n\u001B[1;32m    534\u001B[0m                 \u001B[38;5;28;01mNone\u001B[39;00m,\n\u001B[0;32m   (...)\u001B[0m\n\u001B[1;32m    539\u001B[0m                 \u001B[38;5;66;03m# raised during streaming, so all calls with incorrect\u001B[39;00m\n\u001B[1;32m    540\u001B[0m                 \u001B[38;5;66;03m# Content-Length are caught.\u001B[39;00m\n\u001B[0;32m--> 541\u001B[0m                 \u001B[38;5;28;01mraise\u001B[39;00m IncompleteRead(\u001B[38;5;28mself\u001B[39m\u001B[38;5;241m.\u001B[39m_fp_bytes_read, \u001B[38;5;28mself\u001B[39m\u001B[38;5;241m.\u001B[39mlength_remaining)\n\u001B[1;32m    543\u001B[0m \u001B[38;5;28;01mif\u001B[39;00m data:\n",
      "File \u001B[0;32m/Applications/Xcode.app/Contents/Developer/Library/Frameworks/Python3.framework/Versions/3.8/lib/python3.8/contextlib.py:131\u001B[0m, in \u001B[0;36m_GeneratorContextManager.__exit__\u001B[0;34m(self, type, value, traceback)\u001B[0m\n\u001B[1;32m    130\u001B[0m \u001B[38;5;28;01mtry\u001B[39;00m:\n\u001B[0;32m--> 131\u001B[0m     \u001B[38;5;28;43mself\u001B[39;49m\u001B[38;5;241;43m.\u001B[39;49m\u001B[43mgen\u001B[49m\u001B[38;5;241;43m.\u001B[39;49m\u001B[43mthrow\u001B[49m\u001B[43m(\u001B[49m\u001B[38;5;28;43mtype\u001B[39;49m\u001B[43m,\u001B[49m\u001B[43m \u001B[49m\u001B[43mvalue\u001B[49m\u001B[43m,\u001B[49m\u001B[43m \u001B[49m\u001B[43mtraceback\u001B[49m\u001B[43m)\u001B[49m\n\u001B[1;32m    132\u001B[0m \u001B[38;5;28;01mexcept\u001B[39;00m \u001B[38;5;167;01mStopIteration\u001B[39;00m \u001B[38;5;28;01mas\u001B[39;00m exc:\n\u001B[1;32m    133\u001B[0m     \u001B[38;5;66;03m# Suppress StopIteration *unless* it's the same exception that\u001B[39;00m\n\u001B[1;32m    134\u001B[0m     \u001B[38;5;66;03m# was passed to throw().  This prevents a StopIteration\u001B[39;00m\n\u001B[1;32m    135\u001B[0m     \u001B[38;5;66;03m# raised inside the \"with\" statement from being suppressed.\u001B[39;00m\n",
      "File \u001B[0;32m~/Downloads/ml-model/lib/python3.8/site-packages/urllib3/response.py:443\u001B[0m, in \u001B[0;36mHTTPResponse._error_catcher\u001B[0;34m(self)\u001B[0m\n\u001B[1;32m    440\u001B[0m \u001B[38;5;28;01mexcept\u001B[39;00m SocketTimeout:\n\u001B[1;32m    441\u001B[0m     \u001B[38;5;66;03m# FIXME: Ideally we'd like to include the url in the ReadTimeoutError but\u001B[39;00m\n\u001B[1;32m    442\u001B[0m     \u001B[38;5;66;03m# there is yet no clean way to get at it from this context.\u001B[39;00m\n\u001B[0;32m--> 443\u001B[0m     \u001B[38;5;28;01mraise\u001B[39;00m ReadTimeoutError(\u001B[38;5;28mself\u001B[39m\u001B[38;5;241m.\u001B[39m_pool, \u001B[38;5;28;01mNone\u001B[39;00m, \u001B[38;5;124m\"\u001B[39m\u001B[38;5;124mRead timed out.\u001B[39m\u001B[38;5;124m\"\u001B[39m)\n\u001B[1;32m    445\u001B[0m \u001B[38;5;28;01mexcept\u001B[39;00m BaseSSLError \u001B[38;5;28;01mas\u001B[39;00m e:\n\u001B[1;32m    446\u001B[0m     \u001B[38;5;66;03m# FIXME: Is there a better way to differentiate between SSLErrors?\u001B[39;00m\n",
      "\u001B[0;31mReadTimeoutError\u001B[0m: HTTPSConnectionPool(host='cdn-lfs.huggingface.co', port=443): Read timed out.",
      "\nDuring handling of the above exception, another exception occurred:\n",
      "\u001B[0;31mConnectionError\u001B[0m                           Traceback (most recent call last)",
      "Cell \u001B[0;32mIn[23], line 4\u001B[0m\n\u001B[1;32m      1\u001B[0m \u001B[38;5;28;01mfrom\u001B[39;00m \u001B[38;5;21;01mtransformers\u001B[39;00m \u001B[38;5;28;01mimport\u001B[39;00m RobertaTokenizer, T5ForConditionalGeneration\n\u001B[1;32m      3\u001B[0m tokenizer \u001B[38;5;241m=\u001B[39m RobertaTokenizer\u001B[38;5;241m.\u001B[39mfrom_pretrained(\u001B[38;5;124m'\u001B[39m\u001B[38;5;124mSalesforce/codet5-base\u001B[39m\u001B[38;5;124m'\u001B[39m)\n\u001B[0;32m----> 4\u001B[0m model \u001B[38;5;241m=\u001B[39m \u001B[43mT5ForConditionalGeneration\u001B[49m\u001B[38;5;241;43m.\u001B[39;49m\u001B[43mfrom_pretrained\u001B[49m\u001B[43m(\u001B[49m\u001B[38;5;124;43m'\u001B[39;49m\u001B[38;5;124;43mSalesforce/codet5-base\u001B[39;49m\u001B[38;5;124;43m'\u001B[39;49m\u001B[43m)\u001B[49m\n\u001B[1;32m      6\u001B[0m text \u001B[38;5;241m=\u001B[39m \u001B[38;5;124m\"\u001B[39m\u001B[38;5;124mdef greet(user): print(f\u001B[39m\u001B[38;5;124m'\u001B[39m\u001B[38;5;124mhello <extra_id_0>!\u001B[39m\u001B[38;5;124m'\u001B[39m\u001B[38;5;124m)\u001B[39m\u001B[38;5;124m\"\u001B[39m\n\u001B[1;32m      7\u001B[0m input_ids \u001B[38;5;241m=\u001B[39m tokenizer(text, return_tensors\u001B[38;5;241m=\u001B[39m\u001B[38;5;124m\"\u001B[39m\u001B[38;5;124mpt\u001B[39m\u001B[38;5;124m\"\u001B[39m)\u001B[38;5;241m.\u001B[39minput_ids\n",
      "File \u001B[0;32m~/Downloads/ml-model/lib/python3.8/site-packages/transformers/modeling_utils.py:2208\u001B[0m, in \u001B[0;36mPreTrainedModel.from_pretrained\u001B[0;34m(cls, pretrained_model_name_or_path, *model_args, **kwargs)\u001B[0m\n\u001B[1;32m   2193\u001B[0m \u001B[38;5;28;01mtry\u001B[39;00m:\n\u001B[1;32m   2194\u001B[0m     \u001B[38;5;66;03m# Load from URL or cache if already cached\u001B[39;00m\n\u001B[1;32m   2195\u001B[0m     cached_file_kwargs \u001B[38;5;241m=\u001B[39m \u001B[38;5;28mdict\u001B[39m(\n\u001B[1;32m   2196\u001B[0m         cache_dir\u001B[38;5;241m=\u001B[39mcache_dir,\n\u001B[1;32m   2197\u001B[0m         force_download\u001B[38;5;241m=\u001B[39mforce_download,\n\u001B[0;32m   (...)\u001B[0m\n\u001B[1;32m   2206\u001B[0m         _commit_hash\u001B[38;5;241m=\u001B[39mcommit_hash,\n\u001B[1;32m   2207\u001B[0m     )\n\u001B[0;32m-> 2208\u001B[0m     resolved_archive_file \u001B[38;5;241m=\u001B[39m \u001B[43mcached_file\u001B[49m\u001B[43m(\u001B[49m\u001B[43mpretrained_model_name_or_path\u001B[49m\u001B[43m,\u001B[49m\u001B[43m \u001B[49m\u001B[43mfilename\u001B[49m\u001B[43m,\u001B[49m\u001B[43m \u001B[49m\u001B[38;5;241;43m*\u001B[39;49m\u001B[38;5;241;43m*\u001B[39;49m\u001B[43mcached_file_kwargs\u001B[49m\u001B[43m)\u001B[49m\n\u001B[1;32m   2210\u001B[0m     \u001B[38;5;66;03m# Since we set _raise_exceptions_for_missing_entries=False, we don't get an exception but a None\u001B[39;00m\n\u001B[1;32m   2211\u001B[0m     \u001B[38;5;66;03m# result when internet is up, the repo and revision exist, but the file does not.\u001B[39;00m\n\u001B[1;32m   2212\u001B[0m     \u001B[38;5;28;01mif\u001B[39;00m resolved_archive_file \u001B[38;5;129;01mis\u001B[39;00m \u001B[38;5;28;01mNone\u001B[39;00m \u001B[38;5;129;01mand\u001B[39;00m filename \u001B[38;5;241m==\u001B[39m SAFE_WEIGHTS_NAME:\n\u001B[1;32m   2213\u001B[0m         \u001B[38;5;66;03m# Maybe the checkpoint is sharded, we try to grab the index name in this case.\u001B[39;00m\n",
      "File \u001B[0;32m~/Downloads/ml-model/lib/python3.8/site-packages/transformers/utils/hub.py:409\u001B[0m, in \u001B[0;36mcached_file\u001B[0;34m(path_or_repo_id, filename, cache_dir, force_download, resume_download, proxies, use_auth_token, revision, local_files_only, subfolder, user_agent, _raise_exceptions_for_missing_entries, _raise_exceptions_for_connection_errors, _commit_hash)\u001B[0m\n\u001B[1;32m    406\u001B[0m user_agent \u001B[38;5;241m=\u001B[39m http_user_agent(user_agent)\n\u001B[1;32m    407\u001B[0m \u001B[38;5;28;01mtry\u001B[39;00m:\n\u001B[1;32m    408\u001B[0m     \u001B[38;5;66;03m# Load from URL or cache if already cached\u001B[39;00m\n\u001B[0;32m--> 409\u001B[0m     resolved_file \u001B[38;5;241m=\u001B[39m \u001B[43mhf_hub_download\u001B[49m\u001B[43m(\u001B[49m\n\u001B[1;32m    410\u001B[0m \u001B[43m        \u001B[49m\u001B[43mpath_or_repo_id\u001B[49m\u001B[43m,\u001B[49m\n\u001B[1;32m    411\u001B[0m \u001B[43m        \u001B[49m\u001B[43mfilename\u001B[49m\u001B[43m,\u001B[49m\n\u001B[1;32m    412\u001B[0m \u001B[43m        \u001B[49m\u001B[43msubfolder\u001B[49m\u001B[38;5;241;43m=\u001B[39;49m\u001B[38;5;28;43;01mNone\u001B[39;49;00m\u001B[43m \u001B[49m\u001B[38;5;28;43;01mif\u001B[39;49;00m\u001B[43m \u001B[49m\u001B[38;5;28;43mlen\u001B[39;49m\u001B[43m(\u001B[49m\u001B[43msubfolder\u001B[49m\u001B[43m)\u001B[49m\u001B[43m \u001B[49m\u001B[38;5;241;43m==\u001B[39;49m\u001B[43m \u001B[49m\u001B[38;5;241;43m0\u001B[39;49m\u001B[43m \u001B[49m\u001B[38;5;28;43;01melse\u001B[39;49;00m\u001B[43m \u001B[49m\u001B[43msubfolder\u001B[49m\u001B[43m,\u001B[49m\n\u001B[1;32m    413\u001B[0m \u001B[43m        \u001B[49m\u001B[43mrevision\u001B[49m\u001B[38;5;241;43m=\u001B[39;49m\u001B[43mrevision\u001B[49m\u001B[43m,\u001B[49m\n\u001B[1;32m    414\u001B[0m \u001B[43m        \u001B[49m\u001B[43mcache_dir\u001B[49m\u001B[38;5;241;43m=\u001B[39;49m\u001B[43mcache_dir\u001B[49m\u001B[43m,\u001B[49m\n\u001B[1;32m    415\u001B[0m \u001B[43m        \u001B[49m\u001B[43muser_agent\u001B[49m\u001B[38;5;241;43m=\u001B[39;49m\u001B[43muser_agent\u001B[49m\u001B[43m,\u001B[49m\n\u001B[1;32m    416\u001B[0m \u001B[43m        \u001B[49m\u001B[43mforce_download\u001B[49m\u001B[38;5;241;43m=\u001B[39;49m\u001B[43mforce_download\u001B[49m\u001B[43m,\u001B[49m\n\u001B[1;32m    417\u001B[0m \u001B[43m        \u001B[49m\u001B[43mproxies\u001B[49m\u001B[38;5;241;43m=\u001B[39;49m\u001B[43mproxies\u001B[49m\u001B[43m,\u001B[49m\n\u001B[1;32m    418\u001B[0m \u001B[43m        \u001B[49m\u001B[43mresume_download\u001B[49m\u001B[38;5;241;43m=\u001B[39;49m\u001B[43mresume_download\u001B[49m\u001B[43m,\u001B[49m\n\u001B[1;32m    419\u001B[0m \u001B[43m        \u001B[49m\u001B[43muse_auth_token\u001B[49m\u001B[38;5;241;43m=\u001B[39;49m\u001B[43muse_auth_token\u001B[49m\u001B[43m,\u001B[49m\n\u001B[1;32m    420\u001B[0m \u001B[43m        \u001B[49m\u001B[43mlocal_files_only\u001B[49m\u001B[38;5;241;43m=\u001B[39;49m\u001B[43mlocal_files_only\u001B[49m\u001B[43m,\u001B[49m\n\u001B[1;32m    421\u001B[0m \u001B[43m    \u001B[49m\u001B[43m)\u001B[49m\n\u001B[1;32m    423\u001B[0m \u001B[38;5;28;01mexcept\u001B[39;00m RepositoryNotFoundError:\n\u001B[1;32m    424\u001B[0m     \u001B[38;5;28;01mraise\u001B[39;00m \u001B[38;5;167;01mEnvironmentError\u001B[39;00m(\n\u001B[1;32m    425\u001B[0m         \u001B[38;5;124mf\u001B[39m\u001B[38;5;124m\"\u001B[39m\u001B[38;5;132;01m{\u001B[39;00mpath_or_repo_id\u001B[38;5;132;01m}\u001B[39;00m\u001B[38;5;124m is not a local folder and is not a valid model identifier \u001B[39m\u001B[38;5;124m\"\u001B[39m\n\u001B[1;32m    426\u001B[0m         \u001B[38;5;124m\"\u001B[39m\u001B[38;5;124mlisted on \u001B[39m\u001B[38;5;124m'\u001B[39m\u001B[38;5;124mhttps://huggingface.co/models\u001B[39m\u001B[38;5;124m'\u001B[39m\u001B[38;5;130;01m\\n\u001B[39;00m\u001B[38;5;124mIf this is a private repository, make sure to \u001B[39m\u001B[38;5;124m\"\u001B[39m\n\u001B[1;32m    427\u001B[0m         \u001B[38;5;124m\"\u001B[39m\u001B[38;5;124mpass a token having permission to this repo with `use_auth_token` or log in with \u001B[39m\u001B[38;5;124m\"\u001B[39m\n\u001B[1;32m    428\u001B[0m         \u001B[38;5;124m\"\u001B[39m\u001B[38;5;124m`huggingface-cli login` and pass `use_auth_token=True`.\u001B[39m\u001B[38;5;124m\"\u001B[39m\n\u001B[1;32m    429\u001B[0m     )\n",
      "File \u001B[0;32m~/Downloads/ml-model/lib/python3.8/site-packages/huggingface_hub/utils/_validators.py:120\u001B[0m, in \u001B[0;36mvalidate_hf_hub_args.<locals>._inner_fn\u001B[0;34m(*args, **kwargs)\u001B[0m\n\u001B[1;32m    117\u001B[0m \u001B[38;5;28;01mif\u001B[39;00m check_use_auth_token:\n\u001B[1;32m    118\u001B[0m     kwargs \u001B[38;5;241m=\u001B[39m smoothly_deprecate_use_auth_token(fn_name\u001B[38;5;241m=\u001B[39mfn\u001B[38;5;241m.\u001B[39m\u001B[38;5;18m__name__\u001B[39m, has_token\u001B[38;5;241m=\u001B[39mhas_token, kwargs\u001B[38;5;241m=\u001B[39mkwargs)\n\u001B[0;32m--> 120\u001B[0m \u001B[38;5;28;01mreturn\u001B[39;00m \u001B[43mfn\u001B[49m\u001B[43m(\u001B[49m\u001B[38;5;241;43m*\u001B[39;49m\u001B[43margs\u001B[49m\u001B[43m,\u001B[49m\u001B[43m \u001B[49m\u001B[38;5;241;43m*\u001B[39;49m\u001B[38;5;241;43m*\u001B[39;49m\u001B[43mkwargs\u001B[49m\u001B[43m)\u001B[49m\n",
      "File \u001B[0;32m~/Downloads/ml-model/lib/python3.8/site-packages/huggingface_hub/file_download.py:1364\u001B[0m, in \u001B[0;36mhf_hub_download\u001B[0;34m(repo_id, filename, subfolder, repo_type, revision, library_name, library_version, cache_dir, local_dir, local_dir_use_symlinks, user_agent, force_download, force_filename, proxies, etag_timeout, resume_download, token, local_files_only, legacy_cache_layout)\u001B[0m\n\u001B[1;32m   1361\u001B[0m \u001B[38;5;28;01mwith\u001B[39;00m temp_file_manager() \u001B[38;5;28;01mas\u001B[39;00m temp_file:\n\u001B[1;32m   1362\u001B[0m     logger\u001B[38;5;241m.\u001B[39minfo(\u001B[38;5;124m\"\u001B[39m\u001B[38;5;124mdownloading \u001B[39m\u001B[38;5;132;01m%s\u001B[39;00m\u001B[38;5;124m to \u001B[39m\u001B[38;5;132;01m%s\u001B[39;00m\u001B[38;5;124m\"\u001B[39m, url, temp_file\u001B[38;5;241m.\u001B[39mname)\n\u001B[0;32m-> 1364\u001B[0m     \u001B[43mhttp_get\u001B[49m\u001B[43m(\u001B[49m\n\u001B[1;32m   1365\u001B[0m \u001B[43m        \u001B[49m\u001B[43murl_to_download\u001B[49m\u001B[43m,\u001B[49m\n\u001B[1;32m   1366\u001B[0m \u001B[43m        \u001B[49m\u001B[43mtemp_file\u001B[49m\u001B[43m,\u001B[49m\n\u001B[1;32m   1367\u001B[0m \u001B[43m        \u001B[49m\u001B[43mproxies\u001B[49m\u001B[38;5;241;43m=\u001B[39;49m\u001B[43mproxies\u001B[49m\u001B[43m,\u001B[49m\n\u001B[1;32m   1368\u001B[0m \u001B[43m        \u001B[49m\u001B[43mresume_size\u001B[49m\u001B[38;5;241;43m=\u001B[39;49m\u001B[43mresume_size\u001B[49m\u001B[43m,\u001B[49m\n\u001B[1;32m   1369\u001B[0m \u001B[43m        \u001B[49m\u001B[43mheaders\u001B[49m\u001B[38;5;241;43m=\u001B[39;49m\u001B[43mheaders\u001B[49m\u001B[43m,\u001B[49m\n\u001B[1;32m   1370\u001B[0m \u001B[43m        \u001B[49m\u001B[43mexpected_size\u001B[49m\u001B[38;5;241;43m=\u001B[39;49m\u001B[43mexpected_size\u001B[49m\u001B[43m,\u001B[49m\n\u001B[1;32m   1371\u001B[0m \u001B[43m    \u001B[49m\u001B[43m)\u001B[49m\n\u001B[1;32m   1373\u001B[0m \u001B[38;5;28;01mif\u001B[39;00m local_dir \u001B[38;5;129;01mis\u001B[39;00m \u001B[38;5;28;01mNone\u001B[39;00m:\n\u001B[1;32m   1374\u001B[0m     logger\u001B[38;5;241m.\u001B[39minfo(\u001B[38;5;124mf\u001B[39m\u001B[38;5;124m\"\u001B[39m\u001B[38;5;124mStoring \u001B[39m\u001B[38;5;132;01m{\u001B[39;00murl\u001B[38;5;132;01m}\u001B[39;00m\u001B[38;5;124m in cache at \u001B[39m\u001B[38;5;132;01m{\u001B[39;00mblob_path\u001B[38;5;132;01m}\u001B[39;00m\u001B[38;5;124m\"\u001B[39m)\n",
      "File \u001B[0;32m~/Downloads/ml-model/lib/python3.8/site-packages/huggingface_hub/file_download.py:541\u001B[0m, in \u001B[0;36mhttp_get\u001B[0;34m(url, temp_file, proxies, resume_size, headers, timeout, max_retries, expected_size)\u001B[0m\n\u001B[1;32m    531\u001B[0m     displayed_name \u001B[38;5;241m=\u001B[39m \u001B[38;5;124mf\u001B[39m\u001B[38;5;124m\"\u001B[39m\u001B[38;5;124m(…)\u001B[39m\u001B[38;5;132;01m{\u001B[39;00mdisplayed_name[\u001B[38;5;241m-\u001B[39m\u001B[38;5;241m20\u001B[39m:]\u001B[38;5;132;01m}\u001B[39;00m\u001B[38;5;124m\"\u001B[39m\n\u001B[1;32m    533\u001B[0m progress \u001B[38;5;241m=\u001B[39m tqdm(\n\u001B[1;32m    534\u001B[0m     unit\u001B[38;5;241m=\u001B[39m\u001B[38;5;124m\"\u001B[39m\u001B[38;5;124mB\u001B[39m\u001B[38;5;124m\"\u001B[39m,\n\u001B[1;32m    535\u001B[0m     unit_scale\u001B[38;5;241m=\u001B[39m\u001B[38;5;28;01mTrue\u001B[39;00m,\n\u001B[0;32m   (...)\u001B[0m\n\u001B[1;32m    539\u001B[0m     disable\u001B[38;5;241m=\u001B[39m\u001B[38;5;28mbool\u001B[39m(logger\u001B[38;5;241m.\u001B[39mgetEffectiveLevel() \u001B[38;5;241m==\u001B[39m logging\u001B[38;5;241m.\u001B[39mNOTSET),\n\u001B[1;32m    540\u001B[0m )\n\u001B[0;32m--> 541\u001B[0m \u001B[38;5;28;01mfor\u001B[39;00m chunk \u001B[38;5;129;01min\u001B[39;00m r\u001B[38;5;241m.\u001B[39miter_content(chunk_size\u001B[38;5;241m=\u001B[39m\u001B[38;5;241m10\u001B[39m \u001B[38;5;241m*\u001B[39m \u001B[38;5;241m1024\u001B[39m \u001B[38;5;241m*\u001B[39m \u001B[38;5;241m1024\u001B[39m):\n\u001B[1;32m    542\u001B[0m     \u001B[38;5;28;01mif\u001B[39;00m chunk:  \u001B[38;5;66;03m# filter out keep-alive new chunks\u001B[39;00m\n\u001B[1;32m    543\u001B[0m         progress\u001B[38;5;241m.\u001B[39mupdate(\u001B[38;5;28mlen\u001B[39m(chunk))\n",
      "File \u001B[0;32m~/Downloads/ml-model/lib/python3.8/site-packages/requests/models.py:822\u001B[0m, in \u001B[0;36mResponse.iter_content.<locals>.generate\u001B[0;34m()\u001B[0m\n\u001B[1;32m    820\u001B[0m     \u001B[38;5;28;01mraise\u001B[39;00m ContentDecodingError(e)\n\u001B[1;32m    821\u001B[0m \u001B[38;5;28;01mexcept\u001B[39;00m ReadTimeoutError \u001B[38;5;28;01mas\u001B[39;00m e:\n\u001B[0;32m--> 822\u001B[0m     \u001B[38;5;28;01mraise\u001B[39;00m \u001B[38;5;167;01mConnectionError\u001B[39;00m(e)\n\u001B[1;32m    823\u001B[0m \u001B[38;5;28;01mexcept\u001B[39;00m SSLError \u001B[38;5;28;01mas\u001B[39;00m e:\n\u001B[1;32m    824\u001B[0m     \u001B[38;5;28;01mraise\u001B[39;00m RequestsSSLError(e)\n",
      "\u001B[0;31mConnectionError\u001B[0m: HTTPSConnectionPool(host='cdn-lfs.huggingface.co', port=443): Read timed out."
     ]
    }
   ],
   "source": [
    "from transformers import RobertaTokenizer, T5ForConditionalGeneration\n",
    "\n",
    "tokenizer = RobertaTokenizer.from_pretrained('Salesforce/codet5-base')\n",
    "model = T5ForConditionalGeneration.from_pretrained('Salesforce/codet5-base')\n",
    "\n",
    "text = \"def greet(user): print(f'hello <extra_id_0>!')\"\n",
    "input_ids = tokenizer(text, return_tensors=\"pt\").input_ids\n",
    "\n",
    "# simply generate a single sequence\n",
    "generated_ids = model.generate(input_ids, max_length=8)\n",
    "print(tokenizer.decode(generated_ids[0], skip_special_tokens=True))\n",
    "# this prints \"{user.username}\"\n"
   ],
   "metadata": {
    "collapsed": false
   }
  },
  {
   "cell_type": "code",
   "execution_count": null,
   "outputs": [],
   "source": [],
   "metadata": {
    "collapsed": false
   }
  }
 ],
 "metadata": {
  "kernelspec": {
   "display_name": "tratto",
   "language": "python",
   "name": "python3"
  },
  "language_info": {
   "codemirror_mode": {
    "name": "ipython",
    "version": 3
   },
   "file_extension": ".py",
   "mimetype": "text/x-python",
   "name": "python",
   "nbconvert_exporter": "python",
   "pygments_lexer": "ipython3",
   "version": "3.11.3 | packaged by conda-forge | (main, Apr  6 2023, 08:57:19) [GCC 11.3.0]"
  },
  "orig_nbformat": 4,
  "vscode": {
   "interpreter": {
    "hash": "4baf8ca64f576eefa27491d265483fc5223469915e486f115fcdc807150b49f0"
   }
  }
 },
 "nbformat": 4,
 "nbformat_minor": 2
}
